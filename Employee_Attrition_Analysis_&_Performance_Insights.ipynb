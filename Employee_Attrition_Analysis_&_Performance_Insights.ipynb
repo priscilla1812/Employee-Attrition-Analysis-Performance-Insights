{
  "nbformat": 4,
  "nbformat_minor": 0,
  "metadata": {
    "colab": {
      "provenance": [],
      "include_colab_link": true
    },
    "kernelspec": {
      "name": "python3",
      "display_name": "Python 3"
    },
    "language_info": {
      "name": "python"
    }
  },
  "cells": [
    {
      "cell_type": "markdown",
      "metadata": {
        "id": "view-in-github",
        "colab_type": "text"
      },
      "source": [
        "<a href=\"https://colab.research.google.com/github/priscilla1812/Employee-Attrition-Analysis-Performance-Insights/blob/main/Employee_Attrition_Analysis_%26_Performance_Insights.ipynb\" target=\"_parent\"><img src=\"https://colab.research.google.com/assets/colab-badge.svg\" alt=\"Open In Colab\"/></a>"
      ]
    },
    {
      "cell_type": "markdown",
      "source": [
        "# IBM HR Analytics Employee Attrition Analysis & Performance Insights"
      ],
      "metadata": {
        "id": "XAesFkuwaK3A"
      }
    },
    {
      "cell_type": "markdown",
      "source": [
        "**What is Employee Attrition?**\n",
        "\n",
        "Employee attrition is a reduction in the overall number of employees within an organization that occurs when individuals leave their positions through voluntary departures (like resignations or retirement) or involuntary means (such as layoffs or terminations), and the resulting vacancies are not filled by new hires."
      ],
      "metadata": {
        "id": "U55z5A86YYTV"
      }
    },
    {
      "cell_type": "markdown",
      "source": [
        "**Problem Statement**:\n",
        "\n",
        "Employee attrition poses a significant challenge for organizations, leading to increased recruitment costs, loss of experienced staff, and disruption in team productivity. Identifying the key factors that influence why employees leave is essential for Human Resource (HR) departments to develop effective retention strategies.\n",
        "\n",
        "This project aims to analyze the IBM HR Analytics Employee Attrition & Performance dataset to uncover insights into the underlying causes of employee attrition. By leveraging data analytics techniques, we will explore trends related to demographics, job roles, compensation, satisfaction levels, and work environment. The ultimate goal is to support data-driven HR decisions that can reduce attrition and improve employee retention."
      ],
      "metadata": {
        "id": "GGAhsiyfagho"
      }
    },
    {
      "cell_type": "markdown",
      "source": [
        "**Key Questions to Answer:**\n",
        "\n",
        "1. What is the overall attrition rate in the company?\n",
        "\n",
        "2. Which job roles and departments have the highest attrition?\n",
        "\n",
        "3. Is there a correlation between overtime and attrition?\n",
        "\n",
        "4. Does job satisfaction or work-life balance influence attrition?\n",
        "\n",
        "5. How do income, education, and experience affect attrition?"
      ],
      "metadata": {
        "id": "RGV7jb6iZ6oM"
      }
    },
    {
      "cell_type": "markdown",
      "source": [
        "*Dataset Description*:\n",
        "\n",
        "The IBM HR Analytics Employee Attrition & Performance dataset contains information about employees from a fictional company. The dataset is widely used in HR analytics projects, especially for predictive modeling and exploratory data analysis."
      ],
      "metadata": {
        "id": "YfoA5IwryXep"
      }
    },
    {
      "cell_type": "markdown",
      "source": [
        "*Columns Description*:\n",
        "\n",
        "**Age**: Age of the employee\n",
        "\n",
        "**Attrition**: Target variable indicating if an employee left (Yes) or stayed (No)\n",
        "\n",
        "**BusinessTravel**: Frequency of business travel (e.g., Travel_Rarely, Travel_Frequently)\n",
        "\n",
        "**DailyRate**: Daily wage rate\n",
        "\n",
        "**Department**: Department of the employee (Sales, R&D, HR)\n",
        "\n",
        "**DistanceFromHome**: Distance between home and work (in km)\n",
        "\n",
        "**Education**: Education level (1 = Below College, 5 = Doctor)\n",
        "\n",
        "**EducationField**: Field of education (e.g., Life Sciences, Medical, Marketing)\n",
        "\n",
        "**EmployeeCount**: Always 1\n",
        "\n",
        "**EmployeeNumber**: Unique ID for each employee\n",
        "\n",
        "**EnvironmentSatisfaction**: Satisfaction with workplace environment (1–4)\n",
        "\n",
        "**Gender**: Gender of the employee\n",
        "\n",
        "**HourlyRate**: Hourly wage\n",
        "\n",
        "**JobInvolvement**: Level of involvement in the job (1–4)\n",
        "\n",
        "**JobLevel**: Seniority level within the company\n",
        "\n",
        "**JobRole**: Role (e.g., Sales Executive, Manager, Research Scientist)\n",
        "\n",
        "**JobSatisfaction**: Job satisfaction level (1–4)\n",
        "\n",
        "**MaritalStatus**: Marital status (Single, Married, Divorced)\n",
        "\n",
        "**MonthlyIncome**: Gross monthly income\n",
        "\n",
        "**MonthlyRate**: Monthly rate\n",
        "\n",
        "**NumCompaniesWorked**: Number of previous employers\n",
        "\n",
        "**Over18**: Adult or not (Y/N)\n",
        "\n",
        "**OverTime**: Whether the employee works overtime (Yes/No)\n",
        "\n",
        "**PercentSalaryHike**: Percentage salary increase\n",
        "\n",
        "**PerformanceRating**: Performance score (mostly 3 or 4)\n",
        "\n",
        "**RelationshipSatisfaction**: Satisfaction with coworkers (1–4)\n",
        "\n",
        "**StandardHours**:\tAlways 80\n",
        "\n",
        "**StockOptionLevel**: Stock options granted\n",
        "\n",
        "**TotalWorkingYears**: Total years of professional experience\n",
        "\n",
        "**TrainingTimesLastYear**:\tNumber of trainings attended last year\n",
        "\n",
        "**WorkLifeBalance**:\tWork-life balance rating (1–4)\n",
        "\n",
        "**YearsAtCompany**:\tNo. of Years spent in the company\n",
        "\n",
        "**YearsInCurrentRole**:  No. of Years in current job role\n",
        "\n",
        "**YearsSinceLastPromotion**: No. of Years since last promotion\n",
        "\n",
        "**YearsWithCurrManager**: No. of Years working with the current manager"
      ],
      "metadata": {
        "id": "PpgocHkQb4mp"
      }
    },
    {
      "cell_type": "code",
      "source": [
        "import numpy as np\n",
        "import pandas as pd"
      ],
      "metadata": {
        "id": "hRnbAWP8n5-u"
      },
      "execution_count": null,
      "outputs": []
    },
    {
      "cell_type": "code",
      "source": [
        "import warnings\n",
        "warnings.filterwarnings('ignore')"
      ],
      "metadata": {
        "id": "DYWRcWSks4Xq"
      },
      "execution_count": null,
      "outputs": []
    },
    {
      "cell_type": "markdown",
      "source": [
        "## Load the Dataset"
      ],
      "metadata": {
        "id": "FD-9DoMRit-r"
      }
    },
    {
      "cell_type": "code",
      "source": [
        "# Import the dataset\n",
        "df = pd.read_csv(\"IBM_HR_Analytics_Dataset.csv\")\n",
        "df.head()"
      ],
      "metadata": {
        "colab": {
          "base_uri": "https://localhost:8080/",
          "height": 324
        },
        "id": "1Jxrg6bjG-ki",
        "outputId": "d79b937c-dede-4ec0-9311-8e97257bc32b"
      },
      "execution_count": null,
      "outputs": [
        {
          "output_type": "execute_result",
          "data": {
            "text/plain": [
              "   Age Attrition     BusinessTravel  DailyRate              Department  \\\n",
              "0   41       Yes      Travel_Rarely       1102                   Sales   \n",
              "1   49        No  Travel_Frequently        279  Research & Development   \n",
              "2   37       Yes      Travel_Rarely       1373  Research & Development   \n",
              "3   33        No  Travel_Frequently       1392  Research & Development   \n",
              "4   27        No      Travel_Rarely        591  Research & Development   \n",
              "\n",
              "   DistanceFromHome  Education EducationField  EmployeeCount  EmployeeNumber  \\\n",
              "0                 1          2  Life Sciences              1               1   \n",
              "1                 8          1  Life Sciences              1               2   \n",
              "2                 2          2          Other              1               4   \n",
              "3                 3          4  Life Sciences              1               5   \n",
              "4                 2          1        Medical              1               7   \n",
              "\n",
              "   ...  RelationshipSatisfaction StandardHours  StockOptionLevel  \\\n",
              "0  ...                         1            80                 0   \n",
              "1  ...                         4            80                 1   \n",
              "2  ...                         2            80                 0   \n",
              "3  ...                         3            80                 0   \n",
              "4  ...                         4            80                 1   \n",
              "\n",
              "   TotalWorkingYears  TrainingTimesLastYear WorkLifeBalance  YearsAtCompany  \\\n",
              "0                  8                      0               1               6   \n",
              "1                 10                      3               3              10   \n",
              "2                  7                      3               3               0   \n",
              "3                  8                      3               3               8   \n",
              "4                  6                      3               3               2   \n",
              "\n",
              "  YearsInCurrentRole  YearsSinceLastPromotion  YearsWithCurrManager  \n",
              "0                  4                        0                     5  \n",
              "1                  7                        1                     7  \n",
              "2                  0                        0                     0  \n",
              "3                  7                        3                     0  \n",
              "4                  2                        2                     2  \n",
              "\n",
              "[5 rows x 35 columns]"
            ],
            "text/html": [
              "\n",
              "  <div id=\"df-0beb8b1a-24da-4de3-bffc-05b1d9b58927\" class=\"colab-df-container\">\n",
              "    <div>\n",
              "<style scoped>\n",
              "    .dataframe tbody tr th:only-of-type {\n",
              "        vertical-align: middle;\n",
              "    }\n",
              "\n",
              "    .dataframe tbody tr th {\n",
              "        vertical-align: top;\n",
              "    }\n",
              "\n",
              "    .dataframe thead th {\n",
              "        text-align: right;\n",
              "    }\n",
              "</style>\n",
              "<table border=\"1\" class=\"dataframe\">\n",
              "  <thead>\n",
              "    <tr style=\"text-align: right;\">\n",
              "      <th></th>\n",
              "      <th>Age</th>\n",
              "      <th>Attrition</th>\n",
              "      <th>BusinessTravel</th>\n",
              "      <th>DailyRate</th>\n",
              "      <th>Department</th>\n",
              "      <th>DistanceFromHome</th>\n",
              "      <th>Education</th>\n",
              "      <th>EducationField</th>\n",
              "      <th>EmployeeCount</th>\n",
              "      <th>EmployeeNumber</th>\n",
              "      <th>...</th>\n",
              "      <th>RelationshipSatisfaction</th>\n",
              "      <th>StandardHours</th>\n",
              "      <th>StockOptionLevel</th>\n",
              "      <th>TotalWorkingYears</th>\n",
              "      <th>TrainingTimesLastYear</th>\n",
              "      <th>WorkLifeBalance</th>\n",
              "      <th>YearsAtCompany</th>\n",
              "      <th>YearsInCurrentRole</th>\n",
              "      <th>YearsSinceLastPromotion</th>\n",
              "      <th>YearsWithCurrManager</th>\n",
              "    </tr>\n",
              "  </thead>\n",
              "  <tbody>\n",
              "    <tr>\n",
              "      <th>0</th>\n",
              "      <td>41</td>\n",
              "      <td>Yes</td>\n",
              "      <td>Travel_Rarely</td>\n",
              "      <td>1102</td>\n",
              "      <td>Sales</td>\n",
              "      <td>1</td>\n",
              "      <td>2</td>\n",
              "      <td>Life Sciences</td>\n",
              "      <td>1</td>\n",
              "      <td>1</td>\n",
              "      <td>...</td>\n",
              "      <td>1</td>\n",
              "      <td>80</td>\n",
              "      <td>0</td>\n",
              "      <td>8</td>\n",
              "      <td>0</td>\n",
              "      <td>1</td>\n",
              "      <td>6</td>\n",
              "      <td>4</td>\n",
              "      <td>0</td>\n",
              "      <td>5</td>\n",
              "    </tr>\n",
              "    <tr>\n",
              "      <th>1</th>\n",
              "      <td>49</td>\n",
              "      <td>No</td>\n",
              "      <td>Travel_Frequently</td>\n",
              "      <td>279</td>\n",
              "      <td>Research &amp; Development</td>\n",
              "      <td>8</td>\n",
              "      <td>1</td>\n",
              "      <td>Life Sciences</td>\n",
              "      <td>1</td>\n",
              "      <td>2</td>\n",
              "      <td>...</td>\n",
              "      <td>4</td>\n",
              "      <td>80</td>\n",
              "      <td>1</td>\n",
              "      <td>10</td>\n",
              "      <td>3</td>\n",
              "      <td>3</td>\n",
              "      <td>10</td>\n",
              "      <td>7</td>\n",
              "      <td>1</td>\n",
              "      <td>7</td>\n",
              "    </tr>\n",
              "    <tr>\n",
              "      <th>2</th>\n",
              "      <td>37</td>\n",
              "      <td>Yes</td>\n",
              "      <td>Travel_Rarely</td>\n",
              "      <td>1373</td>\n",
              "      <td>Research &amp; Development</td>\n",
              "      <td>2</td>\n",
              "      <td>2</td>\n",
              "      <td>Other</td>\n",
              "      <td>1</td>\n",
              "      <td>4</td>\n",
              "      <td>...</td>\n",
              "      <td>2</td>\n",
              "      <td>80</td>\n",
              "      <td>0</td>\n",
              "      <td>7</td>\n",
              "      <td>3</td>\n",
              "      <td>3</td>\n",
              "      <td>0</td>\n",
              "      <td>0</td>\n",
              "      <td>0</td>\n",
              "      <td>0</td>\n",
              "    </tr>\n",
              "    <tr>\n",
              "      <th>3</th>\n",
              "      <td>33</td>\n",
              "      <td>No</td>\n",
              "      <td>Travel_Frequently</td>\n",
              "      <td>1392</td>\n",
              "      <td>Research &amp; Development</td>\n",
              "      <td>3</td>\n",
              "      <td>4</td>\n",
              "      <td>Life Sciences</td>\n",
              "      <td>1</td>\n",
              "      <td>5</td>\n",
              "      <td>...</td>\n",
              "      <td>3</td>\n",
              "      <td>80</td>\n",
              "      <td>0</td>\n",
              "      <td>8</td>\n",
              "      <td>3</td>\n",
              "      <td>3</td>\n",
              "      <td>8</td>\n",
              "      <td>7</td>\n",
              "      <td>3</td>\n",
              "      <td>0</td>\n",
              "    </tr>\n",
              "    <tr>\n",
              "      <th>4</th>\n",
              "      <td>27</td>\n",
              "      <td>No</td>\n",
              "      <td>Travel_Rarely</td>\n",
              "      <td>591</td>\n",
              "      <td>Research &amp; Development</td>\n",
              "      <td>2</td>\n",
              "      <td>1</td>\n",
              "      <td>Medical</td>\n",
              "      <td>1</td>\n",
              "      <td>7</td>\n",
              "      <td>...</td>\n",
              "      <td>4</td>\n",
              "      <td>80</td>\n",
              "      <td>1</td>\n",
              "      <td>6</td>\n",
              "      <td>3</td>\n",
              "      <td>3</td>\n",
              "      <td>2</td>\n",
              "      <td>2</td>\n",
              "      <td>2</td>\n",
              "      <td>2</td>\n",
              "    </tr>\n",
              "  </tbody>\n",
              "</table>\n",
              "<p>5 rows × 35 columns</p>\n",
              "</div>\n",
              "    <div class=\"colab-df-buttons\">\n",
              "\n",
              "  <div class=\"colab-df-container\">\n",
              "    <button class=\"colab-df-convert\" onclick=\"convertToInteractive('df-0beb8b1a-24da-4de3-bffc-05b1d9b58927')\"\n",
              "            title=\"Convert this dataframe to an interactive table.\"\n",
              "            style=\"display:none;\">\n",
              "\n",
              "  <svg xmlns=\"http://www.w3.org/2000/svg\" height=\"24px\" viewBox=\"0 -960 960 960\">\n",
              "    <path d=\"M120-120v-720h720v720H120Zm60-500h600v-160H180v160Zm220 220h160v-160H400v160Zm0 220h160v-160H400v160ZM180-400h160v-160H180v160Zm440 0h160v-160H620v160ZM180-180h160v-160H180v160Zm440 0h160v-160H620v160Z\"/>\n",
              "  </svg>\n",
              "    </button>\n",
              "\n",
              "  <style>\n",
              "    .colab-df-container {\n",
              "      display:flex;\n",
              "      gap: 12px;\n",
              "    }\n",
              "\n",
              "    .colab-df-convert {\n",
              "      background-color: #E8F0FE;\n",
              "      border: none;\n",
              "      border-radius: 50%;\n",
              "      cursor: pointer;\n",
              "      display: none;\n",
              "      fill: #1967D2;\n",
              "      height: 32px;\n",
              "      padding: 0 0 0 0;\n",
              "      width: 32px;\n",
              "    }\n",
              "\n",
              "    .colab-df-convert:hover {\n",
              "      background-color: #E2EBFA;\n",
              "      box-shadow: 0px 1px 2px rgba(60, 64, 67, 0.3), 0px 1px 3px 1px rgba(60, 64, 67, 0.15);\n",
              "      fill: #174EA6;\n",
              "    }\n",
              "\n",
              "    .colab-df-buttons div {\n",
              "      margin-bottom: 4px;\n",
              "    }\n",
              "\n",
              "    [theme=dark] .colab-df-convert {\n",
              "      background-color: #3B4455;\n",
              "      fill: #D2E3FC;\n",
              "    }\n",
              "\n",
              "    [theme=dark] .colab-df-convert:hover {\n",
              "      background-color: #434B5C;\n",
              "      box-shadow: 0px 1px 3px 1px rgba(0, 0, 0, 0.15);\n",
              "      filter: drop-shadow(0px 1px 2px rgba(0, 0, 0, 0.3));\n",
              "      fill: #FFFFFF;\n",
              "    }\n",
              "  </style>\n",
              "\n",
              "    <script>\n",
              "      const buttonEl =\n",
              "        document.querySelector('#df-0beb8b1a-24da-4de3-bffc-05b1d9b58927 button.colab-df-convert');\n",
              "      buttonEl.style.display =\n",
              "        google.colab.kernel.accessAllowed ? 'block' : 'none';\n",
              "\n",
              "      async function convertToInteractive(key) {\n",
              "        const element = document.querySelector('#df-0beb8b1a-24da-4de3-bffc-05b1d9b58927');\n",
              "        const dataTable =\n",
              "          await google.colab.kernel.invokeFunction('convertToInteractive',\n",
              "                                                    [key], {});\n",
              "        if (!dataTable) return;\n",
              "\n",
              "        const docLinkHtml = 'Like what you see? Visit the ' +\n",
              "          '<a target=\"_blank\" href=https://colab.research.google.com/notebooks/data_table.ipynb>data table notebook</a>'\n",
              "          + ' to learn more about interactive tables.';\n",
              "        element.innerHTML = '';\n",
              "        dataTable['output_type'] = 'display_data';\n",
              "        await google.colab.output.renderOutput(dataTable, element);\n",
              "        const docLink = document.createElement('div');\n",
              "        docLink.innerHTML = docLinkHtml;\n",
              "        element.appendChild(docLink);\n",
              "      }\n",
              "    </script>\n",
              "  </div>\n",
              "\n",
              "\n",
              "    <div id=\"df-40b676ba-7e3b-4e1c-a24d-1c082607cf8b\">\n",
              "      <button class=\"colab-df-quickchart\" onclick=\"quickchart('df-40b676ba-7e3b-4e1c-a24d-1c082607cf8b')\"\n",
              "                title=\"Suggest charts\"\n",
              "                style=\"display:none;\">\n",
              "\n",
              "<svg xmlns=\"http://www.w3.org/2000/svg\" height=\"24px\"viewBox=\"0 0 24 24\"\n",
              "     width=\"24px\">\n",
              "    <g>\n",
              "        <path d=\"M19 3H5c-1.1 0-2 .9-2 2v14c0 1.1.9 2 2 2h14c1.1 0 2-.9 2-2V5c0-1.1-.9-2-2-2zM9 17H7v-7h2v7zm4 0h-2V7h2v10zm4 0h-2v-4h2v4z\"/>\n",
              "    </g>\n",
              "</svg>\n",
              "      </button>\n",
              "\n",
              "<style>\n",
              "  .colab-df-quickchart {\n",
              "      --bg-color: #E8F0FE;\n",
              "      --fill-color: #1967D2;\n",
              "      --hover-bg-color: #E2EBFA;\n",
              "      --hover-fill-color: #174EA6;\n",
              "      --disabled-fill-color: #AAA;\n",
              "      --disabled-bg-color: #DDD;\n",
              "  }\n",
              "\n",
              "  [theme=dark] .colab-df-quickchart {\n",
              "      --bg-color: #3B4455;\n",
              "      --fill-color: #D2E3FC;\n",
              "      --hover-bg-color: #434B5C;\n",
              "      --hover-fill-color: #FFFFFF;\n",
              "      --disabled-bg-color: #3B4455;\n",
              "      --disabled-fill-color: #666;\n",
              "  }\n",
              "\n",
              "  .colab-df-quickchart {\n",
              "    background-color: var(--bg-color);\n",
              "    border: none;\n",
              "    border-radius: 50%;\n",
              "    cursor: pointer;\n",
              "    display: none;\n",
              "    fill: var(--fill-color);\n",
              "    height: 32px;\n",
              "    padding: 0;\n",
              "    width: 32px;\n",
              "  }\n",
              "\n",
              "  .colab-df-quickchart:hover {\n",
              "    background-color: var(--hover-bg-color);\n",
              "    box-shadow: 0 1px 2px rgba(60, 64, 67, 0.3), 0 1px 3px 1px rgba(60, 64, 67, 0.15);\n",
              "    fill: var(--button-hover-fill-color);\n",
              "  }\n",
              "\n",
              "  .colab-df-quickchart-complete:disabled,\n",
              "  .colab-df-quickchart-complete:disabled:hover {\n",
              "    background-color: var(--disabled-bg-color);\n",
              "    fill: var(--disabled-fill-color);\n",
              "    box-shadow: none;\n",
              "  }\n",
              "\n",
              "  .colab-df-spinner {\n",
              "    border: 2px solid var(--fill-color);\n",
              "    border-color: transparent;\n",
              "    border-bottom-color: var(--fill-color);\n",
              "    animation:\n",
              "      spin 1s steps(1) infinite;\n",
              "  }\n",
              "\n",
              "  @keyframes spin {\n",
              "    0% {\n",
              "      border-color: transparent;\n",
              "      border-bottom-color: var(--fill-color);\n",
              "      border-left-color: var(--fill-color);\n",
              "    }\n",
              "    20% {\n",
              "      border-color: transparent;\n",
              "      border-left-color: var(--fill-color);\n",
              "      border-top-color: var(--fill-color);\n",
              "    }\n",
              "    30% {\n",
              "      border-color: transparent;\n",
              "      border-left-color: var(--fill-color);\n",
              "      border-top-color: var(--fill-color);\n",
              "      border-right-color: var(--fill-color);\n",
              "    }\n",
              "    40% {\n",
              "      border-color: transparent;\n",
              "      border-right-color: var(--fill-color);\n",
              "      border-top-color: var(--fill-color);\n",
              "    }\n",
              "    60% {\n",
              "      border-color: transparent;\n",
              "      border-right-color: var(--fill-color);\n",
              "    }\n",
              "    80% {\n",
              "      border-color: transparent;\n",
              "      border-right-color: var(--fill-color);\n",
              "      border-bottom-color: var(--fill-color);\n",
              "    }\n",
              "    90% {\n",
              "      border-color: transparent;\n",
              "      border-bottom-color: var(--fill-color);\n",
              "    }\n",
              "  }\n",
              "</style>\n",
              "\n",
              "      <script>\n",
              "        async function quickchart(key) {\n",
              "          const quickchartButtonEl =\n",
              "            document.querySelector('#' + key + ' button');\n",
              "          quickchartButtonEl.disabled = true;  // To prevent multiple clicks.\n",
              "          quickchartButtonEl.classList.add('colab-df-spinner');\n",
              "          try {\n",
              "            const charts = await google.colab.kernel.invokeFunction(\n",
              "                'suggestCharts', [key], {});\n",
              "          } catch (error) {\n",
              "            console.error('Error during call to suggestCharts:', error);\n",
              "          }\n",
              "          quickchartButtonEl.classList.remove('colab-df-spinner');\n",
              "          quickchartButtonEl.classList.add('colab-df-quickchart-complete');\n",
              "        }\n",
              "        (() => {\n",
              "          let quickchartButtonEl =\n",
              "            document.querySelector('#df-40b676ba-7e3b-4e1c-a24d-1c082607cf8b button');\n",
              "          quickchartButtonEl.style.display =\n",
              "            google.colab.kernel.accessAllowed ? 'block' : 'none';\n",
              "        })();\n",
              "      </script>\n",
              "    </div>\n",
              "\n",
              "    </div>\n",
              "  </div>\n"
            ],
            "application/vnd.google.colaboratory.intrinsic+json": {
              "type": "dataframe",
              "variable_name": "df"
            }
          },
          "metadata": {},
          "execution_count": 98
        }
      ]
    },
    {
      "cell_type": "markdown",
      "source": [
        "## Data Preprocessing"
      ],
      "metadata": {
        "id": "3ers0Zyu0D3B"
      }
    },
    {
      "cell_type": "code",
      "source": [
        "# Number of rows and columns in the dataset\n",
        "print(\"Rows and Columns:\", df.shape)"
      ],
      "metadata": {
        "colab": {
          "base_uri": "https://localhost:8080/"
        },
        "id": "2iHodZVIkknE",
        "outputId": "c6c48897-4bb1-4dd5-b038-b6b70df8a5d6"
      },
      "execution_count": null,
      "outputs": [
        {
          "output_type": "stream",
          "name": "stdout",
          "text": [
            "Rows and Columns: (1470, 35)\n"
          ]
        }
      ]
    },
    {
      "cell_type": "code",
      "source": [
        "# Summary of the dataset\n",
        "df.info()"
      ],
      "metadata": {
        "colab": {
          "base_uri": "https://localhost:8080/"
        },
        "id": "O3jS3dOMkqkb",
        "outputId": "5740a18f-3cc0-42de-b614-b16812c96134"
      },
      "execution_count": null,
      "outputs": [
        {
          "output_type": "stream",
          "name": "stdout",
          "text": [
            "<class 'pandas.core.frame.DataFrame'>\n",
            "RangeIndex: 1470 entries, 0 to 1469\n",
            "Data columns (total 35 columns):\n",
            " #   Column                    Non-Null Count  Dtype \n",
            "---  ------                    --------------  ----- \n",
            " 0   Age                       1470 non-null   int64 \n",
            " 1   Attrition                 1470 non-null   object\n",
            " 2   BusinessTravel            1470 non-null   object\n",
            " 3   DailyRate                 1470 non-null   int64 \n",
            " 4   Department                1470 non-null   object\n",
            " 5   DistanceFromHome          1470 non-null   int64 \n",
            " 6   Education                 1470 non-null   int64 \n",
            " 7   EducationField            1470 non-null   object\n",
            " 8   EmployeeCount             1470 non-null   int64 \n",
            " 9   EmployeeNumber            1470 non-null   int64 \n",
            " 10  EnvironmentSatisfaction   1470 non-null   int64 \n",
            " 11  Gender                    1470 non-null   object\n",
            " 12  HourlyRate                1470 non-null   int64 \n",
            " 13  JobInvolvement            1470 non-null   int64 \n",
            " 14  JobLevel                  1470 non-null   int64 \n",
            " 15  JobRole                   1470 non-null   object\n",
            " 16  JobSatisfaction           1470 non-null   int64 \n",
            " 17  MaritalStatus             1470 non-null   object\n",
            " 18  MonthlyIncome             1470 non-null   int64 \n",
            " 19  MonthlyRate               1470 non-null   int64 \n",
            " 20  NumCompaniesWorked        1470 non-null   int64 \n",
            " 21  Over18                    1470 non-null   object\n",
            " 22  OverTime                  1470 non-null   object\n",
            " 23  PercentSalaryHike         1470 non-null   int64 \n",
            " 24  PerformanceRating         1470 non-null   int64 \n",
            " 25  RelationshipSatisfaction  1470 non-null   int64 \n",
            " 26  StandardHours             1470 non-null   int64 \n",
            " 27  StockOptionLevel          1470 non-null   int64 \n",
            " 28  TotalWorkingYears         1470 non-null   int64 \n",
            " 29  TrainingTimesLastYear     1470 non-null   int64 \n",
            " 30  WorkLifeBalance           1470 non-null   int64 \n",
            " 31  YearsAtCompany            1470 non-null   int64 \n",
            " 32  YearsInCurrentRole        1470 non-null   int64 \n",
            " 33  YearsSinceLastPromotion   1470 non-null   int64 \n",
            " 34  YearsWithCurrManager      1470 non-null   int64 \n",
            "dtypes: int64(26), object(9)\n",
            "memory usage: 402.1+ KB\n"
          ]
        }
      ]
    },
    {
      "cell_type": "code",
      "source": [
        "# Descriptive statistics\n",
        "df.describe()"
      ],
      "metadata": {
        "colab": {
          "base_uri": "https://localhost:8080/",
          "height": 349
        },
        "id": "bMJJUwmMk19L",
        "outputId": "0695215a-ea62-4ba9-9b43-82539e5bdb62"
      },
      "execution_count": null,
      "outputs": [
        {
          "output_type": "execute_result",
          "data": {
            "text/plain": [
              "               Age    DailyRate  DistanceFromHome    Education  EmployeeCount  \\\n",
              "count  1470.000000  1470.000000       1470.000000  1470.000000         1470.0   \n",
              "mean     36.923810   802.485714          9.192517     2.912925            1.0   \n",
              "std       9.135373   403.509100          8.106864     1.024165            0.0   \n",
              "min      18.000000   102.000000          1.000000     1.000000            1.0   \n",
              "25%      30.000000   465.000000          2.000000     2.000000            1.0   \n",
              "50%      36.000000   802.000000          7.000000     3.000000            1.0   \n",
              "75%      43.000000  1157.000000         14.000000     4.000000            1.0   \n",
              "max      60.000000  1499.000000         29.000000     5.000000            1.0   \n",
              "\n",
              "       EmployeeNumber  EnvironmentSatisfaction   HourlyRate  JobInvolvement  \\\n",
              "count     1470.000000              1470.000000  1470.000000     1470.000000   \n",
              "mean      1024.865306                 2.721769    65.891156        2.729932   \n",
              "std        602.024335                 1.093082    20.329428        0.711561   \n",
              "min          1.000000                 1.000000    30.000000        1.000000   \n",
              "25%        491.250000                 2.000000    48.000000        2.000000   \n",
              "50%       1020.500000                 3.000000    66.000000        3.000000   \n",
              "75%       1555.750000                 4.000000    83.750000        3.000000   \n",
              "max       2068.000000                 4.000000   100.000000        4.000000   \n",
              "\n",
              "          JobLevel  ...  RelationshipSatisfaction  StandardHours  \\\n",
              "count  1470.000000  ...               1470.000000         1470.0   \n",
              "mean      2.063946  ...                  2.712245           80.0   \n",
              "std       1.106940  ...                  1.081209            0.0   \n",
              "min       1.000000  ...                  1.000000           80.0   \n",
              "25%       1.000000  ...                  2.000000           80.0   \n",
              "50%       2.000000  ...                  3.000000           80.0   \n",
              "75%       3.000000  ...                  4.000000           80.0   \n",
              "max       5.000000  ...                  4.000000           80.0   \n",
              "\n",
              "       StockOptionLevel  TotalWorkingYears  TrainingTimesLastYear  \\\n",
              "count       1470.000000        1470.000000            1470.000000   \n",
              "mean           0.793878          11.279592               2.799320   \n",
              "std            0.852077           7.780782               1.289271   \n",
              "min            0.000000           0.000000               0.000000   \n",
              "25%            0.000000           6.000000               2.000000   \n",
              "50%            1.000000          10.000000               3.000000   \n",
              "75%            1.000000          15.000000               3.000000   \n",
              "max            3.000000          40.000000               6.000000   \n",
              "\n",
              "       WorkLifeBalance  YearsAtCompany  YearsInCurrentRole  \\\n",
              "count      1470.000000     1470.000000         1470.000000   \n",
              "mean          2.761224        7.008163            4.229252   \n",
              "std           0.706476        6.126525            3.623137   \n",
              "min           1.000000        0.000000            0.000000   \n",
              "25%           2.000000        3.000000            2.000000   \n",
              "50%           3.000000        5.000000            3.000000   \n",
              "75%           3.000000        9.000000            7.000000   \n",
              "max           4.000000       40.000000           18.000000   \n",
              "\n",
              "       YearsSinceLastPromotion  YearsWithCurrManager  \n",
              "count              1470.000000           1470.000000  \n",
              "mean                  2.187755              4.123129  \n",
              "std                   3.222430              3.568136  \n",
              "min                   0.000000              0.000000  \n",
              "25%                   0.000000              2.000000  \n",
              "50%                   1.000000              3.000000  \n",
              "75%                   3.000000              7.000000  \n",
              "max                  15.000000             17.000000  \n",
              "\n",
              "[8 rows x 26 columns]"
            ],
            "text/html": [
              "\n",
              "  <div id=\"df-c07c89e3-1a46-44c3-860f-bdc2aabc7dc5\" class=\"colab-df-container\">\n",
              "    <div>\n",
              "<style scoped>\n",
              "    .dataframe tbody tr th:only-of-type {\n",
              "        vertical-align: middle;\n",
              "    }\n",
              "\n",
              "    .dataframe tbody tr th {\n",
              "        vertical-align: top;\n",
              "    }\n",
              "\n",
              "    .dataframe thead th {\n",
              "        text-align: right;\n",
              "    }\n",
              "</style>\n",
              "<table border=\"1\" class=\"dataframe\">\n",
              "  <thead>\n",
              "    <tr style=\"text-align: right;\">\n",
              "      <th></th>\n",
              "      <th>Age</th>\n",
              "      <th>DailyRate</th>\n",
              "      <th>DistanceFromHome</th>\n",
              "      <th>Education</th>\n",
              "      <th>EmployeeCount</th>\n",
              "      <th>EmployeeNumber</th>\n",
              "      <th>EnvironmentSatisfaction</th>\n",
              "      <th>HourlyRate</th>\n",
              "      <th>JobInvolvement</th>\n",
              "      <th>JobLevel</th>\n",
              "      <th>...</th>\n",
              "      <th>RelationshipSatisfaction</th>\n",
              "      <th>StandardHours</th>\n",
              "      <th>StockOptionLevel</th>\n",
              "      <th>TotalWorkingYears</th>\n",
              "      <th>TrainingTimesLastYear</th>\n",
              "      <th>WorkLifeBalance</th>\n",
              "      <th>YearsAtCompany</th>\n",
              "      <th>YearsInCurrentRole</th>\n",
              "      <th>YearsSinceLastPromotion</th>\n",
              "      <th>YearsWithCurrManager</th>\n",
              "    </tr>\n",
              "  </thead>\n",
              "  <tbody>\n",
              "    <tr>\n",
              "      <th>count</th>\n",
              "      <td>1470.000000</td>\n",
              "      <td>1470.000000</td>\n",
              "      <td>1470.000000</td>\n",
              "      <td>1470.000000</td>\n",
              "      <td>1470.0</td>\n",
              "      <td>1470.000000</td>\n",
              "      <td>1470.000000</td>\n",
              "      <td>1470.000000</td>\n",
              "      <td>1470.000000</td>\n",
              "      <td>1470.000000</td>\n",
              "      <td>...</td>\n",
              "      <td>1470.000000</td>\n",
              "      <td>1470.0</td>\n",
              "      <td>1470.000000</td>\n",
              "      <td>1470.000000</td>\n",
              "      <td>1470.000000</td>\n",
              "      <td>1470.000000</td>\n",
              "      <td>1470.000000</td>\n",
              "      <td>1470.000000</td>\n",
              "      <td>1470.000000</td>\n",
              "      <td>1470.000000</td>\n",
              "    </tr>\n",
              "    <tr>\n",
              "      <th>mean</th>\n",
              "      <td>36.923810</td>\n",
              "      <td>802.485714</td>\n",
              "      <td>9.192517</td>\n",
              "      <td>2.912925</td>\n",
              "      <td>1.0</td>\n",
              "      <td>1024.865306</td>\n",
              "      <td>2.721769</td>\n",
              "      <td>65.891156</td>\n",
              "      <td>2.729932</td>\n",
              "      <td>2.063946</td>\n",
              "      <td>...</td>\n",
              "      <td>2.712245</td>\n",
              "      <td>80.0</td>\n",
              "      <td>0.793878</td>\n",
              "      <td>11.279592</td>\n",
              "      <td>2.799320</td>\n",
              "      <td>2.761224</td>\n",
              "      <td>7.008163</td>\n",
              "      <td>4.229252</td>\n",
              "      <td>2.187755</td>\n",
              "      <td>4.123129</td>\n",
              "    </tr>\n",
              "    <tr>\n",
              "      <th>std</th>\n",
              "      <td>9.135373</td>\n",
              "      <td>403.509100</td>\n",
              "      <td>8.106864</td>\n",
              "      <td>1.024165</td>\n",
              "      <td>0.0</td>\n",
              "      <td>602.024335</td>\n",
              "      <td>1.093082</td>\n",
              "      <td>20.329428</td>\n",
              "      <td>0.711561</td>\n",
              "      <td>1.106940</td>\n",
              "      <td>...</td>\n",
              "      <td>1.081209</td>\n",
              "      <td>0.0</td>\n",
              "      <td>0.852077</td>\n",
              "      <td>7.780782</td>\n",
              "      <td>1.289271</td>\n",
              "      <td>0.706476</td>\n",
              "      <td>6.126525</td>\n",
              "      <td>3.623137</td>\n",
              "      <td>3.222430</td>\n",
              "      <td>3.568136</td>\n",
              "    </tr>\n",
              "    <tr>\n",
              "      <th>min</th>\n",
              "      <td>18.000000</td>\n",
              "      <td>102.000000</td>\n",
              "      <td>1.000000</td>\n",
              "      <td>1.000000</td>\n",
              "      <td>1.0</td>\n",
              "      <td>1.000000</td>\n",
              "      <td>1.000000</td>\n",
              "      <td>30.000000</td>\n",
              "      <td>1.000000</td>\n",
              "      <td>1.000000</td>\n",
              "      <td>...</td>\n",
              "      <td>1.000000</td>\n",
              "      <td>80.0</td>\n",
              "      <td>0.000000</td>\n",
              "      <td>0.000000</td>\n",
              "      <td>0.000000</td>\n",
              "      <td>1.000000</td>\n",
              "      <td>0.000000</td>\n",
              "      <td>0.000000</td>\n",
              "      <td>0.000000</td>\n",
              "      <td>0.000000</td>\n",
              "    </tr>\n",
              "    <tr>\n",
              "      <th>25%</th>\n",
              "      <td>30.000000</td>\n",
              "      <td>465.000000</td>\n",
              "      <td>2.000000</td>\n",
              "      <td>2.000000</td>\n",
              "      <td>1.0</td>\n",
              "      <td>491.250000</td>\n",
              "      <td>2.000000</td>\n",
              "      <td>48.000000</td>\n",
              "      <td>2.000000</td>\n",
              "      <td>1.000000</td>\n",
              "      <td>...</td>\n",
              "      <td>2.000000</td>\n",
              "      <td>80.0</td>\n",
              "      <td>0.000000</td>\n",
              "      <td>6.000000</td>\n",
              "      <td>2.000000</td>\n",
              "      <td>2.000000</td>\n",
              "      <td>3.000000</td>\n",
              "      <td>2.000000</td>\n",
              "      <td>0.000000</td>\n",
              "      <td>2.000000</td>\n",
              "    </tr>\n",
              "    <tr>\n",
              "      <th>50%</th>\n",
              "      <td>36.000000</td>\n",
              "      <td>802.000000</td>\n",
              "      <td>7.000000</td>\n",
              "      <td>3.000000</td>\n",
              "      <td>1.0</td>\n",
              "      <td>1020.500000</td>\n",
              "      <td>3.000000</td>\n",
              "      <td>66.000000</td>\n",
              "      <td>3.000000</td>\n",
              "      <td>2.000000</td>\n",
              "      <td>...</td>\n",
              "      <td>3.000000</td>\n",
              "      <td>80.0</td>\n",
              "      <td>1.000000</td>\n",
              "      <td>10.000000</td>\n",
              "      <td>3.000000</td>\n",
              "      <td>3.000000</td>\n",
              "      <td>5.000000</td>\n",
              "      <td>3.000000</td>\n",
              "      <td>1.000000</td>\n",
              "      <td>3.000000</td>\n",
              "    </tr>\n",
              "    <tr>\n",
              "      <th>75%</th>\n",
              "      <td>43.000000</td>\n",
              "      <td>1157.000000</td>\n",
              "      <td>14.000000</td>\n",
              "      <td>4.000000</td>\n",
              "      <td>1.0</td>\n",
              "      <td>1555.750000</td>\n",
              "      <td>4.000000</td>\n",
              "      <td>83.750000</td>\n",
              "      <td>3.000000</td>\n",
              "      <td>3.000000</td>\n",
              "      <td>...</td>\n",
              "      <td>4.000000</td>\n",
              "      <td>80.0</td>\n",
              "      <td>1.000000</td>\n",
              "      <td>15.000000</td>\n",
              "      <td>3.000000</td>\n",
              "      <td>3.000000</td>\n",
              "      <td>9.000000</td>\n",
              "      <td>7.000000</td>\n",
              "      <td>3.000000</td>\n",
              "      <td>7.000000</td>\n",
              "    </tr>\n",
              "    <tr>\n",
              "      <th>max</th>\n",
              "      <td>60.000000</td>\n",
              "      <td>1499.000000</td>\n",
              "      <td>29.000000</td>\n",
              "      <td>5.000000</td>\n",
              "      <td>1.0</td>\n",
              "      <td>2068.000000</td>\n",
              "      <td>4.000000</td>\n",
              "      <td>100.000000</td>\n",
              "      <td>4.000000</td>\n",
              "      <td>5.000000</td>\n",
              "      <td>...</td>\n",
              "      <td>4.000000</td>\n",
              "      <td>80.0</td>\n",
              "      <td>3.000000</td>\n",
              "      <td>40.000000</td>\n",
              "      <td>6.000000</td>\n",
              "      <td>4.000000</td>\n",
              "      <td>40.000000</td>\n",
              "      <td>18.000000</td>\n",
              "      <td>15.000000</td>\n",
              "      <td>17.000000</td>\n",
              "    </tr>\n",
              "  </tbody>\n",
              "</table>\n",
              "<p>8 rows × 26 columns</p>\n",
              "</div>\n",
              "    <div class=\"colab-df-buttons\">\n",
              "\n",
              "  <div class=\"colab-df-container\">\n",
              "    <button class=\"colab-df-convert\" onclick=\"convertToInteractive('df-c07c89e3-1a46-44c3-860f-bdc2aabc7dc5')\"\n",
              "            title=\"Convert this dataframe to an interactive table.\"\n",
              "            style=\"display:none;\">\n",
              "\n",
              "  <svg xmlns=\"http://www.w3.org/2000/svg\" height=\"24px\" viewBox=\"0 -960 960 960\">\n",
              "    <path d=\"M120-120v-720h720v720H120Zm60-500h600v-160H180v160Zm220 220h160v-160H400v160Zm0 220h160v-160H400v160ZM180-400h160v-160H180v160Zm440 0h160v-160H620v160ZM180-180h160v-160H180v160Zm440 0h160v-160H620v160Z\"/>\n",
              "  </svg>\n",
              "    </button>\n",
              "\n",
              "  <style>\n",
              "    .colab-df-container {\n",
              "      display:flex;\n",
              "      gap: 12px;\n",
              "    }\n",
              "\n",
              "    .colab-df-convert {\n",
              "      background-color: #E8F0FE;\n",
              "      border: none;\n",
              "      border-radius: 50%;\n",
              "      cursor: pointer;\n",
              "      display: none;\n",
              "      fill: #1967D2;\n",
              "      height: 32px;\n",
              "      padding: 0 0 0 0;\n",
              "      width: 32px;\n",
              "    }\n",
              "\n",
              "    .colab-df-convert:hover {\n",
              "      background-color: #E2EBFA;\n",
              "      box-shadow: 0px 1px 2px rgba(60, 64, 67, 0.3), 0px 1px 3px 1px rgba(60, 64, 67, 0.15);\n",
              "      fill: #174EA6;\n",
              "    }\n",
              "\n",
              "    .colab-df-buttons div {\n",
              "      margin-bottom: 4px;\n",
              "    }\n",
              "\n",
              "    [theme=dark] .colab-df-convert {\n",
              "      background-color: #3B4455;\n",
              "      fill: #D2E3FC;\n",
              "    }\n",
              "\n",
              "    [theme=dark] .colab-df-convert:hover {\n",
              "      background-color: #434B5C;\n",
              "      box-shadow: 0px 1px 3px 1px rgba(0, 0, 0, 0.15);\n",
              "      filter: drop-shadow(0px 1px 2px rgba(0, 0, 0, 0.3));\n",
              "      fill: #FFFFFF;\n",
              "    }\n",
              "  </style>\n",
              "\n",
              "    <script>\n",
              "      const buttonEl =\n",
              "        document.querySelector('#df-c07c89e3-1a46-44c3-860f-bdc2aabc7dc5 button.colab-df-convert');\n",
              "      buttonEl.style.display =\n",
              "        google.colab.kernel.accessAllowed ? 'block' : 'none';\n",
              "\n",
              "      async function convertToInteractive(key) {\n",
              "        const element = document.querySelector('#df-c07c89e3-1a46-44c3-860f-bdc2aabc7dc5');\n",
              "        const dataTable =\n",
              "          await google.colab.kernel.invokeFunction('convertToInteractive',\n",
              "                                                    [key], {});\n",
              "        if (!dataTable) return;\n",
              "\n",
              "        const docLinkHtml = 'Like what you see? Visit the ' +\n",
              "          '<a target=\"_blank\" href=https://colab.research.google.com/notebooks/data_table.ipynb>data table notebook</a>'\n",
              "          + ' to learn more about interactive tables.';\n",
              "        element.innerHTML = '';\n",
              "        dataTable['output_type'] = 'display_data';\n",
              "        await google.colab.output.renderOutput(dataTable, element);\n",
              "        const docLink = document.createElement('div');\n",
              "        docLink.innerHTML = docLinkHtml;\n",
              "        element.appendChild(docLink);\n",
              "      }\n",
              "    </script>\n",
              "  </div>\n",
              "\n",
              "\n",
              "    <div id=\"df-0ec9305e-2cc6-44cf-8a0f-5155ccfe38a4\">\n",
              "      <button class=\"colab-df-quickchart\" onclick=\"quickchart('df-0ec9305e-2cc6-44cf-8a0f-5155ccfe38a4')\"\n",
              "                title=\"Suggest charts\"\n",
              "                style=\"display:none;\">\n",
              "\n",
              "<svg xmlns=\"http://www.w3.org/2000/svg\" height=\"24px\"viewBox=\"0 0 24 24\"\n",
              "     width=\"24px\">\n",
              "    <g>\n",
              "        <path d=\"M19 3H5c-1.1 0-2 .9-2 2v14c0 1.1.9 2 2 2h14c1.1 0 2-.9 2-2V5c0-1.1-.9-2-2-2zM9 17H7v-7h2v7zm4 0h-2V7h2v10zm4 0h-2v-4h2v4z\"/>\n",
              "    </g>\n",
              "</svg>\n",
              "      </button>\n",
              "\n",
              "<style>\n",
              "  .colab-df-quickchart {\n",
              "      --bg-color: #E8F0FE;\n",
              "      --fill-color: #1967D2;\n",
              "      --hover-bg-color: #E2EBFA;\n",
              "      --hover-fill-color: #174EA6;\n",
              "      --disabled-fill-color: #AAA;\n",
              "      --disabled-bg-color: #DDD;\n",
              "  }\n",
              "\n",
              "  [theme=dark] .colab-df-quickchart {\n",
              "      --bg-color: #3B4455;\n",
              "      --fill-color: #D2E3FC;\n",
              "      --hover-bg-color: #434B5C;\n",
              "      --hover-fill-color: #FFFFFF;\n",
              "      --disabled-bg-color: #3B4455;\n",
              "      --disabled-fill-color: #666;\n",
              "  }\n",
              "\n",
              "  .colab-df-quickchart {\n",
              "    background-color: var(--bg-color);\n",
              "    border: none;\n",
              "    border-radius: 50%;\n",
              "    cursor: pointer;\n",
              "    display: none;\n",
              "    fill: var(--fill-color);\n",
              "    height: 32px;\n",
              "    padding: 0;\n",
              "    width: 32px;\n",
              "  }\n",
              "\n",
              "  .colab-df-quickchart:hover {\n",
              "    background-color: var(--hover-bg-color);\n",
              "    box-shadow: 0 1px 2px rgba(60, 64, 67, 0.3), 0 1px 3px 1px rgba(60, 64, 67, 0.15);\n",
              "    fill: var(--button-hover-fill-color);\n",
              "  }\n",
              "\n",
              "  .colab-df-quickchart-complete:disabled,\n",
              "  .colab-df-quickchart-complete:disabled:hover {\n",
              "    background-color: var(--disabled-bg-color);\n",
              "    fill: var(--disabled-fill-color);\n",
              "    box-shadow: none;\n",
              "  }\n",
              "\n",
              "  .colab-df-spinner {\n",
              "    border: 2px solid var(--fill-color);\n",
              "    border-color: transparent;\n",
              "    border-bottom-color: var(--fill-color);\n",
              "    animation:\n",
              "      spin 1s steps(1) infinite;\n",
              "  }\n",
              "\n",
              "  @keyframes spin {\n",
              "    0% {\n",
              "      border-color: transparent;\n",
              "      border-bottom-color: var(--fill-color);\n",
              "      border-left-color: var(--fill-color);\n",
              "    }\n",
              "    20% {\n",
              "      border-color: transparent;\n",
              "      border-left-color: var(--fill-color);\n",
              "      border-top-color: var(--fill-color);\n",
              "    }\n",
              "    30% {\n",
              "      border-color: transparent;\n",
              "      border-left-color: var(--fill-color);\n",
              "      border-top-color: var(--fill-color);\n",
              "      border-right-color: var(--fill-color);\n",
              "    }\n",
              "    40% {\n",
              "      border-color: transparent;\n",
              "      border-right-color: var(--fill-color);\n",
              "      border-top-color: var(--fill-color);\n",
              "    }\n",
              "    60% {\n",
              "      border-color: transparent;\n",
              "      border-right-color: var(--fill-color);\n",
              "    }\n",
              "    80% {\n",
              "      border-color: transparent;\n",
              "      border-right-color: var(--fill-color);\n",
              "      border-bottom-color: var(--fill-color);\n",
              "    }\n",
              "    90% {\n",
              "      border-color: transparent;\n",
              "      border-bottom-color: var(--fill-color);\n",
              "    }\n",
              "  }\n",
              "</style>\n",
              "\n",
              "      <script>\n",
              "        async function quickchart(key) {\n",
              "          const quickchartButtonEl =\n",
              "            document.querySelector('#' + key + ' button');\n",
              "          quickchartButtonEl.disabled = true;  // To prevent multiple clicks.\n",
              "          quickchartButtonEl.classList.add('colab-df-spinner');\n",
              "          try {\n",
              "            const charts = await google.colab.kernel.invokeFunction(\n",
              "                'suggestCharts', [key], {});\n",
              "          } catch (error) {\n",
              "            console.error('Error during call to suggestCharts:', error);\n",
              "          }\n",
              "          quickchartButtonEl.classList.remove('colab-df-spinner');\n",
              "          quickchartButtonEl.classList.add('colab-df-quickchart-complete');\n",
              "        }\n",
              "        (() => {\n",
              "          let quickchartButtonEl =\n",
              "            document.querySelector('#df-0ec9305e-2cc6-44cf-8a0f-5155ccfe38a4 button');\n",
              "          quickchartButtonEl.style.display =\n",
              "            google.colab.kernel.accessAllowed ? 'block' : 'none';\n",
              "        })();\n",
              "      </script>\n",
              "    </div>\n",
              "\n",
              "    </div>\n",
              "  </div>\n"
            ],
            "application/vnd.google.colaboratory.intrinsic+json": {
              "type": "dataframe"
            }
          },
          "metadata": {},
          "execution_count": 101
        }
      ]
    },
    {
      "cell_type": "markdown",
      "source": [
        "*   **Age of employee**: minimum is 18 years old and maximum is 60 years old.\n",
        "*   **Daily rate of employee**: minimum is 102 dollars per day and maximum is 1499 dollars per day.\n",
        "*   **Hourly rate of employee**: minimum is 30 dollars per hour and maximum is 100 dollars per hour.\n",
        "*   **TotalWorkingYears of employee**: minimum professional experience is 0-1 years and maximum is 40 years.\n",
        "*   **YearsAtCompany** (min 0, max 40 years), **YearsInCurrentRole** (max 18 years), **YearsSinceLastPromotion** (max 15 years),\t**YearsWithCurrManager** (max 17 years)\n",
        "\n",
        "\n",
        "\n"
      ],
      "metadata": {
        "id": "Dpk4rd9fdlFS"
      }
    },
    {
      "cell_type": "code",
      "source": [
        "# Check for missing values\n",
        "print(\"Missing Values:\", df.isnull().values.any())"
      ],
      "metadata": {
        "colab": {
          "base_uri": "https://localhost:8080/"
        },
        "id": "0RVdQLXvk_pM",
        "outputId": "53c92388-383b-46b8-d144-369d04adebf5"
      },
      "execution_count": null,
      "outputs": [
        {
          "output_type": "stream",
          "name": "stdout",
          "text": [
            "Missing Values: False\n"
          ]
        }
      ]
    },
    {
      "cell_type": "code",
      "source": [
        "# Check for duplicates\n",
        "df.duplicated().sum()"
      ],
      "metadata": {
        "colab": {
          "base_uri": "https://localhost:8080/"
        },
        "id": "-GK6Gbt0lOd3",
        "outputId": "7dfce94c-f502-4582-b82b-b508d889d798"
      },
      "execution_count": null,
      "outputs": [
        {
          "output_type": "execute_result",
          "data": {
            "text/plain": [
              "np.int64(0)"
            ]
          },
          "metadata": {},
          "execution_count": 103
        }
      ]
    },
    {
      "cell_type": "markdown",
      "source": [
        "No missing values and duplicate values"
      ],
      "metadata": {
        "id": "ZHk6_jCh0Se-"
      }
    },
    {
      "cell_type": "code",
      "source": [
        "# Print the count of attrition in the dataset\n",
        "print(\"Count\", df['Attrition'].value_counts())\n",
        "print()\n",
        "# Print the percent of attrition in the dataset\n",
        "print(\"Percent\", df['Attrition'].value_counts(normalize=True) * 100)"
      ],
      "metadata": {
        "colab": {
          "base_uri": "https://localhost:8080/"
        },
        "id": "I-KPy79nl7uX",
        "outputId": "740ed84a-2ca2-4589-85b1-5f5d1c6b20c6"
      },
      "execution_count": null,
      "outputs": [
        {
          "output_type": "stream",
          "name": "stdout",
          "text": [
            "Count Attrition\n",
            "No     1233\n",
            "Yes     237\n",
            "Name: count, dtype: int64\n",
            "\n",
            "Percent Attrition\n",
            "No     83.877551\n",
            "Yes    16.122449\n",
            "Name: proportion, dtype: float64\n"
          ]
        }
      ]
    },
    {
      "cell_type": "code",
      "source": [
        "# check range of scores\n",
        "ordinal_cols = ['JobSatisfaction', 'EnvironmentSatisfaction', 'RelationshipSatisfaction',\n",
        "                'WorkLifeBalance', 'JobLevel', 'JobInvolvement','PerformanceRating', 'StockOptionLevel']\n",
        "\n",
        "for col in ordinal_cols:\n",
        "    print(f\"{col} unique values:\", df[col].unique())\n",
        "    print()"
      ],
      "metadata": {
        "colab": {
          "base_uri": "https://localhost:8080/"
        },
        "id": "MHUFipc5sSbN",
        "outputId": "539ed47b-6657-43d6-addb-dd52cde7b7b8"
      },
      "execution_count": null,
      "outputs": [
        {
          "output_type": "stream",
          "name": "stdout",
          "text": [
            "JobSatisfaction unique values: [4 2 3 1]\n",
            "\n",
            "EnvironmentSatisfaction unique values: [2 3 4 1]\n",
            "\n",
            "RelationshipSatisfaction unique values: [1 4 2 3]\n",
            "\n",
            "WorkLifeBalance unique values: [1 3 2 4]\n",
            "\n",
            "JobLevel unique values: [2 1 3 4 5]\n",
            "\n",
            "JobInvolvement unique values: [3 2 4 1]\n",
            "\n",
            "PerformanceRating unique values: [3 4]\n",
            "\n",
            "StockOptionLevel unique values: [0 1 3 2]\n",
            "\n"
          ]
        }
      ]
    },
    {
      "cell_type": "code",
      "source": [
        "# Check for duplicated categories\n",
        "df['Department'].value_counts()        # can be used to spot misspelled or duplicate labels."
      ],
      "metadata": {
        "colab": {
          "base_uri": "https://localhost:8080/",
          "height": 209
        },
        "id": "2k9oaCUXuq4D",
        "outputId": "341413f3-f8c6-458e-aaed-d269c0f248ab"
      },
      "execution_count": null,
      "outputs": [
        {
          "output_type": "execute_result",
          "data": {
            "text/plain": [
              "Department\n",
              "Research & Development    961\n",
              "Sales                     446\n",
              "Human Resources            63\n",
              "Name: count, dtype: int64"
            ],
            "text/html": [
              "<div>\n",
              "<style scoped>\n",
              "    .dataframe tbody tr th:only-of-type {\n",
              "        vertical-align: middle;\n",
              "    }\n",
              "\n",
              "    .dataframe tbody tr th {\n",
              "        vertical-align: top;\n",
              "    }\n",
              "\n",
              "    .dataframe thead th {\n",
              "        text-align: right;\n",
              "    }\n",
              "</style>\n",
              "<table border=\"1\" class=\"dataframe\">\n",
              "  <thead>\n",
              "    <tr style=\"text-align: right;\">\n",
              "      <th></th>\n",
              "      <th>count</th>\n",
              "    </tr>\n",
              "    <tr>\n",
              "      <th>Department</th>\n",
              "      <th></th>\n",
              "    </tr>\n",
              "  </thead>\n",
              "  <tbody>\n",
              "    <tr>\n",
              "      <th>Research &amp; Development</th>\n",
              "      <td>961</td>\n",
              "    </tr>\n",
              "    <tr>\n",
              "      <th>Sales</th>\n",
              "      <td>446</td>\n",
              "    </tr>\n",
              "    <tr>\n",
              "      <th>Human Resources</th>\n",
              "      <td>63</td>\n",
              "    </tr>\n",
              "  </tbody>\n",
              "</table>\n",
              "</div><br><label><b>dtype:</b> int64</label>"
            ]
          },
          "metadata": {},
          "execution_count": 106
        }
      ]
    },
    {
      "cell_type": "markdown",
      "source": [
        "## Feature Engineering"
      ],
      "metadata": {
        "id": "DGOtHE1UWZ5L"
      }
    },
    {
      "cell_type": "markdown",
      "source": [
        "### Feature Reduction / Cleanup"
      ],
      "metadata": {
        "id": "hSsfOnSsZG7O"
      }
    },
    {
      "cell_type": "markdown",
      "source": [
        "'EmployeeCount', 'Over18', 'StandardHours' have only one unique values and 'EmployeeNumber' has 1470 unique values. These features are not useful for analysis.\n",
        "\n",
        "**MonthlyRate**, **DailyRate**, **HourlyRate** = HR system rate assigned to role (not equal to actual income).\n",
        "\n",
        "MonthlyRate, HourlyRate, DailyRate are dropped because they are random ranges generated independently, inconsistent, and not useful for attrition-related analytics."
      ],
      "metadata": {
        "id": "ZYbL81FN5x_6"
      }
    },
    {
      "cell_type": "code",
      "source": [
        "# Drop Unnecessary Columns\n",
        "df.drop(['EmployeeNumber','EmployeeCount', 'Over18', 'StandardHours',\n",
        "         'MonthlyRate', 'DailyRate', 'HourlyRate'], axis=1, inplace=True)"
      ],
      "metadata": {
        "id": "1O0qBskSo3E_"
      },
      "execution_count": null,
      "outputs": []
    },
    {
      "cell_type": "markdown",
      "source": [
        "### Encoding Categorical Variables"
      ],
      "metadata": {
        "id": "1t5vNt33ZDEo"
      }
    },
    {
      "cell_type": "code",
      "source": [
        "# Categorical Columns\n",
        "cat_cols = df.select_dtypes(include='object').columns\n",
        "# Convert string-based categorical columns\n",
        "for col in cat_cols:\n",
        "    df[col] = df[col].astype('category')"
      ],
      "metadata": {
        "id": "PmEh_vb3zrwK"
      },
      "execution_count": null,
      "outputs": []
    },
    {
      "cell_type": "code",
      "source": [
        "# Convert numeric-ordinal columns to category\n",
        "for col in ordinal_cols:\n",
        "    df[col] = df[col].astype('category')"
      ],
      "metadata": {
        "id": "tKBhZkJavp5f"
      },
      "execution_count": null,
      "outputs": []
    },
    {
      "cell_type": "markdown",
      "source": [
        "### Create New Grouped Columns for Data Visualization"
      ],
      "metadata": {
        "id": "c_lQdP3bX-Zv"
      }
    },
    {
      "cell_type": "code",
      "source": [
        "# Age Group\n",
        "# Group continuous Age values into age ranges\n",
        "df['AgeGroup'] = pd.cut(df['Age'],\n",
        "                        bins=[df['Age'].min(), 25, 35, 45, 55, df['Age'].max()],\n",
        "                        labels=['18–25', '26–35', '36–45', '46–55', '56+'])"
      ],
      "metadata": {
        "id": "DRBx6RPL3wsg"
      },
      "execution_count": null,
      "outputs": []
    },
    {
      "cell_type": "code",
      "source": [
        "# Years at Company Group\n",
        "# Group employees based on tenure\n",
        "df['YearsAtCompanyGroup'] = pd.cut(df['YearsAtCompany'], bins=[-1, 2, 5, 10, 40],\n",
        "                                   labels=['0–2', '3–5', '6–10', '10+'])\n",
        "\n",
        "# Bins are also known as classes, buckets, or intervals and\n",
        "# help simplify and visualize the distribution of large datasets by grouping values into manageable segments."
      ],
      "metadata": {
        "id": "iCa6SBWV5XRk"
      },
      "execution_count": null,
      "outputs": []
    },
    {
      "cell_type": "code",
      "source": [
        "# Income Group\n",
        "# Categorize income into Low/Medium/High\n",
        "df['IncomeGroup'] = pd.cut(df['MonthlyIncome'],\n",
        "                           bins=[df['MonthlyIncome'].min(), 3000, 7000, df['MonthlyIncome'].max()],\n",
        "                           labels=['Low', 'Medium', 'High'])"
      ],
      "metadata": {
        "id": "V730wWTh7p-x"
      },
      "execution_count": null,
      "outputs": []
    },
    {
      "cell_type": "code",
      "source": [
        "# Salary Hike Group\n",
        "# Categorize percentage salary hike into Low/Moderate/High\n",
        "df['SalaryHikeGroup'] = pd.cut(df['PercentSalaryHike'], bins=[11, 15, 20, 25],\n",
        "                               labels=['Low (11-15%)', 'Moderate (16-20%)', 'High (21-25%)'])\n",
        "# PercentSalaryHike: Percentage salary increase. min 11% & max 25%\n"
      ],
      "metadata": {
        "id": "wuopOArsPWcn"
      },
      "execution_count": null,
      "outputs": []
    },
    {
      "cell_type": "code",
      "source": [
        "# CompanyExperience Group\n",
        "df['CompanyExperience'] = pd.cut(df['NumCompaniesWorked'],bins=[0,1,3,5,40],\n",
        "                                 labels=['First Job','2–3 Companies','4–5 Companies','6+ Companies'])"
      ],
      "metadata": {
        "id": "_4NQxByx6xen"
      },
      "execution_count": null,
      "outputs": []
    },
    {
      "cell_type": "code",
      "source": [
        "# Convert Feature Groups to category datatype\n",
        "group_cols = ['AgeGroup', 'YearsAtCompanyGroup', 'IncomeGroup', 'SalaryHikeGroup', 'CompanyExperience']\n",
        "for col in group_cols:\n",
        "    df[col] = df[col].astype('category')"
      ],
      "metadata": {
        "id": "ucrCKGV95quz"
      },
      "execution_count": null,
      "outputs": []
    },
    {
      "cell_type": "code",
      "source": [
        "df['IncomeGroup'].dtypes"
      ],
      "metadata": {
        "colab": {
          "base_uri": "https://localhost:8080/"
        },
        "id": "N5pVl3-17AdR",
        "outputId": "8086f08f-3502-45c2-a97d-52629d1fdf0d"
      },
      "execution_count": null,
      "outputs": [
        {
          "output_type": "execute_result",
          "data": {
            "text/plain": [
              "CategoricalDtype(categories=['Low', 'Medium', 'High'], ordered=True, categories_dtype=object)"
            ]
          },
          "metadata": {},
          "execution_count": 116
        }
      ]
    },
    {
      "cell_type": "code",
      "source": [
        "# Map numerical values to categories\n",
        "education_map = {\n",
        "    1: 'Below College',\n",
        "    2: 'College',\n",
        "    3: 'Bachelor',\n",
        "    4: 'Master',\n",
        "    5: 'Doctor'\n",
        "}\n",
        "\n",
        "df['Education'] = df['Education'].map(education_map).astype('category')"
      ],
      "metadata": {
        "id": "BsqG_1F04cim"
      },
      "execution_count": null,
      "outputs": []
    },
    {
      "cell_type": "code",
      "source": [
        "# Numerical Columns\n",
        "num_cols = df.select_dtypes(include=['int64', 'float64']).columns\n",
        "df[num_cols].describe()"
      ],
      "metadata": {
        "colab": {
          "base_uri": "https://localhost:8080/",
          "height": 320
        },
        "id": "8J6ki1zj8LYu",
        "outputId": "c40707bf-ec05-4121-b00f-f6360e819a94"
      },
      "execution_count": null,
      "outputs": [
        {
          "output_type": "execute_result",
          "data": {
            "text/plain": [
              "               Age  DistanceFromHome  MonthlyIncome  NumCompaniesWorked  \\\n",
              "count  1470.000000       1470.000000    1470.000000         1470.000000   \n",
              "mean     36.923810          9.192517    6502.931293            2.693197   \n",
              "std       9.135373          8.106864    4707.956783            2.498009   \n",
              "min      18.000000          1.000000    1009.000000            0.000000   \n",
              "25%      30.000000          2.000000    2911.000000            1.000000   \n",
              "50%      36.000000          7.000000    4919.000000            2.000000   \n",
              "75%      43.000000         14.000000    8379.000000            4.000000   \n",
              "max      60.000000         29.000000   19999.000000            9.000000   \n",
              "\n",
              "       PercentSalaryHike  TotalWorkingYears  TrainingTimesLastYear  \\\n",
              "count        1470.000000        1470.000000            1470.000000   \n",
              "mean           15.209524          11.279592               2.799320   \n",
              "std             3.659938           7.780782               1.289271   \n",
              "min            11.000000           0.000000               0.000000   \n",
              "25%            12.000000           6.000000               2.000000   \n",
              "50%            14.000000          10.000000               3.000000   \n",
              "75%            18.000000          15.000000               3.000000   \n",
              "max            25.000000          40.000000               6.000000   \n",
              "\n",
              "       YearsAtCompany  YearsInCurrentRole  YearsSinceLastPromotion  \\\n",
              "count     1470.000000         1470.000000              1470.000000   \n",
              "mean         7.008163            4.229252                 2.187755   \n",
              "std          6.126525            3.623137                 3.222430   \n",
              "min          0.000000            0.000000                 0.000000   \n",
              "25%          3.000000            2.000000                 0.000000   \n",
              "50%          5.000000            3.000000                 1.000000   \n",
              "75%          9.000000            7.000000                 3.000000   \n",
              "max         40.000000           18.000000                15.000000   \n",
              "\n",
              "       YearsWithCurrManager  \n",
              "count           1470.000000  \n",
              "mean               4.123129  \n",
              "std                3.568136  \n",
              "min                0.000000  \n",
              "25%                2.000000  \n",
              "50%                3.000000  \n",
              "75%                7.000000  \n",
              "max               17.000000  "
            ],
            "text/html": [
              "\n",
              "  <div id=\"df-41d6a0af-df1e-4e7c-90e3-c96865faa471\" class=\"colab-df-container\">\n",
              "    <div>\n",
              "<style scoped>\n",
              "    .dataframe tbody tr th:only-of-type {\n",
              "        vertical-align: middle;\n",
              "    }\n",
              "\n",
              "    .dataframe tbody tr th {\n",
              "        vertical-align: top;\n",
              "    }\n",
              "\n",
              "    .dataframe thead th {\n",
              "        text-align: right;\n",
              "    }\n",
              "</style>\n",
              "<table border=\"1\" class=\"dataframe\">\n",
              "  <thead>\n",
              "    <tr style=\"text-align: right;\">\n",
              "      <th></th>\n",
              "      <th>Age</th>\n",
              "      <th>DistanceFromHome</th>\n",
              "      <th>MonthlyIncome</th>\n",
              "      <th>NumCompaniesWorked</th>\n",
              "      <th>PercentSalaryHike</th>\n",
              "      <th>TotalWorkingYears</th>\n",
              "      <th>TrainingTimesLastYear</th>\n",
              "      <th>YearsAtCompany</th>\n",
              "      <th>YearsInCurrentRole</th>\n",
              "      <th>YearsSinceLastPromotion</th>\n",
              "      <th>YearsWithCurrManager</th>\n",
              "    </tr>\n",
              "  </thead>\n",
              "  <tbody>\n",
              "    <tr>\n",
              "      <th>count</th>\n",
              "      <td>1470.000000</td>\n",
              "      <td>1470.000000</td>\n",
              "      <td>1470.000000</td>\n",
              "      <td>1470.000000</td>\n",
              "      <td>1470.000000</td>\n",
              "      <td>1470.000000</td>\n",
              "      <td>1470.000000</td>\n",
              "      <td>1470.000000</td>\n",
              "      <td>1470.000000</td>\n",
              "      <td>1470.000000</td>\n",
              "      <td>1470.000000</td>\n",
              "    </tr>\n",
              "    <tr>\n",
              "      <th>mean</th>\n",
              "      <td>36.923810</td>\n",
              "      <td>9.192517</td>\n",
              "      <td>6502.931293</td>\n",
              "      <td>2.693197</td>\n",
              "      <td>15.209524</td>\n",
              "      <td>11.279592</td>\n",
              "      <td>2.799320</td>\n",
              "      <td>7.008163</td>\n",
              "      <td>4.229252</td>\n",
              "      <td>2.187755</td>\n",
              "      <td>4.123129</td>\n",
              "    </tr>\n",
              "    <tr>\n",
              "      <th>std</th>\n",
              "      <td>9.135373</td>\n",
              "      <td>8.106864</td>\n",
              "      <td>4707.956783</td>\n",
              "      <td>2.498009</td>\n",
              "      <td>3.659938</td>\n",
              "      <td>7.780782</td>\n",
              "      <td>1.289271</td>\n",
              "      <td>6.126525</td>\n",
              "      <td>3.623137</td>\n",
              "      <td>3.222430</td>\n",
              "      <td>3.568136</td>\n",
              "    </tr>\n",
              "    <tr>\n",
              "      <th>min</th>\n",
              "      <td>18.000000</td>\n",
              "      <td>1.000000</td>\n",
              "      <td>1009.000000</td>\n",
              "      <td>0.000000</td>\n",
              "      <td>11.000000</td>\n",
              "      <td>0.000000</td>\n",
              "      <td>0.000000</td>\n",
              "      <td>0.000000</td>\n",
              "      <td>0.000000</td>\n",
              "      <td>0.000000</td>\n",
              "      <td>0.000000</td>\n",
              "    </tr>\n",
              "    <tr>\n",
              "      <th>25%</th>\n",
              "      <td>30.000000</td>\n",
              "      <td>2.000000</td>\n",
              "      <td>2911.000000</td>\n",
              "      <td>1.000000</td>\n",
              "      <td>12.000000</td>\n",
              "      <td>6.000000</td>\n",
              "      <td>2.000000</td>\n",
              "      <td>3.000000</td>\n",
              "      <td>2.000000</td>\n",
              "      <td>0.000000</td>\n",
              "      <td>2.000000</td>\n",
              "    </tr>\n",
              "    <tr>\n",
              "      <th>50%</th>\n",
              "      <td>36.000000</td>\n",
              "      <td>7.000000</td>\n",
              "      <td>4919.000000</td>\n",
              "      <td>2.000000</td>\n",
              "      <td>14.000000</td>\n",
              "      <td>10.000000</td>\n",
              "      <td>3.000000</td>\n",
              "      <td>5.000000</td>\n",
              "      <td>3.000000</td>\n",
              "      <td>1.000000</td>\n",
              "      <td>3.000000</td>\n",
              "    </tr>\n",
              "    <tr>\n",
              "      <th>75%</th>\n",
              "      <td>43.000000</td>\n",
              "      <td>14.000000</td>\n",
              "      <td>8379.000000</td>\n",
              "      <td>4.000000</td>\n",
              "      <td>18.000000</td>\n",
              "      <td>15.000000</td>\n",
              "      <td>3.000000</td>\n",
              "      <td>9.000000</td>\n",
              "      <td>7.000000</td>\n",
              "      <td>3.000000</td>\n",
              "      <td>7.000000</td>\n",
              "    </tr>\n",
              "    <tr>\n",
              "      <th>max</th>\n",
              "      <td>60.000000</td>\n",
              "      <td>29.000000</td>\n",
              "      <td>19999.000000</td>\n",
              "      <td>9.000000</td>\n",
              "      <td>25.000000</td>\n",
              "      <td>40.000000</td>\n",
              "      <td>6.000000</td>\n",
              "      <td>40.000000</td>\n",
              "      <td>18.000000</td>\n",
              "      <td>15.000000</td>\n",
              "      <td>17.000000</td>\n",
              "    </tr>\n",
              "  </tbody>\n",
              "</table>\n",
              "</div>\n",
              "    <div class=\"colab-df-buttons\">\n",
              "\n",
              "  <div class=\"colab-df-container\">\n",
              "    <button class=\"colab-df-convert\" onclick=\"convertToInteractive('df-41d6a0af-df1e-4e7c-90e3-c96865faa471')\"\n",
              "            title=\"Convert this dataframe to an interactive table.\"\n",
              "            style=\"display:none;\">\n",
              "\n",
              "  <svg xmlns=\"http://www.w3.org/2000/svg\" height=\"24px\" viewBox=\"0 -960 960 960\">\n",
              "    <path d=\"M120-120v-720h720v720H120Zm60-500h600v-160H180v160Zm220 220h160v-160H400v160Zm0 220h160v-160H400v160ZM180-400h160v-160H180v160Zm440 0h160v-160H620v160ZM180-180h160v-160H180v160Zm440 0h160v-160H620v160Z\"/>\n",
              "  </svg>\n",
              "    </button>\n",
              "\n",
              "  <style>\n",
              "    .colab-df-container {\n",
              "      display:flex;\n",
              "      gap: 12px;\n",
              "    }\n",
              "\n",
              "    .colab-df-convert {\n",
              "      background-color: #E8F0FE;\n",
              "      border: none;\n",
              "      border-radius: 50%;\n",
              "      cursor: pointer;\n",
              "      display: none;\n",
              "      fill: #1967D2;\n",
              "      height: 32px;\n",
              "      padding: 0 0 0 0;\n",
              "      width: 32px;\n",
              "    }\n",
              "\n",
              "    .colab-df-convert:hover {\n",
              "      background-color: #E2EBFA;\n",
              "      box-shadow: 0px 1px 2px rgba(60, 64, 67, 0.3), 0px 1px 3px 1px rgba(60, 64, 67, 0.15);\n",
              "      fill: #174EA6;\n",
              "    }\n",
              "\n",
              "    .colab-df-buttons div {\n",
              "      margin-bottom: 4px;\n",
              "    }\n",
              "\n",
              "    [theme=dark] .colab-df-convert {\n",
              "      background-color: #3B4455;\n",
              "      fill: #D2E3FC;\n",
              "    }\n",
              "\n",
              "    [theme=dark] .colab-df-convert:hover {\n",
              "      background-color: #434B5C;\n",
              "      box-shadow: 0px 1px 3px 1px rgba(0, 0, 0, 0.15);\n",
              "      filter: drop-shadow(0px 1px 2px rgba(0, 0, 0, 0.3));\n",
              "      fill: #FFFFFF;\n",
              "    }\n",
              "  </style>\n",
              "\n",
              "    <script>\n",
              "      const buttonEl =\n",
              "        document.querySelector('#df-41d6a0af-df1e-4e7c-90e3-c96865faa471 button.colab-df-convert');\n",
              "      buttonEl.style.display =\n",
              "        google.colab.kernel.accessAllowed ? 'block' : 'none';\n",
              "\n",
              "      async function convertToInteractive(key) {\n",
              "        const element = document.querySelector('#df-41d6a0af-df1e-4e7c-90e3-c96865faa471');\n",
              "        const dataTable =\n",
              "          await google.colab.kernel.invokeFunction('convertToInteractive',\n",
              "                                                    [key], {});\n",
              "        if (!dataTable) return;\n",
              "\n",
              "        const docLinkHtml = 'Like what you see? Visit the ' +\n",
              "          '<a target=\"_blank\" href=https://colab.research.google.com/notebooks/data_table.ipynb>data table notebook</a>'\n",
              "          + ' to learn more about interactive tables.';\n",
              "        element.innerHTML = '';\n",
              "        dataTable['output_type'] = 'display_data';\n",
              "        await google.colab.output.renderOutput(dataTable, element);\n",
              "        const docLink = document.createElement('div');\n",
              "        docLink.innerHTML = docLinkHtml;\n",
              "        element.appendChild(docLink);\n",
              "      }\n",
              "    </script>\n",
              "  </div>\n",
              "\n",
              "\n",
              "    <div id=\"df-7ccfbbb0-6408-4618-a1b3-0941839f5421\">\n",
              "      <button class=\"colab-df-quickchart\" onclick=\"quickchart('df-7ccfbbb0-6408-4618-a1b3-0941839f5421')\"\n",
              "                title=\"Suggest charts\"\n",
              "                style=\"display:none;\">\n",
              "\n",
              "<svg xmlns=\"http://www.w3.org/2000/svg\" height=\"24px\"viewBox=\"0 0 24 24\"\n",
              "     width=\"24px\">\n",
              "    <g>\n",
              "        <path d=\"M19 3H5c-1.1 0-2 .9-2 2v14c0 1.1.9 2 2 2h14c1.1 0 2-.9 2-2V5c0-1.1-.9-2-2-2zM9 17H7v-7h2v7zm4 0h-2V7h2v10zm4 0h-2v-4h2v4z\"/>\n",
              "    </g>\n",
              "</svg>\n",
              "      </button>\n",
              "\n",
              "<style>\n",
              "  .colab-df-quickchart {\n",
              "      --bg-color: #E8F0FE;\n",
              "      --fill-color: #1967D2;\n",
              "      --hover-bg-color: #E2EBFA;\n",
              "      --hover-fill-color: #174EA6;\n",
              "      --disabled-fill-color: #AAA;\n",
              "      --disabled-bg-color: #DDD;\n",
              "  }\n",
              "\n",
              "  [theme=dark] .colab-df-quickchart {\n",
              "      --bg-color: #3B4455;\n",
              "      --fill-color: #D2E3FC;\n",
              "      --hover-bg-color: #434B5C;\n",
              "      --hover-fill-color: #FFFFFF;\n",
              "      --disabled-bg-color: #3B4455;\n",
              "      --disabled-fill-color: #666;\n",
              "  }\n",
              "\n",
              "  .colab-df-quickchart {\n",
              "    background-color: var(--bg-color);\n",
              "    border: none;\n",
              "    border-radius: 50%;\n",
              "    cursor: pointer;\n",
              "    display: none;\n",
              "    fill: var(--fill-color);\n",
              "    height: 32px;\n",
              "    padding: 0;\n",
              "    width: 32px;\n",
              "  }\n",
              "\n",
              "  .colab-df-quickchart:hover {\n",
              "    background-color: var(--hover-bg-color);\n",
              "    box-shadow: 0 1px 2px rgba(60, 64, 67, 0.3), 0 1px 3px 1px rgba(60, 64, 67, 0.15);\n",
              "    fill: var(--button-hover-fill-color);\n",
              "  }\n",
              "\n",
              "  .colab-df-quickchart-complete:disabled,\n",
              "  .colab-df-quickchart-complete:disabled:hover {\n",
              "    background-color: var(--disabled-bg-color);\n",
              "    fill: var(--disabled-fill-color);\n",
              "    box-shadow: none;\n",
              "  }\n",
              "\n",
              "  .colab-df-spinner {\n",
              "    border: 2px solid var(--fill-color);\n",
              "    border-color: transparent;\n",
              "    border-bottom-color: var(--fill-color);\n",
              "    animation:\n",
              "      spin 1s steps(1) infinite;\n",
              "  }\n",
              "\n",
              "  @keyframes spin {\n",
              "    0% {\n",
              "      border-color: transparent;\n",
              "      border-bottom-color: var(--fill-color);\n",
              "      border-left-color: var(--fill-color);\n",
              "    }\n",
              "    20% {\n",
              "      border-color: transparent;\n",
              "      border-left-color: var(--fill-color);\n",
              "      border-top-color: var(--fill-color);\n",
              "    }\n",
              "    30% {\n",
              "      border-color: transparent;\n",
              "      border-left-color: var(--fill-color);\n",
              "      border-top-color: var(--fill-color);\n",
              "      border-right-color: var(--fill-color);\n",
              "    }\n",
              "    40% {\n",
              "      border-color: transparent;\n",
              "      border-right-color: var(--fill-color);\n",
              "      border-top-color: var(--fill-color);\n",
              "    }\n",
              "    60% {\n",
              "      border-color: transparent;\n",
              "      border-right-color: var(--fill-color);\n",
              "    }\n",
              "    80% {\n",
              "      border-color: transparent;\n",
              "      border-right-color: var(--fill-color);\n",
              "      border-bottom-color: var(--fill-color);\n",
              "    }\n",
              "    90% {\n",
              "      border-color: transparent;\n",
              "      border-bottom-color: var(--fill-color);\n",
              "    }\n",
              "  }\n",
              "</style>\n",
              "\n",
              "      <script>\n",
              "        async function quickchart(key) {\n",
              "          const quickchartButtonEl =\n",
              "            document.querySelector('#' + key + ' button');\n",
              "          quickchartButtonEl.disabled = true;  // To prevent multiple clicks.\n",
              "          quickchartButtonEl.classList.add('colab-df-spinner');\n",
              "          try {\n",
              "            const charts = await google.colab.kernel.invokeFunction(\n",
              "                'suggestCharts', [key], {});\n",
              "          } catch (error) {\n",
              "            console.error('Error during call to suggestCharts:', error);\n",
              "          }\n",
              "          quickchartButtonEl.classList.remove('colab-df-spinner');\n",
              "          quickchartButtonEl.classList.add('colab-df-quickchart-complete');\n",
              "        }\n",
              "        (() => {\n",
              "          let quickchartButtonEl =\n",
              "            document.querySelector('#df-7ccfbbb0-6408-4618-a1b3-0941839f5421 button');\n",
              "          quickchartButtonEl.style.display =\n",
              "            google.colab.kernel.accessAllowed ? 'block' : 'none';\n",
              "        })();\n",
              "      </script>\n",
              "    </div>\n",
              "\n",
              "    </div>\n",
              "  </div>\n"
            ],
            "application/vnd.google.colaboratory.intrinsic+json": {
              "type": "dataframe",
              "summary": "{\n  \"name\": \"df[num_cols]\",\n  \"rows\": 8,\n  \"fields\": [\n    {\n      \"column\": \"Age\",\n      \"properties\": {\n        \"dtype\": \"number\",\n        \"std\": 508.1850759815963,\n        \"min\": 9.135373489136734,\n        \"max\": 1470.0,\n        \"num_unique_values\": 8,\n        \"samples\": [\n          36.923809523809524,\n          36.0,\n          1470.0\n        ],\n        \"semantic_type\": \"\",\n        \"description\": \"\"\n      }\n    },\n    {\n      \"column\": \"DistanceFromHome\",\n      \"properties\": {\n        \"dtype\": \"number\",\n        \"std\": 516.2468886880845,\n        \"min\": 1.0,\n        \"max\": 1470.0,\n        \"num_unique_values\": 8,\n        \"samples\": [\n          9.19251700680272,\n          7.0,\n          1470.0\n        ],\n        \"semantic_type\": \"\",\n        \"description\": \"\"\n      }\n    },\n    {\n      \"column\": \"MonthlyIncome\",\n      \"properties\": {\n        \"dtype\": \"number\",\n        \"std\": 6085.640865018597,\n        \"min\": 1009.0,\n        \"max\": 19999.0,\n        \"num_unique_values\": 8,\n        \"samples\": [\n          6502.931292517007,\n          4919.0,\n          1470.0\n        ],\n        \"semantic_type\": \"\",\n        \"description\": \"\"\n      }\n    },\n    {\n      \"column\": \"NumCompaniesWorked\",\n      \"properties\": {\n        \"dtype\": \"number\",\n        \"std\": 518.6602372112031,\n        \"min\": 0.0,\n        \"max\": 1470.0,\n        \"num_unique_values\": 8,\n        \"samples\": [\n          2.6931972789115646,\n          2.0,\n          1470.0\n        ],\n        \"semantic_type\": \"\",\n        \"description\": \"\"\n      }\n    },\n    {\n      \"column\": \"PercentSalaryHike\",\n      \"properties\": {\n        \"dtype\": \"number\",\n        \"std\": 514.76566115702,\n        \"min\": 3.659937716539636,\n        \"max\": 1470.0,\n        \"num_unique_values\": 8,\n        \"samples\": [\n          15.209523809523809,\n          14.0,\n          1470.0\n        ],\n        \"semantic_type\": \"\",\n        \"description\": \"\"\n      }\n    },\n    {\n      \"column\": \"TotalWorkingYears\",\n      \"properties\": {\n        \"dtype\": \"number\",\n        \"std\": 515.3120030802543,\n        \"min\": 0.0,\n        \"max\": 1470.0,\n        \"num_unique_values\": 8,\n        \"samples\": [\n          11.279591836734694,\n          10.0,\n          1470.0\n        ],\n        \"semantic_type\": \"\",\n        \"description\": \"\"\n      }\n    },\n    {\n      \"column\": \"TrainingTimesLastYear\",\n      \"properties\": {\n        \"dtype\": \"number\",\n        \"std\": 518.8127300204532,\n        \"min\": 0.0,\n        \"max\": 1470.0,\n        \"num_unique_values\": 7,\n        \"samples\": [\n          1470.0,\n          2.7993197278911564,\n          3.0\n        ],\n        \"semantic_type\": \"\",\n        \"description\": \"\"\n      }\n    },\n    {\n      \"column\": \"YearsAtCompany\",\n      \"properties\": {\n        \"dtype\": \"number\",\n        \"std\": 516.3331968733751,\n        \"min\": 0.0,\n        \"max\": 1470.0,\n        \"num_unique_values\": 8,\n        \"samples\": [\n          7.0081632653061225,\n          5.0,\n          1470.0\n        ],\n        \"semantic_type\": \"\",\n        \"description\": \"\"\n      }\n    },\n    {\n      \"column\": \"YearsInCurrentRole\",\n      \"properties\": {\n        \"dtype\": \"number\",\n        \"std\": 517.8409381288341,\n        \"min\": 0.0,\n        \"max\": 1470.0,\n        \"num_unique_values\": 8,\n        \"samples\": [\n          4.229251700680272,\n          3.0,\n          1470.0\n        ],\n        \"semantic_type\": \"\",\n        \"description\": \"\"\n      }\n    },\n    {\n      \"column\": \"YearsSinceLastPromotion\",\n      \"properties\": {\n        \"dtype\": \"number\",\n        \"std\": 518.5133205422036,\n        \"min\": 0.0,\n        \"max\": 1470.0,\n        \"num_unique_values\": 7,\n        \"samples\": [\n          1470.0,\n          2.1877551020408164,\n          3.0\n        ],\n        \"semantic_type\": \"\",\n        \"description\": \"\"\n      }\n    },\n    {\n      \"column\": \"YearsWithCurrManager\",\n      \"properties\": {\n        \"dtype\": \"number\",\n        \"std\": 517.8962817628608,\n        \"min\": 0.0,\n        \"max\": 1470.0,\n        \"num_unique_values\": 8,\n        \"samples\": [\n          4.12312925170068,\n          3.0,\n          1470.0\n        ],\n        \"semantic_type\": \"\",\n        \"description\": \"\"\n      }\n    }\n  ]\n}"
            }
          },
          "metadata": {},
          "execution_count": 118
        }
      ]
    },
    {
      "cell_type": "markdown",
      "source": [
        "## Data Visualization"
      ],
      "metadata": {
        "id": "3QgK51AXhpbn"
      }
    },
    {
      "cell_type": "code",
      "source": [
        "import matplotlib.pyplot as plt\n",
        "import seaborn as sns\n",
        "import plotly.express as px"
      ],
      "metadata": {
        "id": "ov_PPFH0E8Tx"
      },
      "execution_count": null,
      "outputs": []
    },
    {
      "cell_type": "markdown",
      "source": [
        "### Target Variable"
      ],
      "metadata": {
        "id": "6DjV7exhrkts"
      }
    },
    {
      "cell_type": "markdown",
      "source": [
        "**Attrition**: Target variable indicating if an employee left (Yes) or stayed (No)"
      ],
      "metadata": {
        "id": "W94LFuBF0CmV"
      }
    },
    {
      "cell_type": "code",
      "source": [
        "# Count of Attrition\n",
        "attrition_count = df['Attrition'].value_counts().reset_index()\n",
        "attrition_count.columns = ['Attrition', 'Count']\n",
        "\n",
        "# Plot pie chart\n",
        "fig = px.pie(attrition_count,\n",
        "             names='Attrition',\n",
        "             values='Count',\n",
        "             color='Attrition',\n",
        "             color_discrete_map={'Yes':'green','No':'darkblue'},\n",
        "             title='Employee Attrition Overview')  # Add hole=0.3 for donut chart\n",
        "\n",
        "fig.update_traces(textposition='inside', textinfo='percent+label')\n",
        "\n",
        "fig.update_layout( width=700,height=500)\n",
        "\n",
        "fig.show()\n"
      ],
      "metadata": {
        "colab": {
          "base_uri": "https://localhost:8080/",
          "height": 517
        },
        "id": "EswFWV2_L4WB",
        "outputId": "ab2c0689-aafd-4ae9-b407-07c54166097f"
      },
      "execution_count": null,
      "outputs": [
        {
          "output_type": "display_data",
          "data": {
            "text/html": [
              "<html>\n",
              "<head><meta charset=\"utf-8\" /></head>\n",
              "<body>\n",
              "    <div>            <script src=\"https://cdnjs.cloudflare.com/ajax/libs/mathjax/2.7.5/MathJax.js?config=TeX-AMS-MML_SVG\"></script><script type=\"text/javascript\">if (window.MathJax && window.MathJax.Hub && window.MathJax.Hub.Config) {window.MathJax.Hub.Config({SVG: {font: \"STIX-Web\"}});}</script>                <script type=\"text/javascript\">window.PlotlyConfig = {MathJaxConfig: 'local'};</script>\n",
              "        <script charset=\"utf-8\" src=\"https://cdn.plot.ly/plotly-2.35.2.min.js\"></script>                <div id=\"b61481c5-5d11-4df4-8003-9abd30fc7395\" class=\"plotly-graph-div\" style=\"height:500px; width:700px;\"></div>            <script type=\"text/javascript\">                                    window.PLOTLYENV=window.PLOTLYENV || {};                                    if (document.getElementById(\"b61481c5-5d11-4df4-8003-9abd30fc7395\")) {                    Plotly.newPlot(                        \"b61481c5-5d11-4df4-8003-9abd30fc7395\",                        [{\"customdata\":[[\"No\"],[\"Yes\"]],\"domain\":{\"x\":[0.0,1.0],\"y\":[0.0,1.0]},\"hovertemplate\":\"Attrition=%{customdata[0]}\\u003cbr\\u003eCount=%{value}\\u003cextra\\u003e\\u003c\\u002fextra\\u003e\",\"labels\":[\"No\",\"Yes\"],\"legendgroup\":\"\",\"marker\":{\"colors\":[\"darkblue\",\"green\"]},\"name\":\"\",\"showlegend\":true,\"values\":[1233,237],\"type\":\"pie\",\"textinfo\":\"percent+label\",\"textposition\":\"inside\"}],                        {\"template\":{\"data\":{\"histogram2dcontour\":[{\"type\":\"histogram2dcontour\",\"colorbar\":{\"outlinewidth\":0,\"ticks\":\"\"},\"colorscale\":[[0.0,\"#0d0887\"],[0.1111111111111111,\"#46039f\"],[0.2222222222222222,\"#7201a8\"],[0.3333333333333333,\"#9c179e\"],[0.4444444444444444,\"#bd3786\"],[0.5555555555555556,\"#d8576b\"],[0.6666666666666666,\"#ed7953\"],[0.7777777777777778,\"#fb9f3a\"],[0.8888888888888888,\"#fdca26\"],[1.0,\"#f0f921\"]]}],\"choropleth\":[{\"type\":\"choropleth\",\"colorbar\":{\"outlinewidth\":0,\"ticks\":\"\"}}],\"histogram2d\":[{\"type\":\"histogram2d\",\"colorbar\":{\"outlinewidth\":0,\"ticks\":\"\"},\"colorscale\":[[0.0,\"#0d0887\"],[0.1111111111111111,\"#46039f\"],[0.2222222222222222,\"#7201a8\"],[0.3333333333333333,\"#9c179e\"],[0.4444444444444444,\"#bd3786\"],[0.5555555555555556,\"#d8576b\"],[0.6666666666666666,\"#ed7953\"],[0.7777777777777778,\"#fb9f3a\"],[0.8888888888888888,\"#fdca26\"],[1.0,\"#f0f921\"]]}],\"heatmap\":[{\"type\":\"heatmap\",\"colorbar\":{\"outlinewidth\":0,\"ticks\":\"\"},\"colorscale\":[[0.0,\"#0d0887\"],[0.1111111111111111,\"#46039f\"],[0.2222222222222222,\"#7201a8\"],[0.3333333333333333,\"#9c179e\"],[0.4444444444444444,\"#bd3786\"],[0.5555555555555556,\"#d8576b\"],[0.6666666666666666,\"#ed7953\"],[0.7777777777777778,\"#fb9f3a\"],[0.8888888888888888,\"#fdca26\"],[1.0,\"#f0f921\"]]}],\"heatmapgl\":[{\"type\":\"heatmapgl\",\"colorbar\":{\"outlinewidth\":0,\"ticks\":\"\"},\"colorscale\":[[0.0,\"#0d0887\"],[0.1111111111111111,\"#46039f\"],[0.2222222222222222,\"#7201a8\"],[0.3333333333333333,\"#9c179e\"],[0.4444444444444444,\"#bd3786\"],[0.5555555555555556,\"#d8576b\"],[0.6666666666666666,\"#ed7953\"],[0.7777777777777778,\"#fb9f3a\"],[0.8888888888888888,\"#fdca26\"],[1.0,\"#f0f921\"]]}],\"contourcarpet\":[{\"type\":\"contourcarpet\",\"colorbar\":{\"outlinewidth\":0,\"ticks\":\"\"}}],\"contour\":[{\"type\":\"contour\",\"colorbar\":{\"outlinewidth\":0,\"ticks\":\"\"},\"colorscale\":[[0.0,\"#0d0887\"],[0.1111111111111111,\"#46039f\"],[0.2222222222222222,\"#7201a8\"],[0.3333333333333333,\"#9c179e\"],[0.4444444444444444,\"#bd3786\"],[0.5555555555555556,\"#d8576b\"],[0.6666666666666666,\"#ed7953\"],[0.7777777777777778,\"#fb9f3a\"],[0.8888888888888888,\"#fdca26\"],[1.0,\"#f0f921\"]]}],\"surface\":[{\"type\":\"surface\",\"colorbar\":{\"outlinewidth\":0,\"ticks\":\"\"},\"colorscale\":[[0.0,\"#0d0887\"],[0.1111111111111111,\"#46039f\"],[0.2222222222222222,\"#7201a8\"],[0.3333333333333333,\"#9c179e\"],[0.4444444444444444,\"#bd3786\"],[0.5555555555555556,\"#d8576b\"],[0.6666666666666666,\"#ed7953\"],[0.7777777777777778,\"#fb9f3a\"],[0.8888888888888888,\"#fdca26\"],[1.0,\"#f0f921\"]]}],\"mesh3d\":[{\"type\":\"mesh3d\",\"colorbar\":{\"outlinewidth\":0,\"ticks\":\"\"}}],\"scatter\":[{\"fillpattern\":{\"fillmode\":\"overlay\",\"size\":10,\"solidity\":0.2},\"type\":\"scatter\"}],\"parcoords\":[{\"type\":\"parcoords\",\"line\":{\"colorbar\":{\"outlinewidth\":0,\"ticks\":\"\"}}}],\"scatterpolargl\":[{\"type\":\"scatterpolargl\",\"marker\":{\"colorbar\":{\"outlinewidth\":0,\"ticks\":\"\"}}}],\"bar\":[{\"error_x\":{\"color\":\"#2a3f5f\"},\"error_y\":{\"color\":\"#2a3f5f\"},\"marker\":{\"line\":{\"color\":\"#E5ECF6\",\"width\":0.5},\"pattern\":{\"fillmode\":\"overlay\",\"size\":10,\"solidity\":0.2}},\"type\":\"bar\"}],\"scattergeo\":[{\"type\":\"scattergeo\",\"marker\":{\"colorbar\":{\"outlinewidth\":0,\"ticks\":\"\"}}}],\"scatterpolar\":[{\"type\":\"scatterpolar\",\"marker\":{\"colorbar\":{\"outlinewidth\":0,\"ticks\":\"\"}}}],\"histogram\":[{\"marker\":{\"pattern\":{\"fillmode\":\"overlay\",\"size\":10,\"solidity\":0.2}},\"type\":\"histogram\"}],\"scattergl\":[{\"type\":\"scattergl\",\"marker\":{\"colorbar\":{\"outlinewidth\":0,\"ticks\":\"\"}}}],\"scatter3d\":[{\"type\":\"scatter3d\",\"line\":{\"colorbar\":{\"outlinewidth\":0,\"ticks\":\"\"}},\"marker\":{\"colorbar\":{\"outlinewidth\":0,\"ticks\":\"\"}}}],\"scattermapbox\":[{\"type\":\"scattermapbox\",\"marker\":{\"colorbar\":{\"outlinewidth\":0,\"ticks\":\"\"}}}],\"scatterternary\":[{\"type\":\"scatterternary\",\"marker\":{\"colorbar\":{\"outlinewidth\":0,\"ticks\":\"\"}}}],\"scattercarpet\":[{\"type\":\"scattercarpet\",\"marker\":{\"colorbar\":{\"outlinewidth\":0,\"ticks\":\"\"}}}],\"carpet\":[{\"aaxis\":{\"endlinecolor\":\"#2a3f5f\",\"gridcolor\":\"white\",\"linecolor\":\"white\",\"minorgridcolor\":\"white\",\"startlinecolor\":\"#2a3f5f\"},\"baxis\":{\"endlinecolor\":\"#2a3f5f\",\"gridcolor\":\"white\",\"linecolor\":\"white\",\"minorgridcolor\":\"white\",\"startlinecolor\":\"#2a3f5f\"},\"type\":\"carpet\"}],\"table\":[{\"cells\":{\"fill\":{\"color\":\"#EBF0F8\"},\"line\":{\"color\":\"white\"}},\"header\":{\"fill\":{\"color\":\"#C8D4E3\"},\"line\":{\"color\":\"white\"}},\"type\":\"table\"}],\"barpolar\":[{\"marker\":{\"line\":{\"color\":\"#E5ECF6\",\"width\":0.5},\"pattern\":{\"fillmode\":\"overlay\",\"size\":10,\"solidity\":0.2}},\"type\":\"barpolar\"}],\"pie\":[{\"automargin\":true,\"type\":\"pie\"}]},\"layout\":{\"autotypenumbers\":\"strict\",\"colorway\":[\"#636efa\",\"#EF553B\",\"#00cc96\",\"#ab63fa\",\"#FFA15A\",\"#19d3f3\",\"#FF6692\",\"#B6E880\",\"#FF97FF\",\"#FECB52\"],\"font\":{\"color\":\"#2a3f5f\"},\"hovermode\":\"closest\",\"hoverlabel\":{\"align\":\"left\"},\"paper_bgcolor\":\"white\",\"plot_bgcolor\":\"#E5ECF6\",\"polar\":{\"bgcolor\":\"#E5ECF6\",\"angularaxis\":{\"gridcolor\":\"white\",\"linecolor\":\"white\",\"ticks\":\"\"},\"radialaxis\":{\"gridcolor\":\"white\",\"linecolor\":\"white\",\"ticks\":\"\"}},\"ternary\":{\"bgcolor\":\"#E5ECF6\",\"aaxis\":{\"gridcolor\":\"white\",\"linecolor\":\"white\",\"ticks\":\"\"},\"baxis\":{\"gridcolor\":\"white\",\"linecolor\":\"white\",\"ticks\":\"\"},\"caxis\":{\"gridcolor\":\"white\",\"linecolor\":\"white\",\"ticks\":\"\"}},\"coloraxis\":{\"colorbar\":{\"outlinewidth\":0,\"ticks\":\"\"}},\"colorscale\":{\"sequential\":[[0.0,\"#0d0887\"],[0.1111111111111111,\"#46039f\"],[0.2222222222222222,\"#7201a8\"],[0.3333333333333333,\"#9c179e\"],[0.4444444444444444,\"#bd3786\"],[0.5555555555555556,\"#d8576b\"],[0.6666666666666666,\"#ed7953\"],[0.7777777777777778,\"#fb9f3a\"],[0.8888888888888888,\"#fdca26\"],[1.0,\"#f0f921\"]],\"sequentialminus\":[[0.0,\"#0d0887\"],[0.1111111111111111,\"#46039f\"],[0.2222222222222222,\"#7201a8\"],[0.3333333333333333,\"#9c179e\"],[0.4444444444444444,\"#bd3786\"],[0.5555555555555556,\"#d8576b\"],[0.6666666666666666,\"#ed7953\"],[0.7777777777777778,\"#fb9f3a\"],[0.8888888888888888,\"#fdca26\"],[1.0,\"#f0f921\"]],\"diverging\":[[0,\"#8e0152\"],[0.1,\"#c51b7d\"],[0.2,\"#de77ae\"],[0.3,\"#f1b6da\"],[0.4,\"#fde0ef\"],[0.5,\"#f7f7f7\"],[0.6,\"#e6f5d0\"],[0.7,\"#b8e186\"],[0.8,\"#7fbc41\"],[0.9,\"#4d9221\"],[1,\"#276419\"]]},\"xaxis\":{\"gridcolor\":\"white\",\"linecolor\":\"white\",\"ticks\":\"\",\"title\":{\"standoff\":15},\"zerolinecolor\":\"white\",\"automargin\":true,\"zerolinewidth\":2},\"yaxis\":{\"gridcolor\":\"white\",\"linecolor\":\"white\",\"ticks\":\"\",\"title\":{\"standoff\":15},\"zerolinecolor\":\"white\",\"automargin\":true,\"zerolinewidth\":2},\"scene\":{\"xaxis\":{\"backgroundcolor\":\"#E5ECF6\",\"gridcolor\":\"white\",\"linecolor\":\"white\",\"showbackground\":true,\"ticks\":\"\",\"zerolinecolor\":\"white\",\"gridwidth\":2},\"yaxis\":{\"backgroundcolor\":\"#E5ECF6\",\"gridcolor\":\"white\",\"linecolor\":\"white\",\"showbackground\":true,\"ticks\":\"\",\"zerolinecolor\":\"white\",\"gridwidth\":2},\"zaxis\":{\"backgroundcolor\":\"#E5ECF6\",\"gridcolor\":\"white\",\"linecolor\":\"white\",\"showbackground\":true,\"ticks\":\"\",\"zerolinecolor\":\"white\",\"gridwidth\":2}},\"shapedefaults\":{\"line\":{\"color\":\"#2a3f5f\"}},\"annotationdefaults\":{\"arrowcolor\":\"#2a3f5f\",\"arrowhead\":0,\"arrowwidth\":1},\"geo\":{\"bgcolor\":\"white\",\"landcolor\":\"#E5ECF6\",\"subunitcolor\":\"white\",\"showland\":true,\"showlakes\":true,\"lakecolor\":\"white\"},\"title\":{\"x\":0.05},\"mapbox\":{\"style\":\"light\"}}},\"legend\":{\"tracegroupgap\":0},\"title\":{\"text\":\"Employee Attrition Overview\"},\"width\":700,\"height\":500},                        {\"responsive\": true}                    ).then(function(){\n",
              "                            \n",
              "var gd = document.getElementById('b61481c5-5d11-4df4-8003-9abd30fc7395');\n",
              "var x = new MutationObserver(function (mutations, observer) {{\n",
              "        var display = window.getComputedStyle(gd).display;\n",
              "        if (!display || display === 'none') {{\n",
              "            console.log([gd, 'removed!']);\n",
              "            Plotly.purge(gd);\n",
              "            observer.disconnect();\n",
              "        }}\n",
              "}});\n",
              "\n",
              "// Listen for the removal of the full notebook cells\n",
              "var notebookContainer = gd.closest('#notebook-container');\n",
              "if (notebookContainer) {{\n",
              "    x.observe(notebookContainer, {childList: true});\n",
              "}}\n",
              "\n",
              "// Listen for the clearing of the current output cell\n",
              "var outputEl = gd.closest('.output');\n",
              "if (outputEl) {{\n",
              "    x.observe(outputEl, {childList: true});\n",
              "}}\n",
              "\n",
              "                        })                };                            </script>        </div>\n",
              "</body>\n",
              "</html>"
            ]
          },
          "metadata": {}
        }
      ]
    },
    {
      "cell_type": "code",
      "source": [
        "attrition_count = df['Attrition'].value_counts()\n",
        "attrition_rate = df['Attrition'].value_counts(normalize=True) * 100\n",
        "print(f\"Insight: Attrition rate is {attrition_rate['Yes']:.2f}% \"\n",
        "      f\"({attrition_count['Yes']:.0f} employees left).\")"
      ],
      "metadata": {
        "colab": {
          "base_uri": "https://localhost:8080/"
        },
        "id": "E-N32WVtFkcB",
        "outputId": "adfb46fd-cb53-40b6-ba26-8bf1508a7fd9"
      },
      "execution_count": null,
      "outputs": [
        {
          "output_type": "stream",
          "name": "stdout",
          "text": [
            "Insight: Attrition rate is 16.12% (237 employees left).\n"
          ]
        }
      ]
    },
    {
      "cell_type": "markdown",
      "source": [
        "### Demographics"
      ],
      "metadata": {
        "id": "CrcMjh-Srp6v"
      }
    },
    {
      "cell_type": "code",
      "source": [
        "# Gender\n",
        "sns.countplot(data=df, x='Gender', hue='Attrition', palette='viridis')\n",
        "plt.title('Attrition by Gender')\n",
        "plt.show()"
      ],
      "metadata": {
        "colab": {
          "base_uri": "https://localhost:8080/",
          "height": 469
        },
        "id": "yMMfvaGGM8UW",
        "outputId": "ce50cd5e-57f9-4843-9f29-0a688ac0ab3d"
      },
      "execution_count": null,
      "outputs": [
        {
          "output_type": "display_data",
          "data": {
            "text/plain": [
              "<Figure size 640x480 with 1 Axes>"
            ],
            "image/png": "[encoded data removed]"
          },
          "metadata": {}
        }
      ]
    },
    {
      "cell_type": "markdown",
      "source": [
        "**Insight:** More no. of male employees who quit or left the company compared to female employees."
      ],
      "metadata": {
        "id": "Uwde7sSctA8X"
      }
    },
    {
      "cell_type": "code",
      "source": [
        "# Education Distribution\n",
        "fig4 = px.histogram(df, x='Education', color='Attrition', barmode='group', color_discrete_map={'Yes':'green','No':'darkblue'})\n",
        "fig4.show()"
      ],
      "metadata": {
        "colab": {
          "base_uri": "https://localhost:8080/",
          "height": 542
        },
        "id": "pomNNd543xX-",
        "outputId": "924ba908-ece3-43d0-cc74-6dbbd9c7d7ad"
      },
      "execution_count": null,
      "outputs": [
        {
          "output_type": "display_data",
          "data": {
            "text/html": [
              "<html>\n",
              "<head><meta charset=\"utf-8\" /></head>\n",
              "<body>\n",
              "    <div>            <script src=\"https://cdnjs.cloudflare.com/ajax/libs/mathjax/2.7.5/MathJax.js?config=TeX-AMS-MML_SVG\"></script><script type=\"text/javascript\">if (window.MathJax && window.MathJax.Hub && window.MathJax.Hub.Config) {window.MathJax.Hub.Config({SVG: {font: \"STIX-Web\"}});}</script>                <script type=\"text/javascript\">window.PlotlyConfig = {MathJaxConfig: 'local'};</script>\n",
              "        <script charset=\"utf-8\" src=\"https://cdn.plot.ly/plotly-2.35.2.min.js\"></script>                <div id=\"cf1a42f8-c430-4411-b303-84cf8513cb0b\" class=\"plotly-graph-div\" style=\"height:525px; width:100%;\"></div>            <script type=\"text/javascript\">                                    window.PLOTLYENV=window.PLOTLYENV || {};                                    if (document.getElementById(\"cf1a42f8-c430-4411-b303-84cf8513cb0b\")) {                    Plotly.newPlot(                        \"cf1a42f8-c430-4411-b303-84cf8513cb0b\",                        [{\"alignmentgroup\":\"True\",\"bingroup\":\"x\",\"hovertemplate\":\"Attrition=Yes\\u003cbr\\u003eEducation=%{x}\\u003cbr\\u003ecount=%{y}\\u003cextra\\u003e\\u003c\\u002fextra\\u003e\",\"legendgroup\":\"Yes\",\"marker\":{\"color\":\"green\",\"pattern\":{\"shape\":\"\"}},\"name\":\"Yes\",\"offsetgroup\":\"Yes\",\"orientation\":\"v\",\"showlegend\":true,\"x\":[\"College\",\"College\",\"Bachelor\",\"Master\",\"Below College\",\"Below College\",\"Bachelor\",\"Bachelor\",\"College\",\"Bachelor\",\"Bachelor\",\"College\",\"Master\",\"Bachelor\",\"College\",\"Master\",\"Bachelor\",\"Bachelor\",\"Bachelor\",\"Master\",\"Master\",\"Master\",\"Below College\",\"Bachelor\",\"Master\",\"Bachelor\",\"Below College\",\"Bachelor\",\"College\",\"College\",\"Below College\",\"Bachelor\",\"Master\",\"Bachelor\",\"Master\",\"Bachelor\",\"Below College\",\"Bachelor\",\"College\",\"Bachelor\",\"Bachelor\",\"College\",\"Master\",\"Master\",\"Bachelor\",\"Master\",\"Master\",\"Bachelor\",\"Master\",\"Master\",\"College\",\"Master\",\"Below College\",\"Bachelor\",\"Bachelor\",\"College\",\"Bachelor\",\"Bachelor\",\"Below College\",\"Bachelor\",\"Bachelor\",\"Below College\",\"College\",\"Doctor\",\"College\",\"Below College\",\"Below College\",\"Bachelor\",\"Bachelor\",\"Below College\",\"Master\",\"Bachelor\",\"Bachelor\",\"Master\",\"Bachelor\",\"Master\",\"Master\",\"Below College\",\"Master\",\"Below College\",\"Bachelor\",\"College\",\"College\",\"College\",\"Bachelor\",\"Master\",\"College\",\"Bachelor\",\"Bachelor\",\"Bachelor\",\"College\",\"Bachelor\",\"Master\",\"Master\",\"Bachelor\",\"Below College\",\"College\",\"Master\",\"Bachelor\",\"Master\",\"Below College\",\"Bachelor\",\"Below College\",\"Below College\",\"Master\",\"Bachelor\",\"College\",\"Bachelor\",\"Bachelor\",\"Below College\",\"Master\",\"Bachelor\",\"Bachelor\",\"College\",\"Bachelor\",\"Bachelor\",\"Master\",\"Bachelor\",\"Bachelor\",\"College\",\"College\",\"Below College\",\"Master\",\"Bachelor\",\"Bachelor\",\"Bachelor\",\"Bachelor\",\"Master\",\"College\",\"College\",\"Bachelor\",\"Master\",\"Below College\",\"Bachelor\",\"Bachelor\",\"Bachelor\",\"Master\",\"Bachelor\",\"Below College\",\"Master\",\"Bachelor\",\"Below College\",\"Bachelor\",\"Below College\",\"Bachelor\",\"Master\",\"Master\",\"College\",\"College\",\"Bachelor\",\"Below College\",\"Bachelor\",\"College\",\"Bachelor\",\"Bachelor\",\"College\",\"Bachelor\",\"Master\",\"Bachelor\",\"Bachelor\",\"Bachelor\",\"Master\",\"Master\",\"Bachelor\",\"Master\",\"Master\",\"Master\",\"College\",\"Below College\",\"Master\",\"Bachelor\",\"College\",\"Bachelor\",\"Bachelor\",\"Doctor\",\"Bachelor\",\"Master\",\"Bachelor\",\"Bachelor\",\"Master\",\"Bachelor\",\"College\",\"Master\",\"Master\",\"Bachelor\",\"Bachelor\",\"Bachelor\",\"Doctor\",\"Bachelor\",\"Bachelor\",\"College\",\"Bachelor\",\"College\",\"Bachelor\",\"Master\",\"Below College\",\"College\",\"Master\",\"Bachelor\",\"Below College\",\"Bachelor\",\"Doctor\",\"College\",\"Bachelor\",\"Bachelor\",\"Bachelor\",\"Master\",\"Bachelor\",\"Below College\",\"Below College\",\"College\",\"Bachelor\",\"Master\",\"Master\",\"College\",\"College\",\"Doctor\",\"Bachelor\",\"Master\",\"College\",\"Bachelor\",\"Bachelor\",\"Below College\",\"Master\",\"College\",\"Bachelor\",\"College\",\"College\",\"Bachelor\",\"Bachelor\",\"Master\",\"Master\",\"Bachelor\",\"Master\",\"College\",\"Master\",\"Bachelor\"],\"xaxis\":\"x\",\"yaxis\":\"y\",\"type\":\"histogram\"},{\"alignmentgroup\":\"True\",\"bingroup\":\"x\",\"hovertemplate\":\"Attrition=No\\u003cbr\\u003eEducation=%{x}\\u003cbr\\u003ecount=%{y}\\u003cextra\\u003e\\u003c\\u002fextra\\u003e\",\"legendgroup\":\"No\",\"marker\":{\"color\":\"darkblue\",\"pattern\":{\"shape\":\"\"}},\"name\":\"No\",\"offsetgroup\":\"No\",\"orientation\":\"v\",\"showlegend\":true,\"x\":[\"Below College\",\"Master\",\"Below College\",\"College\",\"Bachelor\",\"Below College\",\"Bachelor\",\"Bachelor\",\"Bachelor\",\"College\",\"Below College\",\"College\",\"Master\",\"College\",\"College\",\"Master\",\"Bachelor\",\"College\",\"Master\",\"College\",\"Bachelor\",\"Master\",\"Master\",\"Master\",\"Bachelor\",\"Master\",\"College\",\"College\",\"Bachelor\",\"Master\",\"Bachelor\",\"College\",\"Master\",\"Bachelor\",\"College\",\"Master\",\"College\",\"Master\",\"Below College\",\"Doctor\",\"College\",\"Bachelor\",\"College\",\"Doctor\",\"Master\",\"Master\",\"Master\",\"Bachelor\",\"Doctor\",\"College\",\"Bachelor\",\"Bachelor\",\"Bachelor\",\"Bachelor\",\"Bachelor\",\"Bachelor\",\"Below College\",\"Bachelor\",\"Master\",\"Bachelor\",\"Bachelor\",\"Master\",\"Master\",\"Master\",\"Master\",\"College\",\"Below College\",\"Bachelor\",\"College\",\"Bachelor\",\"College\",\"Bachelor\",\"Below College\",\"Master\",\"Bachelor\",\"Master\",\"Master\",\"College\",\"Bachelor\",\"Master\",\"Master\",\"College\",\"Bachelor\",\"Master\",\"Bachelor\",\"Below College\",\"Master\",\"College\",\"Master\",\"Bachelor\",\"Below College\",\"Bachelor\",\"Master\",\"Bachelor\",\"Below College\",\"Master\",\"Bachelor\",\"Bachelor\",\"College\",\"College\",\"College\",\"Bachelor\",\"College\",\"Bachelor\",\"Bachelor\",\"Below College\",\"Master\",\"Bachelor\",\"Bachelor\",\"Below College\",\"Below College\",\"College\",\"Master\",\"Bachelor\",\"Bachelor\",\"Bachelor\",\"Doctor\",\"Bachelor\",\"College\",\"Bachelor\",\"Below College\",\"Bachelor\",\"Master\",\"Below College\",\"Bachelor\",\"Doctor\",\"College\",\"Bachelor\",\"Bachelor\",\"Below College\",\"Master\",\"Bachelor\",\"Master\",\"Master\",\"Below College\",\"Bachelor\",\"Bachelor\",\"College\",\"Bachelor\",\"Bachelor\",\"Bachelor\",\"Bachelor\",\"Master\",\"Doctor\",\"Bachelor\",\"College\",\"Bachelor\",\"College\",\"Bachelor\",\"Bachelor\",\"College\",\"College\",\"Below College\",\"College\",\"Bachelor\",\"College\",\"Bachelor\",\"Below College\",\"Master\",\"Below College\",\"Bachelor\",\"Master\",\"Bachelor\",\"Bachelor\",\"College\",\"Bachelor\",\"Bachelor\",\"College\",\"Master\",\"Bachelor\",\"Below College\",\"Master\",\"Master\",\"College\",\"Bachelor\",\"Below College\",\"Doctor\",\"Master\",\"Below College\",\"Bachelor\",\"Master\",\"Bachelor\",\"Bachelor\",\"Bachelor\",\"College\",\"Master\",\"Bachelor\",\"Bachelor\",\"Master\",\"Bachelor\",\"Master\",\"Below College\",\"Bachelor\",\"Bachelor\",\"College\",\"College\",\"Master\",\"Bachelor\",\"Master\",\"College\",\"Master\",\"Master\",\"College\",\"College\",\"Bachelor\",\"Master\",\"Master\",\"Master\",\"College\",\"Master\",\"Master\",\"Bachelor\",\"College\",\"College\",\"Bachelor\",\"Bachelor\",\"College\",\"Bachelor\",\"Bachelor\",\"College\",\"Below College\",\"Bachelor\",\"Bachelor\",\"Bachelor\",\"College\",\"College\",\"Bachelor\",\"Bachelor\",\"Bachelor\",\"Master\",\"College\",\"Master\",\"Bachelor\",\"College\",\"Bachelor\",\"Below College\",\"Master\",\"Below College\",\"College\",\"College\",\"College\",\"Bachelor\",\"Master\",\"College\",\"Master\",\"Bachelor\",\"Bachelor\",\"Bachelor\",\"Bachelor\",\"Bachelor\",\"Master\",\"Bachelor\",\"Master\",\"Bachelor\",\"College\",\"Bachelor\",\"Bachelor\",\"Master\",\"Bachelor\",\"College\",\"Master\",\"Master\",\"Bachelor\",\"Bachelor\",\"Master\",\"Master\",\"Below College\",\"Master\",\"College\",\"Bachelor\",\"College\",\"Bachelor\",\"Bachelor\",\"Master\",\"College\",\"College\",\"College\",\"Bachelor\",\"Doctor\",\"Master\",\"Below College\",\"Master\",\"Bachelor\",\"Master\",\"College\",\"Doctor\",\"Bachelor\",\"Master\",\"College\",\"College\",\"Master\",\"Below College\",\"Master\",\"Below College\",\"Bachelor\",\"Below College\",\"Doctor\",\"Bachelor\",\"Below College\",\"Bachelor\",\"Below College\",\"Bachelor\",\"College\",\"Bachelor\",\"Master\",\"Doctor\",\"Master\",\"Master\",\"Master\",\"College\",\"Bachelor\",\"Master\",\"Bachelor\",\"Master\",\"Bachelor\",\"Master\",\"College\",\"Master\",\"Bachelor\",\"College\",\"Bachelor\",\"Bachelor\",\"Master\",\"Below College\",\"Bachelor\",\"College\",\"Bachelor\",\"College\",\"Master\",\"Master\",\"Bachelor\",\"Bachelor\",\"College\",\"Master\",\"College\",\"Bachelor\",\"Master\",\"College\",\"Doctor\",\"College\",\"Below College\",\"Bachelor\",\"Bachelor\",\"Bachelor\",\"College\",\"Bachelor\",\"College\",\"College\",\"College\",\"Bachelor\",\"Bachelor\",\"Bachelor\",\"Master\",\"College\",\"Master\",\"Bachelor\",\"Bachelor\",\"Master\",\"Master\",\"Bachelor\",\"Master\",\"Bachelor\",\"Bachelor\",\"College\",\"Bachelor\",\"Bachelor\",\"Master\",\"Master\",\"Bachelor\",\"Below College\",\"Below College\",\"Bachelor\",\"College\",\"Master\",\"Doctor\",\"Doctor\",\"College\",\"Bachelor\",\"Bachelor\",\"Below College\",\"Below College\",\"Bachelor\",\"Bachelor\",\"Bachelor\",\"Doctor\",\"Bachelor\",\"Bachelor\",\"Master\",\"College\",\"Bachelor\",\"Master\",\"Bachelor\",\"Below College\",\"Doctor\",\"Master\",\"College\",\"Bachelor\",\"Bachelor\",\"Master\",\"Master\",\"Bachelor\",\"College\",\"College\",\"Bachelor\",\"Below College\",\"College\",\"College\",\"Master\",\"Master\",\"Bachelor\",\"Bachelor\",\"Master\",\"Master\",\"Below College\",\"Doctor\",\"Master\",\"Master\",\"Bachelor\",\"Below College\",\"Master\",\"Below College\",\"Master\",\"Master\",\"Bachelor\",\"Below College\",\"Doctor\",\"Bachelor\",\"Bachelor\",\"College\",\"Master\",\"Bachelor\",\"Master\",\"College\",\"Master\",\"Bachelor\",\"Bachelor\",\"Bachelor\",\"Master\",\"Master\",\"Below College\",\"Below College\",\"College\",\"Below College\",\"Bachelor\",\"Master\",\"Bachelor\",\"Master\",\"College\",\"College\",\"Master\",\"Master\",\"Bachelor\",\"Master\",\"Master\",\"College\",\"Bachelor\",\"Master\",\"Bachelor\",\"Bachelor\",\"Bachelor\",\"Bachelor\",\"Doctor\",\"Bachelor\",\"Bachelor\",\"College\",\"Below College\",\"Bachelor\",\"Bachelor\",\"Below College\",\"Bachelor\",\"Bachelor\",\"Bachelor\",\"Master\",\"Master\",\"Doctor\",\"Doctor\",\"Master\",\"Below College\",\"College\",\"Below College\",\"Bachelor\",\"Master\",\"Master\",\"College\",\"Bachelor\",\"Master\",\"Master\",\"Below College\",\"Below College\",\"Master\",\"Master\",\"Master\",\"Bachelor\",\"College\",\"College\",\"Bachelor\",\"Bachelor\",\"Master\",\"Bachelor\",\"Bachelor\",\"College\",\"Bachelor\",\"College\",\"Master\",\"College\",\"Bachelor\",\"Bachelor\",\"Master\",\"Bachelor\",\"Bachelor\",\"Bachelor\",\"Bachelor\",\"Master\",\"College\",\"Below College\",\"Bachelor\",\"Master\",\"College\",\"Bachelor\",\"Master\",\"Bachelor\",\"Below College\",\"Bachelor\",\"Below College\",\"College\",\"Master\",\"Master\",\"College\",\"Bachelor\",\"College\",\"Master\",\"Master\",\"College\",\"College\",\"Master\",\"Below College\",\"Bachelor\",\"Below College\",\"Bachelor\",\"Bachelor\",\"Below College\",\"Bachelor\",\"Below College\",\"College\",\"Bachelor\",\"Bachelor\",\"Master\",\"Bachelor\",\"Bachelor\",\"College\",\"Master\",\"Bachelor\",\"College\",\"College\",\"Master\",\"Bachelor\",\"College\",\"Below College\",\"College\",\"Master\",\"Bachelor\",\"Below College\",\"Master\",\"Bachelor\",\"Bachelor\",\"Bachelor\",\"College\",\"Master\",\"Bachelor\",\"Master\",\"Below College\",\"College\",\"Master\",\"College\",\"Master\",\"Bachelor\",\"Bachelor\",\"Master\",\"Bachelor\",\"Bachelor\",\"Master\",\"Bachelor\",\"Master\",\"Master\",\"Bachelor\",\"College\",\"Bachelor\",\"Bachelor\",\"College\",\"College\",\"College\",\"Bachelor\",\"Master\",\"Doctor\",\"Master\",\"Master\",\"Bachelor\",\"Below College\",\"Master\",\"College\",\"Master\",\"Bachelor\",\"Master\",\"College\",\"College\",\"Bachelor\",\"Below College\",\"College\",\"Below College\",\"Below College\",\"College\",\"Bachelor\",\"Master\",\"College\",\"College\",\"Below College\",\"Bachelor\",\"Master\",\"College\",\"Below College\",\"Master\",\"Bachelor\",\"College\",\"Bachelor\",\"Bachelor\",\"Master\",\"Below College\",\"Master\",\"Bachelor\",\"Bachelor\",\"Bachelor\",\"Below College\",\"College\",\"Master\",\"Master\",\"College\",\"Master\",\"Bachelor\",\"Master\",\"Below College\",\"Master\",\"Master\",\"Bachelor\",\"Bachelor\",\"Below College\",\"Master\",\"Master\",\"Bachelor\",\"Doctor\",\"Below College\",\"Bachelor\",\"Master\",\"College\",\"Bachelor\",\"College\",\"Below College\",\"Master\",\"Doctor\",\"Below College\",\"Bachelor\",\"Bachelor\",\"College\",\"Below College\",\"Master\",\"College\",\"Bachelor\",\"Master\",\"Master\",\"Master\",\"Master\",\"Master\",\"Master\",\"Bachelor\",\"Below College\",\"College\",\"Bachelor\",\"Bachelor\",\"Below College\",\"Bachelor\",\"Master\",\"Bachelor\",\"Below College\",\"College\",\"Master\",\"College\",\"Bachelor\",\"Bachelor\",\"Below College\",\"Bachelor\",\"Bachelor\",\"Master\",\"College\",\"Bachelor\",\"Below College\",\"Master\",\"Master\",\"Master\",\"Master\",\"Bachelor\",\"Master\",\"Bachelor\",\"College\",\"Bachelor\",\"Bachelor\",\"Master\",\"Below College\",\"Master\",\"Below College\",\"College\",\"Bachelor\",\"Bachelor\",\"Bachelor\",\"College\",\"Below College\",\"Bachelor\",\"Bachelor\",\"Bachelor\",\"Master\",\"Master\",\"Bachelor\",\"Master\",\"College\",\"Master\",\"Bachelor\",\"Master\",\"Master\",\"Master\",\"Bachelor\",\"Master\",\"Doctor\",\"Master\",\"Bachelor\",\"College\",\"Bachelor\",\"Bachelor\",\"Bachelor\",\"Master\",\"Bachelor\",\"Doctor\",\"College\",\"Bachelor\",\"Master\",\"Below College\",\"Bachelor\",\"Bachelor\",\"College\",\"Bachelor\",\"Bachelor\",\"Bachelor\",\"College\",\"Bachelor\",\"College\",\"College\",\"Bachelor\",\"Bachelor\",\"Bachelor\",\"Bachelor\",\"Bachelor\",\"Doctor\",\"Bachelor\",\"College\",\"College\",\"Below College\",\"College\",\"Bachelor\",\"Bachelor\",\"Master\",\"Bachelor\",\"Master\",\"College\",\"Bachelor\",\"Below College\",\"Master\",\"Master\",\"Master\",\"Bachelor\",\"College\",\"College\",\"Bachelor\",\"Bachelor\",\"Bachelor\",\"Bachelor\",\"Master\",\"Master\",\"Bachelor\",\"Master\",\"College\",\"Bachelor\",\"Bachelor\",\"Master\",\"College\",\"Master\",\"College\",\"Below College\",\"College\",\"Master\",\"College\",\"Bachelor\",\"Bachelor\",\"Bachelor\",\"Master\",\"Bachelor\",\"College\",\"College\",\"Below College\",\"Master\",\"Bachelor\",\"Bachelor\",\"Bachelor\",\"College\",\"Bachelor\",\"Bachelor\",\"Below College\",\"Bachelor\",\"Below College\",\"Below College\",\"Bachelor\",\"Bachelor\",\"Master\",\"Bachelor\",\"Master\",\"Bachelor\",\"Bachelor\",\"Below College\",\"Below College\",\"Below College\",\"College\",\"Below College\",\"College\",\"Bachelor\",\"Bachelor\",\"Below College\",\"Bachelor\",\"Master\",\"Bachelor\",\"College\",\"Bachelor\",\"Bachelor\",\"Bachelor\",\"Bachelor\",\"Bachelor\",\"Master\",\"Master\",\"Master\",\"Doctor\",\"Master\",\"Below College\",\"Master\",\"Master\",\"Bachelor\",\"College\",\"College\",\"Master\",\"Below College\",\"Doctor\",\"Bachelor\",\"Doctor\",\"Master\",\"College\",\"Bachelor\",\"College\",\"Bachelor\",\"Bachelor\",\"Below College\",\"Bachelor\",\"Bachelor\",\"Bachelor\",\"Master\",\"Bachelor\",\"Bachelor\",\"Bachelor\",\"Bachelor\",\"Below College\",\"College\",\"Doctor\",\"Bachelor\",\"College\",\"Master\",\"Bachelor\",\"Below College\",\"College\",\"Below College\",\"Bachelor\",\"Bachelor\",\"Master\",\"Master\",\"Bachelor\",\"Bachelor\",\"Bachelor\",\"College\",\"Below College\",\"Below College\",\"Doctor\",\"Bachelor\",\"Master\",\"Bachelor\",\"Bachelor\",\"Bachelor\",\"Bachelor\",\"Below College\",\"Bachelor\",\"Doctor\",\"College\",\"Bachelor\",\"Bachelor\",\"Below College\",\"Bachelor\",\"Bachelor\",\"Bachelor\",\"College\",\"Master\",\"College\",\"College\",\"College\",\"Master\",\"Master\",\"College\",\"Master\",\"Master\",\"Bachelor\",\"Master\",\"Master\",\"Bachelor\",\"Master\",\"Master\",\"Master\",\"Master\",\"Doctor\",\"Master\",\"Bachelor\",\"Bachelor\",\"Bachelor\",\"Master\",\"Below College\",\"Master\",\"Bachelor\",\"Below College\",\"Bachelor\",\"Bachelor\",\"Master\",\"College\",\"Bachelor\",\"Master\",\"College\",\"Bachelor\",\"College\",\"Master\",\"College\",\"Doctor\",\"Master\",\"Bachelor\",\"Bachelor\",\"Doctor\",\"Bachelor\",\"Master\",\"Master\",\"Master\",\"Master\",\"Doctor\",\"Bachelor\",\"Doctor\",\"Bachelor\",\"Below College\",\"Master\",\"College\",\"Bachelor\",\"Master\",\"Bachelor\",\"Bachelor\",\"College\",\"College\",\"Bachelor\",\"Bachelor\",\"Doctor\",\"Doctor\",\"Below College\",\"Bachelor\",\"Bachelor\",\"Bachelor\",\"Master\",\"Below College\",\"Bachelor\",\"Master\",\"Doctor\",\"Bachelor\",\"Bachelor\",\"Bachelor\",\"Below College\",\"Master\",\"College\",\"Doctor\",\"College\",\"Bachelor\",\"Bachelor\",\"Master\",\"Bachelor\",\"Master\",\"Bachelor\",\"Bachelor\",\"Master\",\"Bachelor\",\"College\",\"Below College\",\"Bachelor\",\"Master\",\"Bachelor\",\"College\",\"Master\",\"Bachelor\",\"Bachelor\",\"College\",\"Master\",\"Bachelor\",\"Master\",\"Bachelor\",\"Bachelor\",\"Master\",\"Bachelor\",\"Bachelor\",\"Bachelor\",\"Master\",\"Master\",\"Below College\",\"Master\",\"College\",\"Bachelor\",\"Master\",\"Bachelor\",\"College\",\"Below College\",\"Master\",\"Master\",\"Below College\",\"Master\",\"Bachelor\",\"Below College\",\"Below College\",\"Bachelor\",\"Bachelor\",\"Master\",\"Bachelor\",\"Master\",\"Bachelor\",\"Bachelor\",\"Bachelor\",\"Bachelor\",\"College\",\"Master\",\"Bachelor\",\"Master\",\"College\",\"Bachelor\",\"Bachelor\",\"Master\",\"Bachelor\",\"Bachelor\",\"Bachelor\",\"Bachelor\",\"Master\",\"Bachelor\",\"Master\",\"Bachelor\",\"College\",\"College\",\"Master\",\"Bachelor\",\"College\",\"Master\",\"Bachelor\",\"College\",\"Master\",\"Bachelor\",\"Below College\",\"College\",\"College\",\"Bachelor\",\"College\",\"Bachelor\",\"Bachelor\",\"Bachelor\",\"Bachelor\",\"Below College\",\"Bachelor\",\"Bachelor\",\"College\",\"Bachelor\",\"Master\",\"Bachelor\",\"Bachelor\",\"Master\",\"Master\",\"Bachelor\",\"Master\",\"Bachelor\",\"Master\",\"Bachelor\",\"Master\",\"Master\",\"Master\",\"College\",\"Below College\",\"Master\",\"Master\",\"Master\",\"College\",\"College\",\"Below College\",\"Bachelor\",\"Bachelor\",\"Below College\",\"Below College\",\"Bachelor\",\"Bachelor\",\"Bachelor\",\"Master\",\"Master\",\"Bachelor\",\"Master\",\"Bachelor\",\"Bachelor\",\"Bachelor\",\"Master\",\"College\",\"College\",\"Below College\",\"Master\",\"College\",\"College\",\"Bachelor\",\"Master\",\"College\",\"Bachelor\",\"Bachelor\",\"College\",\"Below College\",\"Bachelor\",\"Bachelor\",\"Master\",\"Master\",\"College\",\"Master\",\"Master\",\"Master\",\"Master\",\"Doctor\",\"College\",\"Bachelor\",\"Bachelor\",\"College\",\"Below College\",\"Master\",\"Master\",\"Bachelor\",\"College\",\"Master\",\"Bachelor\",\"Master\",\"Bachelor\",\"Bachelor\",\"Master\",\"Bachelor\",\"Bachelor\",\"Master\",\"Bachelor\",\"Master\",\"College\",\"College\",\"Bachelor\",\"Master\",\"Master\",\"Below College\",\"Master\",\"College\",\"Bachelor\",\"Bachelor\",\"College\",\"College\",\"Bachelor\",\"College\",\"Bachelor\",\"College\",\"Below College\",\"Bachelor\",\"College\",\"Master\",\"College\",\"Master\",\"Master\",\"Bachelor\",\"Below College\",\"Master\",\"College\",\"Master\",\"College\",\"Master\",\"Master\",\"Master\",\"Below College\",\"Bachelor\",\"Master\",\"Bachelor\",\"College\",\"Master\",\"Bachelor\",\"Below College\",\"Bachelor\",\"Bachelor\",\"College\",\"Master\",\"Bachelor\",\"Master\",\"Bachelor\",\"Master\",\"Bachelor\",\"Bachelor\",\"Master\",\"College\",\"Master\",\"Bachelor\",\"Master\",\"Master\",\"Master\",\"Master\",\"College\",\"Master\",\"Below College\",\"Bachelor\",\"Bachelor\",\"College\",\"Below College\",\"Bachelor\",\"Bachelor\",\"Bachelor\"],\"xaxis\":\"x\",\"yaxis\":\"y\",\"type\":\"histogram\"}],                        {\"template\":{\"data\":{\"histogram2dcontour\":[{\"type\":\"histogram2dcontour\",\"colorbar\":{\"outlinewidth\":0,\"ticks\":\"\"},\"colorscale\":[[0.0,\"#0d0887\"],[0.1111111111111111,\"#46039f\"],[0.2222222222222222,\"#7201a8\"],[0.3333333333333333,\"#9c179e\"],[0.4444444444444444,\"#bd3786\"],[0.5555555555555556,\"#d8576b\"],[0.6666666666666666,\"#ed7953\"],[0.7777777777777778,\"#fb9f3a\"],[0.8888888888888888,\"#fdca26\"],[1.0,\"#f0f921\"]]}],\"choropleth\":[{\"type\":\"choropleth\",\"colorbar\":{\"outlinewidth\":0,\"ticks\":\"\"}}],\"histogram2d\":[{\"type\":\"histogram2d\",\"colorbar\":{\"outlinewidth\":0,\"ticks\":\"\"},\"colorscale\":[[0.0,\"#0d0887\"],[0.1111111111111111,\"#46039f\"],[0.2222222222222222,\"#7201a8\"],[0.3333333333333333,\"#9c179e\"],[0.4444444444444444,\"#bd3786\"],[0.5555555555555556,\"#d8576b\"],[0.6666666666666666,\"#ed7953\"],[0.7777777777777778,\"#fb9f3a\"],[0.8888888888888888,\"#fdca26\"],[1.0,\"#f0f921\"]]}],\"heatmap\":[{\"type\":\"heatmap\",\"colorbar\":{\"outlinewidth\":0,\"ticks\":\"\"},\"colorscale\":[[0.0,\"#0d0887\"],[0.1111111111111111,\"#46039f\"],[0.2222222222222222,\"#7201a8\"],[0.3333333333333333,\"#9c179e\"],[0.4444444444444444,\"#bd3786\"],[0.5555555555555556,\"#d8576b\"],[0.6666666666666666,\"#ed7953\"],[0.7777777777777778,\"#fb9f3a\"],[0.8888888888888888,\"#fdca26\"],[1.0,\"#f0f921\"]]}],\"heatmapgl\":[{\"type\":\"heatmapgl\",\"colorbar\":{\"outlinewidth\":0,\"ticks\":\"\"},\"colorscale\":[[0.0,\"#0d0887\"],[0.1111111111111111,\"#46039f\"],[0.2222222222222222,\"#7201a8\"],[0.3333333333333333,\"#9c179e\"],[0.4444444444444444,\"#bd3786\"],[0.5555555555555556,\"#d8576b\"],[0.6666666666666666,\"#ed7953\"],[0.7777777777777778,\"#fb9f3a\"],[0.8888888888888888,\"#fdca26\"],[1.0,\"#f0f921\"]]}],\"contourcarpet\":[{\"type\":\"contourcarpet\",\"colorbar\":{\"outlinewidth\":0,\"ticks\":\"\"}}],\"contour\":[{\"type\":\"contour\",\"colorbar\":{\"outlinewidth\":0,\"ticks\":\"\"},\"colorscale\":[[0.0,\"#0d0887\"],[0.1111111111111111,\"#46039f\"],[0.2222222222222222,\"#7201a8\"],[0.3333333333333333,\"#9c179e\"],[0.4444444444444444,\"#bd3786\"],[0.5555555555555556,\"#d8576b\"],[0.6666666666666666,\"#ed7953\"],[0.7777777777777778,\"#fb9f3a\"],[0.8888888888888888,\"#fdca26\"],[1.0,\"#f0f921\"]]}],\"surface\":[{\"type\":\"surface\",\"colorbar\":{\"outlinewidth\":0,\"ticks\":\"\"},\"colorscale\":[[0.0,\"#0d0887\"],[0.1111111111111111,\"#46039f\"],[0.2222222222222222,\"#7201a8\"],[0.3333333333333333,\"#9c179e\"],[0.4444444444444444,\"#bd3786\"],[0.5555555555555556,\"#d8576b\"],[0.6666666666666666,\"#ed7953\"],[0.7777777777777778,\"#fb9f3a\"],[0.8888888888888888,\"#fdca26\"],[1.0,\"#f0f921\"]]}],\"mesh3d\":[{\"type\":\"mesh3d\",\"colorbar\":{\"outlinewidth\":0,\"ticks\":\"\"}}],\"scatter\":[{\"fillpattern\":{\"fillmode\":\"overlay\",\"size\":10,\"solidity\":0.2},\"type\":\"scatter\"}],\"parcoords\":[{\"type\":\"parcoords\",\"line\":{\"colorbar\":{\"outlinewidth\":0,\"ticks\":\"\"}}}],\"scatterpolargl\":[{\"type\":\"scatterpolargl\",\"marker\":{\"colorbar\":{\"outlinewidth\":0,\"ticks\":\"\"}}}],\"bar\":[{\"error_x\":{\"color\":\"#2a3f5f\"},\"error_y\":{\"color\":\"#2a3f5f\"},\"marker\":{\"line\":{\"color\":\"#E5ECF6\",\"width\":0.5},\"pattern\":{\"fillmode\":\"overlay\",\"size\":10,\"solidity\":0.2}},\"type\":\"bar\"}],\"scattergeo\":[{\"type\":\"scattergeo\",\"marker\":{\"colorbar\":{\"outlinewidth\":0,\"ticks\":\"\"}}}],\"scatterpolar\":[{\"type\":\"scatterpolar\",\"marker\":{\"colorbar\":{\"outlinewidth\":0,\"ticks\":\"\"}}}],\"histogram\":[{\"marker\":{\"pattern\":{\"fillmode\":\"overlay\",\"size\":10,\"solidity\":0.2}},\"type\":\"histogram\"}],\"scattergl\":[{\"type\":\"scattergl\",\"marker\":{\"colorbar\":{\"outlinewidth\":0,\"ticks\":\"\"}}}],\"scatter3d\":[{\"type\":\"scatter3d\",\"line\":{\"colorbar\":{\"outlinewidth\":0,\"ticks\":\"\"}},\"marker\":{\"colorbar\":{\"outlinewidth\":0,\"ticks\":\"\"}}}],\"scattermapbox\":[{\"type\":\"scattermapbox\",\"marker\":{\"colorbar\":{\"outlinewidth\":0,\"ticks\":\"\"}}}],\"scatterternary\":[{\"type\":\"scatterternary\",\"marker\":{\"colorbar\":{\"outlinewidth\":0,\"ticks\":\"\"}}}],\"scattercarpet\":[{\"type\":\"scattercarpet\",\"marker\":{\"colorbar\":{\"outlinewidth\":0,\"ticks\":\"\"}}}],\"carpet\":[{\"aaxis\":{\"endlinecolor\":\"#2a3f5f\",\"gridcolor\":\"white\",\"linecolor\":\"white\",\"minorgridcolor\":\"white\",\"startlinecolor\":\"#2a3f5f\"},\"baxis\":{\"endlinecolor\":\"#2a3f5f\",\"gridcolor\":\"white\",\"linecolor\":\"white\",\"minorgridcolor\":\"white\",\"startlinecolor\":\"#2a3f5f\"},\"type\":\"carpet\"}],\"table\":[{\"cells\":{\"fill\":{\"color\":\"#EBF0F8\"},\"line\":{\"color\":\"white\"}},\"header\":{\"fill\":{\"color\":\"#C8D4E3\"},\"line\":{\"color\":\"white\"}},\"type\":\"table\"}],\"barpolar\":[{\"marker\":{\"line\":{\"color\":\"#E5ECF6\",\"width\":0.5},\"pattern\":{\"fillmode\":\"overlay\",\"size\":10,\"solidity\":0.2}},\"type\":\"barpolar\"}],\"pie\":[{\"automargin\":true,\"type\":\"pie\"}]},\"layout\":{\"autotypenumbers\":\"strict\",\"colorway\":[\"#636efa\",\"#EF553B\",\"#00cc96\",\"#ab63fa\",\"#FFA15A\",\"#19d3f3\",\"#FF6692\",\"#B6E880\",\"#FF97FF\",\"#FECB52\"],\"font\":{\"color\":\"#2a3f5f\"},\"hovermode\":\"closest\",\"hoverlabel\":{\"align\":\"left\"},\"paper_bgcolor\":\"white\",\"plot_bgcolor\":\"#E5ECF6\",\"polar\":{\"bgcolor\":\"#E5ECF6\",\"angularaxis\":{\"gridcolor\":\"white\",\"linecolor\":\"white\",\"ticks\":\"\"},\"radialaxis\":{\"gridcolor\":\"white\",\"linecolor\":\"white\",\"ticks\":\"\"}},\"ternary\":{\"bgcolor\":\"#E5ECF6\",\"aaxis\":{\"gridcolor\":\"white\",\"linecolor\":\"white\",\"ticks\":\"\"},\"baxis\":{\"gridcolor\":\"white\",\"linecolor\":\"white\",\"ticks\":\"\"},\"caxis\":{\"gridcolor\":\"white\",\"linecolor\":\"white\",\"ticks\":\"\"}},\"coloraxis\":{\"colorbar\":{\"outlinewidth\":0,\"ticks\":\"\"}},\"colorscale\":{\"sequential\":[[0.0,\"#0d0887\"],[0.1111111111111111,\"#46039f\"],[0.2222222222222222,\"#7201a8\"],[0.3333333333333333,\"#9c179e\"],[0.4444444444444444,\"#bd3786\"],[0.5555555555555556,\"#d8576b\"],[0.6666666666666666,\"#ed7953\"],[0.7777777777777778,\"#fb9f3a\"],[0.8888888888888888,\"#fdca26\"],[1.0,\"#f0f921\"]],\"sequentialminus\":[[0.0,\"#0d0887\"],[0.1111111111111111,\"#46039f\"],[0.2222222222222222,\"#7201a8\"],[0.3333333333333333,\"#9c179e\"],[0.4444444444444444,\"#bd3786\"],[0.5555555555555556,\"#d8576b\"],[0.6666666666666666,\"#ed7953\"],[0.7777777777777778,\"#fb9f3a\"],[0.8888888888888888,\"#fdca26\"],[1.0,\"#f0f921\"]],\"diverging\":[[0,\"#8e0152\"],[0.1,\"#c51b7d\"],[0.2,\"#de77ae\"],[0.3,\"#f1b6da\"],[0.4,\"#fde0ef\"],[0.5,\"#f7f7f7\"],[0.6,\"#e6f5d0\"],[0.7,\"#b8e186\"],[0.8,\"#7fbc41\"],[0.9,\"#4d9221\"],[1,\"#276419\"]]},\"xaxis\":{\"gridcolor\":\"white\",\"linecolor\":\"white\",\"ticks\":\"\",\"title\":{\"standoff\":15},\"zerolinecolor\":\"white\",\"automargin\":true,\"zerolinewidth\":2},\"yaxis\":{\"gridcolor\":\"white\",\"linecolor\":\"white\",\"ticks\":\"\",\"title\":{\"standoff\":15},\"zerolinecolor\":\"white\",\"automargin\":true,\"zerolinewidth\":2},\"scene\":{\"xaxis\":{\"backgroundcolor\":\"#E5ECF6\",\"gridcolor\":\"white\",\"linecolor\":\"white\",\"showbackground\":true,\"ticks\":\"\",\"zerolinecolor\":\"white\",\"gridwidth\":2},\"yaxis\":{\"backgroundcolor\":\"#E5ECF6\",\"gridcolor\":\"white\",\"linecolor\":\"white\",\"showbackground\":true,\"ticks\":\"\",\"zerolinecolor\":\"white\",\"gridwidth\":2},\"zaxis\":{\"backgroundcolor\":\"#E5ECF6\",\"gridcolor\":\"white\",\"linecolor\":\"white\",\"showbackground\":true,\"ticks\":\"\",\"zerolinecolor\":\"white\",\"gridwidth\":2}},\"shapedefaults\":{\"line\":{\"color\":\"#2a3f5f\"}},\"annotationdefaults\":{\"arrowcolor\":\"#2a3f5f\",\"arrowhead\":0,\"arrowwidth\":1},\"geo\":{\"bgcolor\":\"white\",\"landcolor\":\"#E5ECF6\",\"subunitcolor\":\"white\",\"showland\":true,\"showlakes\":true,\"lakecolor\":\"white\"},\"title\":{\"x\":0.05},\"mapbox\":{\"style\":\"light\"}}},\"xaxis\":{\"anchor\":\"y\",\"domain\":[0.0,1.0],\"title\":{\"text\":\"Education\"}},\"yaxis\":{\"anchor\":\"x\",\"domain\":[0.0,1.0],\"title\":{\"text\":\"count\"}},\"legend\":{\"title\":{\"text\":\"Attrition\"},\"tracegroupgap\":0},\"margin\":{\"t\":60},\"barmode\":\"group\"},                        {\"responsive\": true}                    ).then(function(){\n",
              "                            \n",
              "var gd = document.getElementById('cf1a42f8-c430-4411-b303-84cf8513cb0b');\n",
              "var x = new MutationObserver(function (mutations, observer) {{\n",
              "        var display = window.getComputedStyle(gd).display;\n",
              "        if (!display || display === 'none') {{\n",
              "            console.log([gd, 'removed!']);\n",
              "            Plotly.purge(gd);\n",
              "            observer.disconnect();\n",
              "        }}\n",
              "}});\n",
              "\n",
              "// Listen for the removal of the full notebook cells\n",
              "var notebookContainer = gd.closest('#notebook-container');\n",
              "if (notebookContainer) {{\n",
              "    x.observe(notebookContainer, {childList: true});\n",
              "}}\n",
              "\n",
              "// Listen for the clearing of the current output cell\n",
              "var outputEl = gd.closest('.output');\n",
              "if (outputEl) {{\n",
              "    x.observe(outputEl, {childList: true});\n",
              "}}\n",
              "\n",
              "                        })                };                            </script>        </div>\n",
              "</body>\n",
              "</html>"
            ]
          },
          "metadata": {}
        }
      ]
    },
    {
      "cell_type": "markdown",
      "source": [
        "**Insight:** Employees who has only a bachelors degree are highly prone to attrition, compared to others."
      ],
      "metadata": {
        "id": "qG3XOGsqgyNb"
      }
    },
    {
      "cell_type": "code",
      "source": [
        "# Monthly Income by Education Field\n",
        "fig1 = px.bar(df.groupby(\"EducationField\")[\"MonthlyIncome\"].mean().reset_index().sort_values(by=\"MonthlyIncome\", ascending=False),\n",
        "              x=\"EducationField\", y=\"MonthlyIncome\", color=\"EducationField\",\n",
        "              title=\"Average Monthly Income by Education Field\")\n",
        "fig1.show()"
      ],
      "metadata": {
        "colab": {
          "base_uri": "https://localhost:8080/",
          "height": 542
        },
        "id": "ZKTJIGaCsMLo",
        "outputId": "a7590403-8290-4093-832f-f51fe0f5cf7c"
      },
      "execution_count": null,
      "outputs": [
        {
          "output_type": "display_data",
          "data": {
            "text/html": [
              "<html>\n",
              "<head><meta charset=\"utf-8\" /></head>\n",
              "<body>\n",
              "    <div>            <script src=\"https://cdnjs.cloudflare.com/ajax/libs/mathjax/2.7.5/MathJax.js?config=TeX-AMS-MML_SVG\"></script><script type=\"text/javascript\">if (window.MathJax && window.MathJax.Hub && window.MathJax.Hub.Config) {window.MathJax.Hub.Config({SVG: {font: \"STIX-Web\"}});}</script>                <script type=\"text/javascript\">window.PlotlyConfig = {MathJaxConfig: 'local'};</script>\n",
              "        <script charset=\"utf-8\" src=\"https://cdn.plot.ly/plotly-2.35.2.min.js\"></script>                <div id=\"d7250e58-4d0b-47ce-abb5-32df3bc125e6\" class=\"plotly-graph-div\" style=\"height:525px; width:100%;\"></div>            <script type=\"text/javascript\">                                    window.PLOTLYENV=window.PLOTLYENV || {};                                    if (document.getElementById(\"d7250e58-4d0b-47ce-abb5-32df3bc125e6\")) {                    Plotly.newPlot(                        \"d7250e58-4d0b-47ce-abb5-32df3bc125e6\",                        [{\"alignmentgroup\":\"True\",\"hovertemplate\":\"EducationField=%{x}\\u003cbr\\u003eMonthlyIncome=%{y}\\u003cextra\\u003e\\u003c\\u002fextra\\u003e\",\"legendgroup\":\"Marketing\",\"marker\":{\"color\":\"#636efa\",\"pattern\":{\"shape\":\"\"}},\"name\":\"Marketing\",\"offsetgroup\":\"Marketing\",\"orientation\":\"v\",\"showlegend\":true,\"textposition\":\"auto\",\"x\":[\"Marketing\"],\"xaxis\":\"x\",\"y\":[7348.584905660377],\"yaxis\":\"y\",\"type\":\"bar\"},{\"alignmentgroup\":\"True\",\"hovertemplate\":\"EducationField=%{x}\\u003cbr\\u003eMonthlyIncome=%{y}\\u003cextra\\u003e\\u003c\\u002fextra\\u003e\",\"legendgroup\":\"Human Resources\",\"marker\":{\"color\":\"#EF553B\",\"pattern\":{\"shape\":\"\"}},\"name\":\"Human Resources\",\"offsetgroup\":\"Human Resources\",\"orientation\":\"v\",\"showlegend\":true,\"textposition\":\"auto\",\"x\":[\"Human Resources\"],\"xaxis\":\"x\",\"y\":[7241.148148148148],\"yaxis\":\"y\",\"type\":\"bar\"},{\"alignmentgroup\":\"True\",\"hovertemplate\":\"EducationField=%{x}\\u003cbr\\u003eMonthlyIncome=%{y}\\u003cextra\\u003e\\u003c\\u002fextra\\u003e\",\"legendgroup\":\"Medical\",\"marker\":{\"color\":\"#00cc96\",\"pattern\":{\"shape\":\"\"}},\"name\":\"Medical\",\"offsetgroup\":\"Medical\",\"orientation\":\"v\",\"showlegend\":true,\"textposition\":\"auto\",\"x\":[\"Medical\"],\"xaxis\":\"x\",\"y\":[6510.036637931034],\"yaxis\":\"y\",\"type\":\"bar\"},{\"alignmentgroup\":\"True\",\"hovertemplate\":\"EducationField=%{x}\\u003cbr\\u003eMonthlyIncome=%{y}\\u003cextra\\u003e\\u003c\\u002fextra\\u003e\",\"legendgroup\":\"Life Sciences\",\"marker\":{\"color\":\"#ab63fa\",\"pattern\":{\"shape\":\"\"}},\"name\":\"Life Sciences\",\"offsetgroup\":\"Life Sciences\",\"orientation\":\"v\",\"showlegend\":true,\"textposition\":\"auto\",\"x\":[\"Life Sciences\"],\"xaxis\":\"x\",\"y\":[6463.288778877888],\"yaxis\":\"y\",\"type\":\"bar\"},{\"alignmentgroup\":\"True\",\"hovertemplate\":\"EducationField=%{x}\\u003cbr\\u003eMonthlyIncome=%{y}\\u003cextra\\u003e\\u003c\\u002fextra\\u003e\",\"legendgroup\":\"Other\",\"marker\":{\"color\":\"#FFA15A\",\"pattern\":{\"shape\":\"\"}},\"name\":\"Other\",\"offsetgroup\":\"Other\",\"orientation\":\"v\",\"showlegend\":true,\"textposition\":\"auto\",\"x\":[\"Other\"],\"xaxis\":\"x\",\"y\":[6071.548780487805],\"yaxis\":\"y\",\"type\":\"bar\"},{\"alignmentgroup\":\"True\",\"hovertemplate\":\"EducationField=%{x}\\u003cbr\\u003eMonthlyIncome=%{y}\\u003cextra\\u003e\\u003c\\u002fextra\\u003e\",\"legendgroup\":\"Technical Degree\",\"marker\":{\"color\":\"#19d3f3\",\"pattern\":{\"shape\":\"\"}},\"name\":\"Technical Degree\",\"offsetgroup\":\"Technical Degree\",\"orientation\":\"v\",\"showlegend\":true,\"textposition\":\"auto\",\"x\":[\"Technical Degree\"],\"xaxis\":\"x\",\"y\":[5758.30303030303],\"yaxis\":\"y\",\"type\":\"bar\"}],                        {\"template\":{\"data\":{\"histogram2dcontour\":[{\"type\":\"histogram2dcontour\",\"colorbar\":{\"outlinewidth\":0,\"ticks\":\"\"},\"colorscale\":[[0.0,\"#0d0887\"],[0.1111111111111111,\"#46039f\"],[0.2222222222222222,\"#7201a8\"],[0.3333333333333333,\"#9c179e\"],[0.4444444444444444,\"#bd3786\"],[0.5555555555555556,\"#d8576b\"],[0.6666666666666666,\"#ed7953\"],[0.7777777777777778,\"#fb9f3a\"],[0.8888888888888888,\"#fdca26\"],[1.0,\"#f0f921\"]]}],\"choropleth\":[{\"type\":\"choropleth\",\"colorbar\":{\"outlinewidth\":0,\"ticks\":\"\"}}],\"histogram2d\":[{\"type\":\"histogram2d\",\"colorbar\":{\"outlinewidth\":0,\"ticks\":\"\"},\"colorscale\":[[0.0,\"#0d0887\"],[0.1111111111111111,\"#46039f\"],[0.2222222222222222,\"#7201a8\"],[0.3333333333333333,\"#9c179e\"],[0.4444444444444444,\"#bd3786\"],[0.5555555555555556,\"#d8576b\"],[0.6666666666666666,\"#ed7953\"],[0.7777777777777778,\"#fb9f3a\"],[0.8888888888888888,\"#fdca26\"],[1.0,\"#f0f921\"]]}],\"heatmap\":[{\"type\":\"heatmap\",\"colorbar\":{\"outlinewidth\":0,\"ticks\":\"\"},\"colorscale\":[[0.0,\"#0d0887\"],[0.1111111111111111,\"#46039f\"],[0.2222222222222222,\"#7201a8\"],[0.3333333333333333,\"#9c179e\"],[0.4444444444444444,\"#bd3786\"],[0.5555555555555556,\"#d8576b\"],[0.6666666666666666,\"#ed7953\"],[0.7777777777777778,\"#fb9f3a\"],[0.8888888888888888,\"#fdca26\"],[1.0,\"#f0f921\"]]}],\"heatmapgl\":[{\"type\":\"heatmapgl\",\"colorbar\":{\"outlinewidth\":0,\"ticks\":\"\"},\"colorscale\":[[0.0,\"#0d0887\"],[0.1111111111111111,\"#46039f\"],[0.2222222222222222,\"#7201a8\"],[0.3333333333333333,\"#9c179e\"],[0.4444444444444444,\"#bd3786\"],[0.5555555555555556,\"#d8576b\"],[0.6666666666666666,\"#ed7953\"],[0.7777777777777778,\"#fb9f3a\"],[0.8888888888888888,\"#fdca26\"],[1.0,\"#f0f921\"]]}],\"contourcarpet\":[{\"type\":\"contourcarpet\",\"colorbar\":{\"outlinewidth\":0,\"ticks\":\"\"}}],\"contour\":[{\"type\":\"contour\",\"colorbar\":{\"outlinewidth\":0,\"ticks\":\"\"},\"colorscale\":[[0.0,\"#0d0887\"],[0.1111111111111111,\"#46039f\"],[0.2222222222222222,\"#7201a8\"],[0.3333333333333333,\"#9c179e\"],[0.4444444444444444,\"#bd3786\"],[0.5555555555555556,\"#d8576b\"],[0.6666666666666666,\"#ed7953\"],[0.7777777777777778,\"#fb9f3a\"],[0.8888888888888888,\"#fdca26\"],[1.0,\"#f0f921\"]]}],\"surface\":[{\"type\":\"surface\",\"colorbar\":{\"outlinewidth\":0,\"ticks\":\"\"},\"colorscale\":[[0.0,\"#0d0887\"],[0.1111111111111111,\"#46039f\"],[0.2222222222222222,\"#7201a8\"],[0.3333333333333333,\"#9c179e\"],[0.4444444444444444,\"#bd3786\"],[0.5555555555555556,\"#d8576b\"],[0.6666666666666666,\"#ed7953\"],[0.7777777777777778,\"#fb9f3a\"],[0.8888888888888888,\"#fdca26\"],[1.0,\"#f0f921\"]]}],\"mesh3d\":[{\"type\":\"mesh3d\",\"colorbar\":{\"outlinewidth\":0,\"ticks\":\"\"}}],\"scatter\":[{\"fillpattern\":{\"fillmode\":\"overlay\",\"size\":10,\"solidity\":0.2},\"type\":\"scatter\"}],\"parcoords\":[{\"type\":\"parcoords\",\"line\":{\"colorbar\":{\"outlinewidth\":0,\"ticks\":\"\"}}}],\"scatterpolargl\":[{\"type\":\"scatterpolargl\",\"marker\":{\"colorbar\":{\"outlinewidth\":0,\"ticks\":\"\"}}}],\"bar\":[{\"error_x\":{\"color\":\"#2a3f5f\"},\"error_y\":{\"color\":\"#2a3f5f\"},\"marker\":{\"line\":{\"color\":\"#E5ECF6\",\"width\":0.5},\"pattern\":{\"fillmode\":\"overlay\",\"size\":10,\"solidity\":0.2}},\"type\":\"bar\"}],\"scattergeo\":[{\"type\":\"scattergeo\",\"marker\":{\"colorbar\":{\"outlinewidth\":0,\"ticks\":\"\"}}}],\"scatterpolar\":[{\"type\":\"scatterpolar\",\"marker\":{\"colorbar\":{\"outlinewidth\":0,\"ticks\":\"\"}}}],\"histogram\":[{\"marker\":{\"pattern\":{\"fillmode\":\"overlay\",\"size\":10,\"solidity\":0.2}},\"type\":\"histogram\"}],\"scattergl\":[{\"type\":\"scattergl\",\"marker\":{\"colorbar\":{\"outlinewidth\":0,\"ticks\":\"\"}}}],\"scatter3d\":[{\"type\":\"scatter3d\",\"line\":{\"colorbar\":{\"outlinewidth\":0,\"ticks\":\"\"}},\"marker\":{\"colorbar\":{\"outlinewidth\":0,\"ticks\":\"\"}}}],\"scattermapbox\":[{\"type\":\"scattermapbox\",\"marker\":{\"colorbar\":{\"outlinewidth\":0,\"ticks\":\"\"}}}],\"scatterternary\":[{\"type\":\"scatterternary\",\"marker\":{\"colorbar\":{\"outlinewidth\":0,\"ticks\":\"\"}}}],\"scattercarpet\":[{\"type\":\"scattercarpet\",\"marker\":{\"colorbar\":{\"outlinewidth\":0,\"ticks\":\"\"}}}],\"carpet\":[{\"aaxis\":{\"endlinecolor\":\"#2a3f5f\",\"gridcolor\":\"white\",\"linecolor\":\"white\",\"minorgridcolor\":\"white\",\"startlinecolor\":\"#2a3f5f\"},\"baxis\":{\"endlinecolor\":\"#2a3f5f\",\"gridcolor\":\"white\",\"linecolor\":\"white\",\"minorgridcolor\":\"white\",\"startlinecolor\":\"#2a3f5f\"},\"type\":\"carpet\"}],\"table\":[{\"cells\":{\"fill\":{\"color\":\"#EBF0F8\"},\"line\":{\"color\":\"white\"}},\"header\":{\"fill\":{\"color\":\"#C8D4E3\"},\"line\":{\"color\":\"white\"}},\"type\":\"table\"}],\"barpolar\":[{\"marker\":{\"line\":{\"color\":\"#E5ECF6\",\"width\":0.5},\"pattern\":{\"fillmode\":\"overlay\",\"size\":10,\"solidity\":0.2}},\"type\":\"barpolar\"}],\"pie\":[{\"automargin\":true,\"type\":\"pie\"}]},\"layout\":{\"autotypenumbers\":\"strict\",\"colorway\":[\"#636efa\",\"#EF553B\",\"#00cc96\",\"#ab63fa\",\"#FFA15A\",\"#19d3f3\",\"#FF6692\",\"#B6E880\",\"#FF97FF\",\"#FECB52\"],\"font\":{\"color\":\"#2a3f5f\"},\"hovermode\":\"closest\",\"hoverlabel\":{\"align\":\"left\"},\"paper_bgcolor\":\"white\",\"plot_bgcolor\":\"#E5ECF6\",\"polar\":{\"bgcolor\":\"#E5ECF6\",\"angularaxis\":{\"gridcolor\":\"white\",\"linecolor\":\"white\",\"ticks\":\"\"},\"radialaxis\":{\"gridcolor\":\"white\",\"linecolor\":\"white\",\"ticks\":\"\"}},\"ternary\":{\"bgcolor\":\"#E5ECF6\",\"aaxis\":{\"gridcolor\":\"white\",\"linecolor\":\"white\",\"ticks\":\"\"},\"baxis\":{\"gridcolor\":\"white\",\"linecolor\":\"white\",\"ticks\":\"\"},\"caxis\":{\"gridcolor\":\"white\",\"linecolor\":\"white\",\"ticks\":\"\"}},\"coloraxis\":{\"colorbar\":{\"outlinewidth\":0,\"ticks\":\"\"}},\"colorscale\":{\"sequential\":[[0.0,\"#0d0887\"],[0.1111111111111111,\"#46039f\"],[0.2222222222222222,\"#7201a8\"],[0.3333333333333333,\"#9c179e\"],[0.4444444444444444,\"#bd3786\"],[0.5555555555555556,\"#d8576b\"],[0.6666666666666666,\"#ed7953\"],[0.7777777777777778,\"#fb9f3a\"],[0.8888888888888888,\"#fdca26\"],[1.0,\"#f0f921\"]],\"sequentialminus\":[[0.0,\"#0d0887\"],[0.1111111111111111,\"#46039f\"],[0.2222222222222222,\"#7201a8\"],[0.3333333333333333,\"#9c179e\"],[0.4444444444444444,\"#bd3786\"],[0.5555555555555556,\"#d8576b\"],[0.6666666666666666,\"#ed7953\"],[0.7777777777777778,\"#fb9f3a\"],[0.8888888888888888,\"#fdca26\"],[1.0,\"#f0f921\"]],\"diverging\":[[0,\"#8e0152\"],[0.1,\"#c51b7d\"],[0.2,\"#de77ae\"],[0.3,\"#f1b6da\"],[0.4,\"#fde0ef\"],[0.5,\"#f7f7f7\"],[0.6,\"#e6f5d0\"],[0.7,\"#b8e186\"],[0.8,\"#7fbc41\"],[0.9,\"#4d9221\"],[1,\"#276419\"]]},\"xaxis\":{\"gridcolor\":\"white\",\"linecolor\":\"white\",\"ticks\":\"\",\"title\":{\"standoff\":15},\"zerolinecolor\":\"white\",\"automargin\":true,\"zerolinewidth\":2},\"yaxis\":{\"gridcolor\":\"white\",\"linecolor\":\"white\",\"ticks\":\"\",\"title\":{\"standoff\":15},\"zerolinecolor\":\"white\",\"automargin\":true,\"zerolinewidth\":2},\"scene\":{\"xaxis\":{\"backgroundcolor\":\"#E5ECF6\",\"gridcolor\":\"white\",\"linecolor\":\"white\",\"showbackground\":true,\"ticks\":\"\",\"zerolinecolor\":\"white\",\"gridwidth\":2},\"yaxis\":{\"backgroundcolor\":\"#E5ECF6\",\"gridcolor\":\"white\",\"linecolor\":\"white\",\"showbackground\":true,\"ticks\":\"\",\"zerolinecolor\":\"white\",\"gridwidth\":2},\"zaxis\":{\"backgroundcolor\":\"#E5ECF6\",\"gridcolor\":\"white\",\"linecolor\":\"white\",\"showbackground\":true,\"ticks\":\"\",\"zerolinecolor\":\"white\",\"gridwidth\":2}},\"shapedefaults\":{\"line\":{\"color\":\"#2a3f5f\"}},\"annotationdefaults\":{\"arrowcolor\":\"#2a3f5f\",\"arrowhead\":0,\"arrowwidth\":1},\"geo\":{\"bgcolor\":\"white\",\"landcolor\":\"#E5ECF6\",\"subunitcolor\":\"white\",\"showland\":true,\"showlakes\":true,\"lakecolor\":\"white\"},\"title\":{\"x\":0.05},\"mapbox\":{\"style\":\"light\"}}},\"xaxis\":{\"anchor\":\"y\",\"domain\":[0.0,1.0],\"title\":{\"text\":\"EducationField\"},\"categoryorder\":\"array\",\"categoryarray\":[\"Marketing\",\"Human Resources\",\"Medical\",\"Life Sciences\",\"Other\",\"Technical Degree\"]},\"yaxis\":{\"anchor\":\"x\",\"domain\":[0.0,1.0],\"title\":{\"text\":\"MonthlyIncome\"}},\"legend\":{\"title\":{\"text\":\"EducationField\"},\"tracegroupgap\":0},\"title\":{\"text\":\"Average Monthly Income by Education Field\"},\"barmode\":\"relative\"},                        {\"responsive\": true}                    ).then(function(){\n",
              "                            \n",
              "var gd = document.getElementById('d7250e58-4d0b-47ce-abb5-32df3bc125e6');\n",
              "var x = new MutationObserver(function (mutations, observer) {{\n",
              "        var display = window.getComputedStyle(gd).display;\n",
              "        if (!display || display === 'none') {{\n",
              "            console.log([gd, 'removed!']);\n",
              "            Plotly.purge(gd);\n",
              "            observer.disconnect();\n",
              "        }}\n",
              "}});\n",
              "\n",
              "// Listen for the removal of the full notebook cells\n",
              "var notebookContainer = gd.closest('#notebook-container');\n",
              "if (notebookContainer) {{\n",
              "    x.observe(notebookContainer, {childList: true});\n",
              "}}\n",
              "\n",
              "// Listen for the clearing of the current output cell\n",
              "var outputEl = gd.closest('.output');\n",
              "if (outputEl) {{\n",
              "    x.observe(outputEl, {childList: true});\n",
              "}}\n",
              "\n",
              "                        })                };                            </script>        </div>\n",
              "</body>\n",
              "</html>"
            ]
          },
          "metadata": {}
        }
      ]
    },
    {
      "cell_type": "markdown",
      "source": [
        "**Insight:** Employees having Marketing or HR  degrees earn more than others (like Medical or Life Sciences)."
      ],
      "metadata": {
        "id": "BnF-GRKrtKAe"
      }
    },
    {
      "cell_type": "code",
      "source": [
        "fig = px.histogram(\n",
        "    df,\n",
        "    x=\"MaritalStatus\",\n",
        "    color=\"OverTime\",\n",
        "    barmode=\"group\",\n",
        "    text_auto=True,\n",
        "    title=\"OverTime Distribution by Marital Status\",\n",
        "    color_discrete_map={'Yes':'green','No':'darkblue'}\n",
        ")\n",
        "\n",
        "fig.update_layout(width=800, height=500, yaxis_title=\"Number of Employees\")\n",
        "fig.show()"
      ],
      "metadata": {
        "colab": {
          "base_uri": "https://localhost:8080/",
          "height": 517
        },
        "id": "wIyKCqEuzb1n",
        "outputId": "3bafc5da-3e09-4232-925c-cbfcf7d54f3d"
      },
      "execution_count": null,
      "outputs": [
        {
          "output_type": "display_data",
          "data": {
            "text/html": [
              "<html>\n",
              "<head><meta charset=\"utf-8\" /></head>\n",
              "<body>\n",
              "    <div>            <script src=\"https://cdnjs.cloudflare.com/ajax/libs/mathjax/2.7.5/MathJax.js?config=TeX-AMS-MML_SVG\"></script><script type=\"text/javascript\">if (window.MathJax && window.MathJax.Hub && window.MathJax.Hub.Config) {window.MathJax.Hub.Config({SVG: {font: \"STIX-Web\"}});}</script>                <script type=\"text/javascript\">window.PlotlyConfig = {MathJaxConfig: 'local'};</script>\n",
              "        <script charset=\"utf-8\" src=\"https://cdn.plot.ly/plotly-2.35.2.min.js\"></script>                <div id=\"e4d63f69-5d2f-45d0-ae7d-fdbc42dba29f\" class=\"plotly-graph-div\" style=\"height:500px; width:800px;\"></div>            <script type=\"text/javascript\">                                    window.PLOTLYENV=window.PLOTLYENV || {};                                    if (document.getElementById(\"e4d63f69-5d2f-45d0-ae7d-fdbc42dba29f\")) {                    Plotly.newPlot(                        \"e4d63f69-5d2f-45d0-ae7d-fdbc42dba29f\",                        [{\"alignmentgroup\":\"True\",\"bingroup\":\"x\",\"hovertemplate\":\"OverTime=Yes\\u003cbr\\u003eMaritalStatus=%{x}\\u003cbr\\u003ecount=%{y}\\u003cextra\\u003e\\u003c\\u002fextra\\u003e\",\"legendgroup\":\"Yes\",\"marker\":{\"color\":\"green\",\"pattern\":{\"shape\":\"\"}},\"name\":\"Yes\",\"offsetgroup\":\"Yes\",\"orientation\":\"v\",\"showlegend\":true,\"texttemplate\":\"%{value}\",\"x\":[\"Single\",\"Single\",\"Married\",\"Married\",\"Single\",\"Single\",\"Divorced\",\"Divorced\",\"Single\",\"Single\",\"Married\",\"Married\",\"Married\",\"Married\",\"Single\",\"Single\",\"Single\",\"Divorced\",\"Married\",\"Married\",\"Single\",\"Married\",\"Married\",\"Divorced\",\"Divorced\",\"Married\",\"Married\",\"Divorced\",\"Married\",\"Divorced\",\"Single\",\"Divorced\",\"Married\",\"Divorced\",\"Single\",\"Married\",\"Single\",\"Single\",\"Single\",\"Married\",\"Married\",\"Married\",\"Single\",\"Married\",\"Divorced\",\"Married\",\"Single\",\"Married\",\"Married\",\"Divorced\",\"Divorced\",\"Married\",\"Divorced\",\"Divorced\",\"Married\",\"Single\",\"Married\",\"Married\",\"Divorced\",\"Divorced\",\"Married\",\"Married\",\"Divorced\",\"Single\",\"Single\",\"Divorced\",\"Single\",\"Married\",\"Married\",\"Single\",\"Single\",\"Single\",\"Divorced\",\"Married\",\"Married\",\"Single\",\"Married\",\"Divorced\",\"Divorced\",\"Married\",\"Married\",\"Married\",\"Divorced\",\"Divorced\",\"Single\",\"Single\",\"Married\",\"Divorced\",\"Married\",\"Divorced\",\"Married\",\"Single\",\"Single\",\"Married\",\"Single\",\"Married\",\"Married\",\"Married\",\"Married\",\"Married\",\"Divorced\",\"Single\",\"Divorced\",\"Single\",\"Divorced\",\"Divorced\",\"Married\",\"Single\",\"Married\",\"Single\",\"Married\",\"Single\",\"Single\",\"Single\",\"Divorced\",\"Single\",\"Single\",\"Divorced\",\"Single\",\"Married\",\"Divorced\",\"Married\",\"Single\",\"Married\",\"Married\",\"Married\",\"Married\",\"Divorced\",\"Single\",\"Married\",\"Divorced\",\"Single\",\"Single\",\"Single\",\"Divorced\",\"Divorced\",\"Married\",\"Married\",\"Married\",\"Married\",\"Divorced\",\"Divorced\",\"Divorced\",\"Married\",\"Married\",\"Married\",\"Divorced\",\"Single\",\"Single\",\"Divorced\",\"Married\",\"Married\",\"Married\",\"Single\",\"Single\",\"Divorced\",\"Divorced\",\"Single\",\"Married\",\"Single\",\"Single\",\"Married\",\"Divorced\",\"Divorced\",\"Single\",\"Married\",\"Married\",\"Married\",\"Single\",\"Married\",\"Single\",\"Divorced\",\"Married\",\"Married\",\"Married\",\"Married\",\"Divorced\",\"Married\",\"Single\",\"Married\",\"Married\",\"Divorced\",\"Married\",\"Married\",\"Divorced\",\"Married\",\"Single\",\"Divorced\",\"Single\",\"Married\",\"Divorced\",\"Married\",\"Single\",\"Married\",\"Divorced\",\"Married\",\"Single\",\"Divorced\",\"Married\",\"Married\",\"Single\",\"Single\",\"Married\",\"Divorced\",\"Married\",\"Single\",\"Single\",\"Divorced\",\"Single\",\"Single\",\"Married\",\"Married\",\"Single\",\"Married\",\"Married\",\"Divorced\",\"Divorced\",\"Married\",\"Single\",\"Single\",\"Married\",\"Single\",\"Married\",\"Single\",\"Married\",\"Married\",\"Married\",\"Married\",\"Single\",\"Divorced\",\"Married\",\"Single\",\"Divorced\",\"Married\",\"Single\",\"Single\",\"Divorced\",\"Single\",\"Married\",\"Divorced\",\"Single\",\"Married\",\"Single\",\"Married\",\"Married\",\"Married\",\"Single\",\"Married\",\"Married\",\"Married\",\"Divorced\",\"Single\",\"Divorced\",\"Married\",\"Married\",\"Married\",\"Married\",\"Single\",\"Married\",\"Divorced\",\"Divorced\",\"Single\",\"Single\",\"Single\",\"Single\",\"Divorced\",\"Single\",\"Divorced\",\"Single\",\"Married\",\"Married\",\"Single\",\"Married\",\"Single\",\"Divorced\",\"Divorced\",\"Married\",\"Single\",\"Single\",\"Married\",\"Divorced\",\"Single\",\"Married\",\"Single\",\"Divorced\",\"Married\",\"Single\",\"Married\",\"Married\",\"Married\",\"Married\",\"Divorced\",\"Married\",\"Married\",\"Married\",\"Single\",\"Married\",\"Single\",\"Single\",\"Married\",\"Single\",\"Married\",\"Married\",\"Single\",\"Divorced\",\"Married\",\"Married\",\"Single\",\"Single\",\"Single\",\"Married\",\"Married\",\"Single\",\"Married\",\"Single\",\"Married\",\"Married\",\"Married\",\"Single\",\"Divorced\",\"Single\",\"Divorced\",\"Single\",\"Single\",\"Married\",\"Married\",\"Married\",\"Married\",\"Married\",\"Divorced\",\"Single\",\"Married\",\"Single\",\"Married\",\"Single\",\"Married\",\"Divorced\",\"Single\",\"Single\",\"Married\",\"Single\",\"Divorced\",\"Divorced\",\"Single\",\"Divorced\",\"Divorced\",\"Single\",\"Married\",\"Divorced\",\"Married\",\"Single\",\"Married\",\"Married\",\"Divorced\",\"Divorced\",\"Married\",\"Single\",\"Married\",\"Single\",\"Married\",\"Married\",\"Divorced\",\"Married\",\"Married\",\"Divorced\",\"Married\",\"Divorced\",\"Single\",\"Divorced\",\"Married\",\"Divorced\",\"Married\",\"Married\",\"Divorced\",\"Married\",\"Single\",\"Single\",\"Single\",\"Single\",\"Married\",\"Married\",\"Married\",\"Married\",\"Married\",\"Married\",\"Divorced\",\"Married\",\"Married\",\"Married\",\"Single\",\"Divorced\",\"Married\",\"Single\",\"Divorced\",\"Divorced\",\"Married\",\"Married\",\"Single\",\"Married\",\"Married\",\"Divorced\",\"Single\",\"Divorced\",\"Divorced\",\"Married\",\"Married\",\"Married\",\"Divorced\",\"Single\",\"Single\",\"Married\",\"Single\",\"Married\",\"Married\",\"Divorced\",\"Married\"],\"xaxis\":\"x\",\"yaxis\":\"y\",\"type\":\"histogram\"},{\"alignmentgroup\":\"True\",\"bingroup\":\"x\",\"hovertemplate\":\"OverTime=No\\u003cbr\\u003eMaritalStatus=%{x}\\u003cbr\\u003ecount=%{y}\\u003cextra\\u003e\\u003c\\u002fextra\\u003e\",\"legendgroup\":\"No\",\"marker\":{\"color\":\"darkblue\",\"pattern\":{\"shape\":\"\"}},\"name\":\"No\",\"offsetgroup\":\"No\",\"orientation\":\"v\",\"showlegend\":true,\"texttemplate\":\"%{value}\",\"x\":[\"Married\",\"Married\",\"Single\",\"Divorced\",\"Single\",\"Married\",\"Married\",\"Divorced\",\"Divorced\",\"Divorced\",\"Married\",\"Divorced\",\"Single\",\"Single\",\"Single\",\"Single\",\"Divorced\",\"Married\",\"Married\",\"Single\",\"Single\",\"Single\",\"Married\",\"Divorced\",\"Married\",\"Married\",\"Divorced\",\"Divorced\",\"Single\",\"Single\",\"Single\",\"Married\",\"Single\",\"Married\",\"Married\",\"Married\",\"Divorced\",\"Divorced\",\"Single\",\"Single\",\"Divorced\",\"Single\",\"Divorced\",\"Married\",\"Single\",\"Married\",\"Single\",\"Married\",\"Married\",\"Single\",\"Single\",\"Single\",\"Single\",\"Married\",\"Married\",\"Single\",\"Divorced\",\"Married\",\"Married\",\"Single\",\"Married\",\"Single\",\"Married\",\"Married\",\"Married\",\"Single\",\"Married\",\"Single\",\"Single\",\"Divorced\",\"Married\",\"Married\",\"Single\",\"Single\",\"Married\",\"Divorced\",\"Single\",\"Single\",\"Married\",\"Divorced\",\"Divorced\",\"Married\",\"Single\",\"Married\",\"Married\",\"Married\",\"Married\",\"Single\",\"Single\",\"Married\",\"Divorced\",\"Single\",\"Married\",\"Married\",\"Single\",\"Single\",\"Single\",\"Divorced\",\"Divorced\",\"Single\",\"Divorced\",\"Married\",\"Single\",\"Divorced\",\"Married\",\"Divorced\",\"Single\",\"Married\",\"Married\",\"Married\",\"Married\",\"Married\",\"Divorced\",\"Married\",\"Single\",\"Divorced\",\"Married\",\"Single\",\"Single\",\"Single\",\"Single\",\"Divorced\",\"Single\",\"Single\",\"Divorced\",\"Single\",\"Single\",\"Married\",\"Divorced\",\"Married\",\"Married\",\"Single\",\"Married\",\"Single\",\"Married\",\"Single\",\"Divorced\",\"Married\",\"Single\",\"Divorced\",\"Married\",\"Married\",\"Married\",\"Married\",\"Single\",\"Married\",\"Divorced\",\"Married\",\"Single\",\"Single\",\"Married\",\"Single\",\"Single\",\"Single\",\"Married\",\"Single\",\"Married\",\"Divorced\",\"Married\",\"Married\",\"Divorced\",\"Married\",\"Single\",\"Single\",\"Married\",\"Married\",\"Divorced\",\"Married\",\"Married\",\"Divorced\",\"Married\",\"Divorced\",\"Divorced\",\"Married\",\"Divorced\",\"Married\",\"Married\",\"Married\",\"Married\",\"Divorced\",\"Single\",\"Single\",\"Divorced\",\"Married\",\"Divorced\",\"Married\",\"Single\",\"Married\",\"Married\",\"Single\",\"Single\",\"Married\",\"Married\",\"Divorced\",\"Married\",\"Married\",\"Married\",\"Single\",\"Divorced\",\"Divorced\",\"Divorced\",\"Married\",\"Single\",\"Single\",\"Divorced\",\"Single\",\"Single\",\"Divorced\",\"Married\",\"Single\",\"Married\",\"Married\",\"Divorced\",\"Single\",\"Single\",\"Single\",\"Married\",\"Divorced\",\"Married\",\"Married\",\"Married\",\"Married\",\"Divorced\",\"Married\",\"Single\",\"Married\",\"Divorced\",\"Single\",\"Married\",\"Married\",\"Married\",\"Single\",\"Married\",\"Divorced\",\"Single\",\"Married\",\"Married\",\"Single\",\"Divorced\",\"Married\",\"Divorced\",\"Single\",\"Divorced\",\"Single\",\"Single\",\"Married\",\"Married\",\"Married\",\"Married\",\"Single\",\"Single\",\"Married\",\"Married\",\"Single\",\"Married\",\"Married\",\"Single\",\"Single\",\"Single\",\"Single\",\"Single\",\"Divorced\",\"Single\",\"Single\",\"Married\",\"Married\",\"Married\",\"Single\",\"Married\",\"Married\",\"Divorced\",\"Divorced\",\"Divorced\",\"Divorced\",\"Married\",\"Married\",\"Married\",\"Married\",\"Married\",\"Married\",\"Married\",\"Single\",\"Married\",\"Divorced\",\"Married\",\"Married\",\"Married\",\"Divorced\",\"Single\",\"Married\",\"Divorced\",\"Married\",\"Divorced\",\"Married\",\"Divorced\",\"Married\",\"Married\",\"Married\",\"Single\",\"Married\",\"Divorced\",\"Married\",\"Single\",\"Married\",\"Divorced\",\"Married\",\"Single\",\"Single\",\"Divorced\",\"Divorced\",\"Divorced\",\"Single\",\"Married\",\"Married\",\"Single\",\"Single\",\"Married\",\"Single\",\"Single\",\"Married\",\"Single\",\"Married\",\"Married\",\"Divorced\",\"Divorced\",\"Divorced\",\"Divorced\",\"Divorced\",\"Single\",\"Single\",\"Single\",\"Married\",\"Married\",\"Divorced\",\"Married\",\"Married\",\"Married\",\"Married\",\"Married\",\"Married\",\"Married\",\"Married\",\"Married\",\"Divorced\",\"Single\",\"Divorced\",\"Divorced\",\"Single\",\"Married\",\"Single\",\"Married\",\"Single\",\"Divorced\",\"Single\",\"Married\",\"Divorced\",\"Divorced\",\"Single\",\"Married\",\"Married\",\"Married\",\"Married\",\"Single\",\"Divorced\",\"Married\",\"Single\",\"Married\",\"Married\",\"Married\",\"Single\",\"Divorced\",\"Married\",\"Single\",\"Single\",\"Single\",\"Single\",\"Single\",\"Single\",\"Married\",\"Single\",\"Single\",\"Married\",\"Divorced\",\"Single\",\"Divorced\",\"Married\",\"Married\",\"Married\",\"Single\",\"Divorced\",\"Single\",\"Married\",\"Single\",\"Married\",\"Married\",\"Married\",\"Single\",\"Divorced\",\"Single\",\"Divorced\",\"Married\",\"Divorced\",\"Married\",\"Single\",\"Single\",\"Single\",\"Single\",\"Single\",\"Married\",\"Divorced\",\"Married\",\"Single\",\"Single\",\"Married\",\"Single\",\"Married\",\"Married\",\"Married\",\"Married\",\"Divorced\",\"Divorced\",\"Married\",\"Married\",\"Married\",\"Single\",\"Married\",\"Married\",\"Single\",\"Single\",\"Married\",\"Married\",\"Single\",\"Single\",\"Married\",\"Divorced\",\"Single\",\"Married\",\"Single\",\"Married\",\"Single\",\"Married\",\"Married\",\"Married\",\"Single\",\"Single\",\"Divorced\",\"Single\",\"Divorced\",\"Divorced\",\"Married\",\"Married\",\"Divorced\",\"Divorced\",\"Married\",\"Married\",\"Divorced\",\"Married\",\"Married\",\"Married\",\"Married\",\"Married\",\"Married\",\"Married\",\"Married\",\"Single\",\"Married\",\"Divorced\",\"Married\",\"Divorced\",\"Single\",\"Divorced\",\"Single\",\"Single\",\"Divorced\",\"Single\",\"Divorced\",\"Single\",\"Married\",\"Married\",\"Married\",\"Married\",\"Single\",\"Married\",\"Married\",\"Divorced\",\"Single\",\"Single\",\"Single\",\"Married\",\"Single\",\"Married\",\"Married\",\"Married\",\"Married\",\"Married\",\"Single\",\"Divorced\",\"Divorced\",\"Divorced\",\"Single\",\"Divorced\",\"Single\",\"Single\",\"Divorced\",\"Divorced\",\"Divorced\",\"Married\",\"Married\",\"Divorced\",\"Divorced\",\"Married\",\"Single\",\"Married\",\"Single\",\"Married\",\"Married\",\"Single\",\"Single\",\"Single\",\"Married\",\"Married\",\"Divorced\",\"Married\",\"Married\",\"Married\",\"Divorced\",\"Single\",\"Married\",\"Married\",\"Single\",\"Single\",\"Married\",\"Single\",\"Divorced\",\"Single\",\"Married\",\"Divorced\",\"Married\",\"Married\",\"Single\",\"Married\",\"Divorced\",\"Divorced\",\"Married\",\"Married\",\"Single\",\"Single\",\"Divorced\",\"Single\",\"Single\",\"Married\",\"Married\",\"Married\",\"Married\",\"Married\",\"Married\",\"Married\",\"Single\",\"Married\",\"Divorced\",\"Single\",\"Divorced\",\"Single\",\"Divorced\",\"Married\",\"Divorced\",\"Married\",\"Married\",\"Single\",\"Married\",\"Single\",\"Divorced\",\"Divorced\",\"Married\",\"Single\",\"Married\",\"Divorced\",\"Single\",\"Single\",\"Single\",\"Married\",\"Married\",\"Divorced\",\"Married\",\"Single\",\"Divorced\",\"Single\",\"Married\",\"Single\",\"Married\",\"Divorced\",\"Married\",\"Married\",\"Single\",\"Married\",\"Single\",\"Single\",\"Married\",\"Single\",\"Married\",\"Married\",\"Divorced\",\"Single\",\"Married\",\"Single\",\"Divorced\",\"Divorced\",\"Married\",\"Single\",\"Married\",\"Single\",\"Divorced\",\"Married\",\"Single\",\"Married\",\"Divorced\",\"Divorced\",\"Married\",\"Married\",\"Married\",\"Married\",\"Married\",\"Married\",\"Divorced\",\"Divorced\",\"Single\",\"Single\",\"Divorced\",\"Married\",\"Married\",\"Married\",\"Divorced\",\"Single\",\"Divorced\",\"Married\",\"Divorced\",\"Married\",\"Single\",\"Single\",\"Married\",\"Married\",\"Married\",\"Single\",\"Divorced\",\"Single\",\"Divorced\",\"Married\",\"Married\",\"Married\",\"Single\",\"Married\",\"Single\",\"Divorced\",\"Divorced\",\"Married\",\"Single\",\"Married\",\"Single\",\"Single\",\"Single\",\"Married\",\"Single\",\"Divorced\",\"Married\",\"Single\",\"Married\",\"Married\",\"Single\",\"Married\",\"Single\",\"Single\",\"Married\",\"Married\",\"Single\",\"Divorced\",\"Divorced\",\"Single\",\"Divorced\",\"Divorced\",\"Single\",\"Married\",\"Married\",\"Married\",\"Single\",\"Married\",\"Single\",\"Single\",\"Married\",\"Single\",\"Divorced\",\"Divorced\",\"Married\",\"Single\",\"Divorced\",\"Single\",\"Married\",\"Married\",\"Married\",\"Married\",\"Married\",\"Single\",\"Married\",\"Married\",\"Single\",\"Single\",\"Married\",\"Single\",\"Single\",\"Single\",\"Single\",\"Divorced\",\"Single\",\"Divorced\",\"Single\",\"Divorced\",\"Single\",\"Married\",\"Single\",\"Married\",\"Married\",\"Married\",\"Single\",\"Married\",\"Married\",\"Married\",\"Married\",\"Divorced\",\"Divorced\",\"Divorced\",\"Single\",\"Single\",\"Divorced\",\"Married\",\"Divorced\",\"Single\",\"Single\",\"Single\",\"Married\",\"Divorced\",\"Single\",\"Married\",\"Single\",\"Married\",\"Single\",\"Married\",\"Divorced\",\"Married\",\"Divorced\",\"Divorced\",\"Married\",\"Single\",\"Married\",\"Married\",\"Divorced\",\"Divorced\",\"Married\",\"Single\",\"Divorced\",\"Single\",\"Married\",\"Married\",\"Married\",\"Single\",\"Divorced\",\"Single\",\"Married\",\"Single\",\"Married\",\"Single\",\"Single\",\"Single\",\"Single\",\"Married\",\"Married\",\"Married\",\"Single\",\"Married\",\"Married\",\"Divorced\",\"Divorced\",\"Married\",\"Married\",\"Divorced\",\"Married\",\"Married\",\"Married\",\"Married\",\"Single\",\"Married\",\"Married\",\"Married\",\"Married\",\"Married\",\"Single\",\"Married\",\"Married\",\"Married\",\"Married\",\"Single\",\"Single\",\"Married\",\"Divorced\",\"Married\",\"Single\",\"Married\",\"Married\",\"Married\",\"Divorced\",\"Married\",\"Single\",\"Married\",\"Married\",\"Married\",\"Single\",\"Divorced\",\"Married\",\"Married\",\"Divorced\",\"Married\",\"Divorced\",\"Single\",\"Married\",\"Divorced\",\"Married\",\"Married\",\"Married\",\"Single\",\"Divorced\",\"Married\",\"Married\",\"Married\",\"Married\",\"Single\",\"Single\",\"Married\",\"Divorced\",\"Married\",\"Married\",\"Divorced\",\"Single\",\"Divorced\",\"Single\",\"Married\",\"Divorced\",\"Married\",\"Married\",\"Married\",\"Divorced\",\"Divorced\",\"Married\",\"Single\",\"Divorced\",\"Single\",\"Single\",\"Married\",\"Married\",\"Married\",\"Single\",\"Single\",\"Divorced\",\"Married\",\"Divorced\",\"Married\",\"Divorced\",\"Married\",\"Married\",\"Single\",\"Married\",\"Single\",\"Married\",\"Married\",\"Married\",\"Married\",\"Single\",\"Married\",\"Married\",\"Married\",\"Divorced\",\"Single\",\"Married\",\"Married\",\"Married\",\"Single\",\"Single\",\"Single\",\"Married\",\"Single\",\"Married\",\"Single\",\"Married\",\"Divorced\",\"Married\",\"Single\",\"Single\",\"Divorced\",\"Single\",\"Single\",\"Married\",\"Married\",\"Divorced\",\"Married\",\"Single\",\"Divorced\",\"Married\",\"Divorced\",\"Divorced\",\"Single\",\"Single\",\"Single\",\"Married\",\"Married\",\"Married\",\"Married\",\"Divorced\",\"Married\",\"Married\",\"Single\",\"Single\",\"Married\",\"Married\",\"Divorced\",\"Divorced\",\"Married\",\"Single\",\"Divorced\",\"Single\",\"Single\",\"Single\",\"Married\",\"Divorced\",\"Married\",\"Divorced\",\"Married\",\"Divorced\",\"Married\",\"Married\",\"Married\",\"Single\",\"Single\",\"Married\",\"Married\",\"Married\",\"Married\",\"Single\",\"Married\",\"Single\",\"Divorced\",\"Divorced\",\"Divorced\",\"Single\",\"Divorced\",\"Married\",\"Married\",\"Married\",\"Married\",\"Married\",\"Married\",\"Divorced\",\"Married\",\"Married\",\"Single\",\"Divorced\",\"Single\",\"Married\",\"Single\",\"Divorced\",\"Single\",\"Divorced\",\"Married\",\"Single\",\"Married\",\"Married\",\"Married\",\"Divorced\",\"Married\",\"Single\",\"Single\",\"Single\",\"Married\",\"Married\",\"Married\",\"Married\",\"Married\",\"Divorced\",\"Married\",\"Married\",\"Married\",\"Single\",\"Married\",\"Single\",\"Divorced\",\"Single\",\"Married\",\"Divorced\",\"Married\",\"Divorced\",\"Single\",\"Single\",\"Single\",\"Married\",\"Divorced\",\"Married\",\"Single\",\"Single\",\"Married\",\"Single\",\"Single\",\"Married\",\"Married\",\"Married\",\"Married\",\"Single\",\"Divorced\",\"Married\",\"Married\",\"Married\",\"Married\",\"Married\",\"Single\",\"Single\",\"Single\",\"Married\",\"Married\",\"Single\",\"Married\",\"Married\",\"Divorced\",\"Single\",\"Married\",\"Married\",\"Divorced\",\"Divorced\",\"Married\",\"Married\",\"Married\",\"Married\",\"Divorced\",\"Divorced\",\"Single\",\"Married\",\"Divorced\",\"Married\",\"Single\",\"Single\",\"Married\",\"Married\",\"Single\",\"Married\",\"Single\",\"Single\",\"Married\",\"Married\",\"Married\",\"Married\"],\"xaxis\":\"x\",\"yaxis\":\"y\",\"type\":\"histogram\"}],                        {\"template\":{\"data\":{\"histogram2dcontour\":[{\"type\":\"histogram2dcontour\",\"colorbar\":{\"outlinewidth\":0,\"ticks\":\"\"},\"colorscale\":[[0.0,\"#0d0887\"],[0.1111111111111111,\"#46039f\"],[0.2222222222222222,\"#7201a8\"],[0.3333333333333333,\"#9c179e\"],[0.4444444444444444,\"#bd3786\"],[0.5555555555555556,\"#d8576b\"],[0.6666666666666666,\"#ed7953\"],[0.7777777777777778,\"#fb9f3a\"],[0.8888888888888888,\"#fdca26\"],[1.0,\"#f0f921\"]]}],\"choropleth\":[{\"type\":\"choropleth\",\"colorbar\":{\"outlinewidth\":0,\"ticks\":\"\"}}],\"histogram2d\":[{\"type\":\"histogram2d\",\"colorbar\":{\"outlinewidth\":0,\"ticks\":\"\"},\"colorscale\":[[0.0,\"#0d0887\"],[0.1111111111111111,\"#46039f\"],[0.2222222222222222,\"#7201a8\"],[0.3333333333333333,\"#9c179e\"],[0.4444444444444444,\"#bd3786\"],[0.5555555555555556,\"#d8576b\"],[0.6666666666666666,\"#ed7953\"],[0.7777777777777778,\"#fb9f3a\"],[0.8888888888888888,\"#fdca26\"],[1.0,\"#f0f921\"]]}],\"heatmap\":[{\"type\":\"heatmap\",\"colorbar\":{\"outlinewidth\":0,\"ticks\":\"\"},\"colorscale\":[[0.0,\"#0d0887\"],[0.1111111111111111,\"#46039f\"],[0.2222222222222222,\"#7201a8\"],[0.3333333333333333,\"#9c179e\"],[0.4444444444444444,\"#bd3786\"],[0.5555555555555556,\"#d8576b\"],[0.6666666666666666,\"#ed7953\"],[0.7777777777777778,\"#fb9f3a\"],[0.8888888888888888,\"#fdca26\"],[1.0,\"#f0f921\"]]}],\"heatmapgl\":[{\"type\":\"heatmapgl\",\"colorbar\":{\"outlinewidth\":0,\"ticks\":\"\"},\"colorscale\":[[0.0,\"#0d0887\"],[0.1111111111111111,\"#46039f\"],[0.2222222222222222,\"#7201a8\"],[0.3333333333333333,\"#9c179e\"],[0.4444444444444444,\"#bd3786\"],[0.5555555555555556,\"#d8576b\"],[0.6666666666666666,\"#ed7953\"],[0.7777777777777778,\"#fb9f3a\"],[0.8888888888888888,\"#fdca26\"],[1.0,\"#f0f921\"]]}],\"contourcarpet\":[{\"type\":\"contourcarpet\",\"colorbar\":{\"outlinewidth\":0,\"ticks\":\"\"}}],\"contour\":[{\"type\":\"contour\",\"colorbar\":{\"outlinewidth\":0,\"ticks\":\"\"},\"colorscale\":[[0.0,\"#0d0887\"],[0.1111111111111111,\"#46039f\"],[0.2222222222222222,\"#7201a8\"],[0.3333333333333333,\"#9c179e\"],[0.4444444444444444,\"#bd3786\"],[0.5555555555555556,\"#d8576b\"],[0.6666666666666666,\"#ed7953\"],[0.7777777777777778,\"#fb9f3a\"],[0.8888888888888888,\"#fdca26\"],[1.0,\"#f0f921\"]]}],\"surface\":[{\"type\":\"surface\",\"colorbar\":{\"outlinewidth\":0,\"ticks\":\"\"},\"colorscale\":[[0.0,\"#0d0887\"],[0.1111111111111111,\"#46039f\"],[0.2222222222222222,\"#7201a8\"],[0.3333333333333333,\"#9c179e\"],[0.4444444444444444,\"#bd3786\"],[0.5555555555555556,\"#d8576b\"],[0.6666666666666666,\"#ed7953\"],[0.7777777777777778,\"#fb9f3a\"],[0.8888888888888888,\"#fdca26\"],[1.0,\"#f0f921\"]]}],\"mesh3d\":[{\"type\":\"mesh3d\",\"colorbar\":{\"outlinewidth\":0,\"ticks\":\"\"}}],\"scatter\":[{\"fillpattern\":{\"fillmode\":\"overlay\",\"size\":10,\"solidity\":0.2},\"type\":\"scatter\"}],\"parcoords\":[{\"type\":\"parcoords\",\"line\":{\"colorbar\":{\"outlinewidth\":0,\"ticks\":\"\"}}}],\"scatterpolargl\":[{\"type\":\"scatterpolargl\",\"marker\":{\"colorbar\":{\"outlinewidth\":0,\"ticks\":\"\"}}}],\"bar\":[{\"error_x\":{\"color\":\"#2a3f5f\"},\"error_y\":{\"color\":\"#2a3f5f\"},\"marker\":{\"line\":{\"color\":\"#E5ECF6\",\"width\":0.5},\"pattern\":{\"fillmode\":\"overlay\",\"size\":10,\"solidity\":0.2}},\"type\":\"bar\"}],\"scattergeo\":[{\"type\":\"scattergeo\",\"marker\":{\"colorbar\":{\"outlinewidth\":0,\"ticks\":\"\"}}}],\"scatterpolar\":[{\"type\":\"scatterpolar\",\"marker\":{\"colorbar\":{\"outlinewidth\":0,\"ticks\":\"\"}}}],\"histogram\":[{\"marker\":{\"pattern\":{\"fillmode\":\"overlay\",\"size\":10,\"solidity\":0.2}},\"type\":\"histogram\"}],\"scattergl\":[{\"type\":\"scattergl\",\"marker\":{\"colorbar\":{\"outlinewidth\":0,\"ticks\":\"\"}}}],\"scatter3d\":[{\"type\":\"scatter3d\",\"line\":{\"colorbar\":{\"outlinewidth\":0,\"ticks\":\"\"}},\"marker\":{\"colorbar\":{\"outlinewidth\":0,\"ticks\":\"\"}}}],\"scattermapbox\":[{\"type\":\"scattermapbox\",\"marker\":{\"colorbar\":{\"outlinewidth\":0,\"ticks\":\"\"}}}],\"scatterternary\":[{\"type\":\"scatterternary\",\"marker\":{\"colorbar\":{\"outlinewidth\":0,\"ticks\":\"\"}}}],\"scattercarpet\":[{\"type\":\"scattercarpet\",\"marker\":{\"colorbar\":{\"outlinewidth\":0,\"ticks\":\"\"}}}],\"carpet\":[{\"aaxis\":{\"endlinecolor\":\"#2a3f5f\",\"gridcolor\":\"white\",\"linecolor\":\"white\",\"minorgridcolor\":\"white\",\"startlinecolor\":\"#2a3f5f\"},\"baxis\":{\"endlinecolor\":\"#2a3f5f\",\"gridcolor\":\"white\",\"linecolor\":\"white\",\"minorgridcolor\":\"white\",\"startlinecolor\":\"#2a3f5f\"},\"type\":\"carpet\"}],\"table\":[{\"cells\":{\"fill\":{\"color\":\"#EBF0F8\"},\"line\":{\"color\":\"white\"}},\"header\":{\"fill\":{\"color\":\"#C8D4E3\"},\"line\":{\"color\":\"white\"}},\"type\":\"table\"}],\"barpolar\":[{\"marker\":{\"line\":{\"color\":\"#E5ECF6\",\"width\":0.5},\"pattern\":{\"fillmode\":\"overlay\",\"size\":10,\"solidity\":0.2}},\"type\":\"barpolar\"}],\"pie\":[{\"automargin\":true,\"type\":\"pie\"}]},\"layout\":{\"autotypenumbers\":\"strict\",\"colorway\":[\"#636efa\",\"#EF553B\",\"#00cc96\",\"#ab63fa\",\"#FFA15A\",\"#19d3f3\",\"#FF6692\",\"#B6E880\",\"#FF97FF\",\"#FECB52\"],\"font\":{\"color\":\"#2a3f5f\"},\"hovermode\":\"closest\",\"hoverlabel\":{\"align\":\"left\"},\"paper_bgcolor\":\"white\",\"plot_bgcolor\":\"#E5ECF6\",\"polar\":{\"bgcolor\":\"#E5ECF6\",\"angularaxis\":{\"gridcolor\":\"white\",\"linecolor\":\"white\",\"ticks\":\"\"},\"radialaxis\":{\"gridcolor\":\"white\",\"linecolor\":\"white\",\"ticks\":\"\"}},\"ternary\":{\"bgcolor\":\"#E5ECF6\",\"aaxis\":{\"gridcolor\":\"white\",\"linecolor\":\"white\",\"ticks\":\"\"},\"baxis\":{\"gridcolor\":\"white\",\"linecolor\":\"white\",\"ticks\":\"\"},\"caxis\":{\"gridcolor\":\"white\",\"linecolor\":\"white\",\"ticks\":\"\"}},\"coloraxis\":{\"colorbar\":{\"outlinewidth\":0,\"ticks\":\"\"}},\"colorscale\":{\"sequential\":[[0.0,\"#0d0887\"],[0.1111111111111111,\"#46039f\"],[0.2222222222222222,\"#7201a8\"],[0.3333333333333333,\"#9c179e\"],[0.4444444444444444,\"#bd3786\"],[0.5555555555555556,\"#d8576b\"],[0.6666666666666666,\"#ed7953\"],[0.7777777777777778,\"#fb9f3a\"],[0.8888888888888888,\"#fdca26\"],[1.0,\"#f0f921\"]],\"sequentialminus\":[[0.0,\"#0d0887\"],[0.1111111111111111,\"#46039f\"],[0.2222222222222222,\"#7201a8\"],[0.3333333333333333,\"#9c179e\"],[0.4444444444444444,\"#bd3786\"],[0.5555555555555556,\"#d8576b\"],[0.6666666666666666,\"#ed7953\"],[0.7777777777777778,\"#fb9f3a\"],[0.8888888888888888,\"#fdca26\"],[1.0,\"#f0f921\"]],\"diverging\":[[0,\"#8e0152\"],[0.1,\"#c51b7d\"],[0.2,\"#de77ae\"],[0.3,\"#f1b6da\"],[0.4,\"#fde0ef\"],[0.5,\"#f7f7f7\"],[0.6,\"#e6f5d0\"],[0.7,\"#b8e186\"],[0.8,\"#7fbc41\"],[0.9,\"#4d9221\"],[1,\"#276419\"]]},\"xaxis\":{\"gridcolor\":\"white\",\"linecolor\":\"white\",\"ticks\":\"\",\"title\":{\"standoff\":15},\"zerolinecolor\":\"white\",\"automargin\":true,\"zerolinewidth\":2},\"yaxis\":{\"gridcolor\":\"white\",\"linecolor\":\"white\",\"ticks\":\"\",\"title\":{\"standoff\":15},\"zerolinecolor\":\"white\",\"automargin\":true,\"zerolinewidth\":2},\"scene\":{\"xaxis\":{\"backgroundcolor\":\"#E5ECF6\",\"gridcolor\":\"white\",\"linecolor\":\"white\",\"showbackground\":true,\"ticks\":\"\",\"zerolinecolor\":\"white\",\"gridwidth\":2},\"yaxis\":{\"backgroundcolor\":\"#E5ECF6\",\"gridcolor\":\"white\",\"linecolor\":\"white\",\"showbackground\":true,\"ticks\":\"\",\"zerolinecolor\":\"white\",\"gridwidth\":2},\"zaxis\":{\"backgroundcolor\":\"#E5ECF6\",\"gridcolor\":\"white\",\"linecolor\":\"white\",\"showbackground\":true,\"ticks\":\"\",\"zerolinecolor\":\"white\",\"gridwidth\":2}},\"shapedefaults\":{\"line\":{\"color\":\"#2a3f5f\"}},\"annotationdefaults\":{\"arrowcolor\":\"#2a3f5f\",\"arrowhead\":0,\"arrowwidth\":1},\"geo\":{\"bgcolor\":\"white\",\"landcolor\":\"#E5ECF6\",\"subunitcolor\":\"white\",\"showland\":true,\"showlakes\":true,\"lakecolor\":\"white\"},\"title\":{\"x\":0.05},\"mapbox\":{\"style\":\"light\"}}},\"xaxis\":{\"anchor\":\"y\",\"domain\":[0.0,1.0],\"title\":{\"text\":\"MaritalStatus\"}},\"yaxis\":{\"anchor\":\"x\",\"domain\":[0.0,1.0],\"title\":{\"text\":\"Number of Employees\"}},\"legend\":{\"title\":{\"text\":\"OverTime\"},\"tracegroupgap\":0},\"title\":{\"text\":\"OverTime Distribution by Marital Status\"},\"barmode\":\"group\",\"width\":800,\"height\":500},                        {\"responsive\": true}                    ).then(function(){\n",
              "                            \n",
              "var gd = document.getElementById('e4d63f69-5d2f-45d0-ae7d-fdbc42dba29f');\n",
              "var x = new MutationObserver(function (mutations, observer) {{\n",
              "        var display = window.getComputedStyle(gd).display;\n",
              "        if (!display || display === 'none') {{\n",
              "            console.log([gd, 'removed!']);\n",
              "            Plotly.purge(gd);\n",
              "            observer.disconnect();\n",
              "        }}\n",
              "}});\n",
              "\n",
              "// Listen for the removal of the full notebook cells\n",
              "var notebookContainer = gd.closest('#notebook-container');\n",
              "if (notebookContainer) {{\n",
              "    x.observe(notebookContainer, {childList: true});\n",
              "}}\n",
              "\n",
              "// Listen for the clearing of the current output cell\n",
              "var outputEl = gd.closest('.output');\n",
              "if (outputEl) {{\n",
              "    x.observe(outputEl, {childList: true});\n",
              "}}\n",
              "\n",
              "                        })                };                            </script>        </div>\n",
              "</body>\n",
              "</html>"
            ]
          },
          "metadata": {}
        }
      ]
    },
    {
      "cell_type": "markdown",
      "source": [
        "**Insight:** Married employees did OverTime more than single or divorced employees."
      ],
      "metadata": {
        "id": "s0EZKcuA3Aoa"
      }
    },
    {
      "cell_type": "code",
      "source": [
        "# Filter only employees doing overtime\n",
        "df_ot = df[df['OverTime'] == 'Yes']\n",
        "\n",
        "# Plot attrition by marital status\n",
        "fig = px.histogram(\n",
        "    df_ot,\n",
        "    x=\"MaritalStatus\",\n",
        "    color=\"Attrition\",\n",
        "    barmode=\"group\",\n",
        "    text_auto=True,\n",
        "    title=\"Attrition by Marital Status (Only Employees who did OverTime)\",\n",
        "    color_discrete_map={'Yes':'green','No':'darkblue'})\n",
        "\n",
        "fig.update_layout(width=800, height=500, yaxis_title=\"Number of Employees\")\n",
        "fig.show()\n"
      ],
      "metadata": {
        "colab": {
          "base_uri": "https://localhost:8080/",
          "height": 517
        },
        "id": "i-XQ4voKvaEH",
        "outputId": "121063b1-3274-4573-e639-da91d63e1ad0"
      },
      "execution_count": null,
      "outputs": [
        {
          "output_type": "display_data",
          "data": {
            "text/html": [
              "<html>\n",
              "<head><meta charset=\"utf-8\" /></head>\n",
              "<body>\n",
              "    <div>            <script src=\"https://cdnjs.cloudflare.com/ajax/libs/mathjax/2.7.5/MathJax.js?config=TeX-AMS-MML_SVG\"></script><script type=\"text/javascript\">if (window.MathJax && window.MathJax.Hub && window.MathJax.Hub.Config) {window.MathJax.Hub.Config({SVG: {font: \"STIX-Web\"}});}</script>                <script type=\"text/javascript\">window.PlotlyConfig = {MathJaxConfig: 'local'};</script>\n",
              "        <script charset=\"utf-8\" src=\"https://cdn.plot.ly/plotly-2.35.2.min.js\"></script>                <div id=\"338f31f8-fff1-403b-a229-7c986bf058a1\" class=\"plotly-graph-div\" style=\"height:500px; width:800px;\"></div>            <script type=\"text/javascript\">                                    window.PLOTLYENV=window.PLOTLYENV || {};                                    if (document.getElementById(\"338f31f8-fff1-403b-a229-7c986bf058a1\")) {                    Plotly.newPlot(                        \"338f31f8-fff1-403b-a229-7c986bf058a1\",                        [{\"alignmentgroup\":\"True\",\"bingroup\":\"x\",\"hovertemplate\":\"Attrition=Yes\\u003cbr\\u003eMaritalStatus=%{x}\\u003cbr\\u003ecount=%{y}\\u003cextra\\u003e\\u003c\\u002fextra\\u003e\",\"legendgroup\":\"Yes\",\"marker\":{\"color\":\"green\",\"pattern\":{\"shape\":\"\"}},\"name\":\"Yes\",\"offsetgroup\":\"Yes\",\"orientation\":\"v\",\"showlegend\":true,\"texttemplate\":\"%{value}\",\"x\":[\"Single\",\"Single\",\"Single\",\"Single\",\"Married\",\"Married\",\"Single\",\"Single\",\"Married\",\"Divorced\",\"Single\",\"Single\",\"Single\",\"Married\",\"Married\",\"Single\",\"Married\",\"Single\",\"Married\",\"Married\",\"Single\",\"Single\",\"Married\",\"Single\",\"Married\",\"Divorced\",\"Divorced\",\"Single\",\"Married\",\"Married\",\"Married\",\"Single\",\"Single\",\"Married\",\"Single\",\"Single\",\"Single\",\"Married\",\"Divorced\",\"Divorced\",\"Single\",\"Single\",\"Married\",\"Single\",\"Single\",\"Married\",\"Single\",\"Divorced\",\"Single\",\"Single\",\"Married\",\"Married\",\"Married\",\"Single\",\"Married\",\"Divorced\",\"Divorced\",\"Single\",\"Divorced\",\"Married\",\"Divorced\",\"Married\",\"Married\",\"Single\",\"Married\",\"Single\",\"Single\",\"Single\",\"Married\",\"Divorced\",\"Single\",\"Married\",\"Single\",\"Married\",\"Single\",\"Married\",\"Single\",\"Single\",\"Single\",\"Single\",\"Married\",\"Single\",\"Married\",\"Single\",\"Single\",\"Single\",\"Divorced\",\"Single\",\"Single\",\"Single\",\"Married\",\"Single\",\"Married\",\"Married\",\"Single\",\"Single\",\"Single\",\"Married\",\"Single\",\"Single\",\"Divorced\",\"Married\",\"Single\",\"Divorced\",\"Single\",\"Single\",\"Single\",\"Married\",\"Divorced\",\"Divorced\",\"Single\",\"Married\",\"Married\",\"Divorced\",\"Single\",\"Married\",\"Divorced\",\"Single\",\"Single\",\"Single\",\"Married\",\"Single\",\"Single\",\"Married\",\"Single\",\"Married\",\"Divorced\"],\"xaxis\":\"x\",\"yaxis\":\"y\",\"type\":\"histogram\"},{\"alignmentgroup\":\"True\",\"bingroup\":\"x\",\"hovertemplate\":\"Attrition=No\\u003cbr\\u003eMaritalStatus=%{x}\\u003cbr\\u003ecount=%{y}\\u003cextra\\u003e\\u003c\\u002fextra\\u003e\",\"legendgroup\":\"No\",\"marker\":{\"color\":\"darkblue\",\"pattern\":{\"shape\":\"\"}},\"name\":\"No\",\"offsetgroup\":\"No\",\"orientation\":\"v\",\"showlegend\":true,\"texttemplate\":\"%{value}\",\"x\":[\"Married\",\"Married\",\"Single\",\"Divorced\",\"Divorced\",\"Single\",\"Married\",\"Married\",\"Single\",\"Divorced\",\"Married\",\"Married\",\"Single\",\"Married\",\"Married\",\"Divorced\",\"Divorced\",\"Married\",\"Divorced\",\"Married\",\"Divorced\",\"Single\",\"Divorced\",\"Married\",\"Married\",\"Single\",\"Married\",\"Divorced\",\"Married\",\"Single\",\"Married\",\"Married\",\"Divorced\",\"Divorced\",\"Married\",\"Divorced\",\"Divorced\",\"Married\",\"Married\",\"Divorced\",\"Divorced\",\"Married\",\"Divorced\",\"Single\",\"Divorced\",\"Married\",\"Single\",\"Single\",\"Divorced\",\"Married\",\"Married\",\"Single\",\"Divorced\",\"Divorced\",\"Married\",\"Married\",\"Married\",\"Single\",\"Married\",\"Divorced\",\"Married\",\"Divorced\",\"Married\",\"Single\",\"Single\",\"Married\",\"Single\",\"Married\",\"Married\",\"Divorced\",\"Single\",\"Divorced\",\"Single\",\"Divorced\",\"Divorced\",\"Married\",\"Married\",\"Single\",\"Single\",\"Divorced\",\"Single\",\"Divorced\",\"Single\",\"Married\",\"Divorced\",\"Married\",\"Married\",\"Married\",\"Married\",\"Single\",\"Married\",\"Single\",\"Divorced\",\"Divorced\",\"Married\",\"Married\",\"Married\",\"Divorced\",\"Divorced\",\"Divorced\",\"Married\",\"Married\",\"Married\",\"Divorced\",\"Divorced\",\"Married\",\"Married\",\"Single\",\"Divorced\",\"Single\",\"Married\",\"Divorced\",\"Divorced\",\"Single\",\"Married\",\"Married\",\"Single\",\"Divorced\",\"Married\",\"Married\",\"Married\",\"Divorced\",\"Married\",\"Single\",\"Married\",\"Married\",\"Married\",\"Married\",\"Married\",\"Single\",\"Divorced\",\"Married\",\"Married\",\"Single\",\"Single\",\"Divorced\",\"Married\",\"Single\",\"Married\",\"Divorced\",\"Single\",\"Divorced\",\"Married\",\"Married\",\"Single\",\"Married\",\"Divorced\",\"Married\",\"Single\",\"Married\",\"Single\",\"Married\",\"Single\",\"Married\",\"Married\",\"Married\",\"Divorced\",\"Divorced\",\"Divorced\",\"Single\",\"Married\",\"Divorced\",\"Married\",\"Married\",\"Married\",\"Married\",\"Married\",\"Divorced\",\"Single\",\"Divorced\",\"Married\",\"Married\",\"Married\",\"Married\",\"Married\",\"Divorced\",\"Divorced\",\"Single\",\"Single\",\"Divorced\",\"Single\",\"Divorced\",\"Single\",\"Married\",\"Married\",\"Single\",\"Married\",\"Single\",\"Divorced\",\"Married\",\"Married\",\"Divorced\",\"Married\",\"Single\",\"Divorced\",\"Married\",\"Married\",\"Divorced\",\"Married\",\"Married\",\"Married\",\"Single\",\"Married\",\"Married\",\"Single\",\"Married\",\"Married\",\"Divorced\",\"Married\",\"Single\",\"Married\",\"Married\",\"Single\",\"Married\",\"Single\",\"Married\",\"Married\",\"Married\",\"Single\",\"Divorced\",\"Single\",\"Single\",\"Single\",\"Married\",\"Married\",\"Married\",\"Married\",\"Divorced\",\"Single\",\"Married\",\"Married\",\"Single\",\"Married\",\"Single\",\"Married\",\"Divorced\",\"Divorced\",\"Single\",\"Divorced\",\"Divorced\",\"Married\",\"Single\",\"Married\",\"Married\",\"Divorced\",\"Married\",\"Single\",\"Married\",\"Married\",\"Divorced\",\"Married\",\"Divorced\",\"Married\",\"Divorced\",\"Divorced\",\"Married\",\"Married\",\"Married\",\"Single\",\"Married\",\"Married\",\"Married\",\"Married\",\"Married\",\"Divorced\",\"Married\",\"Married\",\"Married\",\"Divorced\",\"Married\",\"Divorced\",\"Divorced\",\"Married\",\"Married\",\"Married\",\"Divorced\",\"Single\",\"Divorced\",\"Divorced\",\"Married\",\"Married\",\"Married\",\"Divorced\",\"Single\",\"Single\",\"Single\",\"Married\",\"Married\",\"Married\"],\"xaxis\":\"x\",\"yaxis\":\"y\",\"type\":\"histogram\"}],                        {\"template\":{\"data\":{\"histogram2dcontour\":[{\"type\":\"histogram2dcontour\",\"colorbar\":{\"outlinewidth\":0,\"ticks\":\"\"},\"colorscale\":[[0.0,\"#0d0887\"],[0.1111111111111111,\"#46039f\"],[0.2222222222222222,\"#7201a8\"],[0.3333333333333333,\"#9c179e\"],[0.4444444444444444,\"#bd3786\"],[0.5555555555555556,\"#d8576b\"],[0.6666666666666666,\"#ed7953\"],[0.7777777777777778,\"#fb9f3a\"],[0.8888888888888888,\"#fdca26\"],[1.0,\"#f0f921\"]]}],\"choropleth\":[{\"type\":\"choropleth\",\"colorbar\":{\"outlinewidth\":0,\"ticks\":\"\"}}],\"histogram2d\":[{\"type\":\"histogram2d\",\"colorbar\":{\"outlinewidth\":0,\"ticks\":\"\"},\"colorscale\":[[0.0,\"#0d0887\"],[0.1111111111111111,\"#46039f\"],[0.2222222222222222,\"#7201a8\"],[0.3333333333333333,\"#9c179e\"],[0.4444444444444444,\"#bd3786\"],[0.5555555555555556,\"#d8576b\"],[0.6666666666666666,\"#ed7953\"],[0.7777777777777778,\"#fb9f3a\"],[0.8888888888888888,\"#fdca26\"],[1.0,\"#f0f921\"]]}],\"heatmap\":[{\"type\":\"heatmap\",\"colorbar\":{\"outlinewidth\":0,\"ticks\":\"\"},\"colorscale\":[[0.0,\"#0d0887\"],[0.1111111111111111,\"#46039f\"],[0.2222222222222222,\"#7201a8\"],[0.3333333333333333,\"#9c179e\"],[0.4444444444444444,\"#bd3786\"],[0.5555555555555556,\"#d8576b\"],[0.6666666666666666,\"#ed7953\"],[0.7777777777777778,\"#fb9f3a\"],[0.8888888888888888,\"#fdca26\"],[1.0,\"#f0f921\"]]}],\"heatmapgl\":[{\"type\":\"heatmapgl\",\"colorbar\":{\"outlinewidth\":0,\"ticks\":\"\"},\"colorscale\":[[0.0,\"#0d0887\"],[0.1111111111111111,\"#46039f\"],[0.2222222222222222,\"#7201a8\"],[0.3333333333333333,\"#9c179e\"],[0.4444444444444444,\"#bd3786\"],[0.5555555555555556,\"#d8576b\"],[0.6666666666666666,\"#ed7953\"],[0.7777777777777778,\"#fb9f3a\"],[0.8888888888888888,\"#fdca26\"],[1.0,\"#f0f921\"]]}],\"contourcarpet\":[{\"type\":\"contourcarpet\",\"colorbar\":{\"outlinewidth\":0,\"ticks\":\"\"}}],\"contour\":[{\"type\":\"contour\",\"colorbar\":{\"outlinewidth\":0,\"ticks\":\"\"},\"colorscale\":[[0.0,\"#0d0887\"],[0.1111111111111111,\"#46039f\"],[0.2222222222222222,\"#7201a8\"],[0.3333333333333333,\"#9c179e\"],[0.4444444444444444,\"#bd3786\"],[0.5555555555555556,\"#d8576b\"],[0.6666666666666666,\"#ed7953\"],[0.7777777777777778,\"#fb9f3a\"],[0.8888888888888888,\"#fdca26\"],[1.0,\"#f0f921\"]]}],\"surface\":[{\"type\":\"surface\",\"colorbar\":{\"outlinewidth\":0,\"ticks\":\"\"},\"colorscale\":[[0.0,\"#0d0887\"],[0.1111111111111111,\"#46039f\"],[0.2222222222222222,\"#7201a8\"],[0.3333333333333333,\"#9c179e\"],[0.4444444444444444,\"#bd3786\"],[0.5555555555555556,\"#d8576b\"],[0.6666666666666666,\"#ed7953\"],[0.7777777777777778,\"#fb9f3a\"],[0.8888888888888888,\"#fdca26\"],[1.0,\"#f0f921\"]]}],\"mesh3d\":[{\"type\":\"mesh3d\",\"colorbar\":{\"outlinewidth\":0,\"ticks\":\"\"}}],\"scatter\":[{\"fillpattern\":{\"fillmode\":\"overlay\",\"size\":10,\"solidity\":0.2},\"type\":\"scatter\"}],\"parcoords\":[{\"type\":\"parcoords\",\"line\":{\"colorbar\":{\"outlinewidth\":0,\"ticks\":\"\"}}}],\"scatterpolargl\":[{\"type\":\"scatterpolargl\",\"marker\":{\"colorbar\":{\"outlinewidth\":0,\"ticks\":\"\"}}}],\"bar\":[{\"error_x\":{\"color\":\"#2a3f5f\"},\"error_y\":{\"color\":\"#2a3f5f\"},\"marker\":{\"line\":{\"color\":\"#E5ECF6\",\"width\":0.5},\"pattern\":{\"fillmode\":\"overlay\",\"size\":10,\"solidity\":0.2}},\"type\":\"bar\"}],\"scattergeo\":[{\"type\":\"scattergeo\",\"marker\":{\"colorbar\":{\"outlinewidth\":0,\"ticks\":\"\"}}}],\"scatterpolar\":[{\"type\":\"scatterpolar\",\"marker\":{\"colorbar\":{\"outlinewidth\":0,\"ticks\":\"\"}}}],\"histogram\":[{\"marker\":{\"pattern\":{\"fillmode\":\"overlay\",\"size\":10,\"solidity\":0.2}},\"type\":\"histogram\"}],\"scattergl\":[{\"type\":\"scattergl\",\"marker\":{\"colorbar\":{\"outlinewidth\":0,\"ticks\":\"\"}}}],\"scatter3d\":[{\"type\":\"scatter3d\",\"line\":{\"colorbar\":{\"outlinewidth\":0,\"ticks\":\"\"}},\"marker\":{\"colorbar\":{\"outlinewidth\":0,\"ticks\":\"\"}}}],\"scattermapbox\":[{\"type\":\"scattermapbox\",\"marker\":{\"colorbar\":{\"outlinewidth\":0,\"ticks\":\"\"}}}],\"scatterternary\":[{\"type\":\"scatterternary\",\"marker\":{\"colorbar\":{\"outlinewidth\":0,\"ticks\":\"\"}}}],\"scattercarpet\":[{\"type\":\"scattercarpet\",\"marker\":{\"colorbar\":{\"outlinewidth\":0,\"ticks\":\"\"}}}],\"carpet\":[{\"aaxis\":{\"endlinecolor\":\"#2a3f5f\",\"gridcolor\":\"white\",\"linecolor\":\"white\",\"minorgridcolor\":\"white\",\"startlinecolor\":\"#2a3f5f\"},\"baxis\":{\"endlinecolor\":\"#2a3f5f\",\"gridcolor\":\"white\",\"linecolor\":\"white\",\"minorgridcolor\":\"white\",\"startlinecolor\":\"#2a3f5f\"},\"type\":\"carpet\"}],\"table\":[{\"cells\":{\"fill\":{\"color\":\"#EBF0F8\"},\"line\":{\"color\":\"white\"}},\"header\":{\"fill\":{\"color\":\"#C8D4E3\"},\"line\":{\"color\":\"white\"}},\"type\":\"table\"}],\"barpolar\":[{\"marker\":{\"line\":{\"color\":\"#E5ECF6\",\"width\":0.5},\"pattern\":{\"fillmode\":\"overlay\",\"size\":10,\"solidity\":0.2}},\"type\":\"barpolar\"}],\"pie\":[{\"automargin\":true,\"type\":\"pie\"}]},\"layout\":{\"autotypenumbers\":\"strict\",\"colorway\":[\"#636efa\",\"#EF553B\",\"#00cc96\",\"#ab63fa\",\"#FFA15A\",\"#19d3f3\",\"#FF6692\",\"#B6E880\",\"#FF97FF\",\"#FECB52\"],\"font\":{\"color\":\"#2a3f5f\"},\"hovermode\":\"closest\",\"hoverlabel\":{\"align\":\"left\"},\"paper_bgcolor\":\"white\",\"plot_bgcolor\":\"#E5ECF6\",\"polar\":{\"bgcolor\":\"#E5ECF6\",\"angularaxis\":{\"gridcolor\":\"white\",\"linecolor\":\"white\",\"ticks\":\"\"},\"radialaxis\":{\"gridcolor\":\"white\",\"linecolor\":\"white\",\"ticks\":\"\"}},\"ternary\":{\"bgcolor\":\"#E5ECF6\",\"aaxis\":{\"gridcolor\":\"white\",\"linecolor\":\"white\",\"ticks\":\"\"},\"baxis\":{\"gridcolor\":\"white\",\"linecolor\":\"white\",\"ticks\":\"\"},\"caxis\":{\"gridcolor\":\"white\",\"linecolor\":\"white\",\"ticks\":\"\"}},\"coloraxis\":{\"colorbar\":{\"outlinewidth\":0,\"ticks\":\"\"}},\"colorscale\":{\"sequential\":[[0.0,\"#0d0887\"],[0.1111111111111111,\"#46039f\"],[0.2222222222222222,\"#7201a8\"],[0.3333333333333333,\"#9c179e\"],[0.4444444444444444,\"#bd3786\"],[0.5555555555555556,\"#d8576b\"],[0.6666666666666666,\"#ed7953\"],[0.7777777777777778,\"#fb9f3a\"],[0.8888888888888888,\"#fdca26\"],[1.0,\"#f0f921\"]],\"sequentialminus\":[[0.0,\"#0d0887\"],[0.1111111111111111,\"#46039f\"],[0.2222222222222222,\"#7201a8\"],[0.3333333333333333,\"#9c179e\"],[0.4444444444444444,\"#bd3786\"],[0.5555555555555556,\"#d8576b\"],[0.6666666666666666,\"#ed7953\"],[0.7777777777777778,\"#fb9f3a\"],[0.8888888888888888,\"#fdca26\"],[1.0,\"#f0f921\"]],\"diverging\":[[0,\"#8e0152\"],[0.1,\"#c51b7d\"],[0.2,\"#de77ae\"],[0.3,\"#f1b6da\"],[0.4,\"#fde0ef\"],[0.5,\"#f7f7f7\"],[0.6,\"#e6f5d0\"],[0.7,\"#b8e186\"],[0.8,\"#7fbc41\"],[0.9,\"#4d9221\"],[1,\"#276419\"]]},\"xaxis\":{\"gridcolor\":\"white\",\"linecolor\":\"white\",\"ticks\":\"\",\"title\":{\"standoff\":15},\"zerolinecolor\":\"white\",\"automargin\":true,\"zerolinewidth\":2},\"yaxis\":{\"gridcolor\":\"white\",\"linecolor\":\"white\",\"ticks\":\"\",\"title\":{\"standoff\":15},\"zerolinecolor\":\"white\",\"automargin\":true,\"zerolinewidth\":2},\"scene\":{\"xaxis\":{\"backgroundcolor\":\"#E5ECF6\",\"gridcolor\":\"white\",\"linecolor\":\"white\",\"showbackground\":true,\"ticks\":\"\",\"zerolinecolor\":\"white\",\"gridwidth\":2},\"yaxis\":{\"backgroundcolor\":\"#E5ECF6\",\"gridcolor\":\"white\",\"linecolor\":\"white\",\"showbackground\":true,\"ticks\":\"\",\"zerolinecolor\":\"white\",\"gridwidth\":2},\"zaxis\":{\"backgroundcolor\":\"#E5ECF6\",\"gridcolor\":\"white\",\"linecolor\":\"white\",\"showbackground\":true,\"ticks\":\"\",\"zerolinecolor\":\"white\",\"gridwidth\":2}},\"shapedefaults\":{\"line\":{\"color\":\"#2a3f5f\"}},\"annotationdefaults\":{\"arrowcolor\":\"#2a3f5f\",\"arrowhead\":0,\"arrowwidth\":1},\"geo\":{\"bgcolor\":\"white\",\"landcolor\":\"#E5ECF6\",\"subunitcolor\":\"white\",\"showland\":true,\"showlakes\":true,\"lakecolor\":\"white\"},\"title\":{\"x\":0.05},\"mapbox\":{\"style\":\"light\"}}},\"xaxis\":{\"anchor\":\"y\",\"domain\":[0.0,1.0],\"title\":{\"text\":\"MaritalStatus\"}},\"yaxis\":{\"anchor\":\"x\",\"domain\":[0.0,1.0],\"title\":{\"text\":\"Number of Employees\"}},\"legend\":{\"title\":{\"text\":\"Attrition\"},\"tracegroupgap\":0},\"title\":{\"text\":\"Attrition by Marital Status (Only Employees who did OverTime)\"},\"barmode\":\"group\",\"width\":800,\"height\":500},                        {\"responsive\": true}                    ).then(function(){\n",
              "                            \n",
              "var gd = document.getElementById('338f31f8-fff1-403b-a229-7c986bf058a1');\n",
              "var x = new MutationObserver(function (mutations, observer) {{\n",
              "        var display = window.getComputedStyle(gd).display;\n",
              "        if (!display || display === 'none') {{\n",
              "            console.log([gd, 'removed!']);\n",
              "            Plotly.purge(gd);\n",
              "            observer.disconnect();\n",
              "        }}\n",
              "}});\n",
              "\n",
              "// Listen for the removal of the full notebook cells\n",
              "var notebookContainer = gd.closest('#notebook-container');\n",
              "if (notebookContainer) {{\n",
              "    x.observe(notebookContainer, {childList: true});\n",
              "}}\n",
              "\n",
              "// Listen for the clearing of the current output cell\n",
              "var outputEl = gd.closest('.output');\n",
              "if (outputEl) {{\n",
              "    x.observe(outputEl, {childList: true});\n",
              "}}\n",
              "\n",
              "                        })                };                            </script>        </div>\n",
              "</body>\n",
              "</html>"
            ]
          },
          "metadata": {}
        }
      ]
    },
    {
      "cell_type": "markdown",
      "source": [
        "**Insight:** Single employees doing overtime have higher attrition than Married or Divorced employees."
      ],
      "metadata": {
        "id": "gWeQL4bMrs7c"
      }
    },
    {
      "cell_type": "markdown",
      "source": [
        "### Job-related"
      ],
      "metadata": {
        "id": "5rJgigOqs-Ed"
      }
    },
    {
      "cell_type": "code",
      "source": [
        "# Job Role\n",
        "plt.figure(figsize=(12, 6))\n",
        "sns.countplot(data=df, y='JobRole', hue='Attrition', palette='viridis')\n",
        "plt.title('Attrition by Job Role')\n",
        "plt.show()"
      ],
      "metadata": {
        "colab": {
          "base_uri": "https://localhost:8080/",
          "height": 562
        },
        "id": "7FurKJ3jNA8s",
        "outputId": "45b9a571-e6a5-4992-c653-90259b868ee3"
      },
      "execution_count": null,
      "outputs": [
        {
          "output_type": "display_data",
          "data": {
            "text/plain": [
              "<Figure size 1200x600 with 1 Axes>"
            ],
            "image/png": "[encoded data removed]"
          },
          "metadata": {}
        }
      ]
    },
    {
      "cell_type": "markdown",
      "source": [
        "**Insight:** Job roles like 'Laboratory Technician', 'Sales Executive', 'Research Scientist' and 'Sales Representative' have higher attrition."
      ],
      "metadata": {
        "id": "0UZsAdNKGeYe"
      }
    },
    {
      "cell_type": "code",
      "source": [
        "# Attrition by Department\n",
        "fig2 = px.histogram(df, x='Department', color='Attrition', barmode='group', color_discrete_map={'Yes':'green','No':'darkblue'})\n",
        "fig2.show()"
      ],
      "metadata": {
        "colab": {
          "base_uri": "https://localhost:8080/",
          "height": 542
        },
        "id": "cOyzo5vfO5LK",
        "outputId": "e4d8c7a6-3379-42a5-d26e-11ad941cb7ae"
      },
      "execution_count": null,
      "outputs": [
        {
          "output_type": "display_data",
          "data": {
            "text/html": [
              "<html>\n",
              "<head><meta charset=\"utf-8\" /></head>\n",
              "<body>\n",
              "    <div>            <script src=\"https://cdnjs.cloudflare.com/ajax/libs/mathjax/2.7.5/MathJax.js?config=TeX-AMS-MML_SVG\"></script><script type=\"text/javascript\">if (window.MathJax && window.MathJax.Hub && window.MathJax.Hub.Config) {window.MathJax.Hub.Config({SVG: {font: \"STIX-Web\"}});}</script>                <script type=\"text/javascript\">window.PlotlyConfig = {MathJaxConfig: 'local'};</script>\n",
              "        <script charset=\"utf-8\" src=\"https://cdn.plot.ly/plotly-2.35.2.min.js\"></script>                <div id=\"81e12c9a-3615-42bd-8607-636afb6d03ae\" class=\"plotly-graph-div\" style=\"height:525px; width:100%;\"></div>            <script type=\"text/javascript\">                                    window.PLOTLYENV=window.PLOTLYENV || {};                                    if (document.getElementById(\"81e12c9a-3615-42bd-8607-636afb6d03ae\")) {                    Plotly.newPlot(                        \"81e12c9a-3615-42bd-8607-636afb6d03ae\",                        [{\"alignmentgroup\":\"True\",\"bingroup\":\"x\",\"hovertemplate\":\"Attrition=Yes\\u003cbr\\u003eDepartment=%{x}\\u003cbr\\u003ecount=%{y}\\u003cextra\\u003e\\u003c\\u002fextra\\u003e\",\"legendgroup\":\"Yes\",\"marker\":{\"color\":\"green\",\"pattern\":{\"shape\":\"\"}},\"name\":\"Yes\",\"offsetgroup\":\"Yes\",\"orientation\":\"v\",\"showlegend\":true,\"x\":[\"Sales\",\"Research & Development\",\"Research & Development\",\"Sales\",\"Research & Development\",\"Research & Development\",\"Sales\",\"Research & Development\",\"Sales\",\"Research & Development\",\"Research & Development\",\"Research & Development\",\"Research & Development\",\"Research & Development\",\"Sales\",\"Human Resources\",\"Research & Development\",\"Sales\",\"Research & Development\",\"Research & Development\",\"Sales\",\"Research & Development\",\"Sales\",\"Sales\",\"Research & Development\",\"Research & Development\",\"Sales\",\"Research & Development\",\"Sales\",\"Research & Development\",\"Research & Development\",\"Sales\",\"Sales\",\"Research & Development\",\"Sales\",\"Research & Development\",\"Research & Development\",\"Research & Development\",\"Research & Development\",\"Research & Development\",\"Research & Development\",\"Research & Development\",\"Research & Development\",\"Research & Development\",\"Research & Development\",\"Research & Development\",\"Sales\",\"Research & Development\",\"Research & Development\",\"Research & Development\",\"Sales\",\"Research & Development\",\"Sales\",\"Sales\",\"Sales\",\"Sales\",\"Sales\",\"Sales\",\"Research & Development\",\"Research & Development\",\"Research & Development\",\"Sales\",\"Sales\",\"Research & Development\",\"Human Resources\",\"Research & Development\",\"Research & Development\",\"Research & Development\",\"Human Resources\",\"Research & Development\",\"Human Resources\",\"Sales\",\"Research & Development\",\"Sales\",\"Research & Development\",\"Sales\",\"Sales\",\"Sales\",\"Sales\",\"Research & Development\",\"Research & Development\",\"Sales\",\"Sales\",\"Research & Development\",\"Research & Development\",\"Research & Development\",\"Sales\",\"Research & Development\",\"Sales\",\"Research & Development\",\"Research & Development\",\"Sales\",\"Research & Development\",\"Research & Development\",\"Sales\",\"Sales\",\"Research & Development\",\"Research & Development\",\"Sales\",\"Research & Development\",\"Research & Development\",\"Sales\",\"Research & Development\",\"Research & Development\",\"Research & Development\",\"Research & Development\",\"Sales\",\"Sales\",\"Research & Development\",\"Sales\",\"Sales\",\"Research & Development\",\"Sales\",\"Research & Development\",\"Research & Development\",\"Research & Development\",\"Research & Development\",\"Research & Development\",\"Research & Development\",\"Research & Development\",\"Sales\",\"Sales\",\"Research & Development\",\"Research & Development\",\"Research & Development\",\"Sales\",\"Research & Development\",\"Research & Development\",\"Research & Development\",\"Human Resources\",\"Sales\",\"Research & Development\",\"Research & Development\",\"Research & Development\",\"Research & Development\",\"Research & Development\",\"Sales\",\"Research & Development\",\"Research & Development\",\"Sales\",\"Research & Development\",\"Sales\",\"Sales\",\"Research & Development\",\"Sales\",\"Research & Development\",\"Research & Development\",\"Research & Development\",\"Research & Development\",\"Research & Development\",\"Sales\",\"Sales\",\"Research & Development\",\"Research & Development\",\"Research & Development\",\"Research & Development\",\"Research & Development\",\"Sales\",\"Sales\",\"Sales\",\"Research & Development\",\"Research & Development\",\"Sales\",\"Sales\",\"Sales\",\"Research & Development\",\"Research & Development\",\"Research & Development\",\"Research & Development\",\"Sales\",\"Research & Development\",\"Sales\",\"Sales\",\"Research & Development\",\"Research & Development\",\"Research & Development\",\"Human Resources\",\"Sales\",\"Sales\",\"Sales\",\"Research & Development\",\"Research & Development\",\"Research & Development\",\"Research & Development\",\"Research & Development\",\"Sales\",\"Research & Development\",\"Research & Development\",\"Research & Development\",\"Research & Development\",\"Sales\",\"Sales\",\"Sales\",\"Research & Development\",\"Sales\",\"Research & Development\",\"Sales\",\"Research & Development\",\"Sales\",\"Human Resources\",\"Sales\",\"Sales\",\"Sales\",\"Human Resources\",\"Sales\",\"Sales\",\"Sales\",\"Research & Development\",\"Sales\",\"Research & Development\",\"Research & Development\",\"Sales\",\"Research & Development\",\"Research & Development\",\"Human Resources\",\"Research & Development\",\"Human Resources\",\"Human Resources\",\"Sales\",\"Research & Development\",\"Sales\",\"Sales\",\"Research & Development\",\"Research & Development\",\"Research & Development\",\"Sales\",\"Sales\",\"Research & Development\",\"Human Resources\",\"Research & Development\",\"Sales\",\"Sales\",\"Sales\",\"Research & Development\",\"Research & Development\",\"Sales\",\"Sales\"],\"xaxis\":\"x\",\"yaxis\":\"y\",\"type\":\"histogram\"},{\"alignmentgroup\":\"True\",\"bingroup\":\"x\",\"hovertemplate\":\"Attrition=No\\u003cbr\\u003eDepartment=%{x}\\u003cbr\\u003ecount=%{y}\\u003cextra\\u003e\\u003c\\u002fextra\\u003e\",\"legendgroup\":\"No\",\"marker\":{\"color\":\"darkblue\",\"pattern\":{\"shape\":\"\"}},\"name\":\"No\",\"offsetgroup\":\"No\",\"orientation\":\"v\",\"showlegend\":true,\"x\":[\"Research & Development\",\"Research & Development\",\"Research & Development\",\"Research & Development\",\"Research & Development\",\"Research & Development\",\"Research & Development\",\"Research & Development\",\"Research & Development\",\"Research & Development\",\"Research & Development\",\"Research & Development\",\"Research & Development\",\"Research & Development\",\"Research & Development\",\"Sales\",\"Research & Development\",\"Research & Development\",\"Research & Development\",\"Research & Development\",\"Research & Development\",\"Sales\",\"Research & Development\",\"Sales\",\"Research & Development\",\"Research & Development\",\"Research & Development\",\"Research & Development\",\"Sales\",\"Research & Development\",\"Sales\",\"Research & Development\",\"Research & Development\",\"Sales\",\"Research & Development\",\"Sales\",\"Research & Development\",\"Sales\",\"Research & Development\",\"Sales\",\"Research & Development\",\"Sales\",\"Research & Development\",\"Sales\",\"Research & Development\",\"Research & Development\",\"Research & Development\",\"Research & Development\",\"Research & Development\",\"Research & Development\",\"Sales\",\"Research & Development\",\"Research & Development\",\"Research & Development\",\"Research & Development\",\"Research & Development\",\"Sales\",\"Research & Development\",\"Research & Development\",\"Research & Development\",\"Research & Development\",\"Research & Development\",\"Sales\",\"Research & Development\",\"Research & Development\",\"Human Resources\",\"Research & Development\",\"Research & Development\",\"Sales\",\"Research & Development\",\"Research & Development\",\"Research & Development\",\"Sales\",\"Research & Development\",\"Research & Development\",\"Research & Development\",\"Sales\",\"Sales\",\"Research & Development\",\"Sales\",\"Research & Development\",\"Sales\",\"Sales\",\"Sales\",\"Research & Development\",\"Research & Development\",\"Research & Development\",\"Research & Development\",\"Human Resources\",\"Research & Development\",\"Research & Development\",\"Research & Development\",\"Research & Development\",\"Human Resources\",\"Research & Development\",\"Research & Development\",\"Sales\",\"Research & Development\",\"Sales\",\"Research & Development\",\"Sales\",\"Research & Development\",\"Sales\",\"Research & Development\",\"Research & Development\",\"Research & Development\",\"Research & Development\",\"Research & Development\",\"Sales\",\"Sales\",\"Human Resources\",\"Research & Development\",\"Sales\",\"Sales\",\"Human Resources\",\"Research & Development\",\"Research & Development\",\"Research & Development\",\"Sales\",\"Research & Development\",\"Research & Development\",\"Research & Development\",\"Research & Development\",\"Research & Development\",\"Research & Development\",\"Sales\",\"Sales\",\"Research & Development\",\"Sales\",\"Research & Development\",\"Research & Development\",\"Research & Development\",\"Sales\",\"Sales\",\"Research & Development\",\"Research & Development\",\"Research & Development\",\"Research & Development\",\"Research & Development\",\"Research & Development\",\"Research & Development\",\"Sales\",\"Sales\",\"Research & Development\",\"Research & Development\",\"Research & Development\",\"Research & Development\",\"Sales\",\"Research & Development\",\"Research & Development\",\"Sales\",\"Research & Development\",\"Research & Development\",\"Research & Development\",\"Research & Development\",\"Research & Development\",\"Research & Development\",\"Research & Development\",\"Research & Development\",\"Research & Development\",\"Research & Development\",\"Research & Development\",\"Research & Development\",\"Research & Development\",\"Research & Development\",\"Research & Development\",\"Research & Development\",\"Research & Development\",\"Research & Development\",\"Research & Development\",\"Research & Development\",\"Research & Development\",\"Research & Development\",\"Research & Development\",\"Research & Development\",\"Research & Development\",\"Research & Development\",\"Research & Development\",\"Research & Development\",\"Sales\",\"Research & Development\",\"Sales\",\"Sales\",\"Sales\",\"Research & Development\",\"Research & Development\",\"Research & Development\",\"Sales\",\"Research & Development\",\"Research & Development\",\"Sales\",\"Sales\",\"Sales\",\"Research & Development\",\"Research & Development\",\"Human Resources\",\"Sales\",\"Sales\",\"Sales\",\"Sales\",\"Research & Development\",\"Sales\",\"Research & Development\",\"Research & Development\",\"Research & Development\",\"Research & Development\",\"Research & Development\",\"Research & Development\",\"Research & Development\",\"Research & Development\",\"Research & Development\",\"Research & Development\",\"Research & Development\",\"Sales\",\"Research & Development\",\"Research & Development\",\"Research & Development\",\"Research & Development\",\"Research & Development\",\"Sales\",\"Research & Development\",\"Sales\",\"Sales\",\"Research & Development\",\"Research & Development\",\"Research & Development\",\"Research & Development\",\"Research & Development\",\"Research & Development\",\"Sales\",\"Research & Development\",\"Research & Development\",\"Research & Development\",\"Sales\",\"Research & Development\",\"Research & Development\",\"Research & Development\",\"Sales\",\"Sales\",\"Research & Development\",\"Research & Development\",\"Research & Development\",\"Research & Development\",\"Research & Development\",\"Research & Development\",\"Research & Development\",\"Sales\",\"Research & Development\",\"Sales\",\"Sales\",\"Research & Development\",\"Research & Development\",\"Sales\",\"Sales\",\"Research & Development\",\"Sales\",\"Research & Development\",\"Research & Development\",\"Sales\",\"Research & Development\",\"Research & Development\",\"Research & Development\",\"Human Resources\",\"Research & Development\",\"Research & Development\",\"Research & Development\",\"Research & Development\",\"Research & Development\",\"Research & Development\",\"Research & Development\",\"Sales\",\"Sales\",\"Sales\",\"Research & Development\",\"Research & Development\",\"Research & Development\",\"Research & Development\",\"Sales\",\"Research & Development\",\"Research & Development\",\"Sales\",\"Research & Development\",\"Research & Development\",\"Research & Development\",\"Sales\",\"Research & Development\",\"Sales\",\"Sales\",\"Research & Development\",\"Research & Development\",\"Research & Development\",\"Sales\",\"Research & Development\",\"Research & Development\",\"Research & Development\",\"Sales\",\"Research & Development\",\"Sales\",\"Human Resources\",\"Research & Development\",\"Sales\",\"Research & Development\",\"Sales\",\"Sales\",\"Research & Development\",\"Sales\",\"Sales\",\"Research & Development\",\"Research & Development\",\"Sales\",\"Research & Development\",\"Research & Development\",\"Research & Development\",\"Research & Development\",\"Research & Development\",\"Research & Development\",\"Research & Development\",\"Sales\",\"Research & Development\",\"Sales\",\"Research & Development\",\"Research & Development\",\"Sales\",\"Sales\",\"Research & Development\",\"Sales\",\"Research & Development\",\"Sales\",\"Research & Development\",\"Research & Development\",\"Research & Development\",\"Research & Development\",\"Research & Development\",\"Sales\",\"Research & Development\",\"Research & Development\",\"Research & Development\",\"Sales\",\"Research & Development\",\"Research & Development\",\"Research & Development\",\"Sales\",\"Sales\",\"Sales\",\"Research & Development\",\"Research & Development\",\"Research & Development\",\"Research & Development\",\"Research & Development\",\"Research & Development\",\"Research & Development\",\"Research & Development\",\"Research & Development\",\"Research & Development\",\"Sales\",\"Research & Development\",\"Research & Development\",\"Research & Development\",\"Sales\",\"Sales\",\"Research & Development\",\"Research & Development\",\"Sales\",\"Research & Development\",\"Research & Development\",\"Research & Development\",\"Research & Development\",\"Research & Development\",\"Sales\",\"Research & Development\",\"Sales\",\"Research & Development\",\"Research & Development\",\"Sales\",\"Sales\",\"Sales\",\"Sales\",\"Sales\",\"Research & Development\",\"Research & Development\",\"Sales\",\"Research & Development\",\"Sales\",\"Research & Development\",\"Research & Development\",\"Sales\",\"Sales\",\"Research & Development\",\"Sales\",\"Sales\",\"Sales\",\"Research & Development\",\"Research & Development\",\"Sales\",\"Sales\",\"Research & Development\",\"Sales\",\"Research & Development\",\"Research & Development\",\"Research & Development\",\"Research & Development\",\"Sales\",\"Research & Development\",\"Human Resources\",\"Sales\",\"Research & Development\",\"Research & Development\",\"Sales\",\"Research & Development\",\"Sales\",\"Research & Development\",\"Research & Development\",\"Research & Development\",\"Research & Development\",\"Research & Development\",\"Research & Development\",\"Human Resources\",\"Sales\",\"Sales\",\"Research & Development\",\"Research & Development\",\"Sales\",\"Research & Development\",\"Research & Development\",\"Sales\",\"Research & Development\",\"Research & Development\",\"Research & Development\",\"Sales\",\"Research & Development\",\"Research & Development\",\"Human Resources\",\"Research & Development\",\"Research & Development\",\"Research & Development\",\"Research & Development\",\"Sales\",\"Sales\",\"Research & Development\",\"Sales\",\"Sales\",\"Research & Development\",\"Research & Development\",\"Research & Development\",\"Research & Development\",\"Sales\",\"Research & Development\",\"Research & Development\",\"Research & Development\",\"Sales\",\"Sales\",\"Research & Development\",\"Human Resources\",\"Sales\",\"Research & Development\",\"Human Resources\",\"Sales\",\"Research & Development\",\"Research & Development\",\"Research & Development\",\"Sales\",\"Sales\",\"Sales\",\"Sales\",\"Research & Development\",\"Research & Development\",\"Human Resources\",\"Research & Development\",\"Research & Development\",\"Research & Development\",\"Sales\",\"Research & Development\",\"Research & Development\",\"Research & Development\",\"Research & Development\",\"Research & Development\",\"Sales\",\"Sales\",\"Sales\",\"Research & Development\",\"Sales\",\"Sales\",\"Research & Development\",\"Research & Development\",\"Research & Development\",\"Research & Development\",\"Research & Development\",\"Sales\",\"Research & Development\",\"Research & Development\",\"Research & Development\",\"Sales\",\"Research & Development\",\"Research & Development\",\"Sales\",\"Research & Development\",\"Research & Development\",\"Research & Development\",\"Research & Development\",\"Research & Development\",\"Research & Development\",\"Research & Development\",\"Research & Development\",\"Research & Development\",\"Research & Development\",\"Human Resources\",\"Research & Development\",\"Research & Development\",\"Research & Development\",\"Research & Development\",\"Research & Development\",\"Research & Development\",\"Research & Development\",\"Research & Development\",\"Research & Development\",\"Research & Development\",\"Sales\",\"Human Resources\",\"Research & Development\",\"Sales\",\"Research & Development\",\"Research & Development\",\"Sales\",\"Research & Development\",\"Sales\",\"Sales\",\"Research & Development\",\"Sales\",\"Sales\",\"Research & Development\",\"Research & Development\",\"Sales\",\"Human Resources\",\"Research & Development\",\"Research & Development\",\"Research & Development\",\"Human Resources\",\"Sales\",\"Research & Development\",\"Research & Development\",\"Sales\",\"Research & Development\",\"Research & Development\",\"Sales\",\"Sales\",\"Research & Development\",\"Research & Development\",\"Sales\",\"Research & Development\",\"Sales\",\"Research & Development\",\"Research & Development\",\"Sales\",\"Sales\",\"Research & Development\",\"Human Resources\",\"Human Resources\",\"Research & Development\",\"Research & Development\",\"Sales\",\"Research & Development\",\"Research & Development\",\"Sales\",\"Research & Development\",\"Research & Development\",\"Research & Development\",\"Sales\",\"Research & Development\",\"Research & Development\",\"Sales\",\"Research & Development\",\"Research & Development\",\"Research & Development\",\"Sales\",\"Research & Development\",\"Research & Development\",\"Research & Development\",\"Sales\",\"Sales\",\"Research & Development\",\"Research & Development\",\"Research & Development\",\"Research & Development\",\"Research & Development\",\"Research & Development\",\"Research & Development\",\"Sales\",\"Sales\",\"Research & Development\",\"Sales\",\"Sales\",\"Sales\",\"Sales\",\"Sales\",\"Research & Development\",\"Sales\",\"Sales\",\"Research & Development\",\"Research & Development\",\"Research & Development\",\"Research & Development\",\"Research & Development\",\"Research & Development\",\"Research & Development\",\"Sales\",\"Research & Development\",\"Research & Development\",\"Research & Development\",\"Research & Development\",\"Research & Development\",\"Research & Development\",\"Research & Development\",\"Research & Development\",\"Research & Development\",\"Research & Development\",\"Research & Development\",\"Research & Development\",\"Research & Development\",\"Research & Development\",\"Research & Development\",\"Research & Development\",\"Research & Development\",\"Sales\",\"Research & Development\",\"Research & Development\",\"Research & Development\",\"Research & Development\",\"Sales\",\"Sales\",\"Sales\",\"Research & Development\",\"Sales\",\"Sales\",\"Research & Development\",\"Sales\",\"Sales\",\"Human Resources\",\"Sales\",\"Sales\",\"Sales\",\"Research & Development\",\"Research & Development\",\"Research & Development\",\"Sales\",\"Research & Development\",\"Research & Development\",\"Sales\",\"Research & Development\",\"Research & Development\",\"Research & Development\",\"Sales\",\"Research & Development\",\"Research & Development\",\"Research & Development\",\"Research & Development\",\"Research & Development\",\"Research & Development\",\"Research & Development\",\"Research & Development\",\"Research & Development\",\"Research & Development\",\"Research & Development\",\"Research & Development\",\"Sales\",\"Research & Development\",\"Sales\",\"Research & Development\",\"Research & Development\",\"Sales\",\"Research & Development\",\"Sales\",\"Research & Development\",\"Research & Development\",\"Sales\",\"Sales\",\"Research & Development\",\"Research & Development\",\"Research & Development\",\"Research & Development\",\"Research & Development\",\"Sales\",\"Research & Development\",\"Sales\",\"Sales\",\"Research & Development\",\"Research & Development\",\"Research & Development\",\"Research & Development\",\"Human Resources\",\"Research & Development\",\"Research & Development\",\"Research & Development\",\"Research & Development\",\"Sales\",\"Human Resources\",\"Research & Development\",\"Sales\",\"Research & Development\",\"Research & Development\",\"Research & Development\",\"Sales\",\"Research & Development\",\"Research & Development\",\"Research & Development\",\"Research & Development\",\"Sales\",\"Research & Development\",\"Research & Development\",\"Research & Development\",\"Research & Development\",\"Research & Development\",\"Research & Development\",\"Research & Development\",\"Research & Development\",\"Sales\",\"Research & Development\",\"Human Resources\",\"Sales\",\"Sales\",\"Research & Development\",\"Research & Development\",\"Research & Development\",\"Sales\",\"Sales\",\"Research & Development\",\"Research & Development\",\"Research & Development\",\"Sales\",\"Research & Development\",\"Human Resources\",\"Sales\",\"Research & Development\",\"Research & Development\",\"Research & Development\",\"Research & Development\",\"Sales\",\"Sales\",\"Research & Development\",\"Research & Development\",\"Sales\",\"Research & Development\",\"Research & Development\",\"Research & Development\",\"Research & Development\",\"Research & Development\",\"Research & Development\",\"Research & Development\",\"Sales\",\"Research & Development\",\"Research & Development\",\"Research & Development\",\"Research & Development\",\"Research & Development\",\"Research & Development\",\"Research & Development\",\"Research & Development\",\"Research & Development\",\"Sales\",\"Sales\",\"Research & Development\",\"Research & Development\",\"Research & Development\",\"Research & Development\",\"Sales\",\"Sales\",\"Sales\",\"Research & Development\",\"Research & Development\",\"Research & Development\",\"Research & Development\",\"Human Resources\",\"Research & Development\",\"Research & Development\",\"Sales\",\"Research & Development\",\"Research & Development\",\"Research & Development\",\"Research & Development\",\"Research & Development\",\"Research & Development\",\"Sales\",\"Research & Development\",\"Research & Development\",\"Research & Development\",\"Research & Development\",\"Research & Development\",\"Human Resources\",\"Research & Development\",\"Research & Development\",\"Research & Development\",\"Research & Development\",\"Sales\",\"Sales\",\"Research & Development\",\"Research & Development\",\"Human Resources\",\"Research & Development\",\"Research & Development\",\"Research & Development\",\"Sales\",\"Research & Development\",\"Human Resources\",\"Sales\",\"Sales\",\"Research & Development\",\"Research & Development\",\"Sales\",\"Research & Development\",\"Sales\",\"Research & Development\",\"Research & Development\",\"Research & Development\",\"Sales\",\"Research & Development\",\"Research & Development\",\"Research & Development\",\"Research & Development\",\"Research & Development\",\"Research & Development\",\"Sales\",\"Sales\",\"Sales\",\"Research & Development\",\"Research & Development\",\"Sales\",\"Sales\",\"Research & Development\",\"Sales\",\"Research & Development\",\"Research & Development\",\"Sales\",\"Research & Development\",\"Human Resources\",\"Research & Development\",\"Research & Development\",\"Research & Development\",\"Research & Development\",\"Research & Development\",\"Human Resources\",\"Research & Development\",\"Research & Development\",\"Research & Development\",\"Sales\",\"Sales\",\"Research & Development\",\"Research & Development\",\"Research & Development\",\"Research & Development\",\"Sales\",\"Research & Development\",\"Research & Development\",\"Research & Development\",\"Research & Development\",\"Sales\",\"Sales\",\"Research & Development\",\"Research & Development\",\"Research & Development\",\"Sales\",\"Research & Development\",\"Human Resources\",\"Research & Development\",\"Sales\",\"Research & Development\",\"Sales\",\"Research & Development\",\"Research & Development\",\"Research & Development\",\"Research & Development\",\"Research & Development\",\"Sales\",\"Sales\",\"Sales\",\"Research & Development\",\"Sales\",\"Research & Development\",\"Research & Development\",\"Research & Development\",\"Research & Development\",\"Sales\",\"Sales\",\"Research & Development\",\"Sales\",\"Human Resources\",\"Research & Development\",\"Research & Development\",\"Sales\",\"Research & Development\",\"Sales\",\"Research & Development\",\"Research & Development\",\"Research & Development\",\"Research & Development\",\"Research & Development\",\"Research & Development\",\"Research & Development\",\"Research & Development\",\"Sales\",\"Research & Development\",\"Research & Development\",\"Sales\",\"Research & Development\",\"Sales\",\"Research & Development\",\"Research & Development\",\"Research & Development\",\"Research & Development\",\"Research & Development\",\"Research & Development\",\"Sales\",\"Research & Development\",\"Human Resources\",\"Research & Development\",\"Research & Development\",\"Research & Development\",\"Sales\",\"Research & Development\",\"Sales\",\"Sales\",\"Research & Development\",\"Sales\",\"Human Resources\",\"Research & Development\",\"Sales\",\"Research & Development\",\"Research & Development\",\"Research & Development\",\"Sales\",\"Research & Development\",\"Research & Development\",\"Sales\",\"Sales\",\"Sales\",\"Research & Development\",\"Research & Development\",\"Sales\",\"Research & Development\",\"Sales\",\"Research & Development\",\"Research & Development\",\"Research & Development\",\"Research & Development\",\"Research & Development\",\"Sales\",\"Research & Development\",\"Research & Development\",\"Sales\",\"Research & Development\",\"Research & Development\",\"Research & Development\",\"Research & Development\",\"Research & Development\",\"Research & Development\",\"Sales\",\"Sales\",\"Research & Development\",\"Research & Development\",\"Research & Development\",\"Research & Development\",\"Research & Development\",\"Research & Development\",\"Research & Development\",\"Research & Development\",\"Human Resources\",\"Research & Development\",\"Research & Development\",\"Research & Development\",\"Research & Development\",\"Research & Development\",\"Research & Development\",\"Research & Development\",\"Research & Development\",\"Research & Development\",\"Human Resources\",\"Research & Development\",\"Research & Development\",\"Research & Development\",\"Research & Development\",\"Sales\",\"Research & Development\",\"Research & Development\",\"Research & Development\",\"Research & Development\",\"Research & Development\",\"Sales\",\"Research & Development\",\"Research & Development\",\"Research & Development\",\"Research & Development\",\"Research & Development\",\"Research & Development\",\"Research & Development\",\"Research & Development\",\"Sales\",\"Sales\",\"Research & Development\",\"Sales\",\"Research & Development\",\"Research & Development\",\"Sales\",\"Research & Development\",\"Sales\",\"Sales\",\"Sales\",\"Research & Development\",\"Human Resources\",\"Research & Development\",\"Research & Development\",\"Research & Development\",\"Research & Development\",\"Research & Development\",\"Research & Development\",\"Research & Development\",\"Sales\",\"Research & Development\",\"Research & Development\",\"Research & Development\",\"Sales\",\"Research & Development\",\"Sales\",\"Research & Development\",\"Sales\",\"Research & Development\",\"Research & Development\",\"Research & Development\",\"Research & Development\",\"Research & Development\",\"Human Resources\",\"Research & Development\",\"Research & Development\",\"Research & Development\",\"Research & Development\",\"Research & Development\",\"Sales\",\"Sales\",\"Research & Development\",\"Research & Development\",\"Research & Development\",\"Sales\",\"Sales\",\"Human Resources\",\"Research & Development\",\"Human Resources\",\"Sales\",\"Research & Development\",\"Research & Development\",\"Sales\",\"Research & Development\",\"Sales\",\"Sales\",\"Research & Development\",\"Research & Development\",\"Research & Development\",\"Research & Development\",\"Research & Development\",\"Research & Development\",\"Research & Development\",\"Research & Development\",\"Research & Development\",\"Sales\",\"Research & Development\",\"Human Resources\",\"Sales\",\"Research & Development\",\"Sales\",\"Research & Development\",\"Sales\",\"Research & Development\",\"Research & Development\",\"Human Resources\",\"Research & Development\",\"Research & Development\",\"Research & Development\",\"Sales\",\"Research & Development\",\"Research & Development\",\"Research & Development\",\"Human Resources\",\"Sales\",\"Research & Development\",\"Research & Development\",\"Sales\",\"Research & Development\",\"Research & Development\",\"Sales\",\"Sales\",\"Research & Development\",\"Research & Development\",\"Research & Development\",\"Research & Development\",\"Sales\",\"Research & Development\",\"Sales\",\"Sales\",\"Research & Development\",\"Research & Development\",\"Sales\",\"Research & Development\",\"Sales\",\"Research & Development\",\"Research & Development\",\"Sales\",\"Research & Development\",\"Research & Development\",\"Research & Development\",\"Human Resources\",\"Research & Development\",\"Research & Development\",\"Sales\",\"Sales\",\"Human Resources\",\"Research & Development\",\"Research & Development\",\"Research & Development\",\"Research & Development\",\"Research & Development\",\"Sales\",\"Sales\",\"Research & Development\",\"Sales\",\"Research & Development\",\"Research & Development\",\"Research & Development\",\"Research & Development\",\"Human Resources\",\"Research & Development\",\"Research & Development\",\"Sales\",\"Research & Development\",\"Research & Development\",\"Sales\",\"Sales\",\"Research & Development\",\"Sales\",\"Sales\",\"Research & Development\",\"Research & Development\",\"Research & Development\",\"Sales\",\"Sales\",\"Sales\",\"Research & Development\",\"Research & Development\",\"Research & Development\",\"Sales\",\"Research & Development\",\"Research & Development\",\"Sales\",\"Research & Development\",\"Research & Development\",\"Sales\",\"Sales\",\"Research & Development\",\"Research & Development\",\"Research & Development\",\"Sales\",\"Sales\",\"Research & Development\",\"Research & Development\",\"Research & Development\",\"Research & Development\",\"Sales\",\"Sales\",\"Sales\",\"Research & Development\",\"Research & Development\",\"Research & Development\",\"Research & Development\",\"Human Resources\",\"Human Resources\",\"Research & Development\",\"Sales\",\"Research & Development\",\"Research & Development\",\"Research & Development\",\"Research & Development\",\"Research & Development\",\"Research & Development\",\"Sales\",\"Human Resources\",\"Research & Development\",\"Research & Development\",\"Research & Development\",\"Research & Development\",\"Sales\",\"Sales\",\"Research & Development\",\"Research & Development\",\"Research & Development\",\"Research & Development\",\"Research & Development\",\"Research & Development\",\"Research & Development\",\"Research & Development\",\"Research & Development\",\"Research & Development\",\"Sales\",\"Research & Development\",\"Research & Development\",\"Sales\",\"Research & Development\",\"Sales\",\"Sales\",\"Research & Development\",\"Sales\",\"Research & Development\",\"Sales\",\"Research & Development\",\"Research & Development\",\"Research & Development\",\"Research & Development\",\"Sales\",\"Sales\",\"Sales\",\"Research & Development\",\"Human Resources\",\"Sales\",\"Sales\",\"Sales\",\"Research & Development\",\"Research & Development\",\"Research & Development\",\"Research & Development\",\"Research & Development\",\"Research & Development\",\"Sales\",\"Research & Development\",\"Sales\",\"Research & Development\",\"Research & Development\",\"Research & Development\",\"Sales\",\"Research & Development\"],\"xaxis\":\"x\",\"yaxis\":\"y\",\"type\":\"histogram\"}],                        {\"template\":{\"data\":{\"histogram2dcontour\":[{\"type\":\"histogram2dcontour\",\"colorbar\":{\"outlinewidth\":0,\"ticks\":\"\"},\"colorscale\":[[0.0,\"#0d0887\"],[0.1111111111111111,\"#46039f\"],[0.2222222222222222,\"#7201a8\"],[0.3333333333333333,\"#9c179e\"],[0.4444444444444444,\"#bd3786\"],[0.5555555555555556,\"#d8576b\"],[0.6666666666666666,\"#ed7953\"],[0.7777777777777778,\"#fb9f3a\"],[0.8888888888888888,\"#fdca26\"],[1.0,\"#f0f921\"]]}],\"choropleth\":[{\"type\":\"choropleth\",\"colorbar\":{\"outlinewidth\":0,\"ticks\":\"\"}}],\"histogram2d\":[{\"type\":\"histogram2d\",\"colorbar\":{\"outlinewidth\":0,\"ticks\":\"\"},\"colorscale\":[[0.0,\"#0d0887\"],[0.1111111111111111,\"#46039f\"],[0.2222222222222222,\"#7201a8\"],[0.3333333333333333,\"#9c179e\"],[0.4444444444444444,\"#bd3786\"],[0.5555555555555556,\"#d8576b\"],[0.6666666666666666,\"#ed7953\"],[0.7777777777777778,\"#fb9f3a\"],[0.8888888888888888,\"#fdca26\"],[1.0,\"#f0f921\"]]}],\"heatmap\":[{\"type\":\"heatmap\",\"colorbar\":{\"outlinewidth\":0,\"ticks\":\"\"},\"colorscale\":[[0.0,\"#0d0887\"],[0.1111111111111111,\"#46039f\"],[0.2222222222222222,\"#7201a8\"],[0.3333333333333333,\"#9c179e\"],[0.4444444444444444,\"#bd3786\"],[0.5555555555555556,\"#d8576b\"],[0.6666666666666666,\"#ed7953\"],[0.7777777777777778,\"#fb9f3a\"],[0.8888888888888888,\"#fdca26\"],[1.0,\"#f0f921\"]]}],\"heatmapgl\":[{\"type\":\"heatmapgl\",\"colorbar\":{\"outlinewidth\":0,\"ticks\":\"\"},\"colorscale\":[[0.0,\"#0d0887\"],[0.1111111111111111,\"#46039f\"],[0.2222222222222222,\"#7201a8\"],[0.3333333333333333,\"#9c179e\"],[0.4444444444444444,\"#bd3786\"],[0.5555555555555556,\"#d8576b\"],[0.6666666666666666,\"#ed7953\"],[0.7777777777777778,\"#fb9f3a\"],[0.8888888888888888,\"#fdca26\"],[1.0,\"#f0f921\"]]}],\"contourcarpet\":[{\"type\":\"contourcarpet\",\"colorbar\":{\"outlinewidth\":0,\"ticks\":\"\"}}],\"contour\":[{\"type\":\"contour\",\"colorbar\":{\"outlinewidth\":0,\"ticks\":\"\"},\"colorscale\":[[0.0,\"#0d0887\"],[0.1111111111111111,\"#46039f\"],[0.2222222222222222,\"#7201a8\"],[0.3333333333333333,\"#9c179e\"],[0.4444444444444444,\"#bd3786\"],[0.5555555555555556,\"#d8576b\"],[0.6666666666666666,\"#ed7953\"],[0.7777777777777778,\"#fb9f3a\"],[0.8888888888888888,\"#fdca26\"],[1.0,\"#f0f921\"]]}],\"surface\":[{\"type\":\"surface\",\"colorbar\":{\"outlinewidth\":0,\"ticks\":\"\"},\"colorscale\":[[0.0,\"#0d0887\"],[0.1111111111111111,\"#46039f\"],[0.2222222222222222,\"#7201a8\"],[0.3333333333333333,\"#9c179e\"],[0.4444444444444444,\"#bd3786\"],[0.5555555555555556,\"#d8576b\"],[0.6666666666666666,\"#ed7953\"],[0.7777777777777778,\"#fb9f3a\"],[0.8888888888888888,\"#fdca26\"],[1.0,\"#f0f921\"]]}],\"mesh3d\":[{\"type\":\"mesh3d\",\"colorbar\":{\"outlinewidth\":0,\"ticks\":\"\"}}],\"scatter\":[{\"fillpattern\":{\"fillmode\":\"overlay\",\"size\":10,\"solidity\":0.2},\"type\":\"scatter\"}],\"parcoords\":[{\"type\":\"parcoords\",\"line\":{\"colorbar\":{\"outlinewidth\":0,\"ticks\":\"\"}}}],\"scatterpolargl\":[{\"type\":\"scatterpolargl\",\"marker\":{\"colorbar\":{\"outlinewidth\":0,\"ticks\":\"\"}}}],\"bar\":[{\"error_x\":{\"color\":\"#2a3f5f\"},\"error_y\":{\"color\":\"#2a3f5f\"},\"marker\":{\"line\":{\"color\":\"#E5ECF6\",\"width\":0.5},\"pattern\":{\"fillmode\":\"overlay\",\"size\":10,\"solidity\":0.2}},\"type\":\"bar\"}],\"scattergeo\":[{\"type\":\"scattergeo\",\"marker\":{\"colorbar\":{\"outlinewidth\":0,\"ticks\":\"\"}}}],\"scatterpolar\":[{\"type\":\"scatterpolar\",\"marker\":{\"colorbar\":{\"outlinewidth\":0,\"ticks\":\"\"}}}],\"histogram\":[{\"marker\":{\"pattern\":{\"fillmode\":\"overlay\",\"size\":10,\"solidity\":0.2}},\"type\":\"histogram\"}],\"scattergl\":[{\"type\":\"scattergl\",\"marker\":{\"colorbar\":{\"outlinewidth\":0,\"ticks\":\"\"}}}],\"scatter3d\":[{\"type\":\"scatter3d\",\"line\":{\"colorbar\":{\"outlinewidth\":0,\"ticks\":\"\"}},\"marker\":{\"colorbar\":{\"outlinewidth\":0,\"ticks\":\"\"}}}],\"scattermapbox\":[{\"type\":\"scattermapbox\",\"marker\":{\"colorbar\":{\"outlinewidth\":0,\"ticks\":\"\"}}}],\"scatterternary\":[{\"type\":\"scatterternary\",\"marker\":{\"colorbar\":{\"outlinewidth\":0,\"ticks\":\"\"}}}],\"scattercarpet\":[{\"type\":\"scattercarpet\",\"marker\":{\"colorbar\":{\"outlinewidth\":0,\"ticks\":\"\"}}}],\"carpet\":[{\"aaxis\":{\"endlinecolor\":\"#2a3f5f\",\"gridcolor\":\"white\",\"linecolor\":\"white\",\"minorgridcolor\":\"white\",\"startlinecolor\":\"#2a3f5f\"},\"baxis\":{\"endlinecolor\":\"#2a3f5f\",\"gridcolor\":\"white\",\"linecolor\":\"white\",\"minorgridcolor\":\"white\",\"startlinecolor\":\"#2a3f5f\"},\"type\":\"carpet\"}],\"table\":[{\"cells\":{\"fill\":{\"color\":\"#EBF0F8\"},\"line\":{\"color\":\"white\"}},\"header\":{\"fill\":{\"color\":\"#C8D4E3\"},\"line\":{\"color\":\"white\"}},\"type\":\"table\"}],\"barpolar\":[{\"marker\":{\"line\":{\"color\":\"#E5ECF6\",\"width\":0.5},\"pattern\":{\"fillmode\":\"overlay\",\"size\":10,\"solidity\":0.2}},\"type\":\"barpolar\"}],\"pie\":[{\"automargin\":true,\"type\":\"pie\"}]},\"layout\":{\"autotypenumbers\":\"strict\",\"colorway\":[\"#636efa\",\"#EF553B\",\"#00cc96\",\"#ab63fa\",\"#FFA15A\",\"#19d3f3\",\"#FF6692\",\"#B6E880\",\"#FF97FF\",\"#FECB52\"],\"font\":{\"color\":\"#2a3f5f\"},\"hovermode\":\"closest\",\"hoverlabel\":{\"align\":\"left\"},\"paper_bgcolor\":\"white\",\"plot_bgcolor\":\"#E5ECF6\",\"polar\":{\"bgcolor\":\"#E5ECF6\",\"angularaxis\":{\"gridcolor\":\"white\",\"linecolor\":\"white\",\"ticks\":\"\"},\"radialaxis\":{\"gridcolor\":\"white\",\"linecolor\":\"white\",\"ticks\":\"\"}},\"ternary\":{\"bgcolor\":\"#E5ECF6\",\"aaxis\":{\"gridcolor\":\"white\",\"linecolor\":\"white\",\"ticks\":\"\"},\"baxis\":{\"gridcolor\":\"white\",\"linecolor\":\"white\",\"ticks\":\"\"},\"caxis\":{\"gridcolor\":\"white\",\"linecolor\":\"white\",\"ticks\":\"\"}},\"coloraxis\":{\"colorbar\":{\"outlinewidth\":0,\"ticks\":\"\"}},\"colorscale\":{\"sequential\":[[0.0,\"#0d0887\"],[0.1111111111111111,\"#46039f\"],[0.2222222222222222,\"#7201a8\"],[0.3333333333333333,\"#9c179e\"],[0.4444444444444444,\"#bd3786\"],[0.5555555555555556,\"#d8576b\"],[0.6666666666666666,\"#ed7953\"],[0.7777777777777778,\"#fb9f3a\"],[0.8888888888888888,\"#fdca26\"],[1.0,\"#f0f921\"]],\"sequentialminus\":[[0.0,\"#0d0887\"],[0.1111111111111111,\"#46039f\"],[0.2222222222222222,\"#7201a8\"],[0.3333333333333333,\"#9c179e\"],[0.4444444444444444,\"#bd3786\"],[0.5555555555555556,\"#d8576b\"],[0.6666666666666666,\"#ed7953\"],[0.7777777777777778,\"#fb9f3a\"],[0.8888888888888888,\"#fdca26\"],[1.0,\"#f0f921\"]],\"diverging\":[[0,\"#8e0152\"],[0.1,\"#c51b7d\"],[0.2,\"#de77ae\"],[0.3,\"#f1b6da\"],[0.4,\"#fde0ef\"],[0.5,\"#f7f7f7\"],[0.6,\"#e6f5d0\"],[0.7,\"#b8e186\"],[0.8,\"#7fbc41\"],[0.9,\"#4d9221\"],[1,\"#276419\"]]},\"xaxis\":{\"gridcolor\":\"white\",\"linecolor\":\"white\",\"ticks\":\"\",\"title\":{\"standoff\":15},\"zerolinecolor\":\"white\",\"automargin\":true,\"zerolinewidth\":2},\"yaxis\":{\"gridcolor\":\"white\",\"linecolor\":\"white\",\"ticks\":\"\",\"title\":{\"standoff\":15},\"zerolinecolor\":\"white\",\"automargin\":true,\"zerolinewidth\":2},\"scene\":{\"xaxis\":{\"backgroundcolor\":\"#E5ECF6\",\"gridcolor\":\"white\",\"linecolor\":\"white\",\"showbackground\":true,\"ticks\":\"\",\"zerolinecolor\":\"white\",\"gridwidth\":2},\"yaxis\":{\"backgroundcolor\":\"#E5ECF6\",\"gridcolor\":\"white\",\"linecolor\":\"white\",\"showbackground\":true,\"ticks\":\"\",\"zerolinecolor\":\"white\",\"gridwidth\":2},\"zaxis\":{\"backgroundcolor\":\"#E5ECF6\",\"gridcolor\":\"white\",\"linecolor\":\"white\",\"showbackground\":true,\"ticks\":\"\",\"zerolinecolor\":\"white\",\"gridwidth\":2}},\"shapedefaults\":{\"line\":{\"color\":\"#2a3f5f\"}},\"annotationdefaults\":{\"arrowcolor\":\"#2a3f5f\",\"arrowhead\":0,\"arrowwidth\":1},\"geo\":{\"bgcolor\":\"white\",\"landcolor\":\"#E5ECF6\",\"subunitcolor\":\"white\",\"showland\":true,\"showlakes\":true,\"lakecolor\":\"white\"},\"title\":{\"x\":0.05},\"mapbox\":{\"style\":\"light\"}}},\"xaxis\":{\"anchor\":\"y\",\"domain\":[0.0,1.0],\"title\":{\"text\":\"Department\"}},\"yaxis\":{\"anchor\":\"x\",\"domain\":[0.0,1.0],\"title\":{\"text\":\"count\"}},\"legend\":{\"title\":{\"text\":\"Attrition\"},\"tracegroupgap\":0},\"margin\":{\"t\":60},\"barmode\":\"group\"},                        {\"responsive\": true}                    ).then(function(){\n",
              "                            \n",
              "var gd = document.getElementById('81e12c9a-3615-42bd-8607-636afb6d03ae');\n",
              "var x = new MutationObserver(function (mutations, observer) {{\n",
              "        var display = window.getComputedStyle(gd).display;\n",
              "        if (!display || display === 'none') {{\n",
              "            console.log([gd, 'removed!']);\n",
              "            Plotly.purge(gd);\n",
              "            observer.disconnect();\n",
              "        }}\n",
              "}});\n",
              "\n",
              "// Listen for the removal of the full notebook cells\n",
              "var notebookContainer = gd.closest('#notebook-container');\n",
              "if (notebookContainer) {{\n",
              "    x.observe(notebookContainer, {childList: true});\n",
              "}}\n",
              "\n",
              "// Listen for the clearing of the current output cell\n",
              "var outputEl = gd.closest('.output');\n",
              "if (outputEl) {{\n",
              "    x.observe(outputEl, {childList: true});\n",
              "}}\n",
              "\n",
              "                        })                };                            </script>        </div>\n",
              "</body>\n",
              "</html>"
            ]
          },
          "metadata": {}
        }
      ]
    },
    {
      "cell_type": "markdown",
      "source": [
        "**Insight:** Research & Development (R&D) dept. and Sales dept. have higher attrition compared to HR dept."
      ],
      "metadata": {
        "id": "Lc-XXh98GAtm"
      }
    },
    {
      "cell_type": "code",
      "source": [
        "fig = px.histogram(df, x=\"BusinessTravel\", color=\"Attrition\", barmode=\"group\",\n",
        "                   title=\"Attrition by Business Travel\",\n",
        "                   color_discrete_map={'Yes':'green','No':'darkblue'})\n",
        "fig.show()\n"
      ],
      "metadata": {
        "colab": {
          "base_uri": "https://localhost:8080/",
          "height": 542
        },
        "id": "xM4QuMKL28r5",
        "outputId": "879dd789-6f77-41a2-b23f-f5eb82c96ba6"
      },
      "execution_count": null,
      "outputs": [
        {
          "output_type": "display_data",
          "data": {
            "text/html": [
              "<html>\n",
              "<head><meta charset=\"utf-8\" /></head>\n",
              "<body>\n",
              "    <div>            <script src=\"https://cdnjs.cloudflare.com/ajax/libs/mathjax/2.7.5/MathJax.js?config=TeX-AMS-MML_SVG\"></script><script type=\"text/javascript\">if (window.MathJax && window.MathJax.Hub && window.MathJax.Hub.Config) {window.MathJax.Hub.Config({SVG: {font: \"STIX-Web\"}});}</script>                <script type=\"text/javascript\">window.PlotlyConfig = {MathJaxConfig: 'local'};</script>\n",
              "        <script charset=\"utf-8\" src=\"https://cdn.plot.ly/plotly-2.35.2.min.js\"></script>                <div id=\"16bbab26-b179-4b1b-981f-71730f490e7d\" class=\"plotly-graph-div\" style=\"height:525px; width:100%;\"></div>            <script type=\"text/javascript\">                                    window.PLOTLYENV=window.PLOTLYENV || {};                                    if (document.getElementById(\"16bbab26-b179-4b1b-981f-71730f490e7d\")) {                    Plotly.newPlot(                        \"16bbab26-b179-4b1b-981f-71730f490e7d\",                        [{\"alignmentgroup\":\"True\",\"bingroup\":\"x\",\"hovertemplate\":\"Attrition=Yes\\u003cbr\\u003eBusinessTravel=%{x}\\u003cbr\\u003ecount=%{y}\\u003cextra\\u003e\\u003c\\u002fextra\\u003e\",\"legendgroup\":\"Yes\",\"marker\":{\"color\":\"green\",\"pattern\":{\"shape\":\"\"}},\"name\":\"Yes\",\"offsetgroup\":\"Yes\",\"orientation\":\"v\",\"showlegend\":true,\"x\":[\"Travel_Rarely\",\"Travel_Rarely\",\"Travel_Rarely\",\"Travel_Rarely\",\"Travel_Rarely\",\"Travel_Frequently\",\"Travel_Rarely\",\"Travel_Rarely\",\"Travel_Rarely\",\"Travel_Rarely\",\"Travel_Rarely\",\"Travel_Rarely\",\"Travel_Rarely\",\"Travel_Rarely\",\"Travel_Rarely\",\"Travel_Rarely\",\"Travel_Frequently\",\"Travel_Rarely\",\"Travel_Frequently\",\"Travel_Rarely\",\"Travel_Rarely\",\"Travel_Rarely\",\"Travel_Rarely\",\"Travel_Rarely\",\"Travel_Frequently\",\"Travel_Rarely\",\"Travel_Frequently\",\"Travel_Rarely\",\"Travel_Rarely\",\"Travel_Rarely\",\"Travel_Rarely\",\"Travel_Rarely\",\"Travel_Rarely\",\"Travel_Rarely\",\"Travel_Frequently\",\"Travel_Rarely\",\"Travel_Rarely\",\"Travel_Rarely\",\"Travel_Rarely\",\"Travel_Rarely\",\"Travel_Frequently\",\"Travel_Frequently\",\"Travel_Rarely\",\"Non-Travel\",\"Travel_Frequently\",\"Travel_Rarely\",\"Travel_Rarely\",\"Travel_Rarely\",\"Travel_Rarely\",\"Travel_Rarely\",\"Travel_Rarely\",\"Travel_Rarely\",\"Travel_Frequently\",\"Travel_Rarely\",\"Travel_Frequently\",\"Travel_Rarely\",\"Travel_Rarely\",\"Non-Travel\",\"Travel_Frequently\",\"Travel_Frequently\",\"Travel_Rarely\",\"Travel_Rarely\",\"Travel_Frequently\",\"Travel_Rarely\",\"Travel_Rarely\",\"Travel_Rarely\",\"Travel_Rarely\",\"Travel_Frequently\",\"Travel_Frequently\",\"Travel_Frequently\",\"Travel_Frequently\",\"Travel_Frequently\",\"Travel_Rarely\",\"Non-Travel\",\"Travel_Frequently\",\"Travel_Frequently\",\"Travel_Rarely\",\"Travel_Rarely\",\"Travel_Frequently\",\"Travel_Rarely\",\"Travel_Frequently\",\"Travel_Rarely\",\"Travel_Frequently\",\"Travel_Rarely\",\"Travel_Frequently\",\"Travel_Rarely\",\"Travel_Frequently\",\"Travel_Rarely\",\"Travel_Rarely\",\"Travel_Rarely\",\"Travel_Rarely\",\"Travel_Rarely\",\"Travel_Rarely\",\"Travel_Rarely\",\"Travel_Rarely\",\"Travel_Rarely\",\"Travel_Frequently\",\"Travel_Frequently\",\"Travel_Rarely\",\"Travel_Rarely\",\"Travel_Frequently\",\"Travel_Rarely\",\"Travel_Rarely\",\"Travel_Rarely\",\"Travel_Rarely\",\"Travel_Rarely\",\"Travel_Rarely\",\"Travel_Rarely\",\"Travel_Rarely\",\"Travel_Rarely\",\"Travel_Rarely\",\"Travel_Rarely\",\"Non-Travel\",\"Non-Travel\",\"Travel_Rarely\",\"Travel_Rarely\",\"Travel_Rarely\",\"Travel_Rarely\",\"Travel_Frequently\",\"Travel_Rarely\",\"Non-Travel\",\"Travel_Rarely\",\"Travel_Rarely\",\"Travel_Rarely\",\"Travel_Frequently\",\"Travel_Frequently\",\"Travel_Rarely\",\"Travel_Rarely\",\"Non-Travel\",\"Travel_Rarely\",\"Travel_Rarely\",\"Travel_Frequently\",\"Travel_Rarely\",\"Travel_Rarely\",\"Travel_Rarely\",\"Travel_Frequently\",\"Travel_Frequently\",\"Travel_Frequently\",\"Non-Travel\",\"Travel_Rarely\",\"Travel_Frequently\",\"Travel_Rarely\",\"Travel_Frequently\",\"Travel_Rarely\",\"Travel_Rarely\",\"Travel_Rarely\",\"Travel_Frequently\",\"Non-Travel\",\"Travel_Rarely\",\"Non-Travel\",\"Travel_Frequently\",\"Travel_Rarely\",\"Travel_Frequently\",\"Travel_Rarely\",\"Travel_Rarely\",\"Travel_Rarely\",\"Travel_Rarely\",\"Travel_Rarely\",\"Travel_Rarely\",\"Travel_Frequently\",\"Travel_Rarely\",\"Travel_Rarely\",\"Travel_Rarely\",\"Travel_Frequently\",\"Travel_Frequently\",\"Travel_Rarely\",\"Travel_Rarely\",\"Travel_Frequently\",\"Travel_Frequently\",\"Travel_Frequently\",\"Travel_Rarely\",\"Travel_Rarely\",\"Travel_Rarely\",\"Non-Travel\",\"Travel_Frequently\",\"Travel_Frequently\",\"Travel_Rarely\",\"Travel_Frequently\",\"Travel_Frequently\",\"Travel_Rarely\",\"Travel_Frequently\",\"Travel_Frequently\",\"Travel_Rarely\",\"Travel_Rarely\",\"Travel_Frequently\",\"Travel_Rarely\",\"Travel_Rarely\",\"Travel_Rarely\",\"Travel_Rarely\",\"Travel_Rarely\",\"Travel_Frequently\",\"Travel_Rarely\",\"Travel_Rarely\",\"Travel_Rarely\",\"Travel_Frequently\",\"Travel_Rarely\",\"Travel_Frequently\",\"Travel_Rarely\",\"Travel_Rarely\",\"Travel_Rarely\",\"Travel_Frequently\",\"Travel_Rarely\",\"Travel_Rarely\",\"Travel_Frequently\",\"Travel_Rarely\",\"Travel_Rarely\",\"Travel_Rarely\",\"Travel_Frequently\",\"Travel_Rarely\",\"Travel_Rarely\",\"Travel_Frequently\",\"Travel_Rarely\",\"Travel_Frequently\",\"Travel_Rarely\",\"Travel_Rarely\",\"Travel_Rarely\",\"Travel_Rarely\",\"Travel_Rarely\",\"Travel_Rarely\",\"Travel_Frequently\",\"Travel_Rarely\",\"Travel_Rarely\",\"Travel_Rarely\",\"Non-Travel\",\"Travel_Rarely\",\"Travel_Frequently\",\"Travel_Rarely\",\"Travel_Frequently\",\"Travel_Frequently\",\"Travel_Rarely\",\"Travel_Frequently\",\"Travel_Rarely\",\"Travel_Frequently\",\"Travel_Rarely\",\"Travel_Rarely\",\"Travel_Frequently\",\"Travel_Rarely\"],\"xaxis\":\"x\",\"yaxis\":\"y\",\"type\":\"histogram\"},{\"alignmentgroup\":\"True\",\"bingroup\":\"x\",\"hovertemplate\":\"Attrition=No\\u003cbr\\u003eBusinessTravel=%{x}\\u003cbr\\u003ecount=%{y}\\u003cextra\\u003e\\u003c\\u002fextra\\u003e\",\"legendgroup\":\"No\",\"marker\":{\"color\":\"darkblue\",\"pattern\":{\"shape\":\"\"}},\"name\":\"No\",\"offsetgroup\":\"No\",\"orientation\":\"v\",\"showlegend\":true,\"x\":[\"Travel_Frequently\",\"Travel_Frequently\",\"Travel_Rarely\",\"Travel_Frequently\",\"Travel_Rarely\",\"Travel_Rarely\",\"Travel_Frequently\",\"Travel_Rarely\",\"Travel_Rarely\",\"Travel_Rarely\",\"Travel_Rarely\",\"Travel_Rarely\",\"Travel_Rarely\",\"Travel_Rarely\",\"Non-Travel\",\"Travel_Rarely\",\"Travel_Rarely\",\"Non-Travel\",\"Travel_Rarely\",\"Travel_Rarely\",\"Travel_Rarely\",\"Travel_Rarely\",\"Travel_Rarely\",\"Travel_Rarely\",\"Travel_Rarely\",\"Travel_Rarely\",\"Travel_Rarely\",\"Travel_Rarely\",\"Travel_Rarely\",\"Travel_Rarely\",\"Travel_Frequently\",\"Travel_Rarely\",\"Travel_Rarely\",\"Travel_Frequently\",\"Travel_Frequently\",\"Non-Travel\",\"Travel_Rarely\",\"Travel_Frequently\",\"Travel_Rarely\",\"Travel_Rarely\",\"Non-Travel\",\"Travel_Rarely\",\"Travel_Frequently\",\"Travel_Frequently\",\"Travel_Rarely\",\"Travel_Rarely\",\"Travel_Rarely\",\"Travel_Rarely\",\"Travel_Frequently\",\"Travel_Rarely\",\"Travel_Rarely\",\"Travel_Rarely\",\"Travel_Rarely\",\"Travel_Frequently\",\"Travel_Rarely\",\"Travel_Frequently\",\"Travel_Frequently\",\"Travel_Rarely\",\"Travel_Rarely\",\"Travel_Rarely\",\"Travel_Rarely\",\"Travel_Rarely\",\"Travel_Rarely\",\"Travel_Rarely\",\"Travel_Rarely\",\"Travel_Rarely\",\"Travel_Rarely\",\"Travel_Rarely\",\"Travel_Rarely\",\"Non-Travel\",\"Travel_Rarely\",\"Travel_Rarely\",\"Travel_Rarely\",\"Travel_Rarely\",\"Travel_Rarely\",\"Travel_Frequently\",\"Travel_Rarely\",\"Travel_Rarely\",\"Travel_Frequently\",\"Travel_Rarely\",\"Travel_Rarely\",\"Travel_Rarely\",\"Non-Travel\",\"Travel_Rarely\",\"Non-Travel\",\"Travel_Rarely\",\"Travel_Rarely\",\"Non-Travel\",\"Non-Travel\",\"Travel_Frequently\",\"Travel_Rarely\",\"Travel_Rarely\",\"Travel_Frequently\",\"Non-Travel\",\"Travel_Rarely\",\"Travel_Rarely\",\"Travel_Rarely\",\"Travel_Rarely\",\"Travel_Frequently\",\"Travel_Rarely\",\"Travel_Frequently\",\"Travel_Frequently\",\"Non-Travel\",\"Travel_Rarely\",\"Travel_Rarely\",\"Travel_Rarely\",\"Travel_Rarely\",\"Travel_Frequently\",\"Travel_Frequently\",\"Travel_Rarely\",\"Travel_Rarely\",\"Travel_Rarely\",\"Travel_Rarely\",\"Travel_Rarely\",\"Travel_Rarely\",\"Travel_Rarely\",\"Travel_Rarely\",\"Travel_Rarely\",\"Travel_Frequently\",\"Travel_Rarely\",\"Travel_Rarely\",\"Travel_Frequently\",\"Travel_Rarely\",\"Travel_Rarely\",\"Travel_Frequently\",\"Travel_Rarely\",\"Travel_Rarely\",\"Travel_Rarely\",\"Travel_Frequently\",\"Non-Travel\",\"Travel_Rarely\",\"Travel_Rarely\",\"Travel_Rarely\",\"Travel_Frequently\",\"Travel_Rarely\",\"Non-Travel\",\"Travel_Rarely\",\"Travel_Rarely\",\"Non-Travel\",\"Travel_Rarely\",\"Travel_Rarely\",\"Travel_Rarely\",\"Travel_Rarely\",\"Travel_Rarely\",\"Travel_Rarely\",\"Travel_Frequently\",\"Non-Travel\",\"Travel_Rarely\",\"Travel_Rarely\",\"Travel_Rarely\",\"Travel_Rarely\",\"Travel_Rarely\",\"Travel_Rarely\",\"Travel_Rarely\",\"Travel_Rarely\",\"Travel_Rarely\",\"Travel_Rarely\",\"Travel_Rarely\",\"Travel_Rarely\",\"Travel_Frequently\",\"Travel_Rarely\",\"Travel_Rarely\",\"Travel_Rarely\",\"Non-Travel\",\"Non-Travel\",\"Travel_Rarely\",\"Travel_Frequently\",\"Non-Travel\",\"Travel_Rarely\",\"Travel_Rarely\",\"Travel_Frequently\",\"Non-Travel\",\"Travel_Frequently\",\"Travel_Rarely\",\"Travel_Rarely\",\"Travel_Frequently\",\"Non-Travel\",\"Travel_Rarely\",\"Non-Travel\",\"Travel_Frequently\",\"Travel_Rarely\",\"Travel_Rarely\",\"Non-Travel\",\"Travel_Rarely\",\"Travel_Rarely\",\"Travel_Rarely\",\"Travel_Frequently\",\"Travel_Rarely\",\"Non-Travel\",\"Travel_Rarely\",\"Travel_Frequently\",\"Travel_Frequently\",\"Travel_Frequently\",\"Travel_Rarely\",\"Travel_Rarely\",\"Travel_Rarely\",\"Travel_Rarely\",\"Travel_Rarely\",\"Non-Travel\",\"Travel_Rarely\",\"Travel_Rarely\",\"Non-Travel\",\"Travel_Rarely\",\"Travel_Rarely\",\"Travel_Rarely\",\"Travel_Frequently\",\"Travel_Rarely\",\"Travel_Rarely\",\"Travel_Rarely\",\"Travel_Frequently\",\"Travel_Frequently\",\"Travel_Rarely\",\"Travel_Rarely\",\"Travel_Rarely\",\"Travel_Rarely\",\"Travel_Rarely\",\"Travel_Rarely\",\"Travel_Rarely\",\"Travel_Frequently\",\"Non-Travel\",\"Travel_Rarely\",\"Travel_Rarely\",\"Travel_Rarely\",\"Travel_Rarely\",\"Non-Travel\",\"Travel_Rarely\",\"Travel_Rarely\",\"Travel_Rarely\",\"Travel_Rarely\",\"Travel_Rarely\",\"Travel_Rarely\",\"Non-Travel\",\"Travel_Rarely\",\"Travel_Rarely\",\"Travel_Frequently\",\"Travel_Rarely\",\"Travel_Rarely\",\"Travel_Rarely\",\"Travel_Frequently\",\"Travel_Rarely\",\"Travel_Frequently\",\"Travel_Rarely\",\"Travel_Rarely\",\"Travel_Rarely\",\"Travel_Frequently\",\"Travel_Rarely\",\"Travel_Frequently\",\"Travel_Frequently\",\"Travel_Frequently\",\"Travel_Rarely\",\"Travel_Frequently\",\"Travel_Rarely\",\"Travel_Rarely\",\"Travel_Rarely\",\"Travel_Rarely\",\"Travel_Rarely\",\"Travel_Rarely\",\"Non-Travel\",\"Travel_Rarely\",\"Travel_Rarely\",\"Non-Travel\",\"Travel_Rarely\",\"Travel_Rarely\",\"Travel_Frequently\",\"Travel_Rarely\",\"Travel_Frequently\",\"Travel_Rarely\",\"Travel_Frequently\",\"Travel_Rarely\",\"Travel_Rarely\",\"Travel_Rarely\",\"Travel_Rarely\",\"Travel_Rarely\",\"Travel_Rarely\",\"Travel_Rarely\",\"Travel_Frequently\",\"Travel_Frequently\",\"Travel_Frequently\",\"Travel_Rarely\",\"Travel_Frequently\",\"Non-Travel\",\"Travel_Frequently\",\"Travel_Rarely\",\"Travel_Rarely\",\"Travel_Rarely\",\"Travel_Rarely\",\"Travel_Rarely\",\"Travel_Rarely\",\"Travel_Rarely\",\"Travel_Rarely\",\"Travel_Rarely\",\"Travel_Rarely\",\"Travel_Rarely\",\"Travel_Rarely\",\"Travel_Rarely\",\"Travel_Frequently\",\"Travel_Rarely\",\"Non-Travel\",\"Travel_Rarely\",\"Travel_Rarely\",\"Travel_Rarely\",\"Travel_Rarely\",\"Non-Travel\",\"Travel_Rarely\",\"Travel_Rarely\",\"Non-Travel\",\"Travel_Frequently\",\"Travel_Rarely\",\"Travel_Rarely\",\"Non-Travel\",\"Travel_Rarely\",\"Non-Travel\",\"Travel_Rarely\",\"Travel_Rarely\",\"Travel_Rarely\",\"Travel_Rarely\",\"Travel_Rarely\",\"Travel_Rarely\",\"Travel_Rarely\",\"Travel_Rarely\",\"Travel_Rarely\",\"Travel_Rarely\",\"Travel_Rarely\",\"Travel_Rarely\",\"Travel_Rarely\",\"Travel_Rarely\",\"Travel_Rarely\",\"Travel_Rarely\",\"Travel_Rarely\",\"Travel_Rarely\",\"Travel_Rarely\",\"Travel_Rarely\",\"Travel_Rarely\",\"Non-Travel\",\"Travel_Rarely\",\"Travel_Frequently\",\"Travel_Rarely\",\"Travel_Rarely\",\"Non-Travel\",\"Travel_Rarely\",\"Travel_Frequently\",\"Travel_Frequently\",\"Travel_Rarely\",\"Travel_Rarely\",\"Travel_Rarely\",\"Travel_Rarely\",\"Travel_Rarely\",\"Travel_Rarely\",\"Travel_Frequently\",\"Travel_Rarely\",\"Travel_Rarely\",\"Travel_Rarely\",\"Travel_Frequently\",\"Travel_Frequently\",\"Travel_Rarely\",\"Travel_Rarely\",\"Non-Travel\",\"Travel_Rarely\",\"Non-Travel\",\"Travel_Rarely\",\"Travel_Rarely\",\"Non-Travel\",\"Travel_Frequently\",\"Travel_Rarely\",\"Travel_Rarely\",\"Travel_Rarely\",\"Travel_Rarely\",\"Travel_Rarely\",\"Travel_Rarely\",\"Travel_Rarely\",\"Travel_Rarely\",\"Travel_Rarely\",\"Travel_Frequently\",\"Non-Travel\",\"Travel_Rarely\",\"Travel_Rarely\",\"Non-Travel\",\"Travel_Rarely\",\"Travel_Rarely\",\"Travel_Frequently\",\"Travel_Rarely\",\"Travel_Rarely\",\"Travel_Rarely\",\"Travel_Rarely\",\"Travel_Rarely\",\"Travel_Rarely\",\"Non-Travel\",\"Non-Travel\",\"Travel_Rarely\",\"Travel_Rarely\",\"Travel_Rarely\",\"Travel_Rarely\",\"Travel_Frequently\",\"Travel_Rarely\",\"Non-Travel\",\"Travel_Rarely\",\"Travel_Frequently\",\"Travel_Rarely\",\"Travel_Rarely\",\"Travel_Rarely\",\"Travel_Rarely\",\"Travel_Rarely\",\"Travel_Rarely\",\"Travel_Frequently\",\"Travel_Rarely\",\"Travel_Rarely\",\"Travel_Rarely\",\"Travel_Rarely\",\"Travel_Rarely\",\"Travel_Rarely\",\"Travel_Rarely\",\"Travel_Rarely\",\"Travel_Rarely\",\"Travel_Rarely\",\"Travel_Frequently\",\"Travel_Rarely\",\"Travel_Rarely\",\"Travel_Rarely\",\"Travel_Rarely\",\"Travel_Rarely\",\"Travel_Rarely\",\"Travel_Rarely\",\"Travel_Rarely\",\"Travel_Frequently\",\"Travel_Rarely\",\"Travel_Rarely\",\"Travel_Rarely\",\"Travel_Rarely\",\"Travel_Rarely\",\"Travel_Rarely\",\"Travel_Frequently\",\"Travel_Rarely\",\"Travel_Rarely\",\"Travel_Rarely\",\"Non-Travel\",\"Travel_Rarely\",\"Travel_Rarely\",\"Travel_Rarely\",\"Travel_Frequently\",\"Travel_Rarely\",\"Travel_Frequently\",\"Travel_Rarely\",\"Travel_Rarely\",\"Travel_Rarely\",\"Travel_Rarely\",\"Travel_Rarely\",\"Travel_Rarely\",\"Travel_Rarely\",\"Travel_Rarely\",\"Travel_Rarely\",\"Travel_Frequently\",\"Travel_Rarely\",\"Travel_Rarely\",\"Travel_Rarely\",\"Travel_Frequently\",\"Travel_Rarely\",\"Travel_Rarely\",\"Non-Travel\",\"Travel_Rarely\",\"Non-Travel\",\"Travel_Frequently\",\"Travel_Rarely\",\"Travel_Rarely\",\"Travel_Frequently\",\"Travel_Rarely\",\"Travel_Rarely\",\"Travel_Rarely\",\"Travel_Rarely\",\"Travel_Rarely\",\"Travel_Rarely\",\"Travel_Rarely\",\"Travel_Rarely\",\"Non-Travel\",\"Travel_Frequently\",\"Travel_Rarely\",\"Travel_Rarely\",\"Travel_Rarely\",\"Travel_Rarely\",\"Travel_Rarely\",\"Travel_Rarely\",\"Travel_Rarely\",\"Non-Travel\",\"Non-Travel\",\"Travel_Frequently\",\"Travel_Rarely\",\"Travel_Rarely\",\"Travel_Rarely\",\"Travel_Frequently\",\"Travel_Rarely\",\"Travel_Frequently\",\"Travel_Rarely\",\"Travel_Rarely\",\"Travel_Rarely\",\"Travel_Frequently\",\"Travel_Rarely\",\"Travel_Frequently\",\"Non-Travel\",\"Travel_Rarely\",\"Travel_Rarely\",\"Travel_Rarely\",\"Travel_Rarely\",\"Travel_Rarely\",\"Travel_Rarely\",\"Travel_Rarely\",\"Travel_Rarely\",\"Travel_Rarely\",\"Travel_Rarely\",\"Travel_Frequently\",\"Travel_Rarely\",\"Travel_Rarely\",\"Travel_Rarely\",\"Travel_Frequently\",\"Travel_Frequently\",\"Travel_Rarely\",\"Travel_Rarely\",\"Travel_Rarely\",\"Travel_Rarely\",\"Travel_Rarely\",\"Non-Travel\",\"Travel_Rarely\",\"Travel_Rarely\",\"Travel_Rarely\",\"Travel_Rarely\",\"Travel_Rarely\",\"Travel_Rarely\",\"Travel_Rarely\",\"Travel_Frequently\",\"Travel_Rarely\",\"Travel_Rarely\",\"Travel_Rarely\",\"Travel_Frequently\",\"Travel_Rarely\",\"Travel_Rarely\",\"Travel_Rarely\",\"Travel_Rarely\",\"Travel_Frequently\",\"Travel_Rarely\",\"Travel_Rarely\",\"Travel_Rarely\",\"Non-Travel\",\"Travel_Rarely\",\"Travel_Rarely\",\"Non-Travel\",\"Travel_Frequently\",\"Travel_Rarely\",\"Travel_Rarely\",\"Travel_Rarely\",\"Travel_Rarely\",\"Travel_Rarely\",\"Travel_Frequently\",\"Travel_Rarely\",\"Travel_Frequently\",\"Travel_Rarely\",\"Non-Travel\",\"Non-Travel\",\"Travel_Rarely\",\"Travel_Rarely\",\"Travel_Rarely\",\"Travel_Rarely\",\"Travel_Rarely\",\"Travel_Rarely\",\"Travel_Rarely\",\"Travel_Rarely\",\"Travel_Rarely\",\"Travel_Rarely\",\"Travel_Rarely\",\"Travel_Rarely\",\"Travel_Rarely\",\"Travel_Rarely\",\"Travel_Rarely\",\"Travel_Rarely\",\"Travel_Rarely\",\"Travel_Rarely\",\"Non-Travel\",\"Travel_Rarely\",\"Travel_Rarely\",\"Non-Travel\",\"Travel_Rarely\",\"Travel_Frequently\",\"Travel_Rarely\",\"Travel_Rarely\",\"Travel_Rarely\",\"Travel_Frequently\",\"Travel_Rarely\",\"Travel_Rarely\",\"Non-Travel\",\"Travel_Frequently\",\"Travel_Rarely\",\"Travel_Rarely\",\"Travel_Rarely\",\"Travel_Rarely\",\"Non-Travel\",\"Travel_Rarely\",\"Travel_Rarely\",\"Travel_Frequently\",\"Non-Travel\",\"Non-Travel\",\"Travel_Rarely\",\"Travel_Rarely\",\"Travel_Rarely\",\"Travel_Frequently\",\"Travel_Frequently\",\"Travel_Rarely\",\"Non-Travel\",\"Travel_Rarely\",\"Travel_Rarely\",\"Travel_Frequently\",\"Travel_Rarely\",\"Travel_Rarely\",\"Travel_Frequently\",\"Non-Travel\",\"Travel_Rarely\",\"Travel_Rarely\",\"Travel_Rarely\",\"Travel_Rarely\",\"Travel_Rarely\",\"Travel_Rarely\",\"Travel_Rarely\",\"Travel_Rarely\",\"Travel_Rarely\",\"Travel_Rarely\",\"Travel_Rarely\",\"Travel_Rarely\",\"Travel_Rarely\",\"Travel_Rarely\",\"Travel_Frequently\",\"Non-Travel\",\"Travel_Rarely\",\"Travel_Rarely\",\"Non-Travel\",\"Travel_Frequently\",\"Non-Travel\",\"Travel_Rarely\",\"Non-Travel\",\"Travel_Rarely\",\"Travel_Rarely\",\"Travel_Rarely\",\"Travel_Frequently\",\"Travel_Rarely\",\"Travel_Rarely\",\"Travel_Frequently\",\"Travel_Rarely\",\"Travel_Rarely\",\"Travel_Rarely\",\"Travel_Frequently\",\"Travel_Rarely\",\"Travel_Rarely\",\"Travel_Frequently\",\"Travel_Rarely\",\"Non-Travel\",\"Travel_Rarely\",\"Travel_Rarely\",\"Travel_Rarely\",\"Travel_Rarely\",\"Travel_Rarely\",\"Travel_Rarely\",\"Travel_Rarely\",\"Non-Travel\",\"Travel_Frequently\",\"Travel_Rarely\",\"Travel_Rarely\",\"Travel_Rarely\",\"Travel_Frequently\",\"Travel_Rarely\",\"Travel_Rarely\",\"Travel_Frequently\",\"Non-Travel\",\"Non-Travel\",\"Non-Travel\",\"Travel_Rarely\",\"Travel_Rarely\",\"Travel_Rarely\",\"Travel_Rarely\",\"Travel_Rarely\",\"Travel_Rarely\",\"Travel_Frequently\",\"Travel_Rarely\",\"Travel_Rarely\",\"Non-Travel\",\"Non-Travel\",\"Travel_Frequently\",\"Travel_Rarely\",\"Travel_Frequently\",\"Travel_Rarely\",\"Travel_Frequently\",\"Travel_Frequently\",\"Travel_Rarely\",\"Travel_Rarely\",\"Travel_Rarely\",\"Travel_Frequently\",\"Travel_Rarely\",\"Travel_Rarely\",\"Travel_Rarely\",\"Travel_Rarely\",\"Travel_Rarely\",\"Travel_Frequently\",\"Travel_Rarely\",\"Travel_Rarely\",\"Travel_Rarely\",\"Travel_Rarely\",\"Travel_Rarely\",\"Travel_Frequently\",\"Travel_Rarely\",\"Travel_Frequently\",\"Travel_Frequently\",\"Non-Travel\",\"Travel_Rarely\",\"Travel_Rarely\",\"Travel_Rarely\",\"Travel_Rarely\",\"Travel_Rarely\",\"Travel_Rarely\",\"Travel_Rarely\",\"Travel_Rarely\",\"Travel_Rarely\",\"Non-Travel\",\"Travel_Rarely\",\"Travel_Rarely\",\"Travel_Frequently\",\"Travel_Frequently\",\"Travel_Rarely\",\"Travel_Rarely\",\"Travel_Rarely\",\"Travel_Frequently\",\"Travel_Rarely\",\"Travel_Rarely\",\"Travel_Rarely\",\"Travel_Rarely\",\"Travel_Rarely\",\"Non-Travel\",\"Travel_Rarely\",\"Travel_Frequently\",\"Travel_Frequently\",\"Travel_Rarely\",\"Travel_Rarely\",\"Travel_Rarely\",\"Travel_Rarely\",\"Travel_Rarely\",\"Travel_Frequently\",\"Non-Travel\",\"Travel_Rarely\",\"Travel_Frequently\",\"Travel_Rarely\",\"Travel_Rarely\",\"Travel_Rarely\",\"Travel_Rarely\",\"Travel_Rarely\",\"Travel_Rarely\",\"Travel_Rarely\",\"Travel_Rarely\",\"Travel_Frequently\",\"Travel_Rarely\",\"Travel_Rarely\",\"Travel_Rarely\",\"Travel_Rarely\",\"Travel_Rarely\",\"Travel_Rarely\",\"Travel_Rarely\",\"Travel_Rarely\",\"Travel_Rarely\",\"Travel_Rarely\",\"Travel_Rarely\",\"Non-Travel\",\"Travel_Rarely\",\"Travel_Rarely\",\"Travel_Frequently\",\"Travel_Rarely\",\"Travel_Frequently\",\"Travel_Frequently\",\"Travel_Rarely\",\"Travel_Frequently\",\"Travel_Rarely\",\"Travel_Rarely\",\"Travel_Rarely\",\"Travel_Rarely\",\"Travel_Frequently\",\"Travel_Frequently\",\"Non-Travel\",\"Travel_Rarely\",\"Travel_Rarely\",\"Travel_Rarely\",\"Travel_Frequently\",\"Travel_Rarely\",\"Travel_Rarely\",\"Travel_Rarely\",\"Travel_Rarely\",\"Travel_Rarely\",\"Non-Travel\",\"Travel_Rarely\",\"Travel_Rarely\",\"Travel_Rarely\",\"Non-Travel\",\"Non-Travel\",\"Non-Travel\",\"Travel_Rarely\",\"Travel_Rarely\",\"Non-Travel\",\"Travel_Rarely\",\"Travel_Rarely\",\"Travel_Frequently\",\"Travel_Frequently\",\"Travel_Rarely\",\"Travel_Rarely\",\"Travel_Rarely\",\"Travel_Rarely\",\"Travel_Rarely\",\"Travel_Frequently\",\"Travel_Rarely\",\"Travel_Rarely\",\"Travel_Rarely\",\"Non-Travel\",\"Travel_Rarely\",\"Travel_Frequently\",\"Travel_Rarely\",\"Non-Travel\",\"Travel_Rarely\",\"Travel_Rarely\",\"Travel_Frequently\",\"Travel_Rarely\",\"Travel_Rarely\",\"Travel_Rarely\",\"Travel_Frequently\",\"Travel_Frequently\",\"Travel_Rarely\",\"Travel_Frequently\",\"Travel_Rarely\",\"Non-Travel\",\"Travel_Rarely\",\"Travel_Frequently\",\"Travel_Rarely\",\"Travel_Rarely\",\"Travel_Rarely\",\"Travel_Rarely\",\"Travel_Rarely\",\"Travel_Rarely\",\"Travel_Frequently\",\"Travel_Rarely\",\"Travel_Rarely\",\"Travel_Rarely\",\"Travel_Rarely\",\"Travel_Rarely\",\"Travel_Rarely\",\"Travel_Rarely\",\"Travel_Rarely\",\"Travel_Rarely\",\"Travel_Frequently\",\"Travel_Rarely\",\"Travel_Rarely\",\"Travel_Rarely\",\"Travel_Rarely\",\"Non-Travel\",\"Travel_Rarely\",\"Travel_Rarely\",\"Travel_Rarely\",\"Travel_Rarely\",\"Travel_Rarely\",\"Travel_Rarely\",\"Non-Travel\",\"Travel_Rarely\",\"Travel_Rarely\",\"Travel_Rarely\",\"Travel_Rarely\",\"Travel_Rarely\",\"Non-Travel\",\"Travel_Rarely\",\"Non-Travel\",\"Travel_Rarely\",\"Travel_Rarely\",\"Travel_Rarely\",\"Travel_Rarely\",\"Travel_Frequently\",\"Travel_Rarely\",\"Travel_Rarely\",\"Travel_Frequently\",\"Travel_Frequently\",\"Non-Travel\",\"Travel_Rarely\",\"Travel_Rarely\",\"Travel_Frequently\",\"Travel_Rarely\",\"Non-Travel\",\"Travel_Frequently\",\"Travel_Rarely\",\"Travel_Rarely\",\"Travel_Rarely\",\"Travel_Rarely\",\"Travel_Rarely\",\"Travel_Rarely\",\"Travel_Frequently\",\"Travel_Rarely\",\"Travel_Frequently\",\"Travel_Rarely\",\"Travel_Rarely\",\"Travel_Rarely\",\"Travel_Frequently\",\"Travel_Rarely\",\"Travel_Rarely\",\"Travel_Rarely\",\"Travel_Rarely\",\"Travel_Rarely\",\"Travel_Rarely\",\"Travel_Frequently\",\"Travel_Rarely\",\"Travel_Rarely\",\"Travel_Rarely\",\"Travel_Rarely\",\"Travel_Rarely\",\"Travel_Rarely\",\"Travel_Frequently\",\"Travel_Rarely\",\"Travel_Rarely\",\"Travel_Rarely\",\"Travel_Rarely\",\"Non-Travel\",\"Travel_Rarely\",\"Travel_Rarely\",\"Travel_Rarely\",\"Travel_Rarely\",\"Travel_Rarely\",\"Travel_Rarely\",\"Travel_Rarely\",\"Travel_Frequently\",\"Travel_Rarely\",\"Travel_Rarely\",\"Non-Travel\",\"Travel_Rarely\",\"Travel_Rarely\",\"Travel_Rarely\",\"Travel_Rarely\",\"Travel_Rarely\",\"Travel_Rarely\",\"Travel_Rarely\",\"Travel_Rarely\",\"Travel_Rarely\",\"Travel_Rarely\",\"Travel_Rarely\",\"Travel_Frequently\",\"Travel_Rarely\",\"Travel_Rarely\",\"Travel_Frequently\",\"Travel_Rarely\",\"Travel_Rarely\",\"Travel_Frequently\",\"Travel_Rarely\",\"Travel_Rarely\",\"Travel_Rarely\",\"Travel_Rarely\",\"Non-Travel\",\"Travel_Frequently\",\"Travel_Rarely\",\"Travel_Rarely\",\"Travel_Rarely\",\"Travel_Rarely\",\"Non-Travel\",\"Travel_Frequently\",\"Travel_Rarely\",\"Travel_Frequently\",\"Travel_Rarely\",\"Travel_Rarely\",\"Travel_Rarely\",\"Travel_Rarely\",\"Travel_Rarely\",\"Travel_Rarely\",\"Travel_Rarely\",\"Travel_Rarely\",\"Travel_Rarely\",\"Non-Travel\",\"Travel_Rarely\",\"Travel_Frequently\",\"Travel_Rarely\",\"Travel_Rarely\",\"Travel_Rarely\",\"Travel_Rarely\",\"Travel_Frequently\",\"Travel_Frequently\",\"Travel_Frequently\",\"Travel_Rarely\",\"Travel_Frequently\",\"Travel_Rarely\",\"Travel_Rarely\",\"Travel_Frequently\",\"Travel_Rarely\",\"Travel_Rarely\",\"Travel_Rarely\",\"Travel_Rarely\",\"Travel_Rarely\",\"Travel_Rarely\",\"Travel_Rarely\",\"Non-Travel\",\"Travel_Rarely\",\"Travel_Rarely\",\"Travel_Rarely\",\"Travel_Frequently\",\"Travel_Rarely\",\"Travel_Rarely\",\"Travel_Rarely\",\"Travel_Rarely\",\"Travel_Rarely\",\"Travel_Frequently\",\"Travel_Rarely\",\"Travel_Rarely\",\"Travel_Rarely\",\"Travel_Rarely\",\"Non-Travel\",\"Travel_Rarely\",\"Travel_Rarely\",\"Travel_Rarely\",\"Travel_Rarely\",\"Non-Travel\",\"Travel_Rarely\",\"Travel_Rarely\",\"Travel_Rarely\",\"Travel_Rarely\",\"Travel_Frequently\",\"Travel_Rarely\",\"Travel_Rarely\",\"Travel_Frequently\",\"Travel_Rarely\",\"Travel_Rarely\",\"Travel_Rarely\",\"Travel_Rarely\",\"Travel_Rarely\",\"Non-Travel\",\"Travel_Rarely\",\"Travel_Rarely\",\"Travel_Frequently\",\"Travel_Rarely\",\"Non-Travel\",\"Travel_Rarely\",\"Travel_Rarely\",\"Travel_Rarely\",\"Travel_Rarely\",\"Travel_Rarely\",\"Non-Travel\",\"Travel_Rarely\",\"Travel_Rarely\",\"Travel_Frequently\",\"Non-Travel\",\"Travel_Rarely\",\"Travel_Rarely\",\"Travel_Rarely\",\"Travel_Frequently\",\"Travel_Frequently\",\"Travel_Rarely\",\"Travel_Rarely\",\"Travel_Frequently\",\"Travel_Rarely\",\"Travel_Rarely\",\"Non-Travel\",\"Travel_Rarely\",\"Travel_Frequently\",\"Travel_Rarely\",\"Travel_Rarely\",\"Non-Travel\",\"Travel_Rarely\",\"Travel_Rarely\",\"Travel_Rarely\",\"Non-Travel\",\"Travel_Rarely\",\"Non-Travel\",\"Non-Travel\",\"Travel_Rarely\",\"Travel_Rarely\",\"Travel_Rarely\",\"Travel_Rarely\",\"Travel_Rarely\",\"Travel_Rarely\",\"Travel_Rarely\",\"Travel_Rarely\",\"Travel_Rarely\",\"Travel_Rarely\",\"Travel_Rarely\",\"Travel_Rarely\",\"Non-Travel\",\"Travel_Rarely\",\"Travel_Rarely\",\"Non-Travel\",\"Non-Travel\",\"Travel_Frequently\",\"Non-Travel\",\"Travel_Rarely\",\"Travel_Rarely\",\"Travel_Rarely\",\"Travel_Rarely\",\"Travel_Rarely\",\"Non-Travel\",\"Travel_Rarely\",\"Travel_Rarely\",\"Travel_Rarely\",\"Travel_Rarely\",\"Travel_Frequently\",\"Travel_Rarely\",\"Travel_Rarely\",\"Travel_Rarely\",\"Travel_Frequently\",\"Non-Travel\",\"Non-Travel\",\"Travel_Rarely\",\"Travel_Frequently\",\"Travel_Frequently\",\"Travel_Frequently\",\"Travel_Frequently\",\"Non-Travel\",\"Travel_Rarely\",\"Travel_Rarely\",\"Non-Travel\",\"Travel_Rarely\",\"Travel_Rarely\",\"Travel_Rarely\",\"Travel_Rarely\",\"Travel_Rarely\",\"Travel_Rarely\",\"Travel_Rarely\",\"Travel_Frequently\",\"Travel_Rarely\",\"Travel_Rarely\",\"Travel_Rarely\",\"Travel_Rarely\",\"Travel_Rarely\",\"Travel_Rarely\",\"Travel_Rarely\",\"Travel_Rarely\",\"Travel_Rarely\",\"Travel_Rarely\",\"Travel_Frequently\",\"Travel_Rarely\",\"Travel_Rarely\",\"Travel_Rarely\",\"Travel_Frequently\",\"Travel_Rarely\",\"Travel_Rarely\",\"Travel_Rarely\",\"Travel_Rarely\",\"Travel_Rarely\",\"Travel_Rarely\",\"Travel_Rarely\",\"Travel_Frequently\",\"Travel_Frequently\",\"Travel_Rarely\",\"Travel_Frequently\",\"Non-Travel\",\"Travel_Rarely\",\"Travel_Frequently\",\"Non-Travel\",\"Travel_Rarely\",\"Travel_Rarely\",\"Travel_Frequently\",\"Travel_Rarely\",\"Travel_Rarely\",\"Travel_Frequently\",\"Travel_Rarely\",\"Travel_Rarely\",\"Non-Travel\",\"Non-Travel\",\"Non-Travel\",\"Travel_Rarely\",\"Travel_Rarely\",\"Travel_Rarely\",\"Travel_Rarely\",\"Non-Travel\",\"Travel_Frequently\",\"Travel_Rarely\",\"Travel_Rarely\",\"Travel_Rarely\",\"Travel_Rarely\",\"Travel_Rarely\",\"Travel_Frequently\",\"Travel_Rarely\",\"Travel_Frequently\",\"Travel_Rarely\",\"Travel_Rarely\",\"Travel_Rarely\",\"Non-Travel\",\"Non-Travel\",\"Travel_Rarely\",\"Travel_Rarely\",\"Travel_Rarely\",\"Travel_Frequently\",\"Travel_Rarely\",\"Travel_Rarely\",\"Travel_Rarely\",\"Travel_Rarely\",\"Travel_Rarely\",\"Non-Travel\",\"Travel_Rarely\",\"Travel_Rarely\",\"Travel_Frequently\",\"Travel_Rarely\",\"Travel_Rarely\",\"Non-Travel\",\"Travel_Rarely\",\"Travel_Rarely\",\"Travel_Rarely\",\"Travel_Rarely\",\"Travel_Rarely\",\"Travel_Rarely\",\"Travel_Rarely\",\"Travel_Rarely\",\"Travel_Rarely\",\"Travel_Rarely\",\"Travel_Rarely\",\"Travel_Rarely\",\"Non-Travel\",\"Travel_Rarely\",\"Travel_Rarely\",\"Non-Travel\",\"Travel_Rarely\",\"Travel_Frequently\",\"Non-Travel\",\"Travel_Rarely\",\"Travel_Rarely\",\"Travel_Rarely\",\"Non-Travel\",\"Travel_Rarely\",\"Travel_Rarely\",\"Travel_Rarely\",\"Travel_Rarely\",\"Travel_Rarely\",\"Travel_Rarely\",\"Travel_Rarely\",\"Travel_Frequently\",\"Travel_Rarely\",\"Travel_Rarely\",\"Travel_Rarely\",\"Travel_Rarely\",\"Travel_Rarely\",\"Non-Travel\",\"Travel_Rarely\",\"Travel_Frequently\",\"Travel_Rarely\",\"Travel_Rarely\",\"Travel_Frequently\",\"Travel_Rarely\"],\"xaxis\":\"x\",\"yaxis\":\"y\",\"type\":\"histogram\"}],                        {\"template\":{\"data\":{\"histogram2dcontour\":[{\"type\":\"histogram2dcontour\",\"colorbar\":{\"outlinewidth\":0,\"ticks\":\"\"},\"colorscale\":[[0.0,\"#0d0887\"],[0.1111111111111111,\"#46039f\"],[0.2222222222222222,\"#7201a8\"],[0.3333333333333333,\"#9c179e\"],[0.4444444444444444,\"#bd3786\"],[0.5555555555555556,\"#d8576b\"],[0.6666666666666666,\"#ed7953\"],[0.7777777777777778,\"#fb9f3a\"],[0.8888888888888888,\"#fdca26\"],[1.0,\"#f0f921\"]]}],\"choropleth\":[{\"type\":\"choropleth\",\"colorbar\":{\"outlinewidth\":0,\"ticks\":\"\"}}],\"histogram2d\":[{\"type\":\"histogram2d\",\"colorbar\":{\"outlinewidth\":0,\"ticks\":\"\"},\"colorscale\":[[0.0,\"#0d0887\"],[0.1111111111111111,\"#46039f\"],[0.2222222222222222,\"#7201a8\"],[0.3333333333333333,\"#9c179e\"],[0.4444444444444444,\"#bd3786\"],[0.5555555555555556,\"#d8576b\"],[0.6666666666666666,\"#ed7953\"],[0.7777777777777778,\"#fb9f3a\"],[0.8888888888888888,\"#fdca26\"],[1.0,\"#f0f921\"]]}],\"heatmap\":[{\"type\":\"heatmap\",\"colorbar\":{\"outlinewidth\":0,\"ticks\":\"\"},\"colorscale\":[[0.0,\"#0d0887\"],[0.1111111111111111,\"#46039f\"],[0.2222222222222222,\"#7201a8\"],[0.3333333333333333,\"#9c179e\"],[0.4444444444444444,\"#bd3786\"],[0.5555555555555556,\"#d8576b\"],[0.6666666666666666,\"#ed7953\"],[0.7777777777777778,\"#fb9f3a\"],[0.8888888888888888,\"#fdca26\"],[1.0,\"#f0f921\"]]}],\"heatmapgl\":[{\"type\":\"heatmapgl\",\"colorbar\":{\"outlinewidth\":0,\"ticks\":\"\"},\"colorscale\":[[0.0,\"#0d0887\"],[0.1111111111111111,\"#46039f\"],[0.2222222222222222,\"#7201a8\"],[0.3333333333333333,\"#9c179e\"],[0.4444444444444444,\"#bd3786\"],[0.5555555555555556,\"#d8576b\"],[0.6666666666666666,\"#ed7953\"],[0.7777777777777778,\"#fb9f3a\"],[0.8888888888888888,\"#fdca26\"],[1.0,\"#f0f921\"]]}],\"contourcarpet\":[{\"type\":\"contourcarpet\",\"colorbar\":{\"outlinewidth\":0,\"ticks\":\"\"}}],\"contour\":[{\"type\":\"contour\",\"colorbar\":{\"outlinewidth\":0,\"ticks\":\"\"},\"colorscale\":[[0.0,\"#0d0887\"],[0.1111111111111111,\"#46039f\"],[0.2222222222222222,\"#7201a8\"],[0.3333333333333333,\"#9c179e\"],[0.4444444444444444,\"#bd3786\"],[0.5555555555555556,\"#d8576b\"],[0.6666666666666666,\"#ed7953\"],[0.7777777777777778,\"#fb9f3a\"],[0.8888888888888888,\"#fdca26\"],[1.0,\"#f0f921\"]]}],\"surface\":[{\"type\":\"surface\",\"colorbar\":{\"outlinewidth\":0,\"ticks\":\"\"},\"colorscale\":[[0.0,\"#0d0887\"],[0.1111111111111111,\"#46039f\"],[0.2222222222222222,\"#7201a8\"],[0.3333333333333333,\"#9c179e\"],[0.4444444444444444,\"#bd3786\"],[0.5555555555555556,\"#d8576b\"],[0.6666666666666666,\"#ed7953\"],[0.7777777777777778,\"#fb9f3a\"],[0.8888888888888888,\"#fdca26\"],[1.0,\"#f0f921\"]]}],\"mesh3d\":[{\"type\":\"mesh3d\",\"colorbar\":{\"outlinewidth\":0,\"ticks\":\"\"}}],\"scatter\":[{\"fillpattern\":{\"fillmode\":\"overlay\",\"size\":10,\"solidity\":0.2},\"type\":\"scatter\"}],\"parcoords\":[{\"type\":\"parcoords\",\"line\":{\"colorbar\":{\"outlinewidth\":0,\"ticks\":\"\"}}}],\"scatterpolargl\":[{\"type\":\"scatterpolargl\",\"marker\":{\"colorbar\":{\"outlinewidth\":0,\"ticks\":\"\"}}}],\"bar\":[{\"error_x\":{\"color\":\"#2a3f5f\"},\"error_y\":{\"color\":\"#2a3f5f\"},\"marker\":{\"line\":{\"color\":\"#E5ECF6\",\"width\":0.5},\"pattern\":{\"fillmode\":\"overlay\",\"size\":10,\"solidity\":0.2}},\"type\":\"bar\"}],\"scattergeo\":[{\"type\":\"scattergeo\",\"marker\":{\"colorbar\":{\"outlinewidth\":0,\"ticks\":\"\"}}}],\"scatterpolar\":[{\"type\":\"scatterpolar\",\"marker\":{\"colorbar\":{\"outlinewidth\":0,\"ticks\":\"\"}}}],\"histogram\":[{\"marker\":{\"pattern\":{\"fillmode\":\"overlay\",\"size\":10,\"solidity\":0.2}},\"type\":\"histogram\"}],\"scattergl\":[{\"type\":\"scattergl\",\"marker\":{\"colorbar\":{\"outlinewidth\":0,\"ticks\":\"\"}}}],\"scatter3d\":[{\"type\":\"scatter3d\",\"line\":{\"colorbar\":{\"outlinewidth\":0,\"ticks\":\"\"}},\"marker\":{\"colorbar\":{\"outlinewidth\":0,\"ticks\":\"\"}}}],\"scattermapbox\":[{\"type\":\"scattermapbox\",\"marker\":{\"colorbar\":{\"outlinewidth\":0,\"ticks\":\"\"}}}],\"scatterternary\":[{\"type\":\"scatterternary\",\"marker\":{\"colorbar\":{\"outlinewidth\":0,\"ticks\":\"\"}}}],\"scattercarpet\":[{\"type\":\"scattercarpet\",\"marker\":{\"colorbar\":{\"outlinewidth\":0,\"ticks\":\"\"}}}],\"carpet\":[{\"aaxis\":{\"endlinecolor\":\"#2a3f5f\",\"gridcolor\":\"white\",\"linecolor\":\"white\",\"minorgridcolor\":\"white\",\"startlinecolor\":\"#2a3f5f\"},\"baxis\":{\"endlinecolor\":\"#2a3f5f\",\"gridcolor\":\"white\",\"linecolor\":\"white\",\"minorgridcolor\":\"white\",\"startlinecolor\":\"#2a3f5f\"},\"type\":\"carpet\"}],\"table\":[{\"cells\":{\"fill\":{\"color\":\"#EBF0F8\"},\"line\":{\"color\":\"white\"}},\"header\":{\"fill\":{\"color\":\"#C8D4E3\"},\"line\":{\"color\":\"white\"}},\"type\":\"table\"}],\"barpolar\":[{\"marker\":{\"line\":{\"color\":\"#E5ECF6\",\"width\":0.5},\"pattern\":{\"fillmode\":\"overlay\",\"size\":10,\"solidity\":0.2}},\"type\":\"barpolar\"}],\"pie\":[{\"automargin\":true,\"type\":\"pie\"}]},\"layout\":{\"autotypenumbers\":\"strict\",\"colorway\":[\"#636efa\",\"#EF553B\",\"#00cc96\",\"#ab63fa\",\"#FFA15A\",\"#19d3f3\",\"#FF6692\",\"#B6E880\",\"#FF97FF\",\"#FECB52\"],\"font\":{\"color\":\"#2a3f5f\"},\"hovermode\":\"closest\",\"hoverlabel\":{\"align\":\"left\"},\"paper_bgcolor\":\"white\",\"plot_bgcolor\":\"#E5ECF6\",\"polar\":{\"bgcolor\":\"#E5ECF6\",\"angularaxis\":{\"gridcolor\":\"white\",\"linecolor\":\"white\",\"ticks\":\"\"},\"radialaxis\":{\"gridcolor\":\"white\",\"linecolor\":\"white\",\"ticks\":\"\"}},\"ternary\":{\"bgcolor\":\"#E5ECF6\",\"aaxis\":{\"gridcolor\":\"white\",\"linecolor\":\"white\",\"ticks\":\"\"},\"baxis\":{\"gridcolor\":\"white\",\"linecolor\":\"white\",\"ticks\":\"\"},\"caxis\":{\"gridcolor\":\"white\",\"linecolor\":\"white\",\"ticks\":\"\"}},\"coloraxis\":{\"colorbar\":{\"outlinewidth\":0,\"ticks\":\"\"}},\"colorscale\":{\"sequential\":[[0.0,\"#0d0887\"],[0.1111111111111111,\"#46039f\"],[0.2222222222222222,\"#7201a8\"],[0.3333333333333333,\"#9c179e\"],[0.4444444444444444,\"#bd3786\"],[0.5555555555555556,\"#d8576b\"],[0.6666666666666666,\"#ed7953\"],[0.7777777777777778,\"#fb9f3a\"],[0.8888888888888888,\"#fdca26\"],[1.0,\"#f0f921\"]],\"sequentialminus\":[[0.0,\"#0d0887\"],[0.1111111111111111,\"#46039f\"],[0.2222222222222222,\"#7201a8\"],[0.3333333333333333,\"#9c179e\"],[0.4444444444444444,\"#bd3786\"],[0.5555555555555556,\"#d8576b\"],[0.6666666666666666,\"#ed7953\"],[0.7777777777777778,\"#fb9f3a\"],[0.8888888888888888,\"#fdca26\"],[1.0,\"#f0f921\"]],\"diverging\":[[0,\"#8e0152\"],[0.1,\"#c51b7d\"],[0.2,\"#de77ae\"],[0.3,\"#f1b6da\"],[0.4,\"#fde0ef\"],[0.5,\"#f7f7f7\"],[0.6,\"#e6f5d0\"],[0.7,\"#b8e186\"],[0.8,\"#7fbc41\"],[0.9,\"#4d9221\"],[1,\"#276419\"]]},\"xaxis\":{\"gridcolor\":\"white\",\"linecolor\":\"white\",\"ticks\":\"\",\"title\":{\"standoff\":15},\"zerolinecolor\":\"white\",\"automargin\":true,\"zerolinewidth\":2},\"yaxis\":{\"gridcolor\":\"white\",\"linecolor\":\"white\",\"ticks\":\"\",\"title\":{\"standoff\":15},\"zerolinecolor\":\"white\",\"automargin\":true,\"zerolinewidth\":2},\"scene\":{\"xaxis\":{\"backgroundcolor\":\"#E5ECF6\",\"gridcolor\":\"white\",\"linecolor\":\"white\",\"showbackground\":true,\"ticks\":\"\",\"zerolinecolor\":\"white\",\"gridwidth\":2},\"yaxis\":{\"backgroundcolor\":\"#E5ECF6\",\"gridcolor\":\"white\",\"linecolor\":\"white\",\"showbackground\":true,\"ticks\":\"\",\"zerolinecolor\":\"white\",\"gridwidth\":2},\"zaxis\":{\"backgroundcolor\":\"#E5ECF6\",\"gridcolor\":\"white\",\"linecolor\":\"white\",\"showbackground\":true,\"ticks\":\"\",\"zerolinecolor\":\"white\",\"gridwidth\":2}},\"shapedefaults\":{\"line\":{\"color\":\"#2a3f5f\"}},\"annotationdefaults\":{\"arrowcolor\":\"#2a3f5f\",\"arrowhead\":0,\"arrowwidth\":1},\"geo\":{\"bgcolor\":\"white\",\"landcolor\":\"#E5ECF6\",\"subunitcolor\":\"white\",\"showland\":true,\"showlakes\":true,\"lakecolor\":\"white\"},\"title\":{\"x\":0.05},\"mapbox\":{\"style\":\"light\"}}},\"xaxis\":{\"anchor\":\"y\",\"domain\":[0.0,1.0],\"title\":{\"text\":\"BusinessTravel\"}},\"yaxis\":{\"anchor\":\"x\",\"domain\":[0.0,1.0],\"title\":{\"text\":\"count\"}},\"legend\":{\"title\":{\"text\":\"Attrition\"},\"tracegroupgap\":0},\"title\":{\"text\":\"Attrition by Business Travel\"},\"barmode\":\"group\"},                        {\"responsive\": true}                    ).then(function(){\n",
              "                            \n",
              "var gd = document.getElementById('16bbab26-b179-4b1b-981f-71730f490e7d');\n",
              "var x = new MutationObserver(function (mutations, observer) {{\n",
              "        var display = window.getComputedStyle(gd).display;\n",
              "        if (!display || display === 'none') {{\n",
              "            console.log([gd, 'removed!']);\n",
              "            Plotly.purge(gd);\n",
              "            observer.disconnect();\n",
              "        }}\n",
              "}});\n",
              "\n",
              "// Listen for the removal of the full notebook cells\n",
              "var notebookContainer = gd.closest('#notebook-container');\n",
              "if (notebookContainer) {{\n",
              "    x.observe(notebookContainer, {childList: true});\n",
              "}}\n",
              "\n",
              "// Listen for the clearing of the current output cell\n",
              "var outputEl = gd.closest('.output');\n",
              "if (outputEl) {{\n",
              "    x.observe(outputEl, {childList: true});\n",
              "}}\n",
              "\n",
              "                        })                };                            </script>        </div>\n",
              "</body>\n",
              "</html>"
            ]
          },
          "metadata": {}
        }
      ]
    },
    {
      "cell_type": "markdown",
      "source": [
        "**Insight:** Employees who travel rarely are more likely to retention than attrition."
      ],
      "metadata": {
        "id": "GrR1JPp94OGW"
      }
    },
    {
      "cell_type": "markdown",
      "source": [
        "**OverTime:** Whether the employee works overtime (Yes/No)"
      ],
      "metadata": {
        "id": "0_zmsy-W4vXW"
      }
    },
    {
      "cell_type": "code",
      "source": [
        "# Overtime Impact\n",
        "fig = px.histogram(df,\n",
        "                   x='OverTime',\n",
        "                   color='Attrition',\n",
        "                   barmode='group',     # side-by-side bars\n",
        "                   text_auto=True,      # show counts\n",
        "                   color_discrete_map={'Yes':'green','No':'darkblue'})\n",
        "\n",
        "fig.update_layout(\n",
        "    title=\"Attrition by Overtime\",\n",
        "    xaxis_title=\"Overtime\",\n",
        "    yaxis_title=\"Number of Employees\"\n",
        ")\n",
        "\n",
        "fig.show()"
      ],
      "metadata": {
        "colab": {
          "base_uri": "https://localhost:8080/",
          "height": 542
        },
        "id": "a2EVgQZUr6Jm",
        "outputId": "ac61f09c-5d82-4f02-f4b2-4b57a5d521f6"
      },
      "execution_count": null,
      "outputs": [
        {
          "output_type": "display_data",
          "data": {
            "text/html": [
              "<html>\n",
              "<head><meta charset=\"utf-8\" /></head>\n",
              "<body>\n",
              "    <div>            <script src=\"https://cdnjs.cloudflare.com/ajax/libs/mathjax/2.7.5/MathJax.js?config=TeX-AMS-MML_SVG\"></script><script type=\"text/javascript\">if (window.MathJax && window.MathJax.Hub && window.MathJax.Hub.Config) {window.MathJax.Hub.Config({SVG: {font: \"STIX-Web\"}});}</script>                <script type=\"text/javascript\">window.PlotlyConfig = {MathJaxConfig: 'local'};</script>\n",
              "        <script charset=\"utf-8\" src=\"https://cdn.plot.ly/plotly-2.35.2.min.js\"></script>                <div id=\"21dffc3a-e0f4-4d34-a2b8-bfbdc2697d31\" class=\"plotly-graph-div\" style=\"height:525px; width:100%;\"></div>            <script type=\"text/javascript\">                                    window.PLOTLYENV=window.PLOTLYENV || {};                                    if (document.getElementById(\"21dffc3a-e0f4-4d34-a2b8-bfbdc2697d31\")) {                    Plotly.newPlot(                        \"21dffc3a-e0f4-4d34-a2b8-bfbdc2697d31\",                        [{\"alignmentgroup\":\"True\",\"bingroup\":\"x\",\"hovertemplate\":\"Attrition=Yes\\u003cbr\\u003eOverTime=%{x}\\u003cbr\\u003ecount=%{y}\\u003cextra\\u003e\\u003c\\u002fextra\\u003e\",\"legendgroup\":\"Yes\",\"marker\":{\"color\":\"green\",\"pattern\":{\"shape\":\"\"}},\"name\":\"Yes\",\"offsetgroup\":\"Yes\",\"orientation\":\"v\",\"showlegend\":true,\"texttemplate\":\"%{value}\",\"x\":[\"Yes\",\"Yes\",\"Yes\",\"No\",\"No\",\"Yes\",\"No\",\"Yes\",\"Yes\",\"No\",\"No\",\"Yes\",\"Yes\",\"Yes\",\"No\",\"Yes\",\"Yes\",\"Yes\",\"Yes\",\"Yes\",\"Yes\",\"No\",\"Yes\",\"Yes\",\"No\",\"No\",\"No\",\"No\",\"Yes\",\"Yes\",\"Yes\",\"No\",\"No\",\"Yes\",\"No\",\"No\",\"Yes\",\"Yes\",\"No\",\"Yes\",\"No\",\"No\",\"No\",\"Yes\",\"Yes\",\"Yes\",\"Yes\",\"No\",\"No\",\"Yes\",\"Yes\",\"Yes\",\"Yes\",\"Yes\",\"No\",\"Yes\",\"No\",\"Yes\",\"No\",\"Yes\",\"No\",\"Yes\",\"No\",\"No\",\"No\",\"Yes\",\"No\",\"No\",\"Yes\",\"No\",\"Yes\",\"Yes\",\"Yes\",\"No\",\"Yes\",\"No\",\"No\",\"No\",\"No\",\"Yes\",\"Yes\",\"No\",\"Yes\",\"Yes\",\"Yes\",\"Yes\",\"Yes\",\"Yes\",\"No\",\"Yes\",\"Yes\",\"No\",\"Yes\",\"No\",\"No\",\"No\",\"Yes\",\"Yes\",\"Yes\",\"Yes\",\"Yes\",\"No\",\"No\",\"Yes\",\"Yes\",\"Yes\",\"Yes\",\"Yes\",\"No\",\"Yes\",\"No\",\"No\",\"Yes\",\"Yes\",\"Yes\",\"Yes\",\"Yes\",\"Yes\",\"No\",\"No\",\"No\",\"No\",\"No\",\"No\",\"Yes\",\"Yes\",\"No\",\"Yes\",\"No\",\"No\",\"Yes\",\"No\",\"Yes\",\"No\",\"Yes\",\"No\",\"Yes\",\"No\",\"No\",\"Yes\",\"No\",\"No\",\"Yes\",\"Yes\",\"No\",\"Yes\",\"Yes\",\"No\",\"No\",\"Yes\",\"Yes\",\"Yes\",\"No\",\"No\",\"Yes\",\"No\",\"No\",\"Yes\",\"Yes\",\"Yes\",\"No\",\"Yes\",\"Yes\",\"No\",\"Yes\",\"Yes\",\"Yes\",\"No\",\"Yes\",\"No\",\"No\",\"No\",\"No\",\"Yes\",\"No\",\"Yes\",\"No\",\"No\",\"No\",\"Yes\",\"Yes\",\"No\",\"No\",\"No\",\"No\",\"No\",\"Yes\",\"No\",\"No\",\"Yes\",\"Yes\",\"No\",\"Yes\",\"Yes\",\"Yes\",\"Yes\",\"Yes\",\"No\",\"Yes\",\"No\",\"No\",\"Yes\",\"No\",\"No\",\"No\",\"Yes\",\"No\",\"Yes\",\"No\",\"Yes\",\"Yes\",\"Yes\",\"No\",\"No\",\"Yes\",\"No\",\"No\",\"Yes\",\"Yes\",\"Yes\",\"No\",\"No\",\"Yes\",\"Yes\",\"No\",\"No\",\"Yes\",\"Yes\",\"No\",\"No\",\"Yes\",\"Yes\",\"No\",\"Yes\",\"No\",\"No\",\"Yes\"],\"xaxis\":\"x\",\"yaxis\":\"y\",\"type\":\"histogram\"},{\"alignmentgroup\":\"True\",\"bingroup\":\"x\",\"hovertemplate\":\"Attrition=No\\u003cbr\\u003eOverTime=%{x}\\u003cbr\\u003ecount=%{y}\\u003cextra\\u003e\\u003c\\u002fextra\\u003e\",\"legendgroup\":\"No\",\"marker\":{\"color\":\"darkblue\",\"pattern\":{\"shape\":\"\"}},\"name\":\"No\",\"offsetgroup\":\"No\",\"orientation\":\"v\",\"showlegend\":true,\"texttemplate\":\"%{value}\",\"x\":[\"No\",\"Yes\",\"No\",\"No\",\"Yes\",\"No\",\"No\",\"No\",\"No\",\"Yes\",\"No\",\"No\",\"No\",\"Yes\",\"Yes\",\"No\",\"Yes\",\"No\",\"No\",\"No\",\"No\",\"No\",\"No\",\"No\",\"No\",\"Yes\",\"No\",\"No\",\"No\",\"Yes\",\"No\",\"No\",\"No\",\"No\",\"No\",\"No\",\"No\",\"Yes\",\"No\",\"Yes\",\"Yes\",\"Yes\",\"Yes\",\"No\",\"Yes\",\"No\",\"No\",\"Yes\",\"No\",\"Yes\",\"No\",\"No\",\"Yes\",\"No\",\"No\",\"No\",\"No\",\"No\",\"No\",\"No\",\"No\",\"No\",\"No\",\"Yes\",\"No\",\"Yes\",\"Yes\",\"No\",\"No\",\"Yes\",\"No\",\"No\",\"No\",\"No\",\"No\",\"No\",\"Yes\",\"Yes\",\"Yes\",\"No\",\"No\",\"No\",\"No\",\"No\",\"No\",\"No\",\"No\",\"No\",\"No\",\"Yes\",\"No\",\"No\",\"No\",\"Yes\",\"No\",\"No\",\"No\",\"No\",\"No\",\"No\",\"Yes\",\"No\",\"No\",\"No\",\"No\",\"No\",\"No\",\"No\",\"No\",\"Yes\",\"No\",\"No\",\"No\",\"No\",\"Yes\",\"No\",\"Yes\",\"No\",\"No\",\"No\",\"No\",\"No\",\"No\",\"No\",\"No\",\"No\",\"Yes\",\"No\",\"No\",\"No\",\"No\",\"Yes\",\"No\",\"No\",\"No\",\"No\",\"No\",\"Yes\",\"Yes\",\"No\",\"No\",\"No\",\"No\",\"No\",\"Yes\",\"No\",\"No\",\"Yes\",\"Yes\",\"No\",\"No\",\"No\",\"Yes\",\"No\",\"No\",\"No\",\"No\",\"No\",\"No\",\"No\",\"No\",\"No\",\"No\",\"No\",\"No\",\"Yes\",\"No\",\"No\",\"No\",\"No\",\"No\",\"Yes\",\"Yes\",\"Yes\",\"Yes\",\"No\",\"No\",\"No\",\"No\",\"No\",\"No\",\"Yes\",\"No\",\"No\",\"No\",\"No\",\"Yes\",\"No\",\"No\",\"No\",\"No\",\"No\",\"No\",\"No\",\"No\",\"No\",\"No\",\"Yes\",\"Yes\",\"No\",\"No\",\"No\",\"No\",\"No\",\"No\",\"No\",\"No\",\"No\",\"No\",\"No\",\"No\",\"No\",\"Yes\",\"No\",\"No\",\"Yes\",\"No\",\"No\",\"No\",\"No\",\"No\",\"Yes\",\"No\",\"No\",\"No\",\"Yes\",\"No\",\"Yes\",\"No\",\"No\",\"No\",\"Yes\",\"No\",\"Yes\",\"No\",\"No\",\"Yes\",\"No\",\"No\",\"Yes\",\"Yes\",\"No\",\"No\",\"No\",\"Yes\",\"No\",\"No\",\"Yes\",\"No\",\"No\",\"No\",\"No\",\"No\",\"No\",\"No\",\"No\",\"No\",\"No\",\"No\",\"No\",\"Yes\",\"Yes\",\"No\",\"No\",\"Yes\",\"No\",\"Yes\",\"No\",\"Yes\",\"Yes\",\"Yes\",\"Yes\",\"No\",\"No\",\"No\",\"No\",\"No\",\"No\",\"No\",\"No\",\"Yes\",\"No\",\"No\",\"No\",\"Yes\",\"No\",\"No\",\"No\",\"No\",\"Yes\",\"Yes\",\"Yes\",\"No\",\"No\",\"Yes\",\"No\",\"No\",\"No\",\"Yes\",\"No\",\"No\",\"Yes\",\"Yes\",\"No\",\"No\",\"No\",\"No\",\"No\",\"Yes\",\"No\",\"No\",\"No\",\"No\",\"Yes\",\"No\",\"No\",\"No\",\"No\",\"No\",\"No\",\"No\",\"Yes\",\"Yes\",\"No\",\"No\",\"No\",\"No\",\"No\",\"No\",\"Yes\",\"No\",\"No\",\"No\",\"No\",\"No\",\"No\",\"Yes\",\"Yes\",\"Yes\",\"No\",\"Yes\",\"No\",\"No\",\"No\",\"No\",\"Yes\",\"No\",\"No\",\"No\",\"No\",\"No\",\"No\",\"No\",\"Yes\",\"No\",\"No\",\"No\",\"No\",\"No\",\"No\",\"No\",\"No\",\"No\",\"No\",\"No\",\"No\",\"No\",\"No\",\"Yes\",\"No\",\"No\",\"Yes\",\"No\",\"No\",\"No\",\"No\",\"No\",\"No\",\"No\",\"No\",\"Yes\",\"Yes\",\"No\",\"No\",\"No\",\"No\",\"No\",\"Yes\",\"No\",\"No\",\"No\",\"No\",\"No\",\"No\",\"No\",\"Yes\",\"No\",\"No\",\"No\",\"Yes\",\"Yes\",\"No\",\"No\",\"No\",\"No\",\"Yes\",\"No\",\"No\",\"No\",\"Yes\",\"No\",\"No\",\"Yes\",\"No\",\"Yes\",\"No\",\"No\",\"Yes\",\"No\",\"Yes\",\"No\",\"No\",\"Yes\",\"No\",\"No\",\"No\",\"Yes\",\"No\",\"No\",\"No\",\"No\",\"No\",\"Yes\",\"No\",\"No\",\"No\",\"No\",\"No\",\"No\",\"No\",\"Yes\",\"No\",\"Yes\",\"No\",\"No\",\"No\",\"No\",\"No\",\"No\",\"No\",\"Yes\",\"No\",\"No\",\"No\",\"No\",\"No\",\"No\",\"No\",\"Yes\",\"No\",\"Yes\",\"No\",\"No\",\"No\",\"No\",\"No\",\"No\",\"No\",\"Yes\",\"No\",\"No\",\"No\",\"No\",\"No\",\"Yes\",\"No\",\"No\",\"No\",\"No\",\"No\",\"No\",\"No\",\"No\",\"No\",\"No\",\"No\",\"Yes\",\"No\",\"Yes\",\"Yes\",\"No\",\"No\",\"No\",\"No\",\"No\",\"No\",\"No\",\"No\",\"No\",\"No\",\"Yes\",\"No\",\"No\",\"No\",\"Yes\",\"No\",\"No\",\"No\",\"Yes\",\"No\",\"No\",\"No\",\"No\",\"No\",\"Yes\",\"No\",\"Yes\",\"No\",\"No\",\"No\",\"No\",\"No\",\"No\",\"No\",\"Yes\",\"No\",\"No\",\"Yes\",\"Yes\",\"No\",\"No\",\"No\",\"No\",\"No\",\"Yes\",\"Yes\",\"No\",\"Yes\",\"Yes\",\"No\",\"No\",\"No\",\"No\",\"No\",\"No\",\"Yes\",\"Yes\",\"No\",\"No\",\"No\",\"No\",\"No\",\"Yes\",\"Yes\",\"No\",\"No\",\"Yes\",\"No\",\"Yes\",\"No\",\"No\",\"Yes\",\"Yes\",\"No\",\"No\",\"No\",\"No\",\"Yes\",\"Yes\",\"No\",\"Yes\",\"No\",\"No\",\"No\",\"No\",\"No\",\"No\",\"No\",\"No\",\"Yes\",\"No\",\"Yes\",\"Yes\",\"No\",\"No\",\"No\",\"No\",\"No\",\"No\",\"No\",\"No\",\"Yes\",\"No\",\"No\",\"Yes\",\"No\",\"No\",\"No\",\"No\",\"No\",\"Yes\",\"No\",\"No\",\"Yes\",\"Yes\",\"Yes\",\"No\",\"No\",\"No\",\"No\",\"No\",\"No\",\"Yes\",\"Yes\",\"No\",\"No\",\"No\",\"No\",\"No\",\"No\",\"No\",\"No\",\"No\",\"No\",\"Yes\",\"Yes\",\"No\",\"Yes\",\"Yes\",\"No\",\"Yes\",\"No\",\"No\",\"No\",\"No\",\"Yes\",\"No\",\"No\",\"Yes\",\"No\",\"No\",\"Yes\",\"No\",\"No\",\"No\",\"No\",\"No\",\"No\",\"No\",\"No\",\"No\",\"Yes\",\"No\",\"No\",\"No\",\"No\",\"No\",\"No\",\"No\",\"No\",\"No\",\"No\",\"No\",\"Yes\",\"No\",\"No\",\"No\",\"No\",\"No\",\"No\",\"Yes\",\"No\",\"No\",\"No\",\"No\",\"No\",\"No\",\"Yes\",\"No\",\"No\",\"No\",\"No\",\"No\",\"No\",\"No\",\"No\",\"No\",\"Yes\",\"No\",\"Yes\",\"Yes\",\"No\",\"No\",\"No\",\"No\",\"No\",\"No\",\"No\",\"No\",\"No\",\"No\",\"Yes\",\"No\",\"No\",\"No\",\"No\",\"No\",\"No\",\"No\",\"Yes\",\"No\",\"No\",\"No\",\"Yes\",\"No\",\"No\",\"No\",\"No\",\"No\",\"No\",\"No\",\"No\",\"Yes\",\"No\",\"No\",\"No\",\"No\",\"No\",\"No\",\"No\",\"Yes\",\"No\",\"Yes\",\"Yes\",\"No\",\"No\",\"No\",\"Yes\",\"Yes\",\"Yes\",\"Yes\",\"No\",\"No\",\"No\",\"No\",\"Yes\",\"No\",\"No\",\"No\",\"No\",\"No\",\"No\",\"No\",\"Yes\",\"No\",\"No\",\"No\",\"No\",\"Yes\",\"Yes\",\"No\",\"Yes\",\"Yes\",\"No\",\"Yes\",\"Yes\",\"No\",\"No\",\"Yes\",\"No\",\"No\",\"Yes\",\"Yes\",\"No\",\"Yes\",\"Yes\",\"No\",\"Yes\",\"No\",\"No\",\"No\",\"No\",\"Yes\",\"No\",\"No\",\"No\",\"No\",\"No\",\"Yes\",\"Yes\",\"No\",\"Yes\",\"No\",\"Yes\",\"No\",\"No\",\"No\",\"No\",\"No\",\"No\",\"Yes\",\"Yes\",\"No\",\"No\",\"No\",\"No\",\"No\",\"No\",\"No\",\"No\",\"No\",\"No\",\"No\",\"Yes\",\"No\",\"No\",\"No\",\"No\",\"No\",\"No\",\"Yes\",\"No\",\"Yes\",\"Yes\",\"No\",\"Yes\",\"No\",\"No\",\"Yes\",\"Yes\",\"Yes\",\"No\",\"No\",\"No\",\"No\",\"No\",\"No\",\"No\",\"No\",\"No\",\"Yes\",\"No\",\"Yes\",\"No\",\"No\",\"No\",\"No\",\"No\",\"No\",\"No\",\"No\",\"No\",\"No\",\"Yes\",\"No\",\"No\",\"Yes\",\"No\",\"No\",\"Yes\",\"No\",\"Yes\",\"No\",\"No\",\"No\",\"No\",\"No\",\"No\",\"No\",\"No\",\"No\",\"No\",\"No\",\"No\",\"No\",\"No\",\"No\",\"No\",\"No\",\"No\",\"No\",\"Yes\",\"No\",\"No\",\"Yes\",\"No\",\"Yes\",\"No\",\"No\",\"No\",\"No\",\"No\",\"Yes\",\"No\",\"No\",\"No\",\"No\",\"No\",\"No\",\"No\",\"Yes\",\"Yes\",\"Yes\",\"No\",\"No\",\"No\",\"No\",\"No\",\"Yes\",\"No\",\"Yes\",\"Yes\",\"No\",\"Yes\",\"No\",\"No\",\"No\",\"Yes\",\"No\",\"No\",\"No\",\"No\",\"No\",\"No\",\"No\",\"No\",\"No\",\"No\",\"No\",\"No\",\"No\",\"No\",\"No\",\"Yes\",\"Yes\",\"No\",\"No\",\"Yes\",\"No\",\"Yes\",\"No\",\"No\",\"No\",\"No\",\"No\",\"No\",\"No\",\"Yes\",\"Yes\",\"No\",\"Yes\",\"No\",\"Yes\",\"No\",\"No\",\"Yes\",\"No\",\"No\",\"No\",\"No\",\"No\",\"No\",\"No\",\"No\",\"No\",\"No\",\"No\",\"No\",\"No\",\"No\",\"Yes\",\"No\",\"Yes\",\"Yes\",\"No\",\"Yes\",\"No\",\"No\",\"No\",\"No\",\"No\",\"No\",\"No\",\"No\",\"No\",\"No\",\"No\",\"Yes\",\"No\",\"No\",\"No\",\"No\",\"No\",\"Yes\",\"No\",\"No\",\"No\",\"Yes\",\"No\",\"No\",\"No\",\"Yes\",\"No\",\"Yes\",\"No\",\"Yes\",\"No\",\"No\",\"No\",\"No\",\"No\",\"No\",\"No\",\"No\",\"No\",\"Yes\",\"Yes\",\"Yes\",\"No\",\"No\",\"No\",\"No\",\"No\",\"No\",\"No\",\"No\",\"No\",\"No\",\"Yes\",\"No\",\"No\",\"No\",\"No\",\"No\",\"Yes\",\"No\",\"No\",\"Yes\",\"No\",\"No\",\"No\",\"No\",\"No\",\"No\",\"No\",\"Yes\",\"No\",\"Yes\",\"No\",\"No\",\"No\",\"No\",\"No\",\"No\",\"Yes\",\"No\",\"No\",\"No\",\"No\",\"Yes\",\"Yes\",\"No\",\"No\",\"No\",\"No\",\"No\",\"No\",\"Yes\",\"Yes\",\"No\",\"No\",\"No\",\"No\",\"No\",\"No\",\"No\",\"No\",\"No\",\"No\",\"No\",\"No\",\"Yes\",\"No\",\"No\",\"No\",\"No\",\"No\",\"Yes\",\"No\",\"No\",\"No\",\"No\",\"Yes\",\"No\",\"Yes\",\"No\",\"No\",\"Yes\",\"No\",\"Yes\",\"No\",\"No\",\"No\",\"No\",\"No\",\"No\",\"No\",\"No\",\"No\",\"No\",\"No\",\"No\",\"No\",\"No\",\"No\",\"No\",\"No\",\"Yes\",\"No\",\"Yes\",\"No\",\"Yes\",\"Yes\",\"No\",\"No\",\"No\",\"Yes\",\"No\",\"No\",\"No\",\"No\",\"No\",\"No\",\"Yes\",\"Yes\",\"No\",\"No\",\"No\",\"No\",\"Yes\",\"No\",\"No\",\"Yes\",\"No\",\"No\",\"No\",\"Yes\",\"Yes\",\"No\",\"No\",\"Yes\",\"No\",\"No\",\"Yes\",\"No\",\"No\",\"No\",\"No\",\"No\",\"No\",\"No\",\"No\",\"Yes\",\"No\",\"No\",\"No\",\"No\",\"No\",\"Yes\",\"Yes\",\"Yes\",\"No\",\"No\",\"No\",\"Yes\",\"No\",\"No\",\"No\",\"No\",\"No\",\"No\",\"Yes\",\"No\",\"No\",\"No\",\"No\",\"No\",\"Yes\",\"No\",\"No\",\"Yes\",\"No\",\"No\",\"Yes\",\"No\",\"No\",\"No\",\"No\",\"No\",\"No\",\"Yes\",\"Yes\",\"No\",\"Yes\",\"Yes\",\"No\",\"No\",\"No\",\"No\",\"No\",\"No\",\"No\",\"No\",\"No\",\"No\",\"Yes\",\"No\",\"No\",\"No\",\"No\",\"Yes\",\"No\",\"No\",\"Yes\",\"No\",\"No\",\"No\",\"No\",\"No\",\"No\",\"Yes\",\"No\",\"No\"],\"xaxis\":\"x\",\"yaxis\":\"y\",\"type\":\"histogram\"}],                        {\"template\":{\"data\":{\"histogram2dcontour\":[{\"type\":\"histogram2dcontour\",\"colorbar\":{\"outlinewidth\":0,\"ticks\":\"\"},\"colorscale\":[[0.0,\"#0d0887\"],[0.1111111111111111,\"#46039f\"],[0.2222222222222222,\"#7201a8\"],[0.3333333333333333,\"#9c179e\"],[0.4444444444444444,\"#bd3786\"],[0.5555555555555556,\"#d8576b\"],[0.6666666666666666,\"#ed7953\"],[0.7777777777777778,\"#fb9f3a\"],[0.8888888888888888,\"#fdca26\"],[1.0,\"#f0f921\"]]}],\"choropleth\":[{\"type\":\"choropleth\",\"colorbar\":{\"outlinewidth\":0,\"ticks\":\"\"}}],\"histogram2d\":[{\"type\":\"histogram2d\",\"colorbar\":{\"outlinewidth\":0,\"ticks\":\"\"},\"colorscale\":[[0.0,\"#0d0887\"],[0.1111111111111111,\"#46039f\"],[0.2222222222222222,\"#7201a8\"],[0.3333333333333333,\"#9c179e\"],[0.4444444444444444,\"#bd3786\"],[0.5555555555555556,\"#d8576b\"],[0.6666666666666666,\"#ed7953\"],[0.7777777777777778,\"#fb9f3a\"],[0.8888888888888888,\"#fdca26\"],[1.0,\"#f0f921\"]]}],\"heatmap\":[{\"type\":\"heatmap\",\"colorbar\":{\"outlinewidth\":0,\"ticks\":\"\"},\"colorscale\":[[0.0,\"#0d0887\"],[0.1111111111111111,\"#46039f\"],[0.2222222222222222,\"#7201a8\"],[0.3333333333333333,\"#9c179e\"],[0.4444444444444444,\"#bd3786\"],[0.5555555555555556,\"#d8576b\"],[0.6666666666666666,\"#ed7953\"],[0.7777777777777778,\"#fb9f3a\"],[0.8888888888888888,\"#fdca26\"],[1.0,\"#f0f921\"]]}],\"heatmapgl\":[{\"type\":\"heatmapgl\",\"colorbar\":{\"outlinewidth\":0,\"ticks\":\"\"},\"colorscale\":[[0.0,\"#0d0887\"],[0.1111111111111111,\"#46039f\"],[0.2222222222222222,\"#7201a8\"],[0.3333333333333333,\"#9c179e\"],[0.4444444444444444,\"#bd3786\"],[0.5555555555555556,\"#d8576b\"],[0.6666666666666666,\"#ed7953\"],[0.7777777777777778,\"#fb9f3a\"],[0.8888888888888888,\"#fdca26\"],[1.0,\"#f0f921\"]]}],\"contourcarpet\":[{\"type\":\"contourcarpet\",\"colorbar\":{\"outlinewidth\":0,\"ticks\":\"\"}}],\"contour\":[{\"type\":\"contour\",\"colorbar\":{\"outlinewidth\":0,\"ticks\":\"\"},\"colorscale\":[[0.0,\"#0d0887\"],[0.1111111111111111,\"#46039f\"],[0.2222222222222222,\"#7201a8\"],[0.3333333333333333,\"#9c179e\"],[0.4444444444444444,\"#bd3786\"],[0.5555555555555556,\"#d8576b\"],[0.6666666666666666,\"#ed7953\"],[0.7777777777777778,\"#fb9f3a\"],[0.8888888888888888,\"#fdca26\"],[1.0,\"#f0f921\"]]}],\"surface\":[{\"type\":\"surface\",\"colorbar\":{\"outlinewidth\":0,\"ticks\":\"\"},\"colorscale\":[[0.0,\"#0d0887\"],[0.1111111111111111,\"#46039f\"],[0.2222222222222222,\"#7201a8\"],[0.3333333333333333,\"#9c179e\"],[0.4444444444444444,\"#bd3786\"],[0.5555555555555556,\"#d8576b\"],[0.6666666666666666,\"#ed7953\"],[0.7777777777777778,\"#fb9f3a\"],[0.8888888888888888,\"#fdca26\"],[1.0,\"#f0f921\"]]}],\"mesh3d\":[{\"type\":\"mesh3d\",\"colorbar\":{\"outlinewidth\":0,\"ticks\":\"\"}}],\"scatter\":[{\"fillpattern\":{\"fillmode\":\"overlay\",\"size\":10,\"solidity\":0.2},\"type\":\"scatter\"}],\"parcoords\":[{\"type\":\"parcoords\",\"line\":{\"colorbar\":{\"outlinewidth\":0,\"ticks\":\"\"}}}],\"scatterpolargl\":[{\"type\":\"scatterpolargl\",\"marker\":{\"colorbar\":{\"outlinewidth\":0,\"ticks\":\"\"}}}],\"bar\":[{\"error_x\":{\"color\":\"#2a3f5f\"},\"error_y\":{\"color\":\"#2a3f5f\"},\"marker\":{\"line\":{\"color\":\"#E5ECF6\",\"width\":0.5},\"pattern\":{\"fillmode\":\"overlay\",\"size\":10,\"solidity\":0.2}},\"type\":\"bar\"}],\"scattergeo\":[{\"type\":\"scattergeo\",\"marker\":{\"colorbar\":{\"outlinewidth\":0,\"ticks\":\"\"}}}],\"scatterpolar\":[{\"type\":\"scatterpolar\",\"marker\":{\"colorbar\":{\"outlinewidth\":0,\"ticks\":\"\"}}}],\"histogram\":[{\"marker\":{\"pattern\":{\"fillmode\":\"overlay\",\"size\":10,\"solidity\":0.2}},\"type\":\"histogram\"}],\"scattergl\":[{\"type\":\"scattergl\",\"marker\":{\"colorbar\":{\"outlinewidth\":0,\"ticks\":\"\"}}}],\"scatter3d\":[{\"type\":\"scatter3d\",\"line\":{\"colorbar\":{\"outlinewidth\":0,\"ticks\":\"\"}},\"marker\":{\"colorbar\":{\"outlinewidth\":0,\"ticks\":\"\"}}}],\"scattermapbox\":[{\"type\":\"scattermapbox\",\"marker\":{\"colorbar\":{\"outlinewidth\":0,\"ticks\":\"\"}}}],\"scatterternary\":[{\"type\":\"scatterternary\",\"marker\":{\"colorbar\":{\"outlinewidth\":0,\"ticks\":\"\"}}}],\"scattercarpet\":[{\"type\":\"scattercarpet\",\"marker\":{\"colorbar\":{\"outlinewidth\":0,\"ticks\":\"\"}}}],\"carpet\":[{\"aaxis\":{\"endlinecolor\":\"#2a3f5f\",\"gridcolor\":\"white\",\"linecolor\":\"white\",\"minorgridcolor\":\"white\",\"startlinecolor\":\"#2a3f5f\"},\"baxis\":{\"endlinecolor\":\"#2a3f5f\",\"gridcolor\":\"white\",\"linecolor\":\"white\",\"minorgridcolor\":\"white\",\"startlinecolor\":\"#2a3f5f\"},\"type\":\"carpet\"}],\"table\":[{\"cells\":{\"fill\":{\"color\":\"#EBF0F8\"},\"line\":{\"color\":\"white\"}},\"header\":{\"fill\":{\"color\":\"#C8D4E3\"},\"line\":{\"color\":\"white\"}},\"type\":\"table\"}],\"barpolar\":[{\"marker\":{\"line\":{\"color\":\"#E5ECF6\",\"width\":0.5},\"pattern\":{\"fillmode\":\"overlay\",\"size\":10,\"solidity\":0.2}},\"type\":\"barpolar\"}],\"pie\":[{\"automargin\":true,\"type\":\"pie\"}]},\"layout\":{\"autotypenumbers\":\"strict\",\"colorway\":[\"#636efa\",\"#EF553B\",\"#00cc96\",\"#ab63fa\",\"#FFA15A\",\"#19d3f3\",\"#FF6692\",\"#B6E880\",\"#FF97FF\",\"#FECB52\"],\"font\":{\"color\":\"#2a3f5f\"},\"hovermode\":\"closest\",\"hoverlabel\":{\"align\":\"left\"},\"paper_bgcolor\":\"white\",\"plot_bgcolor\":\"#E5ECF6\",\"polar\":{\"bgcolor\":\"#E5ECF6\",\"angularaxis\":{\"gridcolor\":\"white\",\"linecolor\":\"white\",\"ticks\":\"\"},\"radialaxis\":{\"gridcolor\":\"white\",\"linecolor\":\"white\",\"ticks\":\"\"}},\"ternary\":{\"bgcolor\":\"#E5ECF6\",\"aaxis\":{\"gridcolor\":\"white\",\"linecolor\":\"white\",\"ticks\":\"\"},\"baxis\":{\"gridcolor\":\"white\",\"linecolor\":\"white\",\"ticks\":\"\"},\"caxis\":{\"gridcolor\":\"white\",\"linecolor\":\"white\",\"ticks\":\"\"}},\"coloraxis\":{\"colorbar\":{\"outlinewidth\":0,\"ticks\":\"\"}},\"colorscale\":{\"sequential\":[[0.0,\"#0d0887\"],[0.1111111111111111,\"#46039f\"],[0.2222222222222222,\"#7201a8\"],[0.3333333333333333,\"#9c179e\"],[0.4444444444444444,\"#bd3786\"],[0.5555555555555556,\"#d8576b\"],[0.6666666666666666,\"#ed7953\"],[0.7777777777777778,\"#fb9f3a\"],[0.8888888888888888,\"#fdca26\"],[1.0,\"#f0f921\"]],\"sequentialminus\":[[0.0,\"#0d0887\"],[0.1111111111111111,\"#46039f\"],[0.2222222222222222,\"#7201a8\"],[0.3333333333333333,\"#9c179e\"],[0.4444444444444444,\"#bd3786\"],[0.5555555555555556,\"#d8576b\"],[0.6666666666666666,\"#ed7953\"],[0.7777777777777778,\"#fb9f3a\"],[0.8888888888888888,\"#fdca26\"],[1.0,\"#f0f921\"]],\"diverging\":[[0,\"#8e0152\"],[0.1,\"#c51b7d\"],[0.2,\"#de77ae\"],[0.3,\"#f1b6da\"],[0.4,\"#fde0ef\"],[0.5,\"#f7f7f7\"],[0.6,\"#e6f5d0\"],[0.7,\"#b8e186\"],[0.8,\"#7fbc41\"],[0.9,\"#4d9221\"],[1,\"#276419\"]]},\"xaxis\":{\"gridcolor\":\"white\",\"linecolor\":\"white\",\"ticks\":\"\",\"title\":{\"standoff\":15},\"zerolinecolor\":\"white\",\"automargin\":true,\"zerolinewidth\":2},\"yaxis\":{\"gridcolor\":\"white\",\"linecolor\":\"white\",\"ticks\":\"\",\"title\":{\"standoff\":15},\"zerolinecolor\":\"white\",\"automargin\":true,\"zerolinewidth\":2},\"scene\":{\"xaxis\":{\"backgroundcolor\":\"#E5ECF6\",\"gridcolor\":\"white\",\"linecolor\":\"white\",\"showbackground\":true,\"ticks\":\"\",\"zerolinecolor\":\"white\",\"gridwidth\":2},\"yaxis\":{\"backgroundcolor\":\"#E5ECF6\",\"gridcolor\":\"white\",\"linecolor\":\"white\",\"showbackground\":true,\"ticks\":\"\",\"zerolinecolor\":\"white\",\"gridwidth\":2},\"zaxis\":{\"backgroundcolor\":\"#E5ECF6\",\"gridcolor\":\"white\",\"linecolor\":\"white\",\"showbackground\":true,\"ticks\":\"\",\"zerolinecolor\":\"white\",\"gridwidth\":2}},\"shapedefaults\":{\"line\":{\"color\":\"#2a3f5f\"}},\"annotationdefaults\":{\"arrowcolor\":\"#2a3f5f\",\"arrowhead\":0,\"arrowwidth\":1},\"geo\":{\"bgcolor\":\"white\",\"landcolor\":\"#E5ECF6\",\"subunitcolor\":\"white\",\"showland\":true,\"showlakes\":true,\"lakecolor\":\"white\"},\"title\":{\"x\":0.05},\"mapbox\":{\"style\":\"light\"}}},\"xaxis\":{\"anchor\":\"y\",\"domain\":[0.0,1.0],\"title\":{\"text\":\"Overtime\"}},\"yaxis\":{\"anchor\":\"x\",\"domain\":[0.0,1.0],\"title\":{\"text\":\"Number of Employees\"}},\"legend\":{\"title\":{\"text\":\"Attrition\"},\"tracegroupgap\":0},\"margin\":{\"t\":60},\"barmode\":\"group\",\"title\":{\"text\":\"Attrition by Overtime\"}},                        {\"responsive\": true}                    ).then(function(){\n",
              "                            \n",
              "var gd = document.getElementById('21dffc3a-e0f4-4d34-a2b8-bfbdc2697d31');\n",
              "var x = new MutationObserver(function (mutations, observer) {{\n",
              "        var display = window.getComputedStyle(gd).display;\n",
              "        if (!display || display === 'none') {{\n",
              "            console.log([gd, 'removed!']);\n",
              "            Plotly.purge(gd);\n",
              "            observer.disconnect();\n",
              "        }}\n",
              "}});\n",
              "\n",
              "// Listen for the removal of the full notebook cells\n",
              "var notebookContainer = gd.closest('#notebook-container');\n",
              "if (notebookContainer) {{\n",
              "    x.observe(notebookContainer, {childList: true});\n",
              "}}\n",
              "\n",
              "// Listen for the clearing of the current output cell\n",
              "var outputEl = gd.closest('.output');\n",
              "if (outputEl) {{\n",
              "    x.observe(outputEl, {childList: true});\n",
              "}}\n",
              "\n",
              "                        })                };                            </script>        </div>\n",
              "</body>\n",
              "</html>"
            ]
          },
          "metadata": {}
        }
      ]
    },
    {
      "cell_type": "markdown",
      "source": [
        "**Insight:** Employees doing overtime show higher attrition rates — possible burnout risk."
      ],
      "metadata": {
        "id": "N5VILr3zx9u6"
      }
    },
    {
      "cell_type": "markdown",
      "source": [
        "**Age:** Age of the employee\n",
        "\n",
        "**MonthlyIncome:** Gross monthly income\n",
        "\n",
        "**YearsAtCompany:** No. of Years spent in the company\n"
      ],
      "metadata": {
        "id": "9Otr_6Go1hM_"
      }
    },
    {
      "cell_type": "code",
      "source": [
        "# Attrition by Age Group, IncomeGroup, YearsAtCompanyGroup subplots\n",
        "\n",
        "# Create subplots (1 row, 3 columns)\n",
        "fig, axes = plt.subplots(1, 3, figsize=(18, 5))\n",
        "\n",
        "# Attrition by Age Group\n",
        "sns.countplot(data=df, x='AgeGroup', hue='Attrition', palette='viridis', ax=axes[0])\n",
        "axes[0].set_title(\"Attrition by Age Group\")\n",
        "axes[0].set_ylabel(\"Number of Employees\")\n",
        "axes[0].set_xlabel(\"Age Group\")\n",
        "\n",
        "# Attrition by Income Group\n",
        "sns.countplot(data=df, x='IncomeGroup', hue='Attrition', palette='viridis', ax=axes[1])\n",
        "axes[1].set_title(\"Attrition by Income Group\")\n",
        "axes[1].set_ylabel(\"Number of Employees\")\n",
        "axes[1].set_xlabel(\"Income Group\")\n",
        "\n",
        "# Attrition by YearsAtCompany Group\n",
        "sns.countplot(data=df, x='YearsAtCompanyGroup', hue='Attrition', palette='viridis', ax=axes[2])\n",
        "axes[2].set_title(\"Attrition by YearsAtCompany Group\")\n",
        "axes[2].set_ylabel(\"Number of Employees\")\n",
        "axes[2].set_xlabel(\"Years at Company Group\")\n",
        "\n",
        "# Adjust layout\n",
        "plt.tight_layout()\n",
        "plt.show()\n"
      ],
      "metadata": {
        "colab": {
          "base_uri": "https://localhost:8080/",
          "height": 335
        },
        "id": "UuKDbZkDvANV",
        "outputId": "4413eb02-c136-4783-de5e-ef556371adaf"
      },
      "execution_count": null,
      "outputs": [
        {
          "output_type": "display_data",
          "data": {
            "text/plain": [
              "<Figure size 1800x500 with 3 Axes>"
            ],
            "image/png": "[encoded data removed]"
          },
          "metadata": {}
        }
      ]
    },
    {
      "cell_type": "markdown",
      "source": [
        "**Insight:** Employees of age 26-35 have higher attrition rates. Employees who receive less salary (low range income) tend to quit or leave the company. Employees with 0-2 years experience at company have higher attrition risk. Employees with lower tenure have higher attrition."
      ],
      "metadata": {
        "id": "gkJty0C0Hc1v"
      }
    },
    {
      "cell_type": "code",
      "source": [
        "# Age vs Monthly Income by Attrition\n",
        "fig4 = px.scatter(df, x='Age', y='MonthlyIncome', color='Attrition',  hover_data=['JobRole'],\n",
        "                  color_discrete_map={'Yes':'green','No':'darkblue'},\n",
        "                  title='Age vs Monthly Income by Attrition')\n",
        "fig4.show()"
      ],
      "metadata": {
        "id": "Jdcq4UXKPOep",
        "colab": {
          "base_uri": "https://localhost:8080/",
          "height": 542
        },
        "outputId": "52518923-a8e9-410f-a869-e0d36fd3dfe8"
      },
      "execution_count": null,
      "outputs": [
        {
          "output_type": "display_data",
          "data": {
            "text/html": [
              "<html>\n",
              "<head><meta charset=\"utf-8\" /></head>\n",
              "<body>\n",
              "    <div>            <script src=\"https://cdnjs.cloudflare.com/ajax/libs/mathjax/2.7.5/MathJax.js?config=TeX-AMS-MML_SVG\"></script><script type=\"text/javascript\">if (window.MathJax && window.MathJax.Hub && window.MathJax.Hub.Config) {window.MathJax.Hub.Config({SVG: {font: \"STIX-Web\"}});}</script>                <script type=\"text/javascript\">window.PlotlyConfig = {MathJaxConfig: 'local'};</script>\n",
              "        <script charset=\"utf-8\" src=\"https://cdn.plot.ly/plotly-2.35.2.min.js\"></script>                <div id=\"ffbc77dd-2bd3-4d87-a18f-5e453c8b7b73\" class=\"plotly-graph-div\" style=\"height:525px; width:100%;\"></div>            <script type=\"text/javascript\">                                    window.PLOTLYENV=window.PLOTLYENV || {};                                    if (document.getElementById(\"ffbc77dd-2bd3-4d87-a18f-5e453c8b7b73\")) {                    Plotly.newPlot(                        \"ffbc77dd-2bd3-4d87-a18f-5e453c8b7b73\",                        [{\"customdata\":[[\"Sales Executive\"],[\"Laboratory Technician\"],[\"Laboratory Technician\"],[\"Sales Representative\"],[\"Research Scientist\"],[\"Research Scientist\"],[\"Sales Representative\"],[\"Research Scientist\"],[\"Sales Representative\"],[\"Laboratory Technician\"],[\"Research Director\"],[\"Laboratory Technician\"],[\"Laboratory Technician\"],[\"Research Scientist\"],[\"Sales Executive\"],[\"Human Resources\"],[\"Laboratory Technician\"],[\"Sales Executive\"],[\"Laboratory Technician\"],[\"Research Scientist\"],[\"Sales Executive\"],[\"Healthcare Representative\"],[\"Sales Representative\"],[\"Sales Executive\"],[\"Manufacturing Director\"],[\"Laboratory Technician\"],[\"Sales Representative\"],[\"Laboratory Technician\"],[\"Sales Representative\"],[\"Manufacturing Director\"],[\"Healthcare Representative\"],[\"Sales Executive\"],[\"Sales Executive\"],[\"Research Scientist\"],[\"Sales Executive\"],[\"Research Scientist\"],[\"Research Scientist\"],[\"Laboratory Technician\"],[\"Laboratory Technician\"],[\"Laboratory Technician\"],[\"Manufacturing Director\"],[\"Laboratory Technician\"],[\"Laboratory Technician\"],[\"Manager\"],[\"Laboratory Technician\"],[\"Laboratory Technician\"],[\"Sales Executive\"],[\"Laboratory Technician\"],[\"Research Scientist\"],[\"Research Scientist\"],[\"Sales Executive\"],[\"Laboratory Technician\"],[\"Sales Representative\"],[\"Sales Representative\"],[\"Sales Executive\"],[\"Sales Executive\"],[\"Sales Representative\"],[\"Sales Executive\"],[\"Research Scientist\"],[\"Research Scientist\"],[\"Laboratory Technician\"],[\"Sales Representative\"],[\"Sales Representative\"],[\"Research Scientist\"],[\"Human Resources\"],[\"Manager\"],[\"Laboratory Technician\"],[\"Healthcare Representative\"],[\"Human Resources\"],[\"Laboratory Technician\"],[\"Human Resources\"],[\"Sales Representative\"],[\"Laboratory Technician\"],[\"Sales Executive\"],[\"Laboratory Technician\"],[\"Sales Representative\"],[\"Sales Executive\"],[\"Sales Representative\"],[\"Sales Executive\"],[\"Research Scientist\"],[\"Research Scientist\"],[\"Sales Executive\"],[\"Sales Executive\"],[\"Research Scientist\"],[\"Research Scientist\"],[\"Research Scientist\"],[\"Sales Executive\"],[\"Manager\"],[\"Sales Executive\"],[\"Laboratory Technician\"],[\"Laboratory Technician\"],[\"Sales Executive\"],[\"Research Director\"],[\"Research Scientist\"],[\"Sales Executive\"],[\"Sales Executive\"],[\"Research Scientist\"],[\"Research Scientist\"],[\"Sales Representative\"],[\"Laboratory Technician\"],[\"Laboratory Technician\"],[\"Sales Representative\"],[\"Research Scientist\"],[\"Manufacturing Director\"],[\"Laboratory Technician\"],[\"Laboratory Technician\"],[\"Sales Representative\"],[\"Sales Representative\"],[\"Laboratory Technician\"],[\"Sales Executive\"],[\"Sales Executive\"],[\"Research Scientist\"],[\"Sales Executive\"],[\"Research Scientist\"],[\"Research Scientist\"],[\"Research Scientist\"],[\"Laboratory Technician\"],[\"Research Scientist\"],[\"Laboratory Technician\"],[\"Healthcare Representative\"],[\"Sales Executive\"],[\"Manager\"],[\"Laboratory Technician\"],[\"Laboratory Technician\"],[\"Research Scientist\"],[\"Sales Representative\"],[\"Laboratory Technician\"],[\"Research Scientist\"],[\"Healthcare Representative\"],[\"Human Resources\"],[\"Sales Executive\"],[\"Research Scientist\"],[\"Laboratory Technician\"],[\"Laboratory Technician\"],[\"Research Scientist\"],[\"Laboratory Technician\"],[\"Sales Executive\"],[\"Healthcare Representative\"],[\"Laboratory Technician\"],[\"Sales Executive\"],[\"Laboratory Technician\"],[\"Sales Executive\"],[\"Sales Executive\"],[\"Laboratory Technician\"],[\"Sales Executive\"],[\"Research Scientist\"],[\"Research Scientist\"],[\"Research Scientist\"],[\"Laboratory Technician\"],[\"Research Scientist\"],[\"Sales Representative\"],[\"Manager\"],[\"Laboratory Technician\"],[\"Healthcare Representative\"],[\"Laboratory Technician\"],[\"Laboratory Technician\"],[\"Research Scientist\"],[\"Sales Executive\"],[\"Sales Executive\"],[\"Sales Representative\"],[\"Laboratory Technician\"],[\"Manufacturing Director\"],[\"Sales Executive\"],[\"Sales Representative\"],[\"Sales Executive\"],[\"Manufacturing Director\"],[\"Research Scientist\"],[\"Laboratory Technician\"],[\"Healthcare Representative\"],[\"Sales Representative\"],[\"Research Scientist\"],[\"Sales Representative\"],[\"Sales Executive\"],[\"Laboratory Technician\"],[\"Manufacturing Director\"],[\"Laboratory Technician\"],[\"Human Resources\"],[\"Sales Representative\"],[\"Sales Executive\"],[\"Sales Executive\"],[\"Laboratory Technician\"],[\"Laboratory Technician\"],[\"Research Scientist\"],[\"Laboratory Technician\"],[\"Research Scientist\"],[\"Sales Executive\"],[\"Laboratory Technician\"],[\"Manufacturing Director\"],[\"Manufacturing Director\"],[\"Laboratory Technician\"],[\"Sales Representative\"],[\"Sales Executive\"],[\"Sales Executive\"],[\"Laboratory Technician\"],[\"Sales Executive\"],[\"Laboratory Technician\"],[\"Sales Representative\"],[\"Laboratory Technician\"],[\"Sales Representative\"],[\"Human Resources\"],[\"Sales Executive\"],[\"Sales Executive\"],[\"Sales Executive\"],[\"Human Resources\"],[\"Sales Representative\"],[\"Sales Executive\"],[\"Sales Executive\"],[\"Research Scientist\"],[\"Sales Representative\"],[\"Laboratory Technician\"],[\"Research Scientist\"],[\"Sales Executive\"],[\"Laboratory Technician\"],[\"Manufacturing Director\"],[\"Human Resources\"],[\"Healthcare Representative\"],[\"Human Resources\"],[\"Human Resources\"],[\"Sales Executive\"],[\"Research Scientist\"],[\"Sales Executive\"],[\"Sales Representative\"],[\"Research Scientist\"],[\"Research Scientist\"],[\"Laboratory Technician\"],[\"Sales Representative\"],[\"Sales Executive\"],[\"Research Scientist\"],[\"Human Resources\"],[\"Laboratory Technician\"],[\"Sales Executive\"],[\"Sales Executive\"],[\"Sales Representative\"],[\"Research Scientist\"],[\"Laboratory Technician\"],[\"Sales Executive\"],[\"Sales Executive\"]],\"hovertemplate\":\"Attrition=Yes\\u003cbr\\u003eAge=%{x}\\u003cbr\\u003eMonthlyIncome=%{y}\\u003cbr\\u003eJobRole=%{customdata[0]}\\u003cextra\\u003e\\u003c\\u002fextra\\u003e\",\"legendgroup\":\"Yes\",\"marker\":{\"color\":\"green\",\"symbol\":\"circle\"},\"mode\":\"markers\",\"name\":\"Yes\",\"showlegend\":true,\"x\":[41,37,28,36,34,32,39,24,50,26,41,48,28,36,46,37,20,25,34,56,31,58,19,31,51,32,19,19,41,35,38,29,32,30,30,29,29,33,33,32,37,31,28,47,44,26,26,18,52,28,39,29,21,33,41,40,21,34,26,30,25,24,34,29,19,33,33,31,34,22,26,18,26,32,24,30,31,27,45,20,33,24,50,28,42,33,47,55,26,23,29,33,58,28,49,55,26,35,29,32,58,20,21,22,41,39,25,19,20,36,37,58,40,31,29,30,35,20,30,37,26,52,36,36,26,20,21,51,28,44,35,33,25,26,33,28,50,39,18,33,31,29,42,28,43,44,22,41,24,19,25,45,21,44,29,32,39,40,52,31,44,58,55,31,35,31,27,49,29,31,31,25,46,39,31,31,34,28,29,34,24,28,29,40,31,30,35,53,38,28,18,35,35,40,35,23,48,32,23,24,47,36,32,30,29,33,31,43,21,22,44,35,34,37,26,46,31,29,32,29,46,30,22,34,56,29,28,32,27,28,31,53,23,29,56,50,50],\"xaxis\":\"x\",\"y\":[5993,2090,2028,3407,2960,3919,2086,2293,2683,2293,19545,5381,3441,3388,9619,2073,2926,5744,6074,4963,6172,10312,1675,4559,10650,4200,2325,1102,3140,5916,6673,7639,10400,2657,6696,2058,2389,2436,2707,3730,10048,3479,3485,11849,3161,2373,5828,1420,4941,3464,5238,2119,2174,2851,9355,6380,2716,5304,3102,2285,4031,3202,2351,2546,2564,13610,3408,9824,9950,3894,2741,1878,2340,4707,2886,2033,4233,3041,4286,1009,3348,4577,6796,2216,2759,2686,6397,19859,5326,1601,2319,5324,19246,4382,7654,5160,2366,2022,2800,2795,2380,2044,2693,4171,2778,2404,2413,2121,2973,10325,10609,2479,13194,2321,2404,2132,3743,2600,2422,4777,4969,19845,2743,4834,2042,2323,1416,2461,8722,10482,9582,4508,3691,2377,2313,2596,4728,12169,1904,8224,2610,7336,13758,2515,5346,2936,2853,2107,2210,1859,1118,18824,2625,7978,3339,4883,3904,9094,8446,2302,2362,10008,13695,2785,4614,6179,2394,4284,7553,1359,1261,4400,10096,3646,7446,3722,2742,2909,5765,4599,3172,2561,2362,2018,4084,9714,2074,10169,4855,2408,1569,10306,5440,2166,4581,3989,2655,1393,2275,1555,12936,6134,6735,2180,2760,8564,8161,2437,2679,2398,2342,5813,5346,4213,2148,8926,2956,2335,9907,2439,7314,1081,2472,2307,2587,1091,9854,2432,2863,2367,5617,10448,1790,4787,2339,6728,10854],\"yaxis\":\"y\",\"type\":\"scattergl\"},{\"customdata\":[[\"Research Scientist\"],[\"Research Scientist\"],[\"Laboratory Technician\"],[\"Laboratory Technician\"],[\"Laboratory Technician\"],[\"Laboratory Technician\"],[\"Manufacturing Director\"],[\"Healthcare Representative\"],[\"Laboratory Technician\"],[\"Laboratory Technician\"],[\"Research Scientist\"],[\"Laboratory Technician\"],[\"Manufacturing Director\"],[\"Research Scientist\"],[\"Laboratory Technician\"],[\"Manager\"],[\"Research Scientist\"],[\"Manufacturing Director\"],[\"Research Director\"],[\"Research Scientist\"],[\"Manager\"],[\"Sales Executive\"],[\"Healthcare Representative\"],[\"Manager\"],[\"Laboratory Technician\"],[\"Healthcare Representative\"],[\"Laboratory Technician\"],[\"Research Scientist\"],[\"Sales Representative\"],[\"Research Scientist\"],[\"Sales Executive\"],[\"Laboratory Technician\"],[\"Laboratory Technician\"],[\"Sales Executive\"],[\"Laboratory Technician\"],[\"Sales Executive\"],[\"Research Scientist\"],[\"Sales Executive\"],[\"Laboratory Technician\"],[\"Sales Executive\"],[\"Healthcare Representative\"],[\"Sales Executive\"],[\"Research Director\"],[\"Sales Executive\"],[\"Laboratory Technician\"],[\"Laboratory Technician\"],[\"Manufacturing Director\"],[\"Manufacturing Director\"],[\"Laboratory Technician\"],[\"Research Director\"],[\"Sales Executive\"],[\"Healthcare Representative\"],[\"Manager\"],[\"Manufacturing Director\"],[\"Research Scientist\"],[\"Research Scientist\"],[\"Sales Executive\"],[\"Research Scientist\"],[\"Research Scientist\"],[\"Research Scientist\"],[\"Laboratory Technician\"],[\"Manufacturing Director\"],[\"Sales Executive\"],[\"Research Director\"],[\"Research Director\"],[\"Human Resources\"],[\"Laboratory Technician\"],[\"Research Scientist\"],[\"Sales Executive\"],[\"Research Scientist\"],[\"Manufacturing Director\"],[\"Manufacturing Director\"],[\"Sales Representative\"],[\"Laboratory Technician\"],[\"Healthcare Representative\"],[\"Healthcare Representative\"],[\"Sales Executive\"],[\"Sales Executive\"],[\"Healthcare Representative\"],[\"Sales Executive\"],[\"Research Director\"],[\"Sales Executive\"],[\"Sales Executive\"],[\"Sales Executive\"],[\"Laboratory Technician\"],[\"Research Scientist\"],[\"Research Scientist\"],[\"Healthcare Representative\"],[\"Manager\"],[\"Research Director\"],[\"Research Scientist\"],[\"Laboratory Technician\"],[\"Healthcare Representative\"],[\"Manager\"],[\"Laboratory Technician\"],[\"Research Scientist\"],[\"Sales Executive\"],[\"Manager\"],[\"Sales Executive\"],[\"Laboratory Technician\"],[\"Manager\"],[\"Research Scientist\"],[\"Sales Executive\"],[\"Research Director\"],[\"Research Scientist\"],[\"Laboratory Technician\"],[\"Manufacturing Director\"],[\"Research Scientist\"],[\"Sales Executive\"],[\"Sales Executive\"],[\"Human Resources\"],[\"Manufacturing Director\"],[\"Sales Executive\"],[\"Sales Executive\"],[\"Human Resources\"],[\"Research Scientist\"],[\"Research Scientist\"],[\"Research Scientist\"],[\"Sales Executive\"],[\"Research Scientist\"],[\"Laboratory Technician\"],[\"Manager\"],[\"Laboratory Technician\"],[\"Laboratory Technician\"],[\"Research Scientist\"],[\"Sales Executive\"],[\"Sales Representative\"],[\"Laboratory Technician\"],[\"Sales Executive\"],[\"Manufacturing Director\"],[\"Manufacturing Director\"],[\"Research Scientist\"],[\"Sales Executive\"],[\"Sales Representative\"],[\"Research Scientist\"],[\"Research Scientist\"],[\"Research Scientist\"],[\"Healthcare Representative\"],[\"Research Scientist\"],[\"Manager\"],[\"Research Scientist\"],[\"Sales Executive\"],[\"Sales Executive\"],[\"Research Scientist\"],[\"Research Scientist\"],[\"Laboratory Technician\"],[\"Laboratory Technician\"],[\"Sales Executive\"],[\"Research Scientist\"],[\"Research Scientist\"],[\"Sales Executive\"],[\"Laboratory Technician\"],[\"Research Scientist\"],[\"Research Scientist\"],[\"Laboratory Technician\"],[\"Manufacturing Director\"],[\"Research Scientist\"],[\"Manager\"],[\"Research Director\"],[\"Manufacturing Director\"],[\"Healthcare Representative\"],[\"Manager\"],[\"Research Scientist\"],[\"Research Scientist\"],[\"Manager\"],[\"Research Scientist\"],[\"Laboratory Technician\"],[\"Manufacturing Director\"],[\"Manufacturing Director\"],[\"Manufacturing Director\"],[\"Manufacturing Director\"],[\"Manufacturing Director\"],[\"Research Scientist\"],[\"Laboratory Technician\"],[\"Research Scientist\"],[\"Laboratory Technician\"],[\"Healthcare Representative\"],[\"Healthcare Representative\"],[\"Manufacturing Director\"],[\"Sales Executive\"],[\"Research Director\"],[\"Manager\"],[\"Sales Executive\"],[\"Sales Executive\"],[\"Laboratory Technician\"],[\"Research Scientist\"],[\"Research Director\"],[\"Sales Executive\"],[\"Manufacturing Director\"],[\"Research Scientist\"],[\"Sales Representative\"],[\"Sales Executive\"],[\"Sales Executive\"],[\"Laboratory Technician\"],[\"Manager\"],[\"Human Resources\"],[\"Manager\"],[\"Manager\"],[\"Manager\"],[\"Sales Representative\"],[\"Laboratory Technician\"],[\"Sales Executive\"],[\"Research Scientist\"],[\"Research Scientist\"],[\"Manager\"],[\"Research Director\"],[\"Research Scientist\"],[\"Manufacturing Director\"],[\"Research Scientist\"],[\"Manufacturing Director\"],[\"Healthcare Representative\"],[\"Research Scientist\"],[\"Research Scientist\"],[\"Sales Executive\"],[\"Manufacturing Director\"],[\"Laboratory Technician\"],[\"Research Director\"],[\"Research Scientist\"],[\"Laboratory Technician\"],[\"Sales Executive\"],[\"Laboratory Technician\"],[\"Manager\"],[\"Sales Executive\"],[\"Healthcare Representative\"],[\"Healthcare Representative\"],[\"Healthcare Representative\"],[\"Laboratory Technician\"],[\"Manager\"],[\"Research Scientist\"],[\"Sales Executive\"],[\"Research Scientist\"],[\"Research Director\"],[\"Manager\"],[\"Sales Executive\"],[\"Manufacturing Director\"],[\"Research Director\"],[\"Research Director\"],[\"Sales Executive\"],[\"Sales Executive\"],[\"Laboratory Technician\"],[\"Healthcare Representative\"],[\"Research Scientist\"],[\"Healthcare Representative\"],[\"Research Scientist\"],[\"Research Director\"],[\"Research Scientist\"],[\"Sales Representative\"],[\"Research Scientist\"],[\"Sales Executive\"],[\"Sales Executive\"],[\"Laboratory Technician\"],[\"Manufacturing Director\"],[\"Manager\"],[\"Sales Representative\"],[\"Healthcare Representative\"],[\"Sales Executive\"],[\"Healthcare Representative\"],[\"Laboratory Technician\"],[\"Sales Executive\"],[\"Research Director\"],[\"Healthcare Representative\"],[\"Research Scientist\"],[\"Human Resources\"],[\"Laboratory Technician\"],[\"Research Scientist\"],[\"Manager\"],[\"Manager\"],[\"Laboratory Technician\"],[\"Healthcare Representative\"],[\"Research Scientist\"],[\"Sales Executive\"],[\"Sales Executive\"],[\"Sales Executive\"],[\"Research Scientist\"],[\"Research Scientist\"],[\"Manufacturing Director\"],[\"Manager\"],[\"Sales Executive\"],[\"Research Director\"],[\"Laboratory Technician\"],[\"Sales Executive\"],[\"Research Scientist\"],[\"Healthcare Representative\"],[\"Research Scientist\"],[\"Sales Executive\"],[\"Laboratory Technician\"],[\"Sales Executive\"],[\"Sales Executive\"],[\"Manufacturing Director\"],[\"Research Director\"],[\"Manufacturing Director\"],[\"Sales Executive\"],[\"Manufacturing Director\"],[\"Research Scientist\"],[\"Manufacturing Director\"],[\"Sales Representative\"],[\"Research Director\"],[\"Sales Executive\"],[\"Human Resources\"],[\"Laboratory Technician\"],[\"Manager\"],[\"Research Scientist\"],[\"Sales Executive\"],[\"Sales Executive\"],[\"Healthcare Representative\"],[\"Sales Executive\"],[\"Sales Executive\"],[\"Healthcare Representative\"],[\"Laboratory Technician\"],[\"Sales Representative\"],[\"Laboratory Technician\"],[\"Manufacturing Director\"],[\"Healthcare Representative\"],[\"Research Scientist\"],[\"Research Scientist\"],[\"Healthcare Representative\"],[\"Laboratory Technician\"],[\"Sales Executive\"],[\"Healthcare Representative\"],[\"Sales Executive\"],[\"Research Scientist\"],[\"Manager\"],[\"Sales Executive\"],[\"Sales Representative\"],[\"Research Scientist\"],[\"Sales Executive\"],[\"Laboratory Technician\"],[\"Sales Executive\"],[\"Laboratory Technician\"],[\"Manufacturing Director\"],[\"Research Director\"],[\"Laboratory Technician\"],[\"Research Director\"],[\"Sales Executive\"],[\"Manufacturing Director\"],[\"Laboratory Technician\"],[\"Healthcare Representative\"],[\"Sales Executive\"],[\"Research Scientist\"],[\"Laboratory Technician\"],[\"Manager\"],[\"Sales Executive\"],[\"Sales Executive\"],[\"Sales Executive\"],[\"Laboratory Technician\"],[\"Manufacturing Director\"],[\"Research Scientist\"],[\"Manager\"],[\"Research Scientist\"],[\"Manufacturing Director\"],[\"Manager\"],[\"Manufacturing Director\"],[\"Healthcare Representative\"],[\"Laboratory Technician\"],[\"Manager\"],[\"Research Scientist\"],[\"Laboratory Technician\"],[\"Research Director\"],[\"Sales Executive\"],[\"Manager\"],[\"Manager\"],[\"Laboratory Technician\"],[\"Sales Executive\"],[\"Manufacturing Director\"],[\"Research Director\"],[\"Laboratory Technician\"],[\"Laboratory Technician\"],[\"Research Scientist\"],[\"Sales Executive\"],[\"Manufacturing Director\"],[\"Sales Representative\"],[\"Healthcare Representative\"],[\"Laboratory Technician\"],[\"Sales Executive\"],[\"Sales Executive\"],[\"Manager\"],[\"Sales Executive\"],[\"Sales Executive\"],[\"Manufacturing Director\"],[\"Laboratory Technician\"],[\"Sales Executive\"],[\"Manufacturing Director\"],[\"Sales Executive\"],[\"Manufacturing Director\"],[\"Research Director\"],[\"Manager\"],[\"Sales Executive\"],[\"Healthcare Representative\"],[\"Sales Executive\"],[\"Sales Executive\"],[\"Sales Executive\"],[\"Manufacturing Director\"],[\"Healthcare Representative\"],[\"Manager\"],[\"Sales Executive\"],[\"Research Scientist\"],[\"Sales Representative\"],[\"Healthcare Representative\"],[\"Manufacturing Director\"],[\"Research Director\"],[\"Research Scientist\"],[\"Sales Executive\"],[\"Laboratory Technician\"],[\"Manager\"],[\"Sales Representative\"],[\"Research Scientist\"],[\"Laboratory Technician\"],[\"Sales Executive\"],[\"Research Scientist\"],[\"Sales Executive\"],[\"Research Scientist\"],[\"Healthcare Representative\"],[\"Research Director\"],[\"Research Scientist\"],[\"Laboratory Technician\"],[\"Manager\"],[\"Human Resources\"],[\"Sales Representative\"],[\"Sales Representative\"],[\"Manager\"],[\"Research Scientist\"],[\"Sales Executive\"],[\"Research Scientist\"],[\"Research Scientist\"],[\"Sales Executive\"],[\"Research Scientist\"],[\"Laboratory Technician\"],[\"Manufacturing Director\"],[\"Sales Executive\"],[\"Research Scientist\"],[\"Healthcare Representative\"],[\"Human Resources\"],[\"Manufacturing Director\"],[\"Research Scientist\"],[\"Laboratory Technician\"],[\"Research Scientist\"],[\"Sales Executive\"],[\"Sales Executive\"],[\"Research Scientist\"],[\"Sales Executive\"],[\"Sales Executive\"],[\"Research Scientist\"],[\"Laboratory Technician\"],[\"Healthcare Representative\"],[\"Healthcare Representative\"],[\"Sales Executive\"],[\"Healthcare Representative\"],[\"Manufacturing Director\"],[\"Research Director\"],[\"Sales Executive\"],[\"Sales Executive\"],[\"Research Director\"],[\"Manager\"],[\"Sales Executive\"],[\"Manufacturing Director\"],[\"Manager\"],[\"Sales Representative\"],[\"Research Director\"],[\"Manufacturing Director\"],[\"Laboratory Technician\"],[\"Sales Executive\"],[\"Sales Executive\"],[\"Sales Representative\"],[\"Sales Executive\"],[\"Healthcare Representative\"],[\"Laboratory Technician\"],[\"Human Resources\"],[\"Healthcare Representative\"],[\"Research Scientist\"],[\"Healthcare Representative\"],[\"Sales Representative\"],[\"Laboratory Technician\"],[\"Healthcare Representative\"],[\"Laboratory Technician\"],[\"Research Scientist\"],[\"Manufacturing Director\"],[\"Manager\"],[\"Sales Executive\"],[\"Sales Representative\"],[\"Research Scientist\"],[\"Sales Executive\"],[\"Sales Executive\"],[\"Research Scientist\"],[\"Laboratory Technician\"],[\"Healthcare Representative\"],[\"Research Scientist\"],[\"Manufacturing Director\"],[\"Sales Executive\"],[\"Research Scientist\"],[\"Manufacturing Director\"],[\"Research Scientist\"],[\"Sales Representative\"],[\"Laboratory Technician\"],[\"Healthcare Representative\"],[\"Sales Executive\"],[\"Manager\"],[\"Laboratory Technician\"],[\"Laboratory Technician\"],[\"Research Director\"],[\"Research Director\"],[\"Manager\"],[\"Manufacturing Director\"],[\"Research Scientist\"],[\"Research Scientist\"],[\"Manufacturing Director\"],[\"Human Resources\"],[\"Manufacturing Director\"],[\"Laboratory Technician\"],[\"Manufacturing Director\"],[\"Research Scientist\"],[\"Manufacturing Director\"],[\"Healthcare Representative\"],[\"Research Scientist\"],[\"Research Director\"],[\"Research Director\"],[\"Manufacturing Director\"],[\"Sales Executive\"],[\"Human Resources\"],[\"Research Scientist\"],[\"Manager\"],[\"Healthcare Representative\"],[\"Research Scientist\"],[\"Sales Executive\"],[\"Research Scientist\"],[\"Sales Executive\"],[\"Sales Executive\"],[\"Research Scientist\"],[\"Sales Executive\"],[\"Sales Executive\"],[\"Research Scientist\"],[\"Manufacturing Director\"],[\"Sales Executive\"],[\"Human Resources\"],[\"Manufacturing Director\"],[\"Laboratory Technician\"],[\"Research Scientist\"],[\"Human Resources\"],[\"Sales Executive\"],[\"Manufacturing Director\"],[\"Laboratory Technician\"],[\"Sales Executive\"],[\"Research Scientist\"],[\"Laboratory Technician\"],[\"Sales Executive\"],[\"Sales Representative\"],[\"Laboratory Technician\"],[\"Research Scientist\"],[\"Sales Executive\"],[\"Manufacturing Director\"],[\"Sales Representative\"],[\"Research Director\"],[\"Healthcare Representative\"],[\"Sales Executive\"],[\"Sales Executive\"],[\"Manager\"],[\"Human Resources\"],[\"Human Resources\"],[\"Laboratory Technician\"],[\"Research Scientist\"],[\"Sales Executive\"],[\"Manufacturing Director\"],[\"Healthcare Representative\"],[\"Sales Representative\"],[\"Research Scientist\"],[\"Research Scientist\"],[\"Laboratory Technician\"],[\"Sales Executive\"],[\"Research Scientist\"],[\"Healthcare Representative\"],[\"Sales Representative\"],[\"Healthcare Representative\"],[\"Laboratory Technician\"],[\"Research Scientist\"],[\"Sales Executive\"],[\"Research Scientist\"],[\"Research Director\"],[\"Laboratory Technician\"],[\"Sales Executive\"],[\"Sales Executive\"],[\"Laboratory Technician\"],[\"Laboratory Technician\"],[\"Healthcare Representative\"],[\"Research Scientist\"],[\"Manufacturing Director\"],[\"Healthcare Representative\"],[\"Laboratory Technician\"],[\"Sales Representative\"],[\"Sales Executive\"],[\"Manager\"],[\"Manager\"],[\"Sales Executive\"],[\"Sales Executive\"],[\"Sales Executive\"],[\"Sales Executive\"],[\"Manufacturing Director\"],[\"Sales Executive\"],[\"Manager\"],[\"Research Scientist\"],[\"Laboratory Technician\"],[\"Research Director\"],[\"Healthcare Representative\"],[\"Research Director\"],[\"Laboratory Technician\"],[\"Laboratory Technician\"],[\"Sales Executive\"],[\"Manufacturing Director\"],[\"Research Scientist\"],[\"Manufacturing Director\"],[\"Manufacturing Director\"],[\"Manufacturing Director\"],[\"Research Scientist\"],[\"Manufacturing Director\"],[\"Healthcare Representative\"],[\"Research Director\"],[\"Manufacturing Director\"],[\"Laboratory Technician\"],[\"Healthcare Representative\"],[\"Healthcare Representative\"],[\"Manufacturing Director\"],[\"Manufacturing Director\"],[\"Manufacturing Director\"],[\"Laboratory Technician\"],[\"Manager\"],[\"Laboratory Technician\"],[\"Manufacturing Director\"],[\"Healthcare Representative\"],[\"Research Director\"],[\"Sales Executive\"],[\"Sales Executive\"],[\"Sales Executive\"],[\"Manufacturing Director\"],[\"Sales Representative\"],[\"Manager\"],[\"Laboratory Technician\"],[\"Sales Executive\"],[\"Manager\"],[\"Human Resources\"],[\"Sales Executive\"],[\"Sales Representative\"],[\"Sales Representative\"],[\"Research Scientist\"],[\"Research Director\"],[\"Healthcare Representative\"],[\"Sales Executive\"],[\"Research Scientist\"],[\"Research Director\"],[\"Sales Executive\"],[\"Research Scientist\"],[\"Manufacturing Director\"],[\"Manager\"],[\"Sales Executive\"],[\"Research Scientist\"],[\"Laboratory Technician\"],[\"Manufacturing Director\"],[\"Research Scientist\"],[\"Healthcare Representative\"],[\"Healthcare Representative\"],[\"Laboratory Technician\"],[\"Manufacturing Director\"],[\"Research Scientist\"],[\"Healthcare Representative\"],[\"Laboratory Technician\"],[\"Healthcare Representative\"],[\"Sales Executive\"],[\"Manager\"],[\"Sales Executive\"],[\"Research Scientist\"],[\"Manager\"],[\"Sales Executive\"],[\"Healthcare Representative\"],[\"Sales Executive\"],[\"Research Scientist\"],[\"Manufacturing Director\"],[\"Manager\"],[\"Sales Executive\"],[\"Manufacturing Director\"],[\"Research Director\"],[\"Research Scientist\"],[\"Laboratory Technician\"],[\"Manufacturing Director\"],[\"Sales Representative\"],[\"Research Scientist\"],[\"Sales Executive\"],[\"Sales Executive\"],[\"Manufacturing Director\"],[\"Research Scientist\"],[\"Laboratory Technician\"],[\"Manufacturing Director\"],[\"Human Resources\"],[\"Research Scientist\"],[\"Laboratory Technician\"],[\"Healthcare Representative\"],[\"Research Scientist\"],[\"Sales Executive\"],[\"Human Resources\"],[\"Research Director\"],[\"Sales Executive\"],[\"Laboratory Technician\"],[\"Laboratory Technician\"],[\"Laboratory Technician\"],[\"Sales Executive\"],[\"Research Scientist\"],[\"Manufacturing Director\"],[\"Healthcare Representative\"],[\"Laboratory Technician\"],[\"Sales Representative\"],[\"Manager\"],[\"Laboratory Technician\"],[\"Research Scientist\"],[\"Research Scientist\"],[\"Manufacturing Director\"],[\"Laboratory Technician\"],[\"Manager\"],[\"Research Scientist\"],[\"Manager\"],[\"Research Scientist\"],[\"Human Resources\"],[\"Sales Executive\"],[\"Sales Executive\"],[\"Manager\"],[\"Laboratory Technician\"],[\"Research Director\"],[\"Sales Executive\"],[\"Sales Executive\"],[\"Laboratory Technician\"],[\"Laboratory Technician\"],[\"Research Scientist\"],[\"Sales Representative\"],[\"Manufacturing Director\"],[\"Human Resources\"],[\"Sales Executive\"],[\"Laboratory Technician\"],[\"Research Scientist\"],[\"Manufacturing Director\"],[\"Research Scientist\"],[\"Sales Executive\"],[\"Sales Executive\"],[\"Research Scientist\"],[\"Research Director\"],[\"Sales Executive\"],[\"Research Scientist\"],[\"Manufacturing Director\"],[\"Research Scientist\"],[\"Research Scientist\"],[\"Research Director\"],[\"Healthcare Representative\"],[\"Healthcare Representative\"],[\"Sales Executive\"],[\"Research Director\"],[\"Manager\"],[\"Research Scientist\"],[\"Laboratory Technician\"],[\"Research Scientist\"],[\"Healthcare Representative\"],[\"Research Director\"],[\"Research Director\"],[\"Research Scientist\"],[\"Manager\"],[\"Sales Executive\"],[\"Research Scientist\"],[\"Research Scientist\"],[\"Research Scientist\"],[\"Healthcare Representative\"],[\"Manager\"],[\"Sales Executive\"],[\"Manager\"],[\"Manufacturing Director\"],[\"Laboratory Technician\"],[\"Laboratory Technician\"],[\"Manager\"],[\"Human Resources\"],[\"Research Scientist\"],[\"Research Scientist\"],[\"Sales Executive\"],[\"Manufacturing Director\"],[\"Laboratory Technician\"],[\"Laboratory Technician\"],[\"Manufacturing Director\"],[\"Research Scientist\"],[\"Research Scientist\"],[\"Sales Executive\"],[\"Manager\"],[\"Manager\"],[\"Research Scientist\"],[\"Laboratory Technician\"],[\"Healthcare Representative\"],[\"Human Resources\"],[\"Laboratory Technician\"],[\"Research Director\"],[\"Manager\"],[\"Manufacturing Director\"],[\"Sales Executive\"],[\"Sales Executive\"],[\"Manager\"],[\"Manager\"],[\"Manager\"],[\"Research Scientist\"],[\"Healthcare Representative\"],[\"Research Scientist\"],[\"Sales Executive\"],[\"Research Scientist\"],[\"Manager\"],[\"Sales Executive\"],[\"Sales Executive\"],[\"Laboratory Technician\"],[\"Laboratory Technician\"],[\"Sales Executive\"],[\"Manufacturing Director\"],[\"Sales Representative\"],[\"Manufacturing Director\"],[\"Laboratory Technician\"],[\"Laboratory Technician\"],[\"Sales Executive\"],[\"Manufacturing Director\"],[\"Research Scientist\"],[\"Healthcare Representative\"],[\"Laboratory Technician\"],[\"Research Scientist\"],[\"Healthcare Representative\"],[\"Sales Executive\"],[\"Sales Executive\"],[\"Sales Executive\"],[\"Research Scientist\"],[\"Research Scientist\"],[\"Sales Executive\"],[\"Sales Executive\"],[\"Healthcare Representative\"],[\"Sales Executive\"],[\"Manufacturing Director\"],[\"Research Scientist\"],[\"Sales Executive\"],[\"Research Scientist\"],[\"Manager\"],[\"Laboratory Technician\"],[\"Laboratory Technician\"],[\"Manufacturing Director\"],[\"Laboratory Technician\"],[\"Laboratory Technician\"],[\"Human Resources\"],[\"Research Director\"],[\"Research Director\"],[\"Research Director\"],[\"Sales Executive\"],[\"Sales Executive\"],[\"Research Director\"],[\"Research Scientist\"],[\"Laboratory Technician\"],[\"Laboratory Technician\"],[\"Sales Executive\"],[\"Research Scientist\"],[\"Laboratory Technician\"],[\"Research Scientist\"],[\"Research Director\"],[\"Sales Executive\"],[\"Sales Executive\"],[\"Laboratory Technician\"],[\"Research Scientist\"],[\"Laboratory Technician\"],[\"Sales Executive\"],[\"Healthcare Representative\"],[\"Human Resources\"],[\"Manufacturing Director\"],[\"Sales Executive\"],[\"Research Director\"],[\"Sales Executive\"],[\"Laboratory Technician\"],[\"Research Director\"],[\"Healthcare Representative\"],[\"Research Scientist\"],[\"Research Scientist\"],[\"Sales Executive\"],[\"Sales Executive\"],[\"Sales Executive\"],[\"Laboratory Technician\"],[\"Sales Executive\"],[\"Research Scientist\"],[\"Research Scientist\"],[\"Healthcare Representative\"],[\"Research Director\"],[\"Sales Representative\"],[\"Sales Representative\"],[\"Manufacturing Director\"],[\"Sales Executive\"],[\"Human Resources\"],[\"Healthcare Representative\"],[\"Laboratory Technician\"],[\"Sales Executive\"],[\"Research Scientist\"],[\"Sales Executive\"],[\"Laboratory Technician\"],[\"Laboratory Technician\"],[\"Manufacturing Director\"],[\"Healthcare Representative\"],[\"Manager\"],[\"Manager\"],[\"Research Director\"],[\"Manufacturing Director\"],[\"Manager\"],[\"Healthcare Representative\"],[\"Laboratory Technician\"],[\"Sales Executive\"],[\"Research Director\"],[\"Sales Representative\"],[\"Laboratory Technician\"],[\"Research Scientist\"],[\"Healthcare Representative\"],[\"Manufacturing Director\"],[\"Research Scientist\"],[\"Healthcare Representative\"],[\"Sales Executive\"],[\"Laboratory Technician\"],[\"Manager\"],[\"Laboratory Technician\"],[\"Healthcare Representative\"],[\"Healthcare Representative\"],[\"Sales Representative\"],[\"Research Scientist\"],[\"Sales Representative\"],[\"Sales Executive\"],[\"Research Scientist\"],[\"Sales Executive\"],[\"Human Resources\"],[\"Laboratory Technician\"],[\"Sales Executive\"],[\"Research Scientist\"],[\"Research Scientist\"],[\"Research Scientist\"],[\"Manager\"],[\"Research Scientist\"],[\"Research Scientist\"],[\"Sales Executive\"],[\"Sales Executive\"],[\"Sales Executive\"],[\"Laboratory Technician\"],[\"Healthcare Representative\"],[\"Sales Executive\"],[\"Healthcare Representative\"],[\"Manager\"],[\"Research Scientist\"],[\"Laboratory Technician\"],[\"Manager\"],[\"Laboratory Technician\"],[\"Healthcare Representative\"],[\"Sales Executive\"],[\"Laboratory Technician\"],[\"Laboratory Technician\"],[\"Manager\"],[\"Research Scientist\"],[\"Healthcare Representative\"],[\"Research Scientist\"],[\"Research Director\"],[\"Research Scientist\"],[\"Laboratory Technician\"],[\"Sales Executive\"],[\"Sales Executive\"],[\"Manufacturing Director\"],[\"Manufacturing Director\"],[\"Laboratory Technician\"],[\"Manufacturing Director\"],[\"Laboratory Technician\"],[\"Research Scientist\"],[\"Manufacturing Director\"],[\"Research Scientist\"],[\"Manager\"],[\"Laboratory Technician\"],[\"Manufacturing Director\"],[\"Healthcare Representative\"],[\"Manufacturing Director\"],[\"Manufacturing Director\"],[\"Manufacturing Director\"],[\"Manufacturing Director\"],[\"Research Scientist\"],[\"Manufacturing Director\"],[\"Human Resources\"],[\"Manager\"],[\"Research Scientist\"],[\"Research Scientist\"],[\"Research Scientist\"],[\"Sales Executive\"],[\"Healthcare Representative\"],[\"Manufacturing Director\"],[\"Manufacturing Director\"],[\"Research Director\"],[\"Research Director\"],[\"Sales Representative\"],[\"Research Scientist\"],[\"Laboratory Technician\"],[\"Healthcare Representative\"],[\"Manufacturing Director\"],[\"Healthcare Representative\"],[\"Manager\"],[\"Research Director\"],[\"Research Scientist\"],[\"Sales Executive\"],[\"Sales Executive\"],[\"Research Scientist\"],[\"Sales Executive\"],[\"Laboratory Technician\"],[\"Laboratory Technician\"],[\"Manager\"],[\"Manager\"],[\"Sales Executive\"],[\"Sales Representative\"],[\"Sales Executive\"],[\"Healthcare Representative\"],[\"Human Resources\"],[\"Laboratory Technician\"],[\"Healthcare Representative\"],[\"Laboratory Technician\"],[\"Research Scientist\"],[\"Laboratory Technician\"],[\"Healthcare Representative\"],[\"Laboratory Technician\"],[\"Sales Executive\"],[\"Research Scientist\"],[\"Healthcare Representative\"],[\"Research Scientist\"],[\"Sales Executive\"],[\"Research Scientist\"],[\"Sales Executive\"],[\"Laboratory Technician\"],[\"Sales Representative\"],[\"Healthcare Representative\"],[\"Laboratory Technician\"],[\"Research Director\"],[\"Research Scientist\"],[\"Laboratory Technician\"],[\"Human Resources\"],[\"Manufacturing Director\"],[\"Laboratory Technician\"],[\"Healthcare Representative\"],[\"Manufacturing Director\"],[\"Research Scientist\"],[\"Sales Executive\"],[\"Sales Executive\"],[\"Laboratory Technician\"],[\"Manufacturing Director\"],[\"Laboratory Technician\"],[\"Sales Executive\"],[\"Manager\"],[\"Human Resources\"],[\"Research Scientist\"],[\"Human Resources\"],[\"Sales Executive\"],[\"Research Scientist\"],[\"Healthcare Representative\"],[\"Sales Executive\"],[\"Research Scientist\"],[\"Sales Executive\"],[\"Sales Executive\"],[\"Laboratory Technician\"],[\"Research Scientist\"],[\"Healthcare Representative\"],[\"Research Scientist\"],[\"Healthcare Representative\"],[\"Laboratory Technician\"],[\"Research Director\"],[\"Research Scientist\"],[\"Laboratory Technician\"],[\"Sales Executive\"],[\"Manufacturing Director\"],[\"Human Resources\"],[\"Sales Executive\"],[\"Laboratory Technician\"],[\"Sales Executive\"],[\"Manager\"],[\"Sales Executive\"],[\"Research Director\"],[\"Healthcare Representative\"],[\"Human Resources\"],[\"Research Scientist\"],[\"Research Scientist\"],[\"Research Director\"],[\"Sales Executive\"],[\"Laboratory Technician\"],[\"Healthcare Representative\"],[\"Manufacturing Director\"],[\"Human Resources\"],[\"Sales Executive\"],[\"Research Scientist\"],[\"Healthcare Representative\"],[\"Sales Executive\"],[\"Manufacturing Director\"],[\"Healthcare Representative\"],[\"Sales Executive\"],[\"Manager\"],[\"Laboratory Technician\"],[\"Manufacturing Director\"],[\"Healthcare Representative\"],[\"Research Scientist\"],[\"Sales Executive\"],[\"Research Scientist\"],[\"Sales Representative\"],[\"Sales Executive\"],[\"Research Director\"],[\"Research Scientist\"],[\"Sales Executive\"],[\"Research Scientist\"],[\"Sales Executive\"],[\"Laboratory Technician\"],[\"Laboratory Technician\"],[\"Sales Executive\"],[\"Research Scientist\"],[\"Laboratory Technician\"],[\"Manufacturing Director\"],[\"Human Resources\"],[\"Healthcare Representative\"],[\"Laboratory Technician\"],[\"Sales Executive\"],[\"Sales Representative\"],[\"Human Resources\"],[\"Manager\"],[\"Research Director\"],[\"Research Scientist\"],[\"Research Scientist\"],[\"Research Scientist\"],[\"Sales Representative\"],[\"Sales Executive\"],[\"Laboratory Technician\"],[\"Sales Executive\"],[\"Laboratory Technician\"],[\"Research Scientist\"],[\"Manufacturing Director\"],[\"Manufacturing Director\"],[\"Human Resources\"],[\"Manager\"],[\"Research Scientist\"],[\"Sales Executive\"],[\"Manager\"],[\"Healthcare Representative\"],[\"Sales Executive\"],[\"Sales Executive\"],[\"Research Director\"],[\"Sales Executive\"],[\"Sales Executive\"],[\"Laboratory Technician\"],[\"Laboratory Technician\"],[\"Healthcare Representative\"],[\"Sales Executive\"],[\"Sales Executive\"],[\"Sales Executive\"],[\"Research Scientist\"],[\"Research Scientist\"],[\"Research Scientist\"],[\"Sales Executive\"],[\"Manufacturing Director\"],[\"Research Scientist\"],[\"Manager\"],[\"Research Scientist\"],[\"Research Director\"],[\"Sales Executive\"],[\"Sales Executive\"],[\"Research Scientist\"],[\"Research Scientist\"],[\"Laboratory Technician\"],[\"Sales Executive\"],[\"Sales Executive\"],[\"Laboratory Technician\"],[\"Healthcare Representative\"],[\"Healthcare Representative\"],[\"Research Scientist\"],[\"Sales Representative\"],[\"Sales Executive\"],[\"Sales Executive\"],[\"Manufacturing Director\"],[\"Research Scientist\"],[\"Healthcare Representative\"],[\"Healthcare Representative\"],[\"Human Resources\"],[\"Manager\"],[\"Laboratory Technician\"],[\"Sales Executive\"],[\"Research Scientist\"],[\"Research Director\"],[\"Manufacturing Director\"],[\"Healthcare Representative\"],[\"Laboratory Technician\"],[\"Laboratory Technician\"],[\"Sales Executive\"],[\"Human Resources\"],[\"Laboratory Technician\"],[\"Laboratory Technician\"],[\"Healthcare Representative\"],[\"Laboratory Technician\"],[\"Sales Executive\"],[\"Sales Representative\"],[\"Manufacturing Director\"],[\"Research Scientist\"],[\"Research Scientist\"],[\"Research Director\"],[\"Laboratory Technician\"],[\"Research Scientist\"],[\"Research Scientist\"],[\"Healthcare Representative\"],[\"Laboratory Technician\"],[\"Laboratory Technician\"],[\"Sales Representative\"],[\"Research Scientist\"],[\"Research Director\"],[\"Sales Executive\"],[\"Research Director\"],[\"Sales Executive\"],[\"Sales Representative\"],[\"Research Scientist\"],[\"Sales Representative\"],[\"Manager\"],[\"Sales Executive\"],[\"Manufacturing Director\"],[\"Healthcare Representative\"],[\"Manager\"],[\"Manufacturing Director\"],[\"Sales Executive\"],[\"Sales Executive\"],[\"Sales Executive\"],[\"Research Scientist\"],[\"Human Resources\"],[\"Sales Executive\"],[\"Sales Executive\"],[\"Sales Executive\"],[\"Research Scientist\"],[\"Healthcare Representative\"],[\"Research Scientist\"],[\"Research Scientist\"],[\"Laboratory Technician\"],[\"Research Scientist\"],[\"Sales Executive\"],[\"Manufacturing Director\"],[\"Sales Representative\"],[\"Laboratory Technician\"],[\"Healthcare Representative\"],[\"Manufacturing Director\"],[\"Sales Executive\"],[\"Laboratory Technician\"]],\"hovertemplate\":\"Attrition=No\\u003cbr\\u003eAge=%{x}\\u003cbr\\u003eMonthlyIncome=%{y}\\u003cbr\\u003eJobRole=%{customdata[0]}\\u003cextra\\u003e\\u003c\\u002fextra\\u003e\",\"legendgroup\":\"No\",\"marker\":{\"color\":\"darkblue\",\"symbol\":\"circle\"},\"mode\":\"markers\",\"name\":\"No\",\"showlegend\":true,\"x\":[49,33,27,32,59,30,38,36,35,29,31,34,29,32,22,53,38,24,34,21,53,42,44,46,33,44,30,43,35,36,33,35,27,27,30,34,37,46,35,44,35,26,33,35,35,31,37,32,38,50,59,36,55,36,45,35,59,29,31,32,36,31,35,45,37,46,30,35,55,38,34,56,23,51,30,40,51,30,46,32,54,24,28,58,44,32,34,37,59,50,25,22,51,54,24,34,37,34,36,36,43,30,33,51,26,22,49,43,50,41,26,36,39,25,30,45,38,30,32,30,30,41,41,19,40,35,53,45,32,29,51,58,40,34,22,27,28,57,27,50,41,30,38,32,27,36,30,45,56,33,46,38,31,34,50,53,33,40,55,34,51,52,27,43,45,37,35,42,38,38,27,49,34,40,22,36,40,46,30,27,51,41,45,54,36,33,37,38,31,59,37,29,35,52,42,59,50,43,52,32,39,32,41,40,45,31,33,34,37,45,39,29,42,29,25,42,40,51,32,38,32,46,29,31,25,45,36,55,28,37,21,37,35,38,26,50,53,42,29,55,26,37,38,28,49,36,31,37,42,35,36,51,41,18,28,31,39,36,32,38,58,31,31,45,31,33,39,43,49,27,32,27,31,32,30,31,39,33,47,43,27,54,43,45,40,29,30,27,37,38,31,29,35,23,41,47,42,29,42,32,48,37,30,26,42,36,36,57,40,21,37,46,50,31,29,35,27,28,49,51,36,55,24,30,22,36,37,40,42,37,43,40,54,34,31,43,43,25,37,31,39,56,30,41,28,52,45,52,42,30,60,46,42,38,40,26,30,29,30,57,50,30,60,47,46,35,54,34,46,31,30,35,42,36,48,55,41,35,40,39,31,42,45,29,33,31,40,41,26,35,34,37,46,41,37,52,24,38,37,49,24,26,24,50,25,34,35,31,27,37,20,42,43,38,43,48,44,34,21,44,22,33,32,30,53,34,26,37,29,35,33,54,36,27,35,23,25,38,29,48,27,37,50,34,39,32,38,27,32,47,40,53,41,60,27,41,50,36,38,44,47,30,29,43,34,23,39,56,40,27,29,53,35,32,38,34,52,25,45,23,34,36,52,26,29,34,54,27,37,38,34,35,30,40,34,42,24,52,50,33,47,36,29,35,42,36,32,40,30,45,42,38,34,43,27,35,28,34,27,51,44,25,33,35,36,32,30,53,45,32,52,37,28,22,44,42,36,25,35,32,25,49,24,32,38,42,31,53,35,37,53,43,47,37,50,39,33,29,44,28,43,36,47,28,27,34,42,33,58,31,35,49,48,31,36,38,32,40,26,41,36,31,40,32,33,45,29,35,52,53,30,38,35,39,47,36,33,33,45,50,33,41,27,45,47,50,38,46,24,31,18,54,35,30,26,22,48,48,41,39,27,35,42,50,59,55,41,38,44,50,39,33,45,32,34,59,45,53,34,28,38,50,37,40,26,46,54,56,36,55,43,46,26,30,41,38,40,27,55,28,33,28,34,37,42,33,34,48,45,52,38,29,28,46,38,43,40,21,39,36,31,28,35,49,34,29,42,29,38,28,41,37,27,34,35,40,42,35,24,26,30,40,35,34,35,32,56,29,19,45,37,20,53,29,46,44,33,30,40,50,28,46,35,33,36,30,44,20,46,42,60,32,32,36,33,40,25,30,42,35,27,54,44,29,54,31,31,59,43,49,36,48,27,29,48,29,34,44,33,19,23,26,55,46,34,51,59,34,28,44,34,35,42,43,36,28,51,30,28,25,32,45,39,58,30,36,46,28,50,30,39,31,41,42,55,56,40,34,40,41,35,51,38,34,25,40,36,48,27,51,18,35,27,56,34,40,34,38,34,28,39,51,41,37,33,32,39,25,52,43,27,26,42,52,37,35,25,26,29,54,58,55,36,30,31,34,27,36,36,47,37,56,47,24,32,34,41,40,31,45,31,45,48,40,28,44,53,49,40,44,33,34,30,42,44,30,57,49,34,35,24,44,29,30,55,33,47,28,28,49,29,28,33,32,54,44,39,46,35,23,34,50,34,42,37,29,33,45,42,40,33,40,24,40,45,35,32,36,48,29,33,38,35,30,32,48,34,55,34,26,38,38,36,29,35,39,29,50,23,36,42,35,34,40,43,35,46,22,50,32,44,30,45,45,31,36,34,49,39,27,35,28,21,47,39,40,35,37,39,45,38,37,40,44,48,24,27,27,29,36,25,39,49,50,20,34,36,49,36,36,54,43,38,29,33,32,31,49,38,47,49,41,20,33,36,44,38,53,26,55,34,60,33,37,34,44,35,43,24,41,29,36,45,26,45,32,31,41,40,24,46,35,30,47,46,23,31,39,32,40,45,30,24,31,27,29,30,34,33,49,38,29,30,32,38,42,55,33,41,34,53,43,34,38,31,51,37,46,36,37,33,28,39,46,40,42,35,38,39,43,41,41,30,40,34,58,35,47,40,54,31,28,38,26,58,18,45,36,43,27,29,32,42,47,46,28,29,42,46,27,29,43,48,27,39,55,28,36,31,34,29,37,35,45,36,40,26,27,48,44,36,41,42,31,34,31,26,45,33,28,39,27,34,47,56,39,38,58,38,49,42,35,28,31,36,34,34,26,29,32,31,38,35,27,32,54,33,43,38,55,31,39,42,31,54,24,23,40,40,25,30,25,47,33,38,31,38,42,41,47,35,22,35,33,32,40,32,39,38,32,37,25,52,44,21,39,36,36,56,42,41,34,36,41,32,35,38,36,45,40,35,40,35,29,29,39,31,26,36,39,27,49,34],\"xaxis\":\"x\",\"y\":[5130,2909,3468,3068,2670,2693,9526,5237,2426,4193,2911,2661,9980,3298,2935,15427,3944,4011,11994,1232,19094,6825,10248,18947,2496,6465,2206,2645,2014,3419,5376,1951,2341,8726,4011,4568,3022,5772,2269,5454,9884,4157,13458,9069,4014,5915,5993,6162,2406,18740,7637,10096,14756,6499,9724,2194,5473,2703,2501,6220,3038,4424,4312,13245,13664,5021,5126,2859,10239,5329,4325,7260,2322,2075,4152,13503,5441,5209,10673,5010,13549,4999,4221,13872,2042,2956,4809,5163,18844,18172,2889,2871,7484,17328,2774,4505,7428,11631,9738,2835,16959,2613,6146,19537,2368,2523,6567,4739,9208,8189,2942,4941,5902,8639,6347,3452,4317,2632,4668,3204,2720,17181,2238,1483,5605,7295,2306,2348,8998,4319,6132,3346,10855,2231,2323,2024,2713,9439,2566,19926,2451,9419,8686,3038,3058,2088,3072,5006,4257,2500,10453,2288,3929,2311,3690,4450,2756,19033,18722,9547,13734,19999,2279,2089,16792,3564,4425,5265,6553,6261,4298,6804,3815,2741,2328,2153,4876,9396,8474,9981,12490,13591,8865,5940,5914,2622,12185,10609,4345,2177,2793,7918,8789,3212,19232,2267,19517,16064,19068,3931,2232,4465,3072,3319,19202,13675,2911,5957,3920,6434,10938,2340,6545,6931,4898,2593,19436,2723,2794,5249,2176,16872,6644,5582,4000,13496,3210,19045,2070,6502,3230,13603,11996,5605,6397,19144,17584,4907,4554,5415,4741,2115,5745,3310,18665,4485,2789,2326,13525,8020,3688,5482,16015,1200,5661,6929,9613,5674,5484,12061,5660,4821,6410,5210,2695,11878,17068,2455,13964,2478,5228,4478,7547,5055,5775,8943,19272,4682,18300,5257,6349,4869,9985,3697,7457,3983,6118,6214,6347,11510,7143,8268,8095,2904,6032,2976,15992,4649,2696,2370,12504,5974,4736,5296,6781,6653,9699,6755,2213,2610,3452,5258,10496,2657,2201,6540,3816,5253,10965,4936,2543,16659,4260,2476,2244,7596,3034,5715,2576,4197,14336,3448,19406,6538,4306,2258,4522,4487,4449,2218,19197,13212,6577,8392,4558,7969,2654,16555,4556,6091,19566,4810,4523,1702,18041,2886,2097,11935,8412,14118,17046,2564,10266,5070,17861,4230,3780,2768,9071,10648,2983,7632,2093,9980,4051,16835,6230,4717,13237,3755,6582,7406,4805,4262,16184,11557,10932,6811,4306,4859,5337,7491,10527,16595,8834,5577,2400,9824,6447,19502,2725,6272,2127,18200,2096,3622,3681,5460,2187,9602,2836,4089,16627,2619,5679,15402,5985,2579,3447,19513,2773,7104,6322,2083,8381,2691,2659,9434,5561,6646,7725,10725,8847,2045,1281,2819,4851,4028,2720,8120,4647,4680,3221,8621,4553,5396,7625,7412,11159,4960,10475,14814,19141,5405,8793,19189,3875,11713,7861,3708,13770,5304,2642,6804,6142,2500,6389,11103,2342,6811,2297,2450,5093,5309,3057,5121,16856,6180,6632,3505,6274,7587,4258,4364,4335,3280,5485,4342,2782,5980,4381,2572,3833,4244,6500,18430,2694,3149,17639,11691,16752,5228,2700,2506,6062,2143,6162,5094,6877,2274,4434,6288,2553,17159,12808,10221,4779,3737,1706,16307,5933,3424,4037,2559,6201,4403,3761,10934,10761,5175,13826,6334,4936,4775,2818,2515,2342,4194,10685,2314,4256,3580,3162,6524,2899,5231,2356,11836,10903,2973,14275,5562,4537,7642,17924,5204,2277,2532,2559,4908,4765,6586,3294,2377,2318,2008,6244,2799,10552,2329,4014,7403,2259,6932,4678,13582,2332,9705,4294,4721,2519,5855,3617,6725,6949,4447,2157,4601,17099,14852,7264,5666,7823,7880,5067,5079,17444,3452,2270,17399,5488,19419,2811,3633,4163,13973,2684,10845,4377,4148,1051,10739,10388,11416,5472,2451,4240,10999,5003,12742,4227,3917,18303,2380,13726,6385,19973,6861,13320,6347,10880,2342,17650,4025,9725,11904,2177,7525,2220,1052,2821,19237,4107,8396,2007,19627,10686,2942,8858,16756,10798,4615,3955,9957,3376,8823,10322,4621,10976,3660,7119,2207,7756,6694,17665,4302,2979,16885,5593,10445,8740,2514,7655,17465,7351,10820,19626,2070,6782,7779,2791,3201,4968,13120,4033,3291,4272,5056,2844,2703,4766,5731,2539,5714,4323,13499,5155,2258,3597,4420,6578,4422,10274,5343,2376,2827,19943,3131,2552,4477,6474,3033,18606,2168,17048,2290,3600,4115,4327,17856,3196,19081,8966,4539,2741,3491,4541,2678,7379,6272,5220,2743,4998,10252,2781,6852,4950,3579,13191,10377,2235,10502,2011,3760,17779,6833,6812,5171,19740,18711,3692,2559,2517,6623,18265,16124,2585,18213,8380,2994,1223,2875,13577,18789,4538,19847,10512,4444,2154,19190,4490,3506,2372,10231,5410,3867,2838,4695,2080,2096,6209,18061,17123,2372,4627,7094,3423,6674,16880,11916,4534,9852,6151,17861,19187,19717,3544,8500,4661,4103,4249,14026,6893,6125,3669,2387,4639,7898,2534,13142,1611,5363,5071,13402,2029,6377,5429,2610,6687,4724,6120,10596,5467,2996,9998,4078,10920,6232,13247,4081,5769,3904,16799,2950,3629,9362,3229,3578,7988,17328,19701,14732,9278,4779,16422,2996,2099,5810,5647,3420,3500,2066,17169,4162,9204,3294,2127,3975,10793,10851,2109,9380,5486,13757,8463,3162,16598,6651,2345,3420,4373,4759,5301,3673,4768,1274,4900,10466,17007,2404,2033,10209,8620,2064,4035,3838,4591,1563,4898,4789,3180,6549,6388,11244,16032,16328,8376,16606,8606,2272,7083,14411,2308,4841,4285,9715,4320,2132,10124,5473,5207,16437,2296,4069,7441,2430,5878,2644,6439,2451,6392,6077,2450,9250,4087,2367,2972,19586,5484,2061,9924,4198,6815,4723,6142,8237,8853,19331,2073,5562,19613,3407,5063,4639,4876,2690,17567,2814,11245,3312,19049,2141,5769,4385,5332,4663,4724,3211,5377,4066,5208,4877,3117,19658,3069,10435,4148,5768,5042,5770,7756,3936,7945,5743,15202,3760,3517,2580,5869,8008,5206,5295,16413,13269,2783,5433,2013,13966,4374,6842,17426,17603,4735,4187,5505,5470,5476,2587,2440,15972,15379,7082,2728,5368,5347,3195,3306,7005,2570,3537,3986,10883,2028,9525,2929,7879,4930,7847,4401,9241,2974,4502,10748,2305,16704,3433,3477,6430,6516,3907,5562,6883,2862,4978,10368,3295,5238,6472,9610,19833,9756,4968,2145,8346,3445,6294,7140,2932,5147,4507,2468,2109,5294,2718,5811,2766,19038,3055,2289,4001,12965,3539,6029,3702,5468,13116,4189,19328,8321,4071,3143,2044,13464,7991,3377,5538,5762,2592,4127,2438,6870,10447,9667,6513,6799,16291,2705,10333,4448,6854,9637,3591,5405,4684,15787,1514,5154,6962,5675,2379,3812,4648,2936,2105,8578,2706,6384,3968,13225,3540,2804,19392,19665,4774,3902,2662,2856,5673,4197,9713,2062,4284,4788,5906,3886,16823,2933,6500,17174,5033,5507,4393,13348,6583,8103,3978,2544,5399,5487,6834,5736,2226,5747,5467,5380,5151,2133,17875,4771,19161,5087,5561,2144,3065,2810,9888,8628,2867,5373,6667,5003,2858,5204,4105,9679,2897,5968,7510,2991,19636,1129,13341,4332,11031,4440,4617,2647,6323,5677,2187,3748,3977,8633,2008,4440,3067,5321,5410,2782,11957,2660,3375,5098,4878,2837,2406,2269,4108,13206,10422,13744,4907,3482,2436,2380,19431,7644,5131,6306,18880,13570,6712,5406,8938,2439,8837,5343,6652,4850,2809,5689,2001,2977,4025,3785,12031,9936,2966,2571,9991,6142,5390,4404],\"yaxis\":\"y\",\"type\":\"scattergl\"}],                        {\"template\":{\"data\":{\"histogram2dcontour\":[{\"type\":\"histogram2dcontour\",\"colorbar\":{\"outlinewidth\":0,\"ticks\":\"\"},\"colorscale\":[[0.0,\"#0d0887\"],[0.1111111111111111,\"#46039f\"],[0.2222222222222222,\"#7201a8\"],[0.3333333333333333,\"#9c179e\"],[0.4444444444444444,\"#bd3786\"],[0.5555555555555556,\"#d8576b\"],[0.6666666666666666,\"#ed7953\"],[0.7777777777777778,\"#fb9f3a\"],[0.8888888888888888,\"#fdca26\"],[1.0,\"#f0f921\"]]}],\"choropleth\":[{\"type\":\"choropleth\",\"colorbar\":{\"outlinewidth\":0,\"ticks\":\"\"}}],\"histogram2d\":[{\"type\":\"histogram2d\",\"colorbar\":{\"outlinewidth\":0,\"ticks\":\"\"},\"colorscale\":[[0.0,\"#0d0887\"],[0.1111111111111111,\"#46039f\"],[0.2222222222222222,\"#7201a8\"],[0.3333333333333333,\"#9c179e\"],[0.4444444444444444,\"#bd3786\"],[0.5555555555555556,\"#d8576b\"],[0.6666666666666666,\"#ed7953\"],[0.7777777777777778,\"#fb9f3a\"],[0.8888888888888888,\"#fdca26\"],[1.0,\"#f0f921\"]]}],\"heatmap\":[{\"type\":\"heatmap\",\"colorbar\":{\"outlinewidth\":0,\"ticks\":\"\"},\"colorscale\":[[0.0,\"#0d0887\"],[0.1111111111111111,\"#46039f\"],[0.2222222222222222,\"#7201a8\"],[0.3333333333333333,\"#9c179e\"],[0.4444444444444444,\"#bd3786\"],[0.5555555555555556,\"#d8576b\"],[0.6666666666666666,\"#ed7953\"],[0.7777777777777778,\"#fb9f3a\"],[0.8888888888888888,\"#fdca26\"],[1.0,\"#f0f921\"]]}],\"heatmapgl\":[{\"type\":\"heatmapgl\",\"colorbar\":{\"outlinewidth\":0,\"ticks\":\"\"},\"colorscale\":[[0.0,\"#0d0887\"],[0.1111111111111111,\"#46039f\"],[0.2222222222222222,\"#7201a8\"],[0.3333333333333333,\"#9c179e\"],[0.4444444444444444,\"#bd3786\"],[0.5555555555555556,\"#d8576b\"],[0.6666666666666666,\"#ed7953\"],[0.7777777777777778,\"#fb9f3a\"],[0.8888888888888888,\"#fdca26\"],[1.0,\"#f0f921\"]]}],\"contourcarpet\":[{\"type\":\"contourcarpet\",\"colorbar\":{\"outlinewidth\":0,\"ticks\":\"\"}}],\"contour\":[{\"type\":\"contour\",\"colorbar\":{\"outlinewidth\":0,\"ticks\":\"\"},\"colorscale\":[[0.0,\"#0d0887\"],[0.1111111111111111,\"#46039f\"],[0.2222222222222222,\"#7201a8\"],[0.3333333333333333,\"#9c179e\"],[0.4444444444444444,\"#bd3786\"],[0.5555555555555556,\"#d8576b\"],[0.6666666666666666,\"#ed7953\"],[0.7777777777777778,\"#fb9f3a\"],[0.8888888888888888,\"#fdca26\"],[1.0,\"#f0f921\"]]}],\"surface\":[{\"type\":\"surface\",\"colorbar\":{\"outlinewidth\":0,\"ticks\":\"\"},\"colorscale\":[[0.0,\"#0d0887\"],[0.1111111111111111,\"#46039f\"],[0.2222222222222222,\"#7201a8\"],[0.3333333333333333,\"#9c179e\"],[0.4444444444444444,\"#bd3786\"],[0.5555555555555556,\"#d8576b\"],[0.6666666666666666,\"#ed7953\"],[0.7777777777777778,\"#fb9f3a\"],[0.8888888888888888,\"#fdca26\"],[1.0,\"#f0f921\"]]}],\"mesh3d\":[{\"type\":\"mesh3d\",\"colorbar\":{\"outlinewidth\":0,\"ticks\":\"\"}}],\"scatter\":[{\"fillpattern\":{\"fillmode\":\"overlay\",\"size\":10,\"solidity\":0.2},\"type\":\"scatter\"}],\"parcoords\":[{\"type\":\"parcoords\",\"line\":{\"colorbar\":{\"outlinewidth\":0,\"ticks\":\"\"}}}],\"scatterpolargl\":[{\"type\":\"scatterpolargl\",\"marker\":{\"colorbar\":{\"outlinewidth\":0,\"ticks\":\"\"}}}],\"bar\":[{\"error_x\":{\"color\":\"#2a3f5f\"},\"error_y\":{\"color\":\"#2a3f5f\"},\"marker\":{\"line\":{\"color\":\"#E5ECF6\",\"width\":0.5},\"pattern\":{\"fillmode\":\"overlay\",\"size\":10,\"solidity\":0.2}},\"type\":\"bar\"}],\"scattergeo\":[{\"type\":\"scattergeo\",\"marker\":{\"colorbar\":{\"outlinewidth\":0,\"ticks\":\"\"}}}],\"scatterpolar\":[{\"type\":\"scatterpolar\",\"marker\":{\"colorbar\":{\"outlinewidth\":0,\"ticks\":\"\"}}}],\"histogram\":[{\"marker\":{\"pattern\":{\"fillmode\":\"overlay\",\"size\":10,\"solidity\":0.2}},\"type\":\"histogram\"}],\"scattergl\":[{\"type\":\"scattergl\",\"marker\":{\"colorbar\":{\"outlinewidth\":0,\"ticks\":\"\"}}}],\"scatter3d\":[{\"type\":\"scatter3d\",\"line\":{\"colorbar\":{\"outlinewidth\":0,\"ticks\":\"\"}},\"marker\":{\"colorbar\":{\"outlinewidth\":0,\"ticks\":\"\"}}}],\"scattermapbox\":[{\"type\":\"scattermapbox\",\"marker\":{\"colorbar\":{\"outlinewidth\":0,\"ticks\":\"\"}}}],\"scatterternary\":[{\"type\":\"scatterternary\",\"marker\":{\"colorbar\":{\"outlinewidth\":0,\"ticks\":\"\"}}}],\"scattercarpet\":[{\"type\":\"scattercarpet\",\"marker\":{\"colorbar\":{\"outlinewidth\":0,\"ticks\":\"\"}}}],\"carpet\":[{\"aaxis\":{\"endlinecolor\":\"#2a3f5f\",\"gridcolor\":\"white\",\"linecolor\":\"white\",\"minorgridcolor\":\"white\",\"startlinecolor\":\"#2a3f5f\"},\"baxis\":{\"endlinecolor\":\"#2a3f5f\",\"gridcolor\":\"white\",\"linecolor\":\"white\",\"minorgridcolor\":\"white\",\"startlinecolor\":\"#2a3f5f\"},\"type\":\"carpet\"}],\"table\":[{\"cells\":{\"fill\":{\"color\":\"#EBF0F8\"},\"line\":{\"color\":\"white\"}},\"header\":{\"fill\":{\"color\":\"#C8D4E3\"},\"line\":{\"color\":\"white\"}},\"type\":\"table\"}],\"barpolar\":[{\"marker\":{\"line\":{\"color\":\"#E5ECF6\",\"width\":0.5},\"pattern\":{\"fillmode\":\"overlay\",\"size\":10,\"solidity\":0.2}},\"type\":\"barpolar\"}],\"pie\":[{\"automargin\":true,\"type\":\"pie\"}]},\"layout\":{\"autotypenumbers\":\"strict\",\"colorway\":[\"#636efa\",\"#EF553B\",\"#00cc96\",\"#ab63fa\",\"#FFA15A\",\"#19d3f3\",\"#FF6692\",\"#B6E880\",\"#FF97FF\",\"#FECB52\"],\"font\":{\"color\":\"#2a3f5f\"},\"hovermode\":\"closest\",\"hoverlabel\":{\"align\":\"left\"},\"paper_bgcolor\":\"white\",\"plot_bgcolor\":\"#E5ECF6\",\"polar\":{\"bgcolor\":\"#E5ECF6\",\"angularaxis\":{\"gridcolor\":\"white\",\"linecolor\":\"white\",\"ticks\":\"\"},\"radialaxis\":{\"gridcolor\":\"white\",\"linecolor\":\"white\",\"ticks\":\"\"}},\"ternary\":{\"bgcolor\":\"#E5ECF6\",\"aaxis\":{\"gridcolor\":\"white\",\"linecolor\":\"white\",\"ticks\":\"\"},\"baxis\":{\"gridcolor\":\"white\",\"linecolor\":\"white\",\"ticks\":\"\"},\"caxis\":{\"gridcolor\":\"white\",\"linecolor\":\"white\",\"ticks\":\"\"}},\"coloraxis\":{\"colorbar\":{\"outlinewidth\":0,\"ticks\":\"\"}},\"colorscale\":{\"sequential\":[[0.0,\"#0d0887\"],[0.1111111111111111,\"#46039f\"],[0.2222222222222222,\"#7201a8\"],[0.3333333333333333,\"#9c179e\"],[0.4444444444444444,\"#bd3786\"],[0.5555555555555556,\"#d8576b\"],[0.6666666666666666,\"#ed7953\"],[0.7777777777777778,\"#fb9f3a\"],[0.8888888888888888,\"#fdca26\"],[1.0,\"#f0f921\"]],\"sequentialminus\":[[0.0,\"#0d0887\"],[0.1111111111111111,\"#46039f\"],[0.2222222222222222,\"#7201a8\"],[0.3333333333333333,\"#9c179e\"],[0.4444444444444444,\"#bd3786\"],[0.5555555555555556,\"#d8576b\"],[0.6666666666666666,\"#ed7953\"],[0.7777777777777778,\"#fb9f3a\"],[0.8888888888888888,\"#fdca26\"],[1.0,\"#f0f921\"]],\"diverging\":[[0,\"#8e0152\"],[0.1,\"#c51b7d\"],[0.2,\"#de77ae\"],[0.3,\"#f1b6da\"],[0.4,\"#fde0ef\"],[0.5,\"#f7f7f7\"],[0.6,\"#e6f5d0\"],[0.7,\"#b8e186\"],[0.8,\"#7fbc41\"],[0.9,\"#4d9221\"],[1,\"#276419\"]]},\"xaxis\":{\"gridcolor\":\"white\",\"linecolor\":\"white\",\"ticks\":\"\",\"title\":{\"standoff\":15},\"zerolinecolor\":\"white\",\"automargin\":true,\"zerolinewidth\":2},\"yaxis\":{\"gridcolor\":\"white\",\"linecolor\":\"white\",\"ticks\":\"\",\"title\":{\"standoff\":15},\"zerolinecolor\":\"white\",\"automargin\":true,\"zerolinewidth\":2},\"scene\":{\"xaxis\":{\"backgroundcolor\":\"#E5ECF6\",\"gridcolor\":\"white\",\"linecolor\":\"white\",\"showbackground\":true,\"ticks\":\"\",\"zerolinecolor\":\"white\",\"gridwidth\":2},\"yaxis\":{\"backgroundcolor\":\"#E5ECF6\",\"gridcolor\":\"white\",\"linecolor\":\"white\",\"showbackground\":true,\"ticks\":\"\",\"zerolinecolor\":\"white\",\"gridwidth\":2},\"zaxis\":{\"backgroundcolor\":\"#E5ECF6\",\"gridcolor\":\"white\",\"linecolor\":\"white\",\"showbackground\":true,\"ticks\":\"\",\"zerolinecolor\":\"white\",\"gridwidth\":2}},\"shapedefaults\":{\"line\":{\"color\":\"#2a3f5f\"}},\"annotationdefaults\":{\"arrowcolor\":\"#2a3f5f\",\"arrowhead\":0,\"arrowwidth\":1},\"geo\":{\"bgcolor\":\"white\",\"landcolor\":\"#E5ECF6\",\"subunitcolor\":\"white\",\"showland\":true,\"showlakes\":true,\"lakecolor\":\"white\"},\"title\":{\"x\":0.05},\"mapbox\":{\"style\":\"light\"}}},\"xaxis\":{\"anchor\":\"y\",\"domain\":[0.0,1.0],\"title\":{\"text\":\"Age\"}},\"yaxis\":{\"anchor\":\"x\",\"domain\":[0.0,1.0],\"title\":{\"text\":\"MonthlyIncome\"}},\"legend\":{\"title\":{\"text\":\"Attrition\"},\"tracegroupgap\":0},\"title\":{\"text\":\"Age vs Monthly Income by Attrition\"}},                        {\"responsive\": true}                    ).then(function(){\n",
              "                            \n",
              "var gd = document.getElementById('ffbc77dd-2bd3-4d87-a18f-5e453c8b7b73');\n",
              "var x = new MutationObserver(function (mutations, observer) {{\n",
              "        var display = window.getComputedStyle(gd).display;\n",
              "        if (!display || display === 'none') {{\n",
              "            console.log([gd, 'removed!']);\n",
              "            Plotly.purge(gd);\n",
              "            observer.disconnect();\n",
              "        }}\n",
              "}});\n",
              "\n",
              "// Listen for the removal of the full notebook cells\n",
              "var notebookContainer = gd.closest('#notebook-container');\n",
              "if (notebookContainer) {{\n",
              "    x.observe(notebookContainer, {childList: true});\n",
              "}}\n",
              "\n",
              "// Listen for the clearing of the current output cell\n",
              "var outputEl = gd.closest('.output');\n",
              "if (outputEl) {{\n",
              "    x.observe(outputEl, {childList: true});\n",
              "}}\n",
              "\n",
              "                        })                };                            </script>        </div>\n",
              "</body>\n",
              "</html>"
            ]
          },
          "metadata": {}
        }
      ]
    },
    {
      "cell_type": "markdown",
      "source": [
        "**TotalWorkingYears:** Total years of professional experience\n"
      ],
      "metadata": {
        "id": "BbDS9APX5uuw"
      }
    },
    {
      "cell_type": "code",
      "source": [
        "fig = px.histogram(df,\n",
        "                   x=\"TotalWorkingYears\",\n",
        "                   color=\"Attrition\",\n",
        "                   barmode=\"stack\",   # stacked bars\n",
        "                   nbins=15,          # number of bins\n",
        "                   color_discrete_map={'Yes':'green','No':'darkblue'},\n",
        "                   title=\"Stacked Histogram of Total Working Years by Attrition\")\n",
        "\n",
        "fig.update_layout(xaxis_title=\"Total Working Years\",\n",
        "                  yaxis_title=\"Number of Employees\",\n",
        "                  bargap=0.05)\n",
        "\n",
        "fig.show()"
      ],
      "metadata": {
        "colab": {
          "base_uri": "https://localhost:8080/",
          "height": 542
        },
        "id": "WOS40q8O8IJa",
        "outputId": "658bb4ad-7c22-4dda-b26f-024eb2820c0a"
      },
      "execution_count": null,
      "outputs": [
        {
          "output_type": "display_data",
          "data": {
            "text/html": [
              "<html>\n",
              "<head><meta charset=\"utf-8\" /></head>\n",
              "<body>\n",
              "    <div>            <script src=\"https://cdnjs.cloudflare.com/ajax/libs/mathjax/2.7.5/MathJax.js?config=TeX-AMS-MML_SVG\"></script><script type=\"text/javascript\">if (window.MathJax && window.MathJax.Hub && window.MathJax.Hub.Config) {window.MathJax.Hub.Config({SVG: {font: \"STIX-Web\"}});}</script>                <script type=\"text/javascript\">window.PlotlyConfig = {MathJaxConfig: 'local'};</script>\n",
              "        <script charset=\"utf-8\" src=\"https://cdn.plot.ly/plotly-2.35.2.min.js\"></script>                <div id=\"2b1dccf5-ddc3-4e21-8065-f9d3479d4f77\" class=\"plotly-graph-div\" style=\"height:525px; width:100%;\"></div>            <script type=\"text/javascript\">                                    window.PLOTLYENV=window.PLOTLYENV || {};                                    if (document.getElementById(\"2b1dccf5-ddc3-4e21-8065-f9d3479d4f77\")) {                    Plotly.newPlot(                        \"2b1dccf5-ddc3-4e21-8065-f9d3479d4f77\",                        [{\"alignmentgroup\":\"True\",\"bingroup\":\"x\",\"hovertemplate\":\"Attrition=Yes\\u003cbr\\u003eTotalWorkingYears=%{x}\\u003cbr\\u003ecount=%{y}\\u003cextra\\u003e\\u003c\\u002fextra\\u003e\",\"legendgroup\":\"Yes\",\"marker\":{\"color\":\"green\",\"pattern\":{\"shape\":\"\"}},\"name\":\"Yes\",\"nbinsx\":15,\"offsetgroup\":\"Yes\",\"orientation\":\"v\",\"showlegend\":true,\"x\":[8,7,6,10,8,10,19,6,3,1,23,23,2,2,9,7,1,6,9,7,12,40,0,4,18,10,1,1,4,8,17,10,14,8,9,7,4,8,13,4,17,6,5,10,19,5,8,0,11,5,12,7,3,1,8,8,1,9,7,3,6,6,3,6,1,15,8,12,11,4,8,0,1,6,6,1,9,5,5,1,10,4,18,10,7,10,8,24,6,1,1,6,40,5,9,12,8,10,5,1,3,2,1,4,10,8,1,1,1,16,17,7,22,4,3,7,5,1,4,15,7,33,18,9,6,2,1,18,10,24,9,14,7,1,5,1,5,21,0,6,2,11,22,1,7,6,1,5,1,1,1,26,2,10,10,10,6,9,10,3,10,31,24,3,5,10,8,20,9,1,1,6,28,11,10,7,2,5,7,16,4,8,11,15,7,10,1,34,7,1,0,15,7,10,13,5,19,1,3,1,25,16,10,6,2,11,10,6,1,1,6,10,11,10,6,13,2,4,7,1,14,1,1,5,5,1,6,8,1,6,10,15,1,4,14,12,20],\"xaxis\":\"x\",\"yaxis\":\"y\",\"type\":\"histogram\"},{\"alignmentgroup\":\"True\",\"bingroup\":\"x\",\"hovertemplate\":\"Attrition=No\\u003cbr\\u003eTotalWorkingYears=%{x}\\u003cbr\\u003ecount=%{y}\\u003cextra\\u003e\\u003c\\u002fextra\\u003e\",\"legendgroup\":\"No\",\"marker\":{\"color\":\"darkblue\",\"pattern\":{\"shape\":\"\"}},\"name\":\"No\",\"nbinsx\":15,\"offsetgroup\":\"No\",\"orientation\":\"v\",\"showlegend\":true,\"x\":[10,8,6,8,12,1,10,17,6,10,5,3,10,7,1,31,6,5,13,0,26,10,24,22,7,9,10,6,2,6,10,1,1,9,12,10,8,14,1,9,10,5,15,9,4,10,7,9,10,29,28,17,21,6,25,5,20,6,1,10,5,11,16,17,16,16,10,6,24,17,5,37,3,10,11,22,11,11,21,12,16,4,5,38,17,1,16,17,30,28,2,1,23,23,6,12,12,14,10,7,25,10,8,23,5,3,16,18,16,12,8,7,17,6,12,9,19,5,9,8,6,21,7,1,20,10,13,20,9,10,10,9,15,6,2,6,5,12,1,21,13,12,12,8,6,13,12,9,19,4,24,2,7,9,5,5,8,21,36,10,21,34,7,7,22,8,10,11,14,9,6,7,5,15,4,8,5,17,12,7,16,16,23,16,16,7,10,17,6,7,13,11,10,6,22,7,32,22,33,6,7,4,17,9,25,9,2,13,17,9,20,6,10,10,5,10,22,1,5,13,9,28,10,10,6,21,16,37,5,7,3,15,10,8,6,28,21,20,10,12,5,17,10,5,22,10,2,4,23,12,4,13,22,0,9,10,19,11,13,19,12,6,9,24,3,12,21,9,25,4,13,5,13,10,11,10,21,9,21,9,6,20,10,12,6,4,10,8,8,12,11,7,17,4,8,5,16,4,4,8,15,13,4,8,14,7,16,15,10,3,17,7,20,3,6,10,5,7,26,18,6,30,5,1,2,10,18,8,8,18,25,20,24,6,13,8,8,5,15,4,21,36,6,10,10,28,8,31,19,11,33,19,7,1,21,3,9,10,10,32,28,12,22,20,26,6,19,14,15,13,4,10,8,10,14,37,16,15,22,8,10,10,9,8,10,10,20,10,8,5,10,12,28,22,9,18,3,18,8,31,6,6,1,32,7,6,9,13,6,17,1,10,21,8,10,21,10,8,3,26,3,6,6,1,18,10,3,10,6,17,15,16,13,5,1,5,4,8,10,12,6,4,20,9,20,10,10,9,10,20,20,32,23,10,9,22,4,10,10,9,28,10,1,7,10,5,12,30,5,9,2,19,16,10,6,7,34,6,9,2,6,10,5,5,11,10,9,5,6,17,6,3,7,8,6,24,1,9,30,14,26,10,10,7,8,8,14,10,12,1,10,13,6,22,9,17,8,4,0,29,10,6,9,6,18,8,10,35,18,9,31,9,6,4,10,8,6,5,17,4,5,7,6,10,3,17,8,28,16,10,33,12,8,10,31,13,7,8,8,4,4,17,3,6,1,1,10,6,24,13,10,29,13,9,8,15,5,11,7,20,16,10,3,8,6,9,3,5,26,22,10,6,12,9,20,12,10,5,8,32,6,21,4,9,9,22,3,13,5,4,0,22,16,9,8,4,19,27,8,21,4,3,21,8,30,17,21,19,23,19,21,3,26,10,16,14,6,30,1,1,8,29,8,8,5,23,13,18,15,31,18,19,6,7,10,20,14,3,23,10,9,4,7,8,23,4,6,27,15,18,9,11,10,23,10,18,21,2,9,18,3,6,5,22,5,8,16,10,7,3,6,9,4,6,6,20,9,10,6,8,10,16,15,14,2,1,28,10,1,7,14,2,26,6,28,6,5,8,5,32,6,25,15,10,7,10,20,2,12,10,12,2,10,17,15,7,5,12,20,16,9,33,10,3,36,6,10,13,25,23,12,7,5,6,25,9,2,26,10,1,1,8,34,26,4,31,25,15,5,26,14,4,18,23,18,2,8,10,5,2,10,22,21,2,10,10,10,10,25,9,9,10,19,21,23,36,6,10,9,10,9,33,11,10,7,7,17,11,5,29,0,10,8,33,5,15,10,4,14,5,8,14,12,8,8,4,13,6,24,20,6,5,21,12,8,10,7,8,10,29,32,31,15,8,9,10,6,10,11,17,7,5,26,5,7,7,7,11,13,24,8,10,15,16,6,7,35,20,8,6,5,15,4,12,11,1,13,29,16,1,1,16,10,6,4,8,11,1,5,10,4,8,14,10,26,24,9,23,11,5,10,32,12,4,10,9,5,8,24,9,15,21,2,8,10,6,12,7,18,5,8,10,3,9,9,10,1,36,9,1,10,8,15,10,10,11,6,27,4,9,24,10,8,5,8,1,27,4,32,6,23,6,10,10,10,7,9,10,10,7,16,6,3,27,11,18,15,9,10,10,10,8,18,14,23,6,5,6,8,9,7,7,27,19,2,11,15,30,4,13,36,14,19,10,6,10,10,17,4,29,23,21,2,7,10,8,7,11,7,8,15,19,14,6,10,9,6,10,5,10,9,17,25,3,21,10,6,10,18,6,19,17,10,4,13,3,9,9,10,21,9,10,3,6,6,10,12,6,13,8,9,1,10,12,15,7,34,11,5,15,27,10,6,5,13,15,5,24,15,19,14,5,9,6,7,10,15,13,7,7,11,23,9,12,10,37,6,28,15,14,9,3,20,5,23,0,10,15,7,6,11,4,10,7,12,3,11,8,25,9,1,21,29,8,7,19,1,10,10,9,11,16,4,10,10,22,1,9,24,10,12,14,18,8,9,4,8,12,10,7,10,6,16,16,6,10,20,29,10,28,14,6,5,4,5,14,9,8,6,9,10,20,10,7,8,9,9,10,7,35,1,21,20,13,9,4,5,10,15,6,12,7,25,1,16,3,10,9,12,14,5,4,10,10,6,8,3,18,20,14,16,6,16,6,2,21,10,18,13,24,21,8,15,14,4,9,10,8,8,8,10,20,4,10,5,21,10,5,17,9,6,17,6],\"xaxis\":\"x\",\"yaxis\":\"y\",\"type\":\"histogram\"}],                        {\"template\":{\"data\":{\"histogram2dcontour\":[{\"type\":\"histogram2dcontour\",\"colorbar\":{\"outlinewidth\":0,\"ticks\":\"\"},\"colorscale\":[[0.0,\"#0d0887\"],[0.1111111111111111,\"#46039f\"],[0.2222222222222222,\"#7201a8\"],[0.3333333333333333,\"#9c179e\"],[0.4444444444444444,\"#bd3786\"],[0.5555555555555556,\"#d8576b\"],[0.6666666666666666,\"#ed7953\"],[0.7777777777777778,\"#fb9f3a\"],[0.8888888888888888,\"#fdca26\"],[1.0,\"#f0f921\"]]}],\"choropleth\":[{\"type\":\"choropleth\",\"colorbar\":{\"outlinewidth\":0,\"ticks\":\"\"}}],\"histogram2d\":[{\"type\":\"histogram2d\",\"colorbar\":{\"outlinewidth\":0,\"ticks\":\"\"},\"colorscale\":[[0.0,\"#0d0887\"],[0.1111111111111111,\"#46039f\"],[0.2222222222222222,\"#7201a8\"],[0.3333333333333333,\"#9c179e\"],[0.4444444444444444,\"#bd3786\"],[0.5555555555555556,\"#d8576b\"],[0.6666666666666666,\"#ed7953\"],[0.7777777777777778,\"#fb9f3a\"],[0.8888888888888888,\"#fdca26\"],[1.0,\"#f0f921\"]]}],\"heatmap\":[{\"type\":\"heatmap\",\"colorbar\":{\"outlinewidth\":0,\"ticks\":\"\"},\"colorscale\":[[0.0,\"#0d0887\"],[0.1111111111111111,\"#46039f\"],[0.2222222222222222,\"#7201a8\"],[0.3333333333333333,\"#9c179e\"],[0.4444444444444444,\"#bd3786\"],[0.5555555555555556,\"#d8576b\"],[0.6666666666666666,\"#ed7953\"],[0.7777777777777778,\"#fb9f3a\"],[0.8888888888888888,\"#fdca26\"],[1.0,\"#f0f921\"]]}],\"heatmapgl\":[{\"type\":\"heatmapgl\",\"colorbar\":{\"outlinewidth\":0,\"ticks\":\"\"},\"colorscale\":[[0.0,\"#0d0887\"],[0.1111111111111111,\"#46039f\"],[0.2222222222222222,\"#7201a8\"],[0.3333333333333333,\"#9c179e\"],[0.4444444444444444,\"#bd3786\"],[0.5555555555555556,\"#d8576b\"],[0.6666666666666666,\"#ed7953\"],[0.7777777777777778,\"#fb9f3a\"],[0.8888888888888888,\"#fdca26\"],[1.0,\"#f0f921\"]]}],\"contourcarpet\":[{\"type\":\"contourcarpet\",\"colorbar\":{\"outlinewidth\":0,\"ticks\":\"\"}}],\"contour\":[{\"type\":\"contour\",\"colorbar\":{\"outlinewidth\":0,\"ticks\":\"\"},\"colorscale\":[[0.0,\"#0d0887\"],[0.1111111111111111,\"#46039f\"],[0.2222222222222222,\"#7201a8\"],[0.3333333333333333,\"#9c179e\"],[0.4444444444444444,\"#bd3786\"],[0.5555555555555556,\"#d8576b\"],[0.6666666666666666,\"#ed7953\"],[0.7777777777777778,\"#fb9f3a\"],[0.8888888888888888,\"#fdca26\"],[1.0,\"#f0f921\"]]}],\"surface\":[{\"type\":\"surface\",\"colorbar\":{\"outlinewidth\":0,\"ticks\":\"\"},\"colorscale\":[[0.0,\"#0d0887\"],[0.1111111111111111,\"#46039f\"],[0.2222222222222222,\"#7201a8\"],[0.3333333333333333,\"#9c179e\"],[0.4444444444444444,\"#bd3786\"],[0.5555555555555556,\"#d8576b\"],[0.6666666666666666,\"#ed7953\"],[0.7777777777777778,\"#fb9f3a\"],[0.8888888888888888,\"#fdca26\"],[1.0,\"#f0f921\"]]}],\"mesh3d\":[{\"type\":\"mesh3d\",\"colorbar\":{\"outlinewidth\":0,\"ticks\":\"\"}}],\"scatter\":[{\"fillpattern\":{\"fillmode\":\"overlay\",\"size\":10,\"solidity\":0.2},\"type\":\"scatter\"}],\"parcoords\":[{\"type\":\"parcoords\",\"line\":{\"colorbar\":{\"outlinewidth\":0,\"ticks\":\"\"}}}],\"scatterpolargl\":[{\"type\":\"scatterpolargl\",\"marker\":{\"colorbar\":{\"outlinewidth\":0,\"ticks\":\"\"}}}],\"bar\":[{\"error_x\":{\"color\":\"#2a3f5f\"},\"error_y\":{\"color\":\"#2a3f5f\"},\"marker\":{\"line\":{\"color\":\"#E5ECF6\",\"width\":0.5},\"pattern\":{\"fillmode\":\"overlay\",\"size\":10,\"solidity\":0.2}},\"type\":\"bar\"}],\"scattergeo\":[{\"type\":\"scattergeo\",\"marker\":{\"colorbar\":{\"outlinewidth\":0,\"ticks\":\"\"}}}],\"scatterpolar\":[{\"type\":\"scatterpolar\",\"marker\":{\"colorbar\":{\"outlinewidth\":0,\"ticks\":\"\"}}}],\"histogram\":[{\"marker\":{\"pattern\":{\"fillmode\":\"overlay\",\"size\":10,\"solidity\":0.2}},\"type\":\"histogram\"}],\"scattergl\":[{\"type\":\"scattergl\",\"marker\":{\"colorbar\":{\"outlinewidth\":0,\"ticks\":\"\"}}}],\"scatter3d\":[{\"type\":\"scatter3d\",\"line\":{\"colorbar\":{\"outlinewidth\":0,\"ticks\":\"\"}},\"marker\":{\"colorbar\":{\"outlinewidth\":0,\"ticks\":\"\"}}}],\"scattermapbox\":[{\"type\":\"scattermapbox\",\"marker\":{\"colorbar\":{\"outlinewidth\":0,\"ticks\":\"\"}}}],\"scatterternary\":[{\"type\":\"scatterternary\",\"marker\":{\"colorbar\":{\"outlinewidth\":0,\"ticks\":\"\"}}}],\"scattercarpet\":[{\"type\":\"scattercarpet\",\"marker\":{\"colorbar\":{\"outlinewidth\":0,\"ticks\":\"\"}}}],\"carpet\":[{\"aaxis\":{\"endlinecolor\":\"#2a3f5f\",\"gridcolor\":\"white\",\"linecolor\":\"white\",\"minorgridcolor\":\"white\",\"startlinecolor\":\"#2a3f5f\"},\"baxis\":{\"endlinecolor\":\"#2a3f5f\",\"gridcolor\":\"white\",\"linecolor\":\"white\",\"minorgridcolor\":\"white\",\"startlinecolor\":\"#2a3f5f\"},\"type\":\"carpet\"}],\"table\":[{\"cells\":{\"fill\":{\"color\":\"#EBF0F8\"},\"line\":{\"color\":\"white\"}},\"header\":{\"fill\":{\"color\":\"#C8D4E3\"},\"line\":{\"color\":\"white\"}},\"type\":\"table\"}],\"barpolar\":[{\"marker\":{\"line\":{\"color\":\"#E5ECF6\",\"width\":0.5},\"pattern\":{\"fillmode\":\"overlay\",\"size\":10,\"solidity\":0.2}},\"type\":\"barpolar\"}],\"pie\":[{\"automargin\":true,\"type\":\"pie\"}]},\"layout\":{\"autotypenumbers\":\"strict\",\"colorway\":[\"#636efa\",\"#EF553B\",\"#00cc96\",\"#ab63fa\",\"#FFA15A\",\"#19d3f3\",\"#FF6692\",\"#B6E880\",\"#FF97FF\",\"#FECB52\"],\"font\":{\"color\":\"#2a3f5f\"},\"hovermode\":\"closest\",\"hoverlabel\":{\"align\":\"left\"},\"paper_bgcolor\":\"white\",\"plot_bgcolor\":\"#E5ECF6\",\"polar\":{\"bgcolor\":\"#E5ECF6\",\"angularaxis\":{\"gridcolor\":\"white\",\"linecolor\":\"white\",\"ticks\":\"\"},\"radialaxis\":{\"gridcolor\":\"white\",\"linecolor\":\"white\",\"ticks\":\"\"}},\"ternary\":{\"bgcolor\":\"#E5ECF6\",\"aaxis\":{\"gridcolor\":\"white\",\"linecolor\":\"white\",\"ticks\":\"\"},\"baxis\":{\"gridcolor\":\"white\",\"linecolor\":\"white\",\"ticks\":\"\"},\"caxis\":{\"gridcolor\":\"white\",\"linecolor\":\"white\",\"ticks\":\"\"}},\"coloraxis\":{\"colorbar\":{\"outlinewidth\":0,\"ticks\":\"\"}},\"colorscale\":{\"sequential\":[[0.0,\"#0d0887\"],[0.1111111111111111,\"#46039f\"],[0.2222222222222222,\"#7201a8\"],[0.3333333333333333,\"#9c179e\"],[0.4444444444444444,\"#bd3786\"],[0.5555555555555556,\"#d8576b\"],[0.6666666666666666,\"#ed7953\"],[0.7777777777777778,\"#fb9f3a\"],[0.8888888888888888,\"#fdca26\"],[1.0,\"#f0f921\"]],\"sequentialminus\":[[0.0,\"#0d0887\"],[0.1111111111111111,\"#46039f\"],[0.2222222222222222,\"#7201a8\"],[0.3333333333333333,\"#9c179e\"],[0.4444444444444444,\"#bd3786\"],[0.5555555555555556,\"#d8576b\"],[0.6666666666666666,\"#ed7953\"],[0.7777777777777778,\"#fb9f3a\"],[0.8888888888888888,\"#fdca26\"],[1.0,\"#f0f921\"]],\"diverging\":[[0,\"#8e0152\"],[0.1,\"#c51b7d\"],[0.2,\"#de77ae\"],[0.3,\"#f1b6da\"],[0.4,\"#fde0ef\"],[0.5,\"#f7f7f7\"],[0.6,\"#e6f5d0\"],[0.7,\"#b8e186\"],[0.8,\"#7fbc41\"],[0.9,\"#4d9221\"],[1,\"#276419\"]]},\"xaxis\":{\"gridcolor\":\"white\",\"linecolor\":\"white\",\"ticks\":\"\",\"title\":{\"standoff\":15},\"zerolinecolor\":\"white\",\"automargin\":true,\"zerolinewidth\":2},\"yaxis\":{\"gridcolor\":\"white\",\"linecolor\":\"white\",\"ticks\":\"\",\"title\":{\"standoff\":15},\"zerolinecolor\":\"white\",\"automargin\":true,\"zerolinewidth\":2},\"scene\":{\"xaxis\":{\"backgroundcolor\":\"#E5ECF6\",\"gridcolor\":\"white\",\"linecolor\":\"white\",\"showbackground\":true,\"ticks\":\"\",\"zerolinecolor\":\"white\",\"gridwidth\":2},\"yaxis\":{\"backgroundcolor\":\"#E5ECF6\",\"gridcolor\":\"white\",\"linecolor\":\"white\",\"showbackground\":true,\"ticks\":\"\",\"zerolinecolor\":\"white\",\"gridwidth\":2},\"zaxis\":{\"backgroundcolor\":\"#E5ECF6\",\"gridcolor\":\"white\",\"linecolor\":\"white\",\"showbackground\":true,\"ticks\":\"\",\"zerolinecolor\":\"white\",\"gridwidth\":2}},\"shapedefaults\":{\"line\":{\"color\":\"#2a3f5f\"}},\"annotationdefaults\":{\"arrowcolor\":\"#2a3f5f\",\"arrowhead\":0,\"arrowwidth\":1},\"geo\":{\"bgcolor\":\"white\",\"landcolor\":\"#E5ECF6\",\"subunitcolor\":\"white\",\"showland\":true,\"showlakes\":true,\"lakecolor\":\"white\"},\"title\":{\"x\":0.05},\"mapbox\":{\"style\":\"light\"}}},\"xaxis\":{\"anchor\":\"y\",\"domain\":[0.0,1.0],\"title\":{\"text\":\"Total Working Years\"}},\"yaxis\":{\"anchor\":\"x\",\"domain\":[0.0,1.0],\"title\":{\"text\":\"Number of Employees\"}},\"legend\":{\"title\":{\"text\":\"Attrition\"},\"tracegroupgap\":0},\"title\":{\"text\":\"Stacked Histogram of Total Working Years by Attrition\"},\"barmode\":\"stack\",\"bargap\":0.05},                        {\"responsive\": true}                    ).then(function(){\n",
              "                            \n",
              "var gd = document.getElementById('2b1dccf5-ddc3-4e21-8065-f9d3479d4f77');\n",
              "var x = new MutationObserver(function (mutations, observer) {{\n",
              "        var display = window.getComputedStyle(gd).display;\n",
              "        if (!display || display === 'none') {{\n",
              "            console.log([gd, 'removed!']);\n",
              "            Plotly.purge(gd);\n",
              "            observer.disconnect();\n",
              "        }}\n",
              "}});\n",
              "\n",
              "// Listen for the removal of the full notebook cells\n",
              "var notebookContainer = gd.closest('#notebook-container');\n",
              "if (notebookContainer) {{\n",
              "    x.observe(notebookContainer, {childList: true});\n",
              "}}\n",
              "\n",
              "// Listen for the clearing of the current output cell\n",
              "var outputEl = gd.closest('.output');\n",
              "if (outputEl) {{\n",
              "    x.observe(outputEl, {childList: true});\n",
              "}}\n",
              "\n",
              "                        })                };                            </script>        </div>\n",
              "</body>\n",
              "</html>"
            ]
          },
          "metadata": {}
        }
      ]
    },
    {
      "cell_type": "markdown",
      "source": [
        "**Insight:** Attrition is higher among early-career employees. It is more common in employees with less experience (0–10 years) compared to longer-tenured employees."
      ],
      "metadata": {
        "id": "uI2vVA_xiZ4k"
      }
    },
    {
      "cell_type": "code",
      "source": [
        "# Bar chart: Attrition vs NumCompaniesWorked\n",
        "fig = px.histogram(\n",
        "    df,\n",
        "    x=\"CompanyExperience\",\n",
        "    color=\"Attrition\",\n",
        "    barmode=\"group\",\n",
        "    title=\"Attrition by Company Experience\",\n",
        "    labels={\"CompanyExperience\": \"Previous Company Experience\"},\n",
        "    color_discrete_map={'Yes':'green','No':'darkblue'}\n",
        ")\n",
        "\n",
        "fig.show()"
      ],
      "metadata": {
        "colab": {
          "base_uri": "https://localhost:8080/",
          "height": 542
        },
        "id": "Lz8o3Swi50zI",
        "outputId": "b4ba225b-d235-4cfc-c78b-1dba7d576494"
      },
      "execution_count": null,
      "outputs": [
        {
          "output_type": "display_data",
          "data": {
            "text/html": [
              "<html>\n",
              "<head><meta charset=\"utf-8\" /></head>\n",
              "<body>\n",
              "    <div>            <script src=\"https://cdnjs.cloudflare.com/ajax/libs/mathjax/2.7.5/MathJax.js?config=TeX-AMS-MML_SVG\"></script><script type=\"text/javascript\">if (window.MathJax && window.MathJax.Hub && window.MathJax.Hub.Config) {window.MathJax.Hub.Config({SVG: {font: \"STIX-Web\"}});}</script>                <script type=\"text/javascript\">window.PlotlyConfig = {MathJaxConfig: 'local'};</script>\n",
              "        <script charset=\"utf-8\" src=\"https://cdn.plot.ly/plotly-2.35.2.min.js\"></script>                <div id=\"27ccf5af-1109-4314-a058-8bc35c96ce01\" class=\"plotly-graph-div\" style=\"height:525px; width:100%;\"></div>            <script type=\"text/javascript\">                                    window.PLOTLYENV=window.PLOTLYENV || {};                                    if (document.getElementById(\"27ccf5af-1109-4314-a058-8bc35c96ce01\")) {                    Plotly.newPlot(                        \"27ccf5af-1109-4314-a058-8bc35c96ce01\",                        [{\"alignmentgroup\":\"True\",\"bingroup\":\"x\",\"hovertemplate\":\"Attrition=Yes\\u003cbr\\u003ePrevious Company Experience=%{x}\\u003cbr\\u003ecount=%{y}\\u003cextra\\u003e\\u003c\\u002fextra\\u003e\",\"legendgroup\":\"Yes\",\"marker\":{\"color\":\"green\",\"pattern\":{\"shape\":\"\"}},\"name\":\"Yes\",\"offsetgroup\":\"Yes\",\"orientation\":\"v\",\"showlegend\":true,\"x\":[\"6+ Companies\",\"6+ Companies\",\"4–5 Companies\",\"6+ Companies\",\"2–3 Companies\",\"First Job\",\"2–3 Companies\",\"2–3 Companies\",\"First Job\",\"First Job\",\"First Job\",\"6+ Companies\",\"First Job\",null,\"First Job\",\"4–5 Companies\",\"First Job\",\"First Job\",\"First Job\",\"6+ Companies\",\"4–5 Companies\",\"First Job\",\"First Job\",\"2–3 Companies\",\"2–3 Companies\",\"6+ Companies\",null,\"First Job\",\"First Job\",\"2–3 Companies\",\"6+ Companies\",\"First Job\",\"First Job\",\"4–5 Companies\",\"4–5 Companies\",null,\"First Job\",\"4–5 Companies\",\"6+ Companies\",null,\"6+ Companies\",null,\"2–3 Companies\",\"First Job\",\"2–3 Companies\",\"2–3 Companies\",\"First Job\",\"First Job\",\"2–3 Companies\",\"4–5 Companies\",\"4–5 Companies\",\"First Job\",\"First Job\",\"First Job\",\"First Job\",\"2–3 Companies\",\"First Job\",\"6+ Companies\",null,\"6+ Companies\",\"4–5 Companies\",\"First Job\",null,\"4–5 Companies\",\"First Job\",\"6+ Companies\",\"6+ Companies\",\"2–3 Companies\",\"6+ Companies\",\"4–5 Companies\",null,\"First Job\",\"First Job\",\"6+ Companies\",\"First Job\",\"First Job\",\"2–3 Companies\",null,\"2–3 Companies\",\"First Job\",\"First Job\",\"6+ Companies\",\"2–3 Companies\",\"6+ Companies\",\"6+ Companies\",\"First Job\",\"4–5 Companies\",\"4–5 Companies\",\"6+ Companies\",\"First Job\",\"First Job\",\"4–5 Companies\",\"6+ Companies\",\"6+ Companies\",\"First Job\",\"4–5 Companies\",\"First Job\",\"First Job\",\"6+ Companies\",\"First Job\",\"6+ Companies\",\"First Job\",\"First Job\",null,\"4–5 Companies\",\"6+ Companies\",\"First Job\",\"First Job\",\"First Job\",\"First Job\",\"4–5 Companies\",\"4–5 Companies\",\"4–5 Companies\",null,\"6+ Companies\",\"4–5 Companies\",\"First Job\",\"First Job\",null,\"4–5 Companies\",\"6+ Companies\",\"First Job\",\"First Job\",\"6+ Companies\",\"6+ Companies\",\"First Job\",\"First Job\",\"6+ Companies\",\"First Job\",\"6+ Companies\",null,\"First Job\",\"First Job\",\"First Job\",\"4–5 Companies\",\"First Job\",\"2–3 Companies\",\"6+ Companies\",\"First Job\",null,\"First Job\",\"First Job\",null,\"First Job\",\"6+ Companies\",\"First Job\",null,\"6+ Companies\",\"First Job\",\"First Job\",\"First Job\",\"2–3 Companies\",\"First Job\",\"First Job\",\"2–3 Companies\",\"First Job\",null,\"2–3 Companies\",\"6+ Companies\",\"First Job\",\"4–5 Companies\",\"6+ Companies\",\"6+ Companies\",\"6+ Companies\",null,\"First Job\",\"First Job\",\"2–3 Companies\",null,\"First Job\",\"First Job\",\"2–3 Companies\",\"4–5 Companies\",\"2–3 Companies\",\"First Job\",\"6+ Companies\",\"First Job\",\"2–3 Companies\",\"4–5 Companies\",null,\"2–3 Companies\",\"6+ Companies\",\"6+ Companies\",\"2–3 Companies\",\"First Job\",\"First Job\",\"First Job\",null,\"4–5 Companies\",\"First Job\",\"First Job\",\"6+ Companies\",\"6+ Companies\",\"2–3 Companies\",\"2–3 Companies\",\"First Job\",\"2–3 Companies\",\"First Job\",\"First Job\",\"First Job\",\"6+ Companies\",\"4–5 Companies\",\"6+ Companies\",\"6+ Companies\",\"First Job\",\"2–3 Companies\",\"2–3 Companies\",\"6+ Companies\",\"First Job\",\"First Job\",\"First Job\",\"First Job\",\"4–5 Companies\",\"First Job\",null,\"4–5 Companies\",null,\"4–5 Companies\",\"6+ Companies\",\"First Job\",\"4–5 Companies\",\"First Job\",\"First Job\",\"First Job\",\"First Job\",\"First Job\",\"2–3 Companies\",\"2–3 Companies\",\"First Job\",\"4–5 Companies\",\"First Job\",\"6+ Companies\",\"First Job\",\"6+ Companies\",\"6+ Companies\",\"6+ Companies\",\"4–5 Companies\"],\"xaxis\":\"x\",\"yaxis\":\"y\",\"type\":\"histogram\"},{\"alignmentgroup\":\"True\",\"bingroup\":\"x\",\"hovertemplate\":\"Attrition=No\\u003cbr\\u003ePrevious Company Experience=%{x}\\u003cbr\\u003ecount=%{y}\\u003cextra\\u003e\\u003c\\u002fextra\\u003e\",\"legendgroup\":\"No\",\"marker\":{\"color\":\"darkblue\",\"pattern\":{\"shape\":\"\"}},\"name\":\"No\",\"offsetgroup\":\"No\",\"orientation\":\"v\",\"showlegend\":true,\"x\":[\"First Job\",\"First Job\",\"6+ Companies\",null,\"4–5 Companies\",\"First Job\",null,\"6+ Companies\",null,null,\"First Job\",null,\"First Job\",null,\"First Job\",\"2–3 Companies\",\"4–5 Companies\",null,null,\"First Job\",\"4–5 Companies\",null,\"2–3 Companies\",\"2–3 Companies\",\"4–5 Companies\",\"2–3 Companies\",\"First Job\",\"First Job\",\"First Job\",\"6+ Companies\",\"2–3 Companies\",\"First Job\",\"First Job\",\"First Job\",\"First Job\",null,\"4–5 Companies\",\"4–5 Companies\",\"First Job\",\"4–5 Companies\",\"2–3 Companies\",\"6+ Companies\",\"First Job\",\"First Job\",\"2–3 Companies\",\"2–3 Companies\",\"First Job\",\"First Job\",\"First Job\",\"4–5 Companies\",\"6+ Companies\",\"First Job\",\"2–3 Companies\",\"First Job\",\"2–3 Companies\",\"4–5 Companies\",\"6+ Companies\",null,\"First Job\",\"First Job\",\"2–3 Companies\",\"First Job\",null,\"4–5 Companies\",\"4–5 Companies\",\"6+ Companies\",\"First Job\",\"First Job\",\"2–3 Companies\",\"6+ Companies\",\"First Job\",\"4–5 Companies\",\"2–3 Companies\",\"2–3 Companies\",\"First Job\",\"First Job\",null,\"First Job\",\"2–3 Companies\",\"First Job\",\"6+ Companies\",null,\"First Job\",null,\"4–5 Companies\",\"First Job\",\"First Job\",\"4–5 Companies\",\"6+ Companies\",\"2–3 Companies\",\"First Job\",\"First Job\",\"2–3 Companies\",\"2–3 Companies\",null,\"6+ Companies\",\"2–3 Companies\",\"2–3 Companies\",null,\"4–5 Companies\",\"First Job\",\"First Job\",null,\"6+ Companies\",\"First Job\",null,\"First Job\",\"4–5 Companies\",\"4–5 Companies\",\"2–3 Companies\",\"First Job\",\"6+ Companies\",\"4–5 Companies\",\"2–3 Companies\",null,\"4–5 Companies\",\"2–3 Companies\",\"First Job\",null,\"4–5 Companies\",null,\"4–5 Companies\",\"2–3 Companies\",\"First Job\",\"First Job\",\"First Job\",\"2–3 Companies\",\"6+ Companies\",\"First Job\",\"First Job\",\"2–3 Companies\",\"4–5 Companies\",\"6+ Companies\",\"6+ Companies\",\"First Job\",\"6+ Companies\",\"First Job\",\"2–3 Companies\",\"First Job\",\"2–3 Companies\",\"4–5 Companies\",\"2–3 Companies\",\"4–5 Companies\",\"2–3 Companies\",null,\"4–5 Companies\",\"First Job\",\"4–5 Companies\",\"4–5 Companies\",null,\"First Job\",\"First Job\",\"6+ Companies\",\"2–3 Companies\",\"2–3 Companies\",\"First Job\",\"First Job\",\"First Job\",\"6+ Companies\",\"First Job\",\"2–3 Companies\",null,\"First Job\",\"4–5 Companies\",\"6+ Companies\",\"First Job\",\"4–5 Companies\",\"2–3 Companies\",\"6+ Companies\",\"2–3 Companies\",\"4–5 Companies\",\"First Job\",\"First Job\",\"6+ Companies\",\"First Job\",\"First Job\",\"6+ Companies\",\"6+ Companies\",\"First Job\",\"First Job\",\"4–5 Companies\",\"2–3 Companies\",\"6+ Companies\",\"2–3 Companies\",\"6+ Companies\",\"6+ Companies\",\"First Job\",null,null,\"2–3 Companies\",\"4–5 Companies\",\"First Job\",\"First Job\",\"6+ Companies\",\"First Job\",\"6+ Companies\",\"2–3 Companies\",\"4–5 Companies\",\"First Job\",\"2–3 Companies\",\"6+ Companies\",null,\"2–3 Companies\",\"First Job\",null,\"6+ Companies\",\"First Job\",\"6+ Companies\",\"2–3 Companies\",\"4–5 Companies\",null,\"First Job\",\"2–3 Companies\",\"2–3 Companies\",null,null,null,\"First Job\",\"First Job\",\"2–3 Companies\",\"4–5 Companies\",\"2–3 Companies\",\"2–3 Companies\",null,\"First Job\",null,null,null,\"First Job\",\"4–5 Companies\",\"First Job\",\"2–3 Companies\",\"6+ Companies\",\"First Job\",\"First Job\",\"2–3 Companies\",\"2–3 Companies\",\"First Job\",\"First Job\",\"2–3 Companies\",\"First Job\",\"First Job\",\"6+ Companies\",\"First Job\",\"6+ Companies\",\"4–5 Companies\",\"First Job\",\"First Job\",\"4–5 Companies\",null,\"4–5 Companies\",\"4–5 Companies\",\"First Job\",\"First Job\",null,\"4–5 Companies\",null,\"6+ Companies\",\"First Job\",\"2–3 Companies\",\"2–3 Companies\",null,\"2–3 Companies\",\"First Job\",null,\"6+ Companies\",\"First Job\",null,\"6+ Companies\",\"First Job\",\"First Job\",\"First Job\",\"4–5 Companies\",\"6+ Companies\",\"First Job\",\"First Job\",\"First Job\",\"2–3 Companies\",\"4–5 Companies\",\"First Job\",null,\"2–3 Companies\",\"6+ Companies\",\"6+ Companies\",\"2–3 Companies\",null,\"First Job\",\"First Job\",\"6+ Companies\",null,\"First Job\",\"First Job\",null,\"First Job\",\"6+ Companies\",\"2–3 Companies\",\"2–3 Companies\",\"First Job\",null,\"First Job\",\"2–3 Companies\",\"4–5 Companies\",\"6+ Companies\",\"First Job\",\"2–3 Companies\",\"4–5 Companies\",\"4–5 Companies\",\"2–3 Companies\",\"2–3 Companies\",\"First Job\",\"6+ Companies\",\"2–3 Companies\",\"6+ Companies\",null,\"6+ Companies\",\"6+ Companies\",\"First Job\",\"First Job\",\"6+ Companies\",\"4–5 Companies\",\"4–5 Companies\",\"2–3 Companies\",\"First Job\",\"First Job\",\"First Job\",\"First Job\",\"First Job\",\"6+ Companies\",\"2–3 Companies\",\"2–3 Companies\",\"First Job\",\"6+ Companies\",\"4–5 Companies\",\"6+ Companies\",\"First Job\",\"6+ Companies\",\"4–5 Companies\",\"First Job\",\"2–3 Companies\",\"First Job\",\"First Job\",\"6+ Companies\",null,\"First Job\",\"First Job\",\"2–3 Companies\",\"2–3 Companies\",\"2–3 Companies\",\"2–3 Companies\",\"2–3 Companies\",\"4–5 Companies\",\"2–3 Companies\",null,\"First Job\",null,\"First Job\",\"4–5 Companies\",\"First Job\",null,\"2–3 Companies\",null,null,\"4–5 Companies\",\"4–5 Companies\",\"6+ Companies\",null,\"6+ Companies\",\"2–3 Companies\",\"2–3 Companies\",\"First Job\",null,\"4–5 Companies\",\"4–5 Companies\",\"First Job\",\"2–3 Companies\",\"2–3 Companies\",\"6+ Companies\",\"6+ Companies\",\"6+ Companies\",\"First Job\",\"4–5 Companies\",\"First Job\",null,\"4–5 Companies\",\"4–5 Companies\",\"6+ Companies\",\"2–3 Companies\",\"2–3 Companies\",\"4–5 Companies\",\"First Job\",\"First Job\",\"4–5 Companies\",\"4–5 Companies\",\"6+ Companies\",\"First Job\",\"2–3 Companies\",null,\"2–3 Companies\",\"6+ Companies\",\"First Job\",\"First Job\",\"First Job\",\"First Job\",\"First Job\",\"First Job\",\"First Job\",\"4–5 Companies\",\"4–5 Companies\",null,\"4–5 Companies\",\"First Job\",\"First Job\",\"4–5 Companies\",\"2–3 Companies\",\"2–3 Companies\",\"6+ Companies\",\"4–5 Companies\",\"First Job\",\"First Job\",\"4–5 Companies\",null,null,\"First Job\",\"First Job\",\"6+ Companies\",\"First Job\",\"First Job\",\"First Job\",\"First Job\",\"First Job\",\"2–3 Companies\",\"2–3 Companies\",\"2–3 Companies\",null,\"First Job\",\"2–3 Companies\",null,null,\"First Job\",\"2–3 Companies\",\"First Job\",\"2–3 Companies\",\"First Job\",\"First Job\",\"First Job\",\"First Job\",null,\"First Job\",\"2–3 Companies\",\"2–3 Companies\",\"4–5 Companies\",\"2–3 Companies\",\"2–3 Companies\",\"6+ Companies\",\"First Job\",\"First Job\",\"6+ Companies\",\"6+ Companies\",\"4–5 Companies\",\"2–3 Companies\",\"6+ Companies\",\"6+ Companies\",\"First Job\",\"2–3 Companies\",\"2–3 Companies\",\"First Job\",\"6+ Companies\",\"6+ Companies\",null,\"6+ Companies\",\"First Job\",\"2–3 Companies\",\"2–3 Companies\",\"First Job\",\"6+ Companies\",\"2–3 Companies\",\"First Job\",\"First Job\",null,\"First Job\",\"First Job\",\"First Job\",null,\"2–3 Companies\",\"4–5 Companies\",\"2–3 Companies\",\"6+ Companies\",null,null,\"6+ Companies\",\"First Job\",\"First Job\",\"2–3 Companies\",\"First Job\",\"4–5 Companies\",\"First Job\",\"First Job\",\"6+ Companies\",\"4–5 Companies\",null,\"First Job\",null,\"First Job\",\"2–3 Companies\",\"6+ Companies\",\"4–5 Companies\",\"First Job\",\"6+ Companies\",\"4–5 Companies\",\"First Job\",\"First Job\",\"2–3 Companies\",\"First Job\",\"6+ Companies\",\"First Job\",\"2–3 Companies\",\"First Job\",null,\"First Job\",\"2–3 Companies\",\"6+ Companies\",\"6+ Companies\",\"First Job\",\"First Job\",\"First Job\",\"2–3 Companies\",\"6+ Companies\",\"6+ Companies\",\"4–5 Companies\",\"4–5 Companies\",\"2–3 Companies\",\"4–5 Companies\",\"First Job\",\"6+ Companies\",\"2–3 Companies\",\"4–5 Companies\",null,\"First Job\",\"First Job\",null,\"First Job\",\"2–3 Companies\",null,\"First Job\",null,\"2–3 Companies\",\"2–3 Companies\",\"4–5 Companies\",\"2–3 Companies\",\"4–5 Companies\",\"6+ Companies\",\"4–5 Companies\",null,\"First Job\",\"First Job\",\"6+ Companies\",\"2–3 Companies\",\"6+ Companies\",\"First Job\",\"First Job\",\"4–5 Companies\",null,\"First Job\",\"4–5 Companies\",\"First Job\",\"First Job\",\"6+ Companies\",\"2–3 Companies\",\"2–3 Companies\",\"2–3 Companies\",\"First Job\",\"4–5 Companies\",\"4–5 Companies\",\"First Job\",\"2–3 Companies\",\"First Job\",\"6+ Companies\",\"2–3 Companies\",\"First Job\",\"2–3 Companies\",\"4–5 Companies\",null,\"6+ Companies\",\"First Job\",null,\"First Job\",\"First Job\",\"First Job\",\"2–3 Companies\",\"6+ Companies\",\"4–5 Companies\",\"First Job\",\"6+ Companies\",null,\"First Job\",\"4–5 Companies\",\"First Job\",\"2–3 Companies\",\"2–3 Companies\",\"6+ Companies\",\"First Job\",\"2–3 Companies\",\"6+ Companies\",\"First Job\",\"First Job\",\"2–3 Companies\",null,\"6+ Companies\",\"First Job\",\"First Job\",\"First Job\",\"6+ Companies\",\"First Job\",null,\"First Job\",\"First Job\",\"2–3 Companies\",\"6+ Companies\",\"6+ Companies\",\"First Job\",null,\"First Job\",\"6+ Companies\",\"4–5 Companies\",\"2–3 Companies\",\"2–3 Companies\",\"First Job\",\"6+ Companies\",\"2–3 Companies\",null,\"First Job\",null,\"2–3 Companies\",\"6+ Companies\",null,\"2–3 Companies\",\"First Job\",\"2–3 Companies\",\"First Job\",\"First Job\",\"2–3 Companies\",\"2–3 Companies\",\"2–3 Companies\",\"First Job\",\"First Job\",\"6+ Companies\",\"6+ Companies\",\"2–3 Companies\",null,\"6+ Companies\",\"4–5 Companies\",\"6+ Companies\",\"First Job\",null,\"First Job\",null,\"4–5 Companies\",\"First Job\",\"2–3 Companies\",\"2–3 Companies\",\"4–5 Companies\",\"First Job\",null,\"2–3 Companies\",null,null,\"2–3 Companies\",\"2–3 Companies\",\"First Job\",\"6+ Companies\",null,\"4–5 Companies\",null,\"2–3 Companies\",\"6+ Companies\",\"6+ Companies\",\"First Job\",\"First Job\",\"6+ Companies\",\"2–3 Companies\",null,null,\"First Job\",\"6+ Companies\",\"2–3 Companies\",null,\"4–5 Companies\",\"First Job\",\"First Job\",\"First Job\",\"2–3 Companies\",\"6+ Companies\",\"First Job\",\"First Job\",\"First Job\",\"6+ Companies\",\"6+ Companies\",\"6+ Companies\",\"6+ Companies\",\"First Job\",\"First Job\",\"2–3 Companies\",\"2–3 Companies\",null,\"First Job\",\"First Job\",\"4–5 Companies\",\"First Job\",\"First Job\",\"4–5 Companies\",\"First Job\",\"First Job\",\"2–3 Companies\",null,\"6+ Companies\",\"2–3 Companies\",\"First Job\",\"6+ Companies\",\"4–5 Companies\",\"2–3 Companies\",\"First Job\",\"4–5 Companies\",\"2–3 Companies\",\"First Job\",\"First Job\",\"First Job\",\"First Job\",\"First Job\",\"2–3 Companies\",\"6+ Companies\",null,\"First Job\",\"4–5 Companies\",\"2–3 Companies\",null,\"6+ Companies\",null,null,\"2–3 Companies\",\"4–5 Companies\",\"First Job\",\"6+ Companies\",\"First Job\",\"First Job\",\"2–3 Companies\",\"First Job\",\"First Job\",\"4–5 Companies\",\"2–3 Companies\",\"2–3 Companies\",\"First Job\",\"4–5 Companies\",\"First Job\",\"First Job\",\"6+ Companies\",\"2–3 Companies\",null,\"6+ Companies\",null,\"First Job\",\"First Job\",\"First Job\",\"First Job\",\"2–3 Companies\",null,\"4–5 Companies\",\"6+ Companies\",\"4–5 Companies\",null,\"First Job\",\"4–5 Companies\",null,\"6+ Companies\",\"2–3 Companies\",\"6+ Companies\",\"First Job\",null,\"6+ Companies\",\"2–3 Companies\",\"First Job\",\"First Job\",\"2–3 Companies\",\"6+ Companies\",\"First Job\",null,\"2–3 Companies\",\"6+ Companies\",null,\"4–5 Companies\",\"First Job\",null,\"First Job\",\"First Job\",null,\"4–5 Companies\",\"6+ Companies\",\"6+ Companies\",null,\"First Job\",null,\"First Job\",\"First Job\",\"2–3 Companies\",\"First Job\",\"2–3 Companies\",\"2–3 Companies\",\"2–3 Companies\",\"First Job\",\"6+ Companies\",\"2–3 Companies\",\"First Job\",null,\"2–3 Companies\",\"4–5 Companies\",\"First Job\",\"4–5 Companies\",\"4–5 Companies\",\"First Job\",\"First Job\",\"First Job\",\"2–3 Companies\",\"2–3 Companies\",\"2–3 Companies\",\"6+ Companies\",\"6+ Companies\",null,\"2–3 Companies\",\"2–3 Companies\",\"2–3 Companies\",\"First Job\",\"First Job\",null,null,\"6+ Companies\",\"4–5 Companies\",\"2–3 Companies\",\"4–5 Companies\",null,\"First Job\",\"6+ Companies\",\"2–3 Companies\",\"2–3 Companies\",\"2–3 Companies\",\"6+ Companies\",\"2–3 Companies\",\"4–5 Companies\",null,\"First Job\",\"4–5 Companies\",\"6+ Companies\",null,\"2–3 Companies\",\"2–3 Companies\",\"First Job\",\"4–5 Companies\",\"4–5 Companies\",\"2–3 Companies\",\"2–3 Companies\",\"First Job\",\"2–3 Companies\",\"6+ Companies\",\"4–5 Companies\",\"4–5 Companies\",\"2–3 Companies\",null,\"2–3 Companies\",\"4–5 Companies\",\"2–3 Companies\",\"2–3 Companies\",\"First Job\",null,\"2–3 Companies\",\"6+ Companies\",\"First Job\",\"6+ Companies\",\"First Job\",null,\"2–3 Companies\",\"6+ Companies\",\"First Job\",\"First Job\",\"4–5 Companies\",\"First Job\",null,null,\"6+ Companies\",\"2–3 Companies\",\"First Job\",null,\"4–5 Companies\",null,\"First Job\",\"2–3 Companies\",\"2–3 Companies\",\"2–3 Companies\",\"2–3 Companies\",\"4–5 Companies\",\"6+ Companies\",\"First Job\",null,\"First Job\",\"First Job\",null,\"4–5 Companies\",\"First Job\",\"2–3 Companies\",\"First Job\",\"4–5 Companies\",\"2–3 Companies\",null,\"First Job\",\"First Job\",null,\"2–3 Companies\",\"First Job\",null,\"2–3 Companies\",\"2–3 Companies\",\"6+ Companies\",\"6+ Companies\",\"2–3 Companies\",\"2–3 Companies\",\"First Job\",\"2–3 Companies\",\"4–5 Companies\",\"6+ Companies\",\"First Job\",\"First Job\",\"6+ Companies\",\"First Job\",null,\"2–3 Companies\",\"6+ Companies\",\"First Job\",\"2–3 Companies\",\"2–3 Companies\",\"First Job\",\"4–5 Companies\",\"2–3 Companies\",\"2–3 Companies\",\"6+ Companies\",\"First Job\",\"First Job\",\"First Job\",\"4–5 Companies\",\"First Job\",\"First Job\",\"First Job\",\"2–3 Companies\",\"2–3 Companies\",null,\"First Job\",\"First Job\",\"First Job\",\"6+ Companies\",\"6+ Companies\",\"First Job\",\"First Job\",\"2–3 Companies\",\"First Job\",\"First Job\",null,\"First Job\",\"2–3 Companies\",null,\"First Job\",\"First Job\",\"2–3 Companies\",null,\"First Job\",\"2–3 Companies\",\"First Job\",\"6+ Companies\",\"4–5 Companies\",\"2–3 Companies\",\"First Job\",\"6+ Companies\",\"2–3 Companies\",\"6+ Companies\",\"4–5 Companies\",\"First Job\",\"4–5 Companies\",\"2–3 Companies\",\"4–5 Companies\",\"First Job\",\"First Job\",\"2–3 Companies\",\"2–3 Companies\",null,\"6+ Companies\",\"2–3 Companies\",\"First Job\",\"6+ Companies\",\"First Job\",\"First Job\",null,\"First Job\",\"4–5 Companies\",\"First Job\",\"6+ Companies\",\"4–5 Companies\",\"2–3 Companies\",\"First Job\",\"First Job\",\"6+ Companies\",\"4–5 Companies\",\"6+ Companies\",\"2–3 Companies\",\"First Job\",\"4–5 Companies\",\"First Job\",\"2–3 Companies\",\"First Job\",\"First Job\",\"First Job\",\"First Job\",null,\"First Job\",\"First Job\",\"First Job\",\"6+ Companies\",\"2–3 Companies\",\"2–3 Companies\",\"First Job\",\"First Job\",\"6+ Companies\",\"First Job\",\"6+ Companies\",\"2–3 Companies\",\"First Job\",\"6+ Companies\",\"2–3 Companies\",\"First Job\",\"6+ Companies\",\"4–5 Companies\",\"First Job\",\"2–3 Companies\",\"First Job\",\"2–3 Companies\",\"First Job\",\"4–5 Companies\",null,null,\"First Job\",\"First Job\",\"6+ Companies\",\"2–3 Companies\",null,\"6+ Companies\",\"2–3 Companies\",\"4–5 Companies\",\"First Job\",\"2–3 Companies\",\"2–3 Companies\",\"2–3 Companies\",\"6+ Companies\",\"6+ Companies\",\"4–5 Companies\",\"First Job\",\"First Job\",\"4–5 Companies\",null,\"4–5 Companies\",\"First Job\",\"First Job\",\"2–3 Companies\",\"First Job\",\"6+ Companies\",\"6+ Companies\",\"2–3 Companies\",\"6+ Companies\",\"First Job\",\"6+ Companies\",\"6+ Companies\",\"4–5 Companies\",\"4–5 Companies\",\"2–3 Companies\",\"4–5 Companies\",\"2–3 Companies\",\"4–5 Companies\",\"2–3 Companies\",null,\"6+ Companies\",\"4–5 Companies\",\"First Job\",\"4–5 Companies\",null,\"6+ Companies\",\"2–3 Companies\",\"4–5 Companies\",\"2–3 Companies\",\"First Job\",\"2–3 Companies\",\"First Job\",\"2–3 Companies\",\"First Job\",\"4–5 Companies\",\"4–5 Companies\",\"First Job\",null,\"First Job\",\"6+ Companies\",\"2–3 Companies\",\"4–5 Companies\",\"2–3 Companies\",\"First Job\",\"6+ Companies\",\"4–5 Companies\",\"2–3 Companies\",\"First Job\",\"First Job\",\"6+ Companies\",\"4–5 Companies\",null,\"6+ Companies\",\"6+ Companies\",\"First Job\",\"First Job\",\"First Job\",\"2–3 Companies\",\"2–3 Companies\",\"4–5 Companies\",null,null,\"First Job\",\"2–3 Companies\",\"First Job\",null,\"2–3 Companies\",\"2–3 Companies\",\"2–3 Companies\",\"4–5 Companies\",\"6+ Companies\",\"2–3 Companies\",\"2–3 Companies\",\"6+ Companies\",null,\"4–5 Companies\",\"First Job\",\"First Job\",\"6+ Companies\",\"First Job\",\"First Job\",\"6+ Companies\",\"4–5 Companies\",\"First Job\",\"First Job\",\"4–5 Companies\",\"2–3 Companies\",\"2–3 Companies\",\"2–3 Companies\",null,\"First Job\",\"First Job\",\"First Job\",\"First Job\",\"First Job\",null,null,\"4–5 Companies\",\"First Job\",\"4–5 Companies\",\"First Job\",\"First Job\",\"6+ Companies\",\"2–3 Companies\",\"First Job\",\"First Job\",null,\"4–5 Companies\",\"First Job\",null,\"First Job\",\"4–5 Companies\",\"6+ Companies\",\"First Job\",\"First Job\",\"First Job\",\"2–3 Companies\",\"4–5 Companies\",\"First Job\",\"6+ Companies\",\"2–3 Companies\",\"First Job\",null,null,\"2–3 Companies\",\"6+ Companies\",\"2–3 Companies\",null,\"6+ Companies\",null,\"First Job\",null,\"First Job\",\"6+ Companies\",null,\"6+ Companies\",\"2–3 Companies\",\"First Job\",\"First Job\",null,\"2–3 Companies\",\"6+ Companies\",\"First Job\",\"2–3 Companies\",null,\"6+ Companies\",\"First Job\",\"4–5 Companies\",null,\"First Job\",\"First Job\",\"2–3 Companies\",\"First Job\",\"First Job\",\"First Job\",\"4–5 Companies\",\"6+ Companies\",\"2–3 Companies\",\"First Job\",\"2–3 Companies\",\"First Job\",\"4–5 Companies\",\"First Job\",null,null,null,\"4–5 Companies\",\"4–5 Companies\",\"First Job\",\"2–3 Companies\",\"2–3 Companies\"],\"xaxis\":\"x\",\"yaxis\":\"y\",\"type\":\"histogram\"}],                        {\"template\":{\"data\":{\"histogram2dcontour\":[{\"type\":\"histogram2dcontour\",\"colorbar\":{\"outlinewidth\":0,\"ticks\":\"\"},\"colorscale\":[[0.0,\"#0d0887\"],[0.1111111111111111,\"#46039f\"],[0.2222222222222222,\"#7201a8\"],[0.3333333333333333,\"#9c179e\"],[0.4444444444444444,\"#bd3786\"],[0.5555555555555556,\"#d8576b\"],[0.6666666666666666,\"#ed7953\"],[0.7777777777777778,\"#fb9f3a\"],[0.8888888888888888,\"#fdca26\"],[1.0,\"#f0f921\"]]}],\"choropleth\":[{\"type\":\"choropleth\",\"colorbar\":{\"outlinewidth\":0,\"ticks\":\"\"}}],\"histogram2d\":[{\"type\":\"histogram2d\",\"colorbar\":{\"outlinewidth\":0,\"ticks\":\"\"},\"colorscale\":[[0.0,\"#0d0887\"],[0.1111111111111111,\"#46039f\"],[0.2222222222222222,\"#7201a8\"],[0.3333333333333333,\"#9c179e\"],[0.4444444444444444,\"#bd3786\"],[0.5555555555555556,\"#d8576b\"],[0.6666666666666666,\"#ed7953\"],[0.7777777777777778,\"#fb9f3a\"],[0.8888888888888888,\"#fdca26\"],[1.0,\"#f0f921\"]]}],\"heatmap\":[{\"type\":\"heatmap\",\"colorbar\":{\"outlinewidth\":0,\"ticks\":\"\"},\"colorscale\":[[0.0,\"#0d0887\"],[0.1111111111111111,\"#46039f\"],[0.2222222222222222,\"#7201a8\"],[0.3333333333333333,\"#9c179e\"],[0.4444444444444444,\"#bd3786\"],[0.5555555555555556,\"#d8576b\"],[0.6666666666666666,\"#ed7953\"],[0.7777777777777778,\"#fb9f3a\"],[0.8888888888888888,\"#fdca26\"],[1.0,\"#f0f921\"]]}],\"heatmapgl\":[{\"type\":\"heatmapgl\",\"colorbar\":{\"outlinewidth\":0,\"ticks\":\"\"},\"colorscale\":[[0.0,\"#0d0887\"],[0.1111111111111111,\"#46039f\"],[0.2222222222222222,\"#7201a8\"],[0.3333333333333333,\"#9c179e\"],[0.4444444444444444,\"#bd3786\"],[0.5555555555555556,\"#d8576b\"],[0.6666666666666666,\"#ed7953\"],[0.7777777777777778,\"#fb9f3a\"],[0.8888888888888888,\"#fdca26\"],[1.0,\"#f0f921\"]]}],\"contourcarpet\":[{\"type\":\"contourcarpet\",\"colorbar\":{\"outlinewidth\":0,\"ticks\":\"\"}}],\"contour\":[{\"type\":\"contour\",\"colorbar\":{\"outlinewidth\":0,\"ticks\":\"\"},\"colorscale\":[[0.0,\"#0d0887\"],[0.1111111111111111,\"#46039f\"],[0.2222222222222222,\"#7201a8\"],[0.3333333333333333,\"#9c179e\"],[0.4444444444444444,\"#bd3786\"],[0.5555555555555556,\"#d8576b\"],[0.6666666666666666,\"#ed7953\"],[0.7777777777777778,\"#fb9f3a\"],[0.8888888888888888,\"#fdca26\"],[1.0,\"#f0f921\"]]}],\"surface\":[{\"type\":\"surface\",\"colorbar\":{\"outlinewidth\":0,\"ticks\":\"\"},\"colorscale\":[[0.0,\"#0d0887\"],[0.1111111111111111,\"#46039f\"],[0.2222222222222222,\"#7201a8\"],[0.3333333333333333,\"#9c179e\"],[0.4444444444444444,\"#bd3786\"],[0.5555555555555556,\"#d8576b\"],[0.6666666666666666,\"#ed7953\"],[0.7777777777777778,\"#fb9f3a\"],[0.8888888888888888,\"#fdca26\"],[1.0,\"#f0f921\"]]}],\"mesh3d\":[{\"type\":\"mesh3d\",\"colorbar\":{\"outlinewidth\":0,\"ticks\":\"\"}}],\"scatter\":[{\"fillpattern\":{\"fillmode\":\"overlay\",\"size\":10,\"solidity\":0.2},\"type\":\"scatter\"}],\"parcoords\":[{\"type\":\"parcoords\",\"line\":{\"colorbar\":{\"outlinewidth\":0,\"ticks\":\"\"}}}],\"scatterpolargl\":[{\"type\":\"scatterpolargl\",\"marker\":{\"colorbar\":{\"outlinewidth\":0,\"ticks\":\"\"}}}],\"bar\":[{\"error_x\":{\"color\":\"#2a3f5f\"},\"error_y\":{\"color\":\"#2a3f5f\"},\"marker\":{\"line\":{\"color\":\"#E5ECF6\",\"width\":0.5},\"pattern\":{\"fillmode\":\"overlay\",\"size\":10,\"solidity\":0.2}},\"type\":\"bar\"}],\"scattergeo\":[{\"type\":\"scattergeo\",\"marker\":{\"colorbar\":{\"outlinewidth\":0,\"ticks\":\"\"}}}],\"scatterpolar\":[{\"type\":\"scatterpolar\",\"marker\":{\"colorbar\":{\"outlinewidth\":0,\"ticks\":\"\"}}}],\"histogram\":[{\"marker\":{\"pattern\":{\"fillmode\":\"overlay\",\"size\":10,\"solidity\":0.2}},\"type\":\"histogram\"}],\"scattergl\":[{\"type\":\"scattergl\",\"marker\":{\"colorbar\":{\"outlinewidth\":0,\"ticks\":\"\"}}}],\"scatter3d\":[{\"type\":\"scatter3d\",\"line\":{\"colorbar\":{\"outlinewidth\":0,\"ticks\":\"\"}},\"marker\":{\"colorbar\":{\"outlinewidth\":0,\"ticks\":\"\"}}}],\"scattermapbox\":[{\"type\":\"scattermapbox\",\"marker\":{\"colorbar\":{\"outlinewidth\":0,\"ticks\":\"\"}}}],\"scatterternary\":[{\"type\":\"scatterternary\",\"marker\":{\"colorbar\":{\"outlinewidth\":0,\"ticks\":\"\"}}}],\"scattercarpet\":[{\"type\":\"scattercarpet\",\"marker\":{\"colorbar\":{\"outlinewidth\":0,\"ticks\":\"\"}}}],\"carpet\":[{\"aaxis\":{\"endlinecolor\":\"#2a3f5f\",\"gridcolor\":\"white\",\"linecolor\":\"white\",\"minorgridcolor\":\"white\",\"startlinecolor\":\"#2a3f5f\"},\"baxis\":{\"endlinecolor\":\"#2a3f5f\",\"gridcolor\":\"white\",\"linecolor\":\"white\",\"minorgridcolor\":\"white\",\"startlinecolor\":\"#2a3f5f\"},\"type\":\"carpet\"}],\"table\":[{\"cells\":{\"fill\":{\"color\":\"#EBF0F8\"},\"line\":{\"color\":\"white\"}},\"header\":{\"fill\":{\"color\":\"#C8D4E3\"},\"line\":{\"color\":\"white\"}},\"type\":\"table\"}],\"barpolar\":[{\"marker\":{\"line\":{\"color\":\"#E5ECF6\",\"width\":0.5},\"pattern\":{\"fillmode\":\"overlay\",\"size\":10,\"solidity\":0.2}},\"type\":\"barpolar\"}],\"pie\":[{\"automargin\":true,\"type\":\"pie\"}]},\"layout\":{\"autotypenumbers\":\"strict\",\"colorway\":[\"#636efa\",\"#EF553B\",\"#00cc96\",\"#ab63fa\",\"#FFA15A\",\"#19d3f3\",\"#FF6692\",\"#B6E880\",\"#FF97FF\",\"#FECB52\"],\"font\":{\"color\":\"#2a3f5f\"},\"hovermode\":\"closest\",\"hoverlabel\":{\"align\":\"left\"},\"paper_bgcolor\":\"white\",\"plot_bgcolor\":\"#E5ECF6\",\"polar\":{\"bgcolor\":\"#E5ECF6\",\"angularaxis\":{\"gridcolor\":\"white\",\"linecolor\":\"white\",\"ticks\":\"\"},\"radialaxis\":{\"gridcolor\":\"white\",\"linecolor\":\"white\",\"ticks\":\"\"}},\"ternary\":{\"bgcolor\":\"#E5ECF6\",\"aaxis\":{\"gridcolor\":\"white\",\"linecolor\":\"white\",\"ticks\":\"\"},\"baxis\":{\"gridcolor\":\"white\",\"linecolor\":\"white\",\"ticks\":\"\"},\"caxis\":{\"gridcolor\":\"white\",\"linecolor\":\"white\",\"ticks\":\"\"}},\"coloraxis\":{\"colorbar\":{\"outlinewidth\":0,\"ticks\":\"\"}},\"colorscale\":{\"sequential\":[[0.0,\"#0d0887\"],[0.1111111111111111,\"#46039f\"],[0.2222222222222222,\"#7201a8\"],[0.3333333333333333,\"#9c179e\"],[0.4444444444444444,\"#bd3786\"],[0.5555555555555556,\"#d8576b\"],[0.6666666666666666,\"#ed7953\"],[0.7777777777777778,\"#fb9f3a\"],[0.8888888888888888,\"#fdca26\"],[1.0,\"#f0f921\"]],\"sequentialminus\":[[0.0,\"#0d0887\"],[0.1111111111111111,\"#46039f\"],[0.2222222222222222,\"#7201a8\"],[0.3333333333333333,\"#9c179e\"],[0.4444444444444444,\"#bd3786\"],[0.5555555555555556,\"#d8576b\"],[0.6666666666666666,\"#ed7953\"],[0.7777777777777778,\"#fb9f3a\"],[0.8888888888888888,\"#fdca26\"],[1.0,\"#f0f921\"]],\"diverging\":[[0,\"#8e0152\"],[0.1,\"#c51b7d\"],[0.2,\"#de77ae\"],[0.3,\"#f1b6da\"],[0.4,\"#fde0ef\"],[0.5,\"#f7f7f7\"],[0.6,\"#e6f5d0\"],[0.7,\"#b8e186\"],[0.8,\"#7fbc41\"],[0.9,\"#4d9221\"],[1,\"#276419\"]]},\"xaxis\":{\"gridcolor\":\"white\",\"linecolor\":\"white\",\"ticks\":\"\",\"title\":{\"standoff\":15},\"zerolinecolor\":\"white\",\"automargin\":true,\"zerolinewidth\":2},\"yaxis\":{\"gridcolor\":\"white\",\"linecolor\":\"white\",\"ticks\":\"\",\"title\":{\"standoff\":15},\"zerolinecolor\":\"white\",\"automargin\":true,\"zerolinewidth\":2},\"scene\":{\"xaxis\":{\"backgroundcolor\":\"#E5ECF6\",\"gridcolor\":\"white\",\"linecolor\":\"white\",\"showbackground\":true,\"ticks\":\"\",\"zerolinecolor\":\"white\",\"gridwidth\":2},\"yaxis\":{\"backgroundcolor\":\"#E5ECF6\",\"gridcolor\":\"white\",\"linecolor\":\"white\",\"showbackground\":true,\"ticks\":\"\",\"zerolinecolor\":\"white\",\"gridwidth\":2},\"zaxis\":{\"backgroundcolor\":\"#E5ECF6\",\"gridcolor\":\"white\",\"linecolor\":\"white\",\"showbackground\":true,\"ticks\":\"\",\"zerolinecolor\":\"white\",\"gridwidth\":2}},\"shapedefaults\":{\"line\":{\"color\":\"#2a3f5f\"}},\"annotationdefaults\":{\"arrowcolor\":\"#2a3f5f\",\"arrowhead\":0,\"arrowwidth\":1},\"geo\":{\"bgcolor\":\"white\",\"landcolor\":\"#E5ECF6\",\"subunitcolor\":\"white\",\"showland\":true,\"showlakes\":true,\"lakecolor\":\"white\"},\"title\":{\"x\":0.05},\"mapbox\":{\"style\":\"light\"}}},\"xaxis\":{\"anchor\":\"y\",\"domain\":[0.0,1.0],\"title\":{\"text\":\"Previous Company Experience\"}},\"yaxis\":{\"anchor\":\"x\",\"domain\":[0.0,1.0],\"title\":{\"text\":\"count\"}},\"legend\":{\"title\":{\"text\":\"Attrition\"},\"tracegroupgap\":0},\"title\":{\"text\":\"Attrition by Company Experience\"},\"barmode\":\"group\"},                        {\"responsive\": true}                    ).then(function(){\n",
              "                            \n",
              "var gd = document.getElementById('27ccf5af-1109-4314-a058-8bc35c96ce01');\n",
              "var x = new MutationObserver(function (mutations, observer) {{\n",
              "        var display = window.getComputedStyle(gd).display;\n",
              "        if (!display || display === 'none') {{\n",
              "            console.log([gd, 'removed!']);\n",
              "            Plotly.purge(gd);\n",
              "            observer.disconnect();\n",
              "        }}\n",
              "}});\n",
              "\n",
              "// Listen for the removal of the full notebook cells\n",
              "var notebookContainer = gd.closest('#notebook-container');\n",
              "if (notebookContainer) {{\n",
              "    x.observe(notebookContainer, {childList: true});\n",
              "}}\n",
              "\n",
              "// Listen for the clearing of the current output cell\n",
              "var outputEl = gd.closest('.output');\n",
              "if (outputEl) {{\n",
              "    x.observe(outputEl, {childList: true});\n",
              "}}\n",
              "\n",
              "                        })                };                            </script>        </div>\n",
              "</body>\n",
              "</html>"
            ]
          },
          "metadata": {}
        }
      ]
    },
    {
      "cell_type": "markdown",
      "source": [
        "**Insight:** Fresher employees have high attrition"
      ],
      "metadata": {
        "id": "Zxt4w7qO6g0A"
      }
    },
    {
      "cell_type": "code",
      "source": [
        "fig = px.histogram(df, x=\"YearsInCurrentRole\", color=\"Attrition\", nbins=10,\n",
        "                   title=\"Attrition by Years in Current Role\", color_discrete_map={'Yes':'green','No':'darkblue'})\n",
        "fig.show()"
      ],
      "metadata": {
        "colab": {
          "base_uri": "https://localhost:8080/",
          "height": 542
        },
        "id": "lyvbkTPh5D8z",
        "outputId": "3988259c-77de-4929-b71e-3a45609d24a8"
      },
      "execution_count": null,
      "outputs": [
        {
          "output_type": "display_data",
          "data": {
            "text/html": [
              "<html>\n",
              "<head><meta charset=\"utf-8\" /></head>\n",
              "<body>\n",
              "    <div>            <script src=\"https://cdnjs.cloudflare.com/ajax/libs/mathjax/2.7.5/MathJax.js?config=TeX-AMS-MML_SVG\"></script><script type=\"text/javascript\">if (window.MathJax && window.MathJax.Hub && window.MathJax.Hub.Config) {window.MathJax.Hub.Config({SVG: {font: \"STIX-Web\"}});}</script>                <script type=\"text/javascript\">window.PlotlyConfig = {MathJaxConfig: 'local'};</script>\n",
              "        <script charset=\"utf-8\" src=\"https://cdn.plot.ly/plotly-2.35.2.min.js\"></script>                <div id=\"d7529712-c139-4d17-9938-6ac11543c3ba\" class=\"plotly-graph-div\" style=\"height:525px; width:100%;\"></div>            <script type=\"text/javascript\">                                    window.PLOTLYENV=window.PLOTLYENV || {};                                    if (document.getElementById(\"d7529712-c139-4d17-9938-6ac11543c3ba\")) {                    Plotly.newPlot(                        \"d7529712-c139-4d17-9938-6ac11543c3ba\",                        [{\"alignmentgroup\":\"True\",\"bingroup\":\"x\",\"hovertemplate\":\"Attrition=Yes\\u003cbr\\u003eYearsInCurrentRole=%{x}\\u003cbr\\u003ecount=%{y}\\u003cextra\\u003e\\u003c\\u002fextra\\u003e\",\"legendgroup\":\"Yes\",\"marker\":{\"color\":\"green\",\"pattern\":{\"shape\":\"\"}},\"name\":\"Yes\",\"nbinsx\":10,\"offsetgroup\":\"Yes\",\"orientation\":\"v\",\"showlegend\":true,\"x\":[4,0,2,3,2,2,0,0,2,0,15,0,2,0,8,2,0,4,7,4,7,10,0,2,2,4,0,0,3,0,0,4,8,2,3,2,3,4,7,2,0,4,0,7,0,2,7,0,2,2,0,7,2,0,7,4,0,2,4,0,2,3,2,2,0,6,3,0,2,2,7,0,0,2,3,0,1,3,1,0,8,2,3,7,2,9,4,2,3,0,0,2,15,2,8,7,7,2,2,0,0,2,0,2,7,2,0,0,0,7,1,0,0,2,0,2,2,0,2,0,2,14,13,0,2,2,0,0,7,6,7,7,7,1,2,0,0,7,0,2,2,8,9,1,3,4,0,0,0,1,0,10,2,7,7,4,2,4,7,2,2,9,7,0,2,2,2,3,7,0,0,2,7,0,8,2,2,2,3,9,0,0,7,4,2,8,0,7,2,1,0,12,2,2,9,4,7,0,2,0,5,2,0,2,2,0,0,0,0,0,3,7,1,3,1,7,0,2,2,0,7,0,0,2,2,0,0,1,0,1,7,2,0,2,9,3,2],\"xaxis\":\"x\",\"yaxis\":\"y\",\"type\":\"histogram\"},{\"alignmentgroup\":\"True\",\"bingroup\":\"x\",\"hovertemplate\":\"Attrition=No\\u003cbr\\u003eYearsInCurrentRole=%{x}\\u003cbr\\u003ecount=%{y}\\u003cextra\\u003e\\u003c\\u002fextra\\u003e\",\"legendgroup\":\"No\",\"marker\":{\"color\":\"darkblue\",\"pattern\":{\"shape\":\"\"}},\"name\":\"No\",\"nbinsx\":10,\"offsetgroup\":\"No\",\"orientation\":\"v\",\"showlegend\":true,\"x\":[7,7,2,7,0,0,7,7,4,5,2,2,9,2,0,8,2,2,6,0,13,7,6,2,1,2,0,3,2,1,3,0,0,8,8,5,0,6,0,3,0,2,14,8,2,7,5,8,3,3,16,14,0,5,0,2,3,4,1,4,0,7,13,0,2,2,8,4,0,11,2,4,0,2,10,3,7,8,9,8,3,2,4,10,2,0,13,0,2,3,2,0,12,3,3,0,3,10,7,0,12,7,7,18,4,1,11,2,2,7,7,2,11,2,9,5,2,4,7,2,3,6,0,0,7,8,7,9,8,7,0,0,11,3,2,2,2,3,1,4,8,9,3,4,2,7,9,4,2,1,13,2,2,2,2,2,7,8,15,9,7,18,7,4,8,7,2,3,0,7,2,7,3,2,2,1,2,2,8,7,9,0,7,2,11,2,8,10,4,0,8,10,7,2,17,2,0,13,7,3,2,2,0,8,0,2,2,9,1,2,6,5,2,2,2,6,7,0,1,7,2,7,0,0,3,7,13,10,2,4,2,2,7,0,5,4,3,16,7,7,3,12,2,3,2,0,2,2,4,9,0,1,10,0,3,7,10,8,8,8,3,2,2,9,2,6,9,7,1,3,12,4,7,7,8,9,9,7,2,7,4,3,0,9,3,2,9,7,2,10,9,7,6,2,4,0,0,3,2,0,0,7,2,7,0,0,9,2,7,2,4,0,3,2,2,1,2,5,2,7,2,4,2,0,1,9,7,4,2,0,10,0,2,2,10,2,2,4,11,2,8,7,4,7,0,4,2,2,4,4,8,7,5,0,15,2,3,2,8,0,10,7,13,0,2,4,0,3,2,8,2,7,2,3,7,9,3,9,6,3,5,9,7,2,1,4,0,7,0,4,7,5,2,16,5,9,2,0,5,9,5,3,0,5,4,5,2,7,3,0,0,2,0,0,7,2,2,2,2,2,2,0,4,0,7,9,2,7,0,11,11,7,2,2,0,2,2,7,7,2,5,0,8,7,7,7,7,7,7,7,13,1,6,2,7,7,2,7,0,2,2,7,0,2,1,3,3,7,2,6,2,2,0,8,0,0,6,5,7,2,5,7,3,2,7,2,3,2,3,7,5,2,2,7,2,7,0,2,3,9,14,7,7,2,3,2,13,0,0,0,8,3,2,1,8,5,7,2,0,6,2,3,8,5,14,2,4,2,4,3,8,0,1,2,2,1,4,3,14,0,2,2,2,8,2,3,4,0,10,4,9,2,6,0,6,4,3,3,7,2,0,8,2,2,1,0,4,2,0,7,6,9,0,8,2,12,0,0,7,13,8,7,1,7,0,7,1,2,8,13,4,3,9,7,10,7,8,2,3,4,5,16,2,8,0,11,1,7,2,3,0,7,10,7,7,3,2,11,2,6,2,2,0,0,3,7,16,0,11,7,6,2,3,7,1,4,3,7,1,0,2,1,3,7,3,2,4,4,8,7,0,13,3,2,6,9,10,2,2,7,2,2,2,0,6,2,0,4,10,6,7,5,7,9,0,7,7,2,4,9,2,3,2,8,2,5,0,7,6,1,0,2,2,5,4,7,4,0,3,7,3,1,7,9,2,0,2,8,1,2,8,2,7,4,15,0,4,3,0,2,5,2,7,7,7,7,11,1,3,3,7,2,7,7,10,1,3,9,0,2,7,4,5,2,9,5,9,1,7,0,10,0,3,0,0,7,0,9,8,0,0,5,9,4,2,10,7,8,2,9,9,2,0,7,14,2,0,4,2,2,7,0,9,2,2,7,6,8,2,1,7,8,2,8,9,3,2,7,8,3,6,9,7,8,2,2,7,9,0,2,0,7,2,16,4,11,7,2,11,3,4,2,2,4,4,2,4,2,3,7,2,3,7,4,2,2,2,7,9,7,8,7,4,2,2,3,0,4,2,5,5,2,17,4,3,4,2,7,7,7,2,1,2,8,4,2,8,2,1,2,3,9,1,9,0,0,9,7,8,0,0,2,7,3,2,4,4,0,2,2,2,6,0,2,9,6,0,12,8,3,9,6,10,0,8,7,3,4,8,4,14,7,1,2,8,3,1,2,7,0,2,3,0,2,5,2,0,6,2,0,8,2,0,9,2,6,4,0,2,2,0,9,2,4,4,0,0,2,8,2,7,4,7,7,2,2,7,6,7,7,15,3,2,2,8,15,11,3,2,7,4,4,2,7,2,3,2,2,2,2,7,4,2,11,2,8,3,11,2,4,8,10,11,0,2,5,0,2,3,2,7,0,2,5,2,2,0,3,7,2,10,0,11,3,9,7,4,9,3,8,3,7,15,2,6,2,2,2,0,2,7,7,0,0,6,2,4,8,3,8,0,7,2,2,2,2,7,0,7,1,1,0,0,7,0,3,0,8,3,14,2,7,2,4,7,2,2,1,8,0,8,3,3,2,3,0,7,10,1,2,2,14,7,3,8,9,4,11,4,1,2,2,2,3,2,0,7,0,7,4,8,0,3,2,8,2,0,0,17,8,0,12,10,6,2,2,0,9,8,3,2,3,2,8,1,7,0,7,17,0,2,4,7,2,2,2,7,2,4,7,2,3,10,7,0,0,11,0,2,4,0,3,3,2,4,8,7,7,3,1,8,0,8,7,0,3,7,9,2,9,0,8,9,7,2,3,2,9,8,0,8,2,14,1,13,2,3,3,3,8,2,2,7,7,2,0,2,7,16,10,11,3,8,3,2,0,7,2,12,6,7,7,12,4,2,0,7,3,3,2,2,3,3,3,4,9,4,2,2,7,2,6,3],\"xaxis\":\"x\",\"yaxis\":\"y\",\"type\":\"histogram\"}],                        {\"template\":{\"data\":{\"histogram2dcontour\":[{\"type\":\"histogram2dcontour\",\"colorbar\":{\"outlinewidth\":0,\"ticks\":\"\"},\"colorscale\":[[0.0,\"#0d0887\"],[0.1111111111111111,\"#46039f\"],[0.2222222222222222,\"#7201a8\"],[0.3333333333333333,\"#9c179e\"],[0.4444444444444444,\"#bd3786\"],[0.5555555555555556,\"#d8576b\"],[0.6666666666666666,\"#ed7953\"],[0.7777777777777778,\"#fb9f3a\"],[0.8888888888888888,\"#fdca26\"],[1.0,\"#f0f921\"]]}],\"choropleth\":[{\"type\":\"choropleth\",\"colorbar\":{\"outlinewidth\":0,\"ticks\":\"\"}}],\"histogram2d\":[{\"type\":\"histogram2d\",\"colorbar\":{\"outlinewidth\":0,\"ticks\":\"\"},\"colorscale\":[[0.0,\"#0d0887\"],[0.1111111111111111,\"#46039f\"],[0.2222222222222222,\"#7201a8\"],[0.3333333333333333,\"#9c179e\"],[0.4444444444444444,\"#bd3786\"],[0.5555555555555556,\"#d8576b\"],[0.6666666666666666,\"#ed7953\"],[0.7777777777777778,\"#fb9f3a\"],[0.8888888888888888,\"#fdca26\"],[1.0,\"#f0f921\"]]}],\"heatmap\":[{\"type\":\"heatmap\",\"colorbar\":{\"outlinewidth\":0,\"ticks\":\"\"},\"colorscale\":[[0.0,\"#0d0887\"],[0.1111111111111111,\"#46039f\"],[0.2222222222222222,\"#7201a8\"],[0.3333333333333333,\"#9c179e\"],[0.4444444444444444,\"#bd3786\"],[0.5555555555555556,\"#d8576b\"],[0.6666666666666666,\"#ed7953\"],[0.7777777777777778,\"#fb9f3a\"],[0.8888888888888888,\"#fdca26\"],[1.0,\"#f0f921\"]]}],\"heatmapgl\":[{\"type\":\"heatmapgl\",\"colorbar\":{\"outlinewidth\":0,\"ticks\":\"\"},\"colorscale\":[[0.0,\"#0d0887\"],[0.1111111111111111,\"#46039f\"],[0.2222222222222222,\"#7201a8\"],[0.3333333333333333,\"#9c179e\"],[0.4444444444444444,\"#bd3786\"],[0.5555555555555556,\"#d8576b\"],[0.6666666666666666,\"#ed7953\"],[0.7777777777777778,\"#fb9f3a\"],[0.8888888888888888,\"#fdca26\"],[1.0,\"#f0f921\"]]}],\"contourcarpet\":[{\"type\":\"contourcarpet\",\"colorbar\":{\"outlinewidth\":0,\"ticks\":\"\"}}],\"contour\":[{\"type\":\"contour\",\"colorbar\":{\"outlinewidth\":0,\"ticks\":\"\"},\"colorscale\":[[0.0,\"#0d0887\"],[0.1111111111111111,\"#46039f\"],[0.2222222222222222,\"#7201a8\"],[0.3333333333333333,\"#9c179e\"],[0.4444444444444444,\"#bd3786\"],[0.5555555555555556,\"#d8576b\"],[0.6666666666666666,\"#ed7953\"],[0.7777777777777778,\"#fb9f3a\"],[0.8888888888888888,\"#fdca26\"],[1.0,\"#f0f921\"]]}],\"surface\":[{\"type\":\"surface\",\"colorbar\":{\"outlinewidth\":0,\"ticks\":\"\"},\"colorscale\":[[0.0,\"#0d0887\"],[0.1111111111111111,\"#46039f\"],[0.2222222222222222,\"#7201a8\"],[0.3333333333333333,\"#9c179e\"],[0.4444444444444444,\"#bd3786\"],[0.5555555555555556,\"#d8576b\"],[0.6666666666666666,\"#ed7953\"],[0.7777777777777778,\"#fb9f3a\"],[0.8888888888888888,\"#fdca26\"],[1.0,\"#f0f921\"]]}],\"mesh3d\":[{\"type\":\"mesh3d\",\"colorbar\":{\"outlinewidth\":0,\"ticks\":\"\"}}],\"scatter\":[{\"fillpattern\":{\"fillmode\":\"overlay\",\"size\":10,\"solidity\":0.2},\"type\":\"scatter\"}],\"parcoords\":[{\"type\":\"parcoords\",\"line\":{\"colorbar\":{\"outlinewidth\":0,\"ticks\":\"\"}}}],\"scatterpolargl\":[{\"type\":\"scatterpolargl\",\"marker\":{\"colorbar\":{\"outlinewidth\":0,\"ticks\":\"\"}}}],\"bar\":[{\"error_x\":{\"color\":\"#2a3f5f\"},\"error_y\":{\"color\":\"#2a3f5f\"},\"marker\":{\"line\":{\"color\":\"#E5ECF6\",\"width\":0.5},\"pattern\":{\"fillmode\":\"overlay\",\"size\":10,\"solidity\":0.2}},\"type\":\"bar\"}],\"scattergeo\":[{\"type\":\"scattergeo\",\"marker\":{\"colorbar\":{\"outlinewidth\":0,\"ticks\":\"\"}}}],\"scatterpolar\":[{\"type\":\"scatterpolar\",\"marker\":{\"colorbar\":{\"outlinewidth\":0,\"ticks\":\"\"}}}],\"histogram\":[{\"marker\":{\"pattern\":{\"fillmode\":\"overlay\",\"size\":10,\"solidity\":0.2}},\"type\":\"histogram\"}],\"scattergl\":[{\"type\":\"scattergl\",\"marker\":{\"colorbar\":{\"outlinewidth\":0,\"ticks\":\"\"}}}],\"scatter3d\":[{\"type\":\"scatter3d\",\"line\":{\"colorbar\":{\"outlinewidth\":0,\"ticks\":\"\"}},\"marker\":{\"colorbar\":{\"outlinewidth\":0,\"ticks\":\"\"}}}],\"scattermapbox\":[{\"type\":\"scattermapbox\",\"marker\":{\"colorbar\":{\"outlinewidth\":0,\"ticks\":\"\"}}}],\"scatterternary\":[{\"type\":\"scatterternary\",\"marker\":{\"colorbar\":{\"outlinewidth\":0,\"ticks\":\"\"}}}],\"scattercarpet\":[{\"type\":\"scattercarpet\",\"marker\":{\"colorbar\":{\"outlinewidth\":0,\"ticks\":\"\"}}}],\"carpet\":[{\"aaxis\":{\"endlinecolor\":\"#2a3f5f\",\"gridcolor\":\"white\",\"linecolor\":\"white\",\"minorgridcolor\":\"white\",\"startlinecolor\":\"#2a3f5f\"},\"baxis\":{\"endlinecolor\":\"#2a3f5f\",\"gridcolor\":\"white\",\"linecolor\":\"white\",\"minorgridcolor\":\"white\",\"startlinecolor\":\"#2a3f5f\"},\"type\":\"carpet\"}],\"table\":[{\"cells\":{\"fill\":{\"color\":\"#EBF0F8\"},\"line\":{\"color\":\"white\"}},\"header\":{\"fill\":{\"color\":\"#C8D4E3\"},\"line\":{\"color\":\"white\"}},\"type\":\"table\"}],\"barpolar\":[{\"marker\":{\"line\":{\"color\":\"#E5ECF6\",\"width\":0.5},\"pattern\":{\"fillmode\":\"overlay\",\"size\":10,\"solidity\":0.2}},\"type\":\"barpolar\"}],\"pie\":[{\"automargin\":true,\"type\":\"pie\"}]},\"layout\":{\"autotypenumbers\":\"strict\",\"colorway\":[\"#636efa\",\"#EF553B\",\"#00cc96\",\"#ab63fa\",\"#FFA15A\",\"#19d3f3\",\"#FF6692\",\"#B6E880\",\"#FF97FF\",\"#FECB52\"],\"font\":{\"color\":\"#2a3f5f\"},\"hovermode\":\"closest\",\"hoverlabel\":{\"align\":\"left\"},\"paper_bgcolor\":\"white\",\"plot_bgcolor\":\"#E5ECF6\",\"polar\":{\"bgcolor\":\"#E5ECF6\",\"angularaxis\":{\"gridcolor\":\"white\",\"linecolor\":\"white\",\"ticks\":\"\"},\"radialaxis\":{\"gridcolor\":\"white\",\"linecolor\":\"white\",\"ticks\":\"\"}},\"ternary\":{\"bgcolor\":\"#E5ECF6\",\"aaxis\":{\"gridcolor\":\"white\",\"linecolor\":\"white\",\"ticks\":\"\"},\"baxis\":{\"gridcolor\":\"white\",\"linecolor\":\"white\",\"ticks\":\"\"},\"caxis\":{\"gridcolor\":\"white\",\"linecolor\":\"white\",\"ticks\":\"\"}},\"coloraxis\":{\"colorbar\":{\"outlinewidth\":0,\"ticks\":\"\"}},\"colorscale\":{\"sequential\":[[0.0,\"#0d0887\"],[0.1111111111111111,\"#46039f\"],[0.2222222222222222,\"#7201a8\"],[0.3333333333333333,\"#9c179e\"],[0.4444444444444444,\"#bd3786\"],[0.5555555555555556,\"#d8576b\"],[0.6666666666666666,\"#ed7953\"],[0.7777777777777778,\"#fb9f3a\"],[0.8888888888888888,\"#fdca26\"],[1.0,\"#f0f921\"]],\"sequentialminus\":[[0.0,\"#0d0887\"],[0.1111111111111111,\"#46039f\"],[0.2222222222222222,\"#7201a8\"],[0.3333333333333333,\"#9c179e\"],[0.4444444444444444,\"#bd3786\"],[0.5555555555555556,\"#d8576b\"],[0.6666666666666666,\"#ed7953\"],[0.7777777777777778,\"#fb9f3a\"],[0.8888888888888888,\"#fdca26\"],[1.0,\"#f0f921\"]],\"diverging\":[[0,\"#8e0152\"],[0.1,\"#c51b7d\"],[0.2,\"#de77ae\"],[0.3,\"#f1b6da\"],[0.4,\"#fde0ef\"],[0.5,\"#f7f7f7\"],[0.6,\"#e6f5d0\"],[0.7,\"#b8e186\"],[0.8,\"#7fbc41\"],[0.9,\"#4d9221\"],[1,\"#276419\"]]},\"xaxis\":{\"gridcolor\":\"white\",\"linecolor\":\"white\",\"ticks\":\"\",\"title\":{\"standoff\":15},\"zerolinecolor\":\"white\",\"automargin\":true,\"zerolinewidth\":2},\"yaxis\":{\"gridcolor\":\"white\",\"linecolor\":\"white\",\"ticks\":\"\",\"title\":{\"standoff\":15},\"zerolinecolor\":\"white\",\"automargin\":true,\"zerolinewidth\":2},\"scene\":{\"xaxis\":{\"backgroundcolor\":\"#E5ECF6\",\"gridcolor\":\"white\",\"linecolor\":\"white\",\"showbackground\":true,\"ticks\":\"\",\"zerolinecolor\":\"white\",\"gridwidth\":2},\"yaxis\":{\"backgroundcolor\":\"#E5ECF6\",\"gridcolor\":\"white\",\"linecolor\":\"white\",\"showbackground\":true,\"ticks\":\"\",\"zerolinecolor\":\"white\",\"gridwidth\":2},\"zaxis\":{\"backgroundcolor\":\"#E5ECF6\",\"gridcolor\":\"white\",\"linecolor\":\"white\",\"showbackground\":true,\"ticks\":\"\",\"zerolinecolor\":\"white\",\"gridwidth\":2}},\"shapedefaults\":{\"line\":{\"color\":\"#2a3f5f\"}},\"annotationdefaults\":{\"arrowcolor\":\"#2a3f5f\",\"arrowhead\":0,\"arrowwidth\":1},\"geo\":{\"bgcolor\":\"white\",\"landcolor\":\"#E5ECF6\",\"subunitcolor\":\"white\",\"showland\":true,\"showlakes\":true,\"lakecolor\":\"white\"},\"title\":{\"x\":0.05},\"mapbox\":{\"style\":\"light\"}}},\"xaxis\":{\"anchor\":\"y\",\"domain\":[0.0,1.0],\"title\":{\"text\":\"YearsInCurrentRole\"}},\"yaxis\":{\"anchor\":\"x\",\"domain\":[0.0,1.0],\"title\":{\"text\":\"count\"}},\"legend\":{\"title\":{\"text\":\"Attrition\"},\"tracegroupgap\":0},\"title\":{\"text\":\"Attrition by Years in Current Role\"},\"barmode\":\"relative\"},                        {\"responsive\": true}                    ).then(function(){\n",
              "                            \n",
              "var gd = document.getElementById('d7529712-c139-4d17-9938-6ac11543c3ba');\n",
              "var x = new MutationObserver(function (mutations, observer) {{\n",
              "        var display = window.getComputedStyle(gd).display;\n",
              "        if (!display || display === 'none') {{\n",
              "            console.log([gd, 'removed!']);\n",
              "            Plotly.purge(gd);\n",
              "            observer.disconnect();\n",
              "        }}\n",
              "}});\n",
              "\n",
              "// Listen for the removal of the full notebook cells\n",
              "var notebookContainer = gd.closest('#notebook-container');\n",
              "if (notebookContainer) {{\n",
              "    x.observe(notebookContainer, {childList: true});\n",
              "}}\n",
              "\n",
              "// Listen for the clearing of the current output cell\n",
              "var outputEl = gd.closest('.output');\n",
              "if (outputEl) {{\n",
              "    x.observe(outputEl, {childList: true});\n",
              "}}\n",
              "\n",
              "                        })                };                            </script>        </div>\n",
              "</body>\n",
              "</html>"
            ]
          },
          "metadata": {}
        }
      ]
    },
    {
      "cell_type": "markdown",
      "source": [
        "**Insight:** Employees who spent **2-3 years in current role** are more likely to retention than attrition."
      ],
      "metadata": {
        "id": "Zy-Ojzc_5_Hp"
      }
    },
    {
      "cell_type": "code",
      "source": [
        "fig = px.histogram(df, x=\"YearsSinceLastPromotion\", color=\"Attrition\", nbins=10,\n",
        "                   title=\"Attrition by Years Since Last Promotion\", color_discrete_map={'Yes':'green','No':'darkblue'})\n",
        "fig.show()"
      ],
      "metadata": {
        "colab": {
          "base_uri": "https://localhost:8080/",
          "height": 542
        },
        "id": "0p0RZVDJ6uCn",
        "outputId": "6519acc5-e840-4512-ff49-2bb106e269e9"
      },
      "execution_count": null,
      "outputs": [
        {
          "output_type": "display_data",
          "data": {
            "text/html": [
              "<html>\n",
              "<head><meta charset=\"utf-8\" /></head>\n",
              "<body>\n",
              "    <div>            <script src=\"https://cdnjs.cloudflare.com/ajax/libs/mathjax/2.7.5/MathJax.js?config=TeX-AMS-MML_SVG\"></script><script type=\"text/javascript\">if (window.MathJax && window.MathJax.Hub && window.MathJax.Hub.Config) {window.MathJax.Hub.Config({SVG: {font: \"STIX-Web\"}});}</script>                <script type=\"text/javascript\">window.PlotlyConfig = {MathJaxConfig: 'local'};</script>\n",
              "        <script charset=\"utf-8\" src=\"https://cdn.plot.ly/plotly-2.35.2.min.js\"></script>                <div id=\"4634b5f8-2d01-4fbb-aead-48d5f3380c89\" class=\"plotly-graph-div\" style=\"height:525px; width:100%;\"></div>            <script type=\"text/javascript\">                                    window.PLOTLYENV=window.PLOTLYENV || {};                                    if (document.getElementById(\"4634b5f8-2d01-4fbb-aead-48d5f3380c89\")) {                    Plotly.newPlot(                        \"4634b5f8-2d01-4fbb-aead-48d5f3380c89\",                        [{\"alignmentgroup\":\"True\",\"bingroup\":\"x\",\"hovertemplate\":\"Attrition=Yes\\u003cbr\\u003eYearsSinceLastPromotion=%{x}\\u003cbr\\u003ecount=%{y}\\u003cextra\\u003e\\u003c\\u002fextra\\u003e\",\"legendgroup\":\"Yes\",\"marker\":{\"color\":\"green\",\"pattern\":{\"shape\":\"\"}},\"name\":\"Yes\",\"nbinsx\":10,\"offsetgroup\":\"Yes\",\"orientation\":\"v\",\"showlegend\":true,\"x\":[0,0,0,0,1,6,0,2,0,0,15,0,2,0,4,0,1,0,0,4,7,15,0,2,0,0,0,1,0,0,0,1,9,0,0,1,0,0,1,1,0,1,0,9,0,0,7,0,7,2,0,0,1,0,7,1,0,0,0,0,0,1,1,1,0,7,1,0,0,1,1,0,0,1,1,0,1,0,0,1,9,2,1,3,2,7,1,1,1,0,0,0,13,2,7,7,1,7,0,0,0,0,0,0,1,2,0,0,0,3,11,0,0,1,0,0,0,0,1,0,2,6,15,0,1,0,1,2,1,3,4,3,5,0,2,0,0,11,0,0,2,3,13,0,1,0,0,0,0,0,1,1,2,0,7,1,0,1,7,2,1,5,3,0,3,6,7,1,7,0,0,2,4,0,4,2,2,1,0,10,0,0,0,1,7,6,0,1,1,0,0,6,2,0,6,1,7,0,0,0,14,2,0,1,2,0,0,0,1,0,2,7,0,0,1,3,0,2,2,1,0,0,0,3,1,0,2,0,0,0,0,2,1,2,9,0,2],\"xaxis\":\"x\",\"yaxis\":\"y\",\"type\":\"histogram\"},{\"alignmentgroup\":\"True\",\"bingroup\":\"x\",\"hovertemplate\":\"Attrition=No\\u003cbr\\u003eYearsSinceLastPromotion=%{x}\\u003cbr\\u003ecount=%{y}\\u003cextra\\u003e\\u003c\\u002fextra\\u003e\",\"legendgroup\":\"No\",\"marker\":{\"color\":\"darkblue\",\"pattern\":{\"shape\":\"\"}},\"name\":\"No\",\"nbinsx\":10,\"offsetgroup\":\"No\",\"orientation\":\"v\",\"showlegend\":true,\"x\":[1,3,2,3,0,0,1,7,0,0,4,1,8,0,0,3,1,1,2,0,4,4,5,2,0,1,1,1,2,0,1,0,0,1,3,8,0,0,0,1,2,0,8,1,2,1,0,7,9,13,7,12,0,0,0,1,1,0,1,0,0,1,2,0,0,0,3,0,1,1,1,0,0,0,10,11,1,2,9,5,0,0,0,1,1,0,2,0,2,0,2,0,12,4,1,0,1,5,2,0,4,0,0,15,4,2,5,1,2,0,5,0,5,2,4,0,2,0,0,2,1,7,1,0,2,0,4,0,3,0,0,0,2,1,2,2,0,1,0,4,1,7,0,1,1,7,6,0,2,0,15,2,0,1,0,1,1,9,2,1,1,11,0,2,11,1,1,0,0,1,2,1,2,3,2,1,0,0,5,0,4,0,12,0,3,1,0,5,1,0,5,4,0,2,11,2,0,1,15,1,1,2,0,4,1,2,0,5,0,0,11,1,0,0,1,7,3,0,0,7,0,7,0,7,1,4,10,4,0,0,1,0,6,7,1,1,1,11,0,0,3,5,1,0,1,7,2,1,4,6,0,1,0,0,0,7,3,0,4,0,1,0,1,9,2,8,11,1,0,1,11,0,1,0,1,8,13,0,1,0,1,0,0,9,0,2,1,0,0,2,4,1,0,0,1,0,0,0,1,0,0,6,2,7,0,0,1,1,1,2,0,0,1,2,1,0,0,0,0,0,2,1,0,0,1,9,12,1,1,0,3,0,1,1,3,1,0,1,10,3,1,7,4,0,1,0,0,1,0,0,11,0,0,0,1,0,1,0,7,0,15,6,13,0,0,4,0,5,1,0,1,0,2,9,6,7,1,6,5,0,0,5,3,1,0,0,0,0,0,0,5,1,1,11,7,6,2,0,4,0,1,1,0,10,0,1,0,5,0,1,0,2,0,0,4,0,0,0,1,0,2,1,0,0,8,8,0,7,1,11,4,7,0,1,0,0,1,0,2,2,0,0,3,7,11,0,1,0,7,1,1,1,12,2,1,2,2,0,0,1,11,7,0,2,4,0,3,1,2,0,2,2,0,4,0,0,1,1,3,0,1,0,1,2,1,1,1,1,4,4,1,0,0,3,1,14,0,1,0,3,3,0,0,2,0,0,6,0,0,0,7,1,1,1,0,1,7,0,0,4,2,0,0,1,4,0,0,0,0,1,0,0,0,2,0,2,0,0,5,0,0,0,3,5,1,1,0,2,4,0,3,2,7,0,14,0,0,0,7,0,0,4,1,2,0,1,0,0,0,5,0,1,0,0,0,5,0,0,0,2,3,8,0,6,1,0,0,1,7,15,7,1,0,0,2,0,6,0,0,1,1,0,2,0,0,1,0,0,3,0,0,0,10,1,1,1,2,4,2,11,2,1,0,0,4,6,5,0,11,0,2,2,1,7,0,0,0,6,0,0,2,7,0,7,1,2,7,0,7,6,0,1,1,0,0,1,11,1,1,1,1,2,0,0,13,0,0,2,4,4,2,1,1,4,0,0,4,2,0,0,2,0,0,2,0,1,0,1,5,0,0,1,2,1,1,2,1,1,1,0,1,0,6,4,2,0,4,0,0,0,3,1,4,1,15,0,1,0,0,2,3,0,1,0,1,8,13,2,1,0,1,2,0,7,4,1,1,5,0,4,6,1,7,1,0,0,1,0,0,0,0,0,0,1,0,1,0,3,0,0,0,2,15,0,0,11,5,5,0,14,1,2,0,15,5,2,7,1,1,2,0,0,15,2,6,1,5,7,1,0,1,9,11,2,9,7,0,1,8,1,1,0,1,9,1,0,6,0,0,0,0,0,0,15,0,11,7,0,4,0,1,3,3,1,1,1,0,1,0,1,4,1,0,0,0,2,0,0,0,12,1,0,0,0,1,1,1,1,0,1,1,1,5,0,0,0,0,0,9,0,0,1,2,4,1,0,8,1,1,1,0,3,2,5,0,0,2,0,6,0,0,2,0,1,1,0,1,0,1,1,0,1,0,0,1,14,2,5,3,1,8,13,5,0,3,0,0,0,13,7,5,7,0,2,7,4,2,1,7,0,2,1,1,1,1,7,0,2,2,0,7,1,0,1,0,7,1,0,2,0,0,6,7,1,0,0,0,1,12,0,1,1,1,4,0,1,7,1,7,0,1,0,2,1,0,14,2,0,3,3,0,7,3,0,2,1,0,1,1,0,0,1,1,1,2,7,1,2,1,0,4,6,2,0,0,1,0,2,3,1,0,0,0,1,0,2,0,1,5,1,4,0,2,1,8,6,1,8,0,8,1,6,14,0,8,1,0,1,0,1,0,0,0,0,0,1,1,5,0,12,0,0,2,0,1,0,1,1,1,0,0,0,1,0,1,0,0,1,0,0,0,1,2,0,5,2,0,2,5,4,7,0,2,2,0,0,1,3,2,1,1,13,0,0,4,14,0,14,7,1,2,1,0,1,2,0,5,0,7,0,3,0,3,2,4,2,1,0,2,5,0,6,12,7,2,0,0,1,0,1,1,0,0,3,0,11,1,0,4,2,1,1,5,1,0,2,7,0,0,0,1,1,6,1,0,7,0,0,0,4,0,0,1,2,0,2,1,7,0,1,8,0,0,0,0,2,2,0,1,1,0,11,3,4,1,1,1,9,5,1,1,0,12,0,5,1,7,1,1,5,2,1,0,8,4,0,2,1,1,5,6,0,0,1,1,1,3,0,1,4,0,1,11,0,1,1,1,0,0,2,0,0,1,0,0,9,1,0,0,1,0,0,1],\"xaxis\":\"x\",\"yaxis\":\"y\",\"type\":\"histogram\"}],                        {\"template\":{\"data\":{\"histogram2dcontour\":[{\"type\":\"histogram2dcontour\",\"colorbar\":{\"outlinewidth\":0,\"ticks\":\"\"},\"colorscale\":[[0.0,\"#0d0887\"],[0.1111111111111111,\"#46039f\"],[0.2222222222222222,\"#7201a8\"],[0.3333333333333333,\"#9c179e\"],[0.4444444444444444,\"#bd3786\"],[0.5555555555555556,\"#d8576b\"],[0.6666666666666666,\"#ed7953\"],[0.7777777777777778,\"#fb9f3a\"],[0.8888888888888888,\"#fdca26\"],[1.0,\"#f0f921\"]]}],\"choropleth\":[{\"type\":\"choropleth\",\"colorbar\":{\"outlinewidth\":0,\"ticks\":\"\"}}],\"histogram2d\":[{\"type\":\"histogram2d\",\"colorbar\":{\"outlinewidth\":0,\"ticks\":\"\"},\"colorscale\":[[0.0,\"#0d0887\"],[0.1111111111111111,\"#46039f\"],[0.2222222222222222,\"#7201a8\"],[0.3333333333333333,\"#9c179e\"],[0.4444444444444444,\"#bd3786\"],[0.5555555555555556,\"#d8576b\"],[0.6666666666666666,\"#ed7953\"],[0.7777777777777778,\"#fb9f3a\"],[0.8888888888888888,\"#fdca26\"],[1.0,\"#f0f921\"]]}],\"heatmap\":[{\"type\":\"heatmap\",\"colorbar\":{\"outlinewidth\":0,\"ticks\":\"\"},\"colorscale\":[[0.0,\"#0d0887\"],[0.1111111111111111,\"#46039f\"],[0.2222222222222222,\"#7201a8\"],[0.3333333333333333,\"#9c179e\"],[0.4444444444444444,\"#bd3786\"],[0.5555555555555556,\"#d8576b\"],[0.6666666666666666,\"#ed7953\"],[0.7777777777777778,\"#fb9f3a\"],[0.8888888888888888,\"#fdca26\"],[1.0,\"#f0f921\"]]}],\"heatmapgl\":[{\"type\":\"heatmapgl\",\"colorbar\":{\"outlinewidth\":0,\"ticks\":\"\"},\"colorscale\":[[0.0,\"#0d0887\"],[0.1111111111111111,\"#46039f\"],[0.2222222222222222,\"#7201a8\"],[0.3333333333333333,\"#9c179e\"],[0.4444444444444444,\"#bd3786\"],[0.5555555555555556,\"#d8576b\"],[0.6666666666666666,\"#ed7953\"],[0.7777777777777778,\"#fb9f3a\"],[0.8888888888888888,\"#fdca26\"],[1.0,\"#f0f921\"]]}],\"contourcarpet\":[{\"type\":\"contourcarpet\",\"colorbar\":{\"outlinewidth\":0,\"ticks\":\"\"}}],\"contour\":[{\"type\":\"contour\",\"colorbar\":{\"outlinewidth\":0,\"ticks\":\"\"},\"colorscale\":[[0.0,\"#0d0887\"],[0.1111111111111111,\"#46039f\"],[0.2222222222222222,\"#7201a8\"],[0.3333333333333333,\"#9c179e\"],[0.4444444444444444,\"#bd3786\"],[0.5555555555555556,\"#d8576b\"],[0.6666666666666666,\"#ed7953\"],[0.7777777777777778,\"#fb9f3a\"],[0.8888888888888888,\"#fdca26\"],[1.0,\"#f0f921\"]]}],\"surface\":[{\"type\":\"surface\",\"colorbar\":{\"outlinewidth\":0,\"ticks\":\"\"},\"colorscale\":[[0.0,\"#0d0887\"],[0.1111111111111111,\"#46039f\"],[0.2222222222222222,\"#7201a8\"],[0.3333333333333333,\"#9c179e\"],[0.4444444444444444,\"#bd3786\"],[0.5555555555555556,\"#d8576b\"],[0.6666666666666666,\"#ed7953\"],[0.7777777777777778,\"#fb9f3a\"],[0.8888888888888888,\"#fdca26\"],[1.0,\"#f0f921\"]]}],\"mesh3d\":[{\"type\":\"mesh3d\",\"colorbar\":{\"outlinewidth\":0,\"ticks\":\"\"}}],\"scatter\":[{\"fillpattern\":{\"fillmode\":\"overlay\",\"size\":10,\"solidity\":0.2},\"type\":\"scatter\"}],\"parcoords\":[{\"type\":\"parcoords\",\"line\":{\"colorbar\":{\"outlinewidth\":0,\"ticks\":\"\"}}}],\"scatterpolargl\":[{\"type\":\"scatterpolargl\",\"marker\":{\"colorbar\":{\"outlinewidth\":0,\"ticks\":\"\"}}}],\"bar\":[{\"error_x\":{\"color\":\"#2a3f5f\"},\"error_y\":{\"color\":\"#2a3f5f\"},\"marker\":{\"line\":{\"color\":\"#E5ECF6\",\"width\":0.5},\"pattern\":{\"fillmode\":\"overlay\",\"size\":10,\"solidity\":0.2}},\"type\":\"bar\"}],\"scattergeo\":[{\"type\":\"scattergeo\",\"marker\":{\"colorbar\":{\"outlinewidth\":0,\"ticks\":\"\"}}}],\"scatterpolar\":[{\"type\":\"scatterpolar\",\"marker\":{\"colorbar\":{\"outlinewidth\":0,\"ticks\":\"\"}}}],\"histogram\":[{\"marker\":{\"pattern\":{\"fillmode\":\"overlay\",\"size\":10,\"solidity\":0.2}},\"type\":\"histogram\"}],\"scattergl\":[{\"type\":\"scattergl\",\"marker\":{\"colorbar\":{\"outlinewidth\":0,\"ticks\":\"\"}}}],\"scatter3d\":[{\"type\":\"scatter3d\",\"line\":{\"colorbar\":{\"outlinewidth\":0,\"ticks\":\"\"}},\"marker\":{\"colorbar\":{\"outlinewidth\":0,\"ticks\":\"\"}}}],\"scattermapbox\":[{\"type\":\"scattermapbox\",\"marker\":{\"colorbar\":{\"outlinewidth\":0,\"ticks\":\"\"}}}],\"scatterternary\":[{\"type\":\"scatterternary\",\"marker\":{\"colorbar\":{\"outlinewidth\":0,\"ticks\":\"\"}}}],\"scattercarpet\":[{\"type\":\"scattercarpet\",\"marker\":{\"colorbar\":{\"outlinewidth\":0,\"ticks\":\"\"}}}],\"carpet\":[{\"aaxis\":{\"endlinecolor\":\"#2a3f5f\",\"gridcolor\":\"white\",\"linecolor\":\"white\",\"minorgridcolor\":\"white\",\"startlinecolor\":\"#2a3f5f\"},\"baxis\":{\"endlinecolor\":\"#2a3f5f\",\"gridcolor\":\"white\",\"linecolor\":\"white\",\"minorgridcolor\":\"white\",\"startlinecolor\":\"#2a3f5f\"},\"type\":\"carpet\"}],\"table\":[{\"cells\":{\"fill\":{\"color\":\"#EBF0F8\"},\"line\":{\"color\":\"white\"}},\"header\":{\"fill\":{\"color\":\"#C8D4E3\"},\"line\":{\"color\":\"white\"}},\"type\":\"table\"}],\"barpolar\":[{\"marker\":{\"line\":{\"color\":\"#E5ECF6\",\"width\":0.5},\"pattern\":{\"fillmode\":\"overlay\",\"size\":10,\"solidity\":0.2}},\"type\":\"barpolar\"}],\"pie\":[{\"automargin\":true,\"type\":\"pie\"}]},\"layout\":{\"autotypenumbers\":\"strict\",\"colorway\":[\"#636efa\",\"#EF553B\",\"#00cc96\",\"#ab63fa\",\"#FFA15A\",\"#19d3f3\",\"#FF6692\",\"#B6E880\",\"#FF97FF\",\"#FECB52\"],\"font\":{\"color\":\"#2a3f5f\"},\"hovermode\":\"closest\",\"hoverlabel\":{\"align\":\"left\"},\"paper_bgcolor\":\"white\",\"plot_bgcolor\":\"#E5ECF6\",\"polar\":{\"bgcolor\":\"#E5ECF6\",\"angularaxis\":{\"gridcolor\":\"white\",\"linecolor\":\"white\",\"ticks\":\"\"},\"radialaxis\":{\"gridcolor\":\"white\",\"linecolor\":\"white\",\"ticks\":\"\"}},\"ternary\":{\"bgcolor\":\"#E5ECF6\",\"aaxis\":{\"gridcolor\":\"white\",\"linecolor\":\"white\",\"ticks\":\"\"},\"baxis\":{\"gridcolor\":\"white\",\"linecolor\":\"white\",\"ticks\":\"\"},\"caxis\":{\"gridcolor\":\"white\",\"linecolor\":\"white\",\"ticks\":\"\"}},\"coloraxis\":{\"colorbar\":{\"outlinewidth\":0,\"ticks\":\"\"}},\"colorscale\":{\"sequential\":[[0.0,\"#0d0887\"],[0.1111111111111111,\"#46039f\"],[0.2222222222222222,\"#7201a8\"],[0.3333333333333333,\"#9c179e\"],[0.4444444444444444,\"#bd3786\"],[0.5555555555555556,\"#d8576b\"],[0.6666666666666666,\"#ed7953\"],[0.7777777777777778,\"#fb9f3a\"],[0.8888888888888888,\"#fdca26\"],[1.0,\"#f0f921\"]],\"sequentialminus\":[[0.0,\"#0d0887\"],[0.1111111111111111,\"#46039f\"],[0.2222222222222222,\"#7201a8\"],[0.3333333333333333,\"#9c179e\"],[0.4444444444444444,\"#bd3786\"],[0.5555555555555556,\"#d8576b\"],[0.6666666666666666,\"#ed7953\"],[0.7777777777777778,\"#fb9f3a\"],[0.8888888888888888,\"#fdca26\"],[1.0,\"#f0f921\"]],\"diverging\":[[0,\"#8e0152\"],[0.1,\"#c51b7d\"],[0.2,\"#de77ae\"],[0.3,\"#f1b6da\"],[0.4,\"#fde0ef\"],[0.5,\"#f7f7f7\"],[0.6,\"#e6f5d0\"],[0.7,\"#b8e186\"],[0.8,\"#7fbc41\"],[0.9,\"#4d9221\"],[1,\"#276419\"]]},\"xaxis\":{\"gridcolor\":\"white\",\"linecolor\":\"white\",\"ticks\":\"\",\"title\":{\"standoff\":15},\"zerolinecolor\":\"white\",\"automargin\":true,\"zerolinewidth\":2},\"yaxis\":{\"gridcolor\":\"white\",\"linecolor\":\"white\",\"ticks\":\"\",\"title\":{\"standoff\":15},\"zerolinecolor\":\"white\",\"automargin\":true,\"zerolinewidth\":2},\"scene\":{\"xaxis\":{\"backgroundcolor\":\"#E5ECF6\",\"gridcolor\":\"white\",\"linecolor\":\"white\",\"showbackground\":true,\"ticks\":\"\",\"zerolinecolor\":\"white\",\"gridwidth\":2},\"yaxis\":{\"backgroundcolor\":\"#E5ECF6\",\"gridcolor\":\"white\",\"linecolor\":\"white\",\"showbackground\":true,\"ticks\":\"\",\"zerolinecolor\":\"white\",\"gridwidth\":2},\"zaxis\":{\"backgroundcolor\":\"#E5ECF6\",\"gridcolor\":\"white\",\"linecolor\":\"white\",\"showbackground\":true,\"ticks\":\"\",\"zerolinecolor\":\"white\",\"gridwidth\":2}},\"shapedefaults\":{\"line\":{\"color\":\"#2a3f5f\"}},\"annotationdefaults\":{\"arrowcolor\":\"#2a3f5f\",\"arrowhead\":0,\"arrowwidth\":1},\"geo\":{\"bgcolor\":\"white\",\"landcolor\":\"#E5ECF6\",\"subunitcolor\":\"white\",\"showland\":true,\"showlakes\":true,\"lakecolor\":\"white\"},\"title\":{\"x\":0.05},\"mapbox\":{\"style\":\"light\"}}},\"xaxis\":{\"anchor\":\"y\",\"domain\":[0.0,1.0],\"title\":{\"text\":\"YearsSinceLastPromotion\"}},\"yaxis\":{\"anchor\":\"x\",\"domain\":[0.0,1.0],\"title\":{\"text\":\"count\"}},\"legend\":{\"title\":{\"text\":\"Attrition\"},\"tracegroupgap\":0},\"title\":{\"text\":\"Attrition by Years Since Last Promotion\"},\"barmode\":\"relative\"},                        {\"responsive\": true}                    ).then(function(){\n",
              "                            \n",
              "var gd = document.getElementById('4634b5f8-2d01-4fbb-aead-48d5f3380c89');\n",
              "var x = new MutationObserver(function (mutations, observer) {{\n",
              "        var display = window.getComputedStyle(gd).display;\n",
              "        if (!display || display === 'none') {{\n",
              "            console.log([gd, 'removed!']);\n",
              "            Plotly.purge(gd);\n",
              "            observer.disconnect();\n",
              "        }}\n",
              "}});\n",
              "\n",
              "// Listen for the removal of the full notebook cells\n",
              "var notebookContainer = gd.closest('#notebook-container');\n",
              "if (notebookContainer) {{\n",
              "    x.observe(notebookContainer, {childList: true});\n",
              "}}\n",
              "\n",
              "// Listen for the clearing of the current output cell\n",
              "var outputEl = gd.closest('.output');\n",
              "if (outputEl) {{\n",
              "    x.observe(outputEl, {childList: true});\n",
              "}}\n",
              "\n",
              "                        })                };                            </script>        </div>\n",
              "</body>\n",
              "</html>"
            ]
          },
          "metadata": {}
        }
      ]
    },
    {
      "cell_type": "markdown",
      "source": [
        "**Insight:** Employees who are **recently promoted (0-1 years since last promotion)** are more likely to retention than attrition."
      ],
      "metadata": {
        "id": "pT2GC3tQ8SKs"
      }
    },
    {
      "cell_type": "code",
      "source": [
        "fig = px.histogram(df, x=\"YearsWithCurrManager\", color=\"Attrition\", nbins=10,\n",
        "                   title=\"Attrition by Years with Current Manager\",\n",
        "                   color_discrete_map={'Yes':'green','No':'darkblue'})\n",
        "fig.show()"
      ],
      "metadata": {
        "colab": {
          "base_uri": "https://localhost:8080/",
          "height": 542
        },
        "id": "ccQyCmuf6pE7",
        "outputId": "a0a676dc-9f0b-4d77-fe40-800fc4240aaa"
      },
      "execution_count": null,
      "outputs": [
        {
          "output_type": "display_data",
          "data": {
            "text/html": [
              "<html>\n",
              "<head><meta charset=\"utf-8\" /></head>\n",
              "<body>\n",
              "    <div>            <script src=\"https://cdnjs.cloudflare.com/ajax/libs/mathjax/2.7.5/MathJax.js?config=TeX-AMS-MML_SVG\"></script><script type=\"text/javascript\">if (window.MathJax && window.MathJax.Hub && window.MathJax.Hub.Config) {window.MathJax.Hub.Config({SVG: {font: \"STIX-Web\"}});}</script>                <script type=\"text/javascript\">window.PlotlyConfig = {MathJaxConfig: 'local'};</script>\n",
              "        <script charset=\"utf-8\" src=\"https://cdn.plot.ly/plotly-2.35.2.min.js\"></script>                <div id=\"26e8938d-1008-449e-a480-4d1b76a58f2d\" class=\"plotly-graph-div\" style=\"height:525px; width:100%;\"></div>            <script type=\"text/javascript\">                                    window.PLOTLYENV=window.PLOTLYENV || {};                                    if (document.getElementById(\"26e8938d-1008-449e-a480-4d1b76a58f2d\")) {                    Plotly.newPlot(                        \"26e8938d-1008-449e-a480-4d1b76a58f2d\",                        [{\"alignmentgroup\":\"True\",\"bingroup\":\"x\",\"hovertemplate\":\"Attrition=Yes\\u003cbr\\u003eYearsWithCurrManager=%{x}\\u003cbr\\u003ecount=%{y}\\u003cextra\\u003e\\u003c\\u002fextra\\u003e\",\"legendgroup\":\"Yes\",\"marker\":{\"color\":\"green\",\"pattern\":{\"shape\":\"\"}},\"name\":\"Yes\",\"nbinsx\":10,\"offsetgroup\":\"Yes\",\"orientation\":\"v\",\"showlegend\":true,\"x\":[5,0,3,3,3,7,0,0,2,1,8,0,2,0,7,2,0,3,6,3,7,6,0,2,3,4,0,0,2,1,0,9,8,4,1,5,1,4,7,2,0,4,0,9,0,2,4,0,7,2,0,7,2,0,7,0,0,4,4,0,2,4,0,1,0,7,3,0,2,2,0,0,0,2,2,0,2,2,0,1,7,0,3,7,2,8,3,4,2,0,0,2,8,1,7,3,7,8,2,1,0,2,0,2,0,2,0,0,0,7,7,0,0,2,0,1,2,0,2,0,2,9,14,0,2,2,0,7,9,6,7,8,6,0,2,0,0,5,0,3,2,10,14,0,3,2,0,0,0,0,0,11,2,5,7,1,3,0,7,2,2,9,8,0,2,7,7,3,7,0,0,2,3,0,7,2,2,2,0,10,0,0,7,0,7,7,0,9,4,0,0,0,2,3,7,2,7,0,2,0,10,2,0,2,2,0,0,0,0,0,3,7,7,8,4,7,0,0,2,0,7,0,0,0,0,0,2,3,0,3,8,2,0,2,8,1,0],\"xaxis\":\"x\",\"yaxis\":\"y\",\"type\":\"histogram\"},{\"alignmentgroup\":\"True\",\"bingroup\":\"x\",\"hovertemplate\":\"Attrition=No\\u003cbr\\u003eYearsWithCurrManager=%{x}\\u003cbr\\u003ecount=%{y}\\u003cextra\\u003e\\u003c\\u002fextra\\u003e\",\"legendgroup\":\"No\",\"marker\":{\"color\":\"darkblue\",\"pattern\":{\"shape\":\"\"}},\"name\":\"No\",\"nbinsx\":10,\"offsetgroup\":\"No\",\"orientation\":\"v\",\"showlegend\":true,\"x\":[7,0,2,6,0,0,8,7,3,8,3,2,8,5,0,7,2,3,11,0,8,2,17,1,0,3,8,4,2,0,3,0,0,7,7,7,0,8,1,3,3,0,12,8,2,7,7,8,9,8,9,8,2,3,0,2,3,4,0,9,0,8,8,0,2,2,0,4,0,9,3,2,0,3,8,11,0,7,5,7,3,2,4,8,2,0,10,0,2,7,1,0,8,4,2,0,3,8,8,0,12,9,7,15,3,1,11,2,1,7,7,1,9,2,7,3,2,4,7,2,2,7,4,0,13,6,5,15,7,9,0,0,11,2,2,2,2,4,1,4,8,4,7,4,1,2,10,3,2,2,7,1,2,2,2,3,6,9,15,9,0,9,3,2,8,7,2,2,0,7,0,7,0,7,2,7,2,3,8,7,7,0,8,5,7,1,7,13,4,0,8,1,8,2,15,2,6,9,12,2,2,2,0,7,7,2,2,9,2,2,8,5,2,2,2,8,9,0,3,5,4,7,0,8,5,10,11,13,4,1,0,2,2,7,4,6,3,6,9,8,3,7,2,2,2,7,2,2,8,9,0,2,4,0,7,7,7,8,8,1,2,3,0,11,2,8,10,7,7,2,9,4,7,7,9,9,3,1,1,0,4,3,0,8,2,2,2,7,4,9,10,7,13,2,2,0,0,2,0,7,0,7,2,7,0,0,12,2,7,2,3,0,3,2,2,0,4,7,0,7,2,2,3,0,2,0,17,3,2,1,9,0,2,2,12,2,2,3,7,2,6,7,4,7,8,4,2,4,2,2,10,8,4,0,12,2,4,7,8,0,7,7,11,4,1,3,0,7,2,8,2,0,0,7,7,7,10,9,13,7,5,8,7,2,5,1,1,7,0,3,7,2,2,8,7,9,1,0,3,9,4,4,0,7,6,3,2,7,3,0,0,2,0,0,7,2,2,6,2,1,2,2,5,0,10,8,2,8,2,8,7,1,2,1,0,2,2,5,8,2,4,0,8,7,10,8,8,7,7,7,12,3,6,2,7,10,2,5,0,4,13,7,0,2,3,2,6,1,3,7,2,2,0,7,1,0,16,4,1,2,4,9,2,0,1,3,4,1,3,12,3,2,2,7,2,9,0,4,3,7,0,5,7,2,2,4,8,0,0,0,8,2,3,0,8,6,5,2,0,17,3,1,8,1,11,3,3,4,2,3,0,0,4,2,2,2,3,3,15,2,3,2,4,3,2,3,2,2,8,0,8,2,7,9,7,4,3,3,1,2,0,11,2,2,0,0,3,2,4,2,7,7,0,0,1,11,2,0,7,17,9,5,0,3,4,8,2,0,8,2,7,3,8,7,7,7,0,2,2,3,2,11,2,8,7,5,2,7,2,3,0,8,1,7,3,1,2,8,1,8,2,2,0,0,3,7,10,0,11,13,8,2,1,7,9,4,4,12,0,0,2,7,1,5,3,2,0,3,8,2,0,7,3,2,8,9,1,2,2,7,2,2,4,0,7,2,0,1,12,0,7,7,7,9,0,1,9,2,3,9,2,4,2,3,2,1,0,2,0,2,0,3,2,3,4,13,5,7,2,7,4,0,4,9,2,0,2,8,0,2,11,2,7,3,9,0,4,3,0,2,3,3,7,1,7,9,17,2,4,3,9,2,7,7,10,3,1,7,0,12,8,4,7,2,9,1,8,5,7,0,7,0,3,0,0,7,0,10,8,1,1,2,0,8,2,10,4,10,2,13,8,2,0,17,12,2,7,7,2,1,8,0,2,2,7,7,7,5,2,8,7,6,9,10,11,7,0,6,8,7,1,10,7,6,2,3,13,8,0,3,0,0,0,9,0,8,7,3,11,4,4,2,3,3,2,2,5,2,2,8,4,1,9,4,2,2,2,7,9,7,5,0,1,2,0,3,4,8,2,2,3,0,6,3,3,2,3,7,9,7,2,2,2,8,3,3,8,2,2,3,3,12,2,8,0,0,8,7,9,0,0,2,4,3,2,2,2,0,3,2,2,7,0,0,12,17,2,1,3,2,6,9,7,0,7,7,2,3,9,1,7,7,0,2,7,2,5,2,7,0,2,2,2,3,2,6,0,13,1,0,7,2,0,5,4,6,3,0,2,2,1,8,7,2,2,1,12,3,13,2,10,1,4,5,3,1,2,4,7,7,10,0,2,0,7,12,9,2,8,9,2,7,3,2,2,3,2,2,4,2,7,0,2,11,2,9,3,12,2,4,7,11,9,9,4,6,2,2,3,2,0,2,2,2,2,2,0,2,7,2,13,0,13,3,7,7,4,8,4,7,2,7,4,2,6,3,3,2,0,2,9,7,8,0,3,2,4,8,2,8,3,7,1,2,4,2,7,2,7,4,5,0,7,7,0,4,0,7,4,7,2,8,2,4,7,2,3,2,7,7,6,3,2,2,2,0,7,8,2,2,2,5,2,3,8,14,3,10,7,7,2,2,3,2,2,0,7,0,7,2,10,0,3,0,7,2,6,0,8,8,0,14,9,3,2,4,0,7,2,0,2,4,2,8,8,16,0,7,7,2,3,4,7,4,1,2,7,3,9,7,2,2,11,7,0,9,7,0,3,3,0,4,4,3,2,1,1,6,2,2,7,0,9,7,0,3,8,9,2,4,0,10,7,8,4,2,4,4,10,2,7,2,11,0,8,2,7,2,0,12,2,2,8,1,1,0,2,7,11,7,8,4,0,2,2,3,4,2,9,14,10,7,11,4,2,7,9,0,1,2,2,2,1,3,4,6,7,0,3,7,3,8,2],\"xaxis\":\"x\",\"yaxis\":\"y\",\"type\":\"histogram\"}],                        {\"template\":{\"data\":{\"histogram2dcontour\":[{\"type\":\"histogram2dcontour\",\"colorbar\":{\"outlinewidth\":0,\"ticks\":\"\"},\"colorscale\":[[0.0,\"#0d0887\"],[0.1111111111111111,\"#46039f\"],[0.2222222222222222,\"#7201a8\"],[0.3333333333333333,\"#9c179e\"],[0.4444444444444444,\"#bd3786\"],[0.5555555555555556,\"#d8576b\"],[0.6666666666666666,\"#ed7953\"],[0.7777777777777778,\"#fb9f3a\"],[0.8888888888888888,\"#fdca26\"],[1.0,\"#f0f921\"]]}],\"choropleth\":[{\"type\":\"choropleth\",\"colorbar\":{\"outlinewidth\":0,\"ticks\":\"\"}}],\"histogram2d\":[{\"type\":\"histogram2d\",\"colorbar\":{\"outlinewidth\":0,\"ticks\":\"\"},\"colorscale\":[[0.0,\"#0d0887\"],[0.1111111111111111,\"#46039f\"],[0.2222222222222222,\"#7201a8\"],[0.3333333333333333,\"#9c179e\"],[0.4444444444444444,\"#bd3786\"],[0.5555555555555556,\"#d8576b\"],[0.6666666666666666,\"#ed7953\"],[0.7777777777777778,\"#fb9f3a\"],[0.8888888888888888,\"#fdca26\"],[1.0,\"#f0f921\"]]}],\"heatmap\":[{\"type\":\"heatmap\",\"colorbar\":{\"outlinewidth\":0,\"ticks\":\"\"},\"colorscale\":[[0.0,\"#0d0887\"],[0.1111111111111111,\"#46039f\"],[0.2222222222222222,\"#7201a8\"],[0.3333333333333333,\"#9c179e\"],[0.4444444444444444,\"#bd3786\"],[0.5555555555555556,\"#d8576b\"],[0.6666666666666666,\"#ed7953\"],[0.7777777777777778,\"#fb9f3a\"],[0.8888888888888888,\"#fdca26\"],[1.0,\"#f0f921\"]]}],\"heatmapgl\":[{\"type\":\"heatmapgl\",\"colorbar\":{\"outlinewidth\":0,\"ticks\":\"\"},\"colorscale\":[[0.0,\"#0d0887\"],[0.1111111111111111,\"#46039f\"],[0.2222222222222222,\"#7201a8\"],[0.3333333333333333,\"#9c179e\"],[0.4444444444444444,\"#bd3786\"],[0.5555555555555556,\"#d8576b\"],[0.6666666666666666,\"#ed7953\"],[0.7777777777777778,\"#fb9f3a\"],[0.8888888888888888,\"#fdca26\"],[1.0,\"#f0f921\"]]}],\"contourcarpet\":[{\"type\":\"contourcarpet\",\"colorbar\":{\"outlinewidth\":0,\"ticks\":\"\"}}],\"contour\":[{\"type\":\"contour\",\"colorbar\":{\"outlinewidth\":0,\"ticks\":\"\"},\"colorscale\":[[0.0,\"#0d0887\"],[0.1111111111111111,\"#46039f\"],[0.2222222222222222,\"#7201a8\"],[0.3333333333333333,\"#9c179e\"],[0.4444444444444444,\"#bd3786\"],[0.5555555555555556,\"#d8576b\"],[0.6666666666666666,\"#ed7953\"],[0.7777777777777778,\"#fb9f3a\"],[0.8888888888888888,\"#fdca26\"],[1.0,\"#f0f921\"]]}],\"surface\":[{\"type\":\"surface\",\"colorbar\":{\"outlinewidth\":0,\"ticks\":\"\"},\"colorscale\":[[0.0,\"#0d0887\"],[0.1111111111111111,\"#46039f\"],[0.2222222222222222,\"#7201a8\"],[0.3333333333333333,\"#9c179e\"],[0.4444444444444444,\"#bd3786\"],[0.5555555555555556,\"#d8576b\"],[0.6666666666666666,\"#ed7953\"],[0.7777777777777778,\"#fb9f3a\"],[0.8888888888888888,\"#fdca26\"],[1.0,\"#f0f921\"]]}],\"mesh3d\":[{\"type\":\"mesh3d\",\"colorbar\":{\"outlinewidth\":0,\"ticks\":\"\"}}],\"scatter\":[{\"fillpattern\":{\"fillmode\":\"overlay\",\"size\":10,\"solidity\":0.2},\"type\":\"scatter\"}],\"parcoords\":[{\"type\":\"parcoords\",\"line\":{\"colorbar\":{\"outlinewidth\":0,\"ticks\":\"\"}}}],\"scatterpolargl\":[{\"type\":\"scatterpolargl\",\"marker\":{\"colorbar\":{\"outlinewidth\":0,\"ticks\":\"\"}}}],\"bar\":[{\"error_x\":{\"color\":\"#2a3f5f\"},\"error_y\":{\"color\":\"#2a3f5f\"},\"marker\":{\"line\":{\"color\":\"#E5ECF6\",\"width\":0.5},\"pattern\":{\"fillmode\":\"overlay\",\"size\":10,\"solidity\":0.2}},\"type\":\"bar\"}],\"scattergeo\":[{\"type\":\"scattergeo\",\"marker\":{\"colorbar\":{\"outlinewidth\":0,\"ticks\":\"\"}}}],\"scatterpolar\":[{\"type\":\"scatterpolar\",\"marker\":{\"colorbar\":{\"outlinewidth\":0,\"ticks\":\"\"}}}],\"histogram\":[{\"marker\":{\"pattern\":{\"fillmode\":\"overlay\",\"size\":10,\"solidity\":0.2}},\"type\":\"histogram\"}],\"scattergl\":[{\"type\":\"scattergl\",\"marker\":{\"colorbar\":{\"outlinewidth\":0,\"ticks\":\"\"}}}],\"scatter3d\":[{\"type\":\"scatter3d\",\"line\":{\"colorbar\":{\"outlinewidth\":0,\"ticks\":\"\"}},\"marker\":{\"colorbar\":{\"outlinewidth\":0,\"ticks\":\"\"}}}],\"scattermapbox\":[{\"type\":\"scattermapbox\",\"marker\":{\"colorbar\":{\"outlinewidth\":0,\"ticks\":\"\"}}}],\"scatterternary\":[{\"type\":\"scatterternary\",\"marker\":{\"colorbar\":{\"outlinewidth\":0,\"ticks\":\"\"}}}],\"scattercarpet\":[{\"type\":\"scattercarpet\",\"marker\":{\"colorbar\":{\"outlinewidth\":0,\"ticks\":\"\"}}}],\"carpet\":[{\"aaxis\":{\"endlinecolor\":\"#2a3f5f\",\"gridcolor\":\"white\",\"linecolor\":\"white\",\"minorgridcolor\":\"white\",\"startlinecolor\":\"#2a3f5f\"},\"baxis\":{\"endlinecolor\":\"#2a3f5f\",\"gridcolor\":\"white\",\"linecolor\":\"white\",\"minorgridcolor\":\"white\",\"startlinecolor\":\"#2a3f5f\"},\"type\":\"carpet\"}],\"table\":[{\"cells\":{\"fill\":{\"color\":\"#EBF0F8\"},\"line\":{\"color\":\"white\"}},\"header\":{\"fill\":{\"color\":\"#C8D4E3\"},\"line\":{\"color\":\"white\"}},\"type\":\"table\"}],\"barpolar\":[{\"marker\":{\"line\":{\"color\":\"#E5ECF6\",\"width\":0.5},\"pattern\":{\"fillmode\":\"overlay\",\"size\":10,\"solidity\":0.2}},\"type\":\"barpolar\"}],\"pie\":[{\"automargin\":true,\"type\":\"pie\"}]},\"layout\":{\"autotypenumbers\":\"strict\",\"colorway\":[\"#636efa\",\"#EF553B\",\"#00cc96\",\"#ab63fa\",\"#FFA15A\",\"#19d3f3\",\"#FF6692\",\"#B6E880\",\"#FF97FF\",\"#FECB52\"],\"font\":{\"color\":\"#2a3f5f\"},\"hovermode\":\"closest\",\"hoverlabel\":{\"align\":\"left\"},\"paper_bgcolor\":\"white\",\"plot_bgcolor\":\"#E5ECF6\",\"polar\":{\"bgcolor\":\"#E5ECF6\",\"angularaxis\":{\"gridcolor\":\"white\",\"linecolor\":\"white\",\"ticks\":\"\"},\"radialaxis\":{\"gridcolor\":\"white\",\"linecolor\":\"white\",\"ticks\":\"\"}},\"ternary\":{\"bgcolor\":\"#E5ECF6\",\"aaxis\":{\"gridcolor\":\"white\",\"linecolor\":\"white\",\"ticks\":\"\"},\"baxis\":{\"gridcolor\":\"white\",\"linecolor\":\"white\",\"ticks\":\"\"},\"caxis\":{\"gridcolor\":\"white\",\"linecolor\":\"white\",\"ticks\":\"\"}},\"coloraxis\":{\"colorbar\":{\"outlinewidth\":0,\"ticks\":\"\"}},\"colorscale\":{\"sequential\":[[0.0,\"#0d0887\"],[0.1111111111111111,\"#46039f\"],[0.2222222222222222,\"#7201a8\"],[0.3333333333333333,\"#9c179e\"],[0.4444444444444444,\"#bd3786\"],[0.5555555555555556,\"#d8576b\"],[0.6666666666666666,\"#ed7953\"],[0.7777777777777778,\"#fb9f3a\"],[0.8888888888888888,\"#fdca26\"],[1.0,\"#f0f921\"]],\"sequentialminus\":[[0.0,\"#0d0887\"],[0.1111111111111111,\"#46039f\"],[0.2222222222222222,\"#7201a8\"],[0.3333333333333333,\"#9c179e\"],[0.4444444444444444,\"#bd3786\"],[0.5555555555555556,\"#d8576b\"],[0.6666666666666666,\"#ed7953\"],[0.7777777777777778,\"#fb9f3a\"],[0.8888888888888888,\"#fdca26\"],[1.0,\"#f0f921\"]],\"diverging\":[[0,\"#8e0152\"],[0.1,\"#c51b7d\"],[0.2,\"#de77ae\"],[0.3,\"#f1b6da\"],[0.4,\"#fde0ef\"],[0.5,\"#f7f7f7\"],[0.6,\"#e6f5d0\"],[0.7,\"#b8e186\"],[0.8,\"#7fbc41\"],[0.9,\"#4d9221\"],[1,\"#276419\"]]},\"xaxis\":{\"gridcolor\":\"white\",\"linecolor\":\"white\",\"ticks\":\"\",\"title\":{\"standoff\":15},\"zerolinecolor\":\"white\",\"automargin\":true,\"zerolinewidth\":2},\"yaxis\":{\"gridcolor\":\"white\",\"linecolor\":\"white\",\"ticks\":\"\",\"title\":{\"standoff\":15},\"zerolinecolor\":\"white\",\"automargin\":true,\"zerolinewidth\":2},\"scene\":{\"xaxis\":{\"backgroundcolor\":\"#E5ECF6\",\"gridcolor\":\"white\",\"linecolor\":\"white\",\"showbackground\":true,\"ticks\":\"\",\"zerolinecolor\":\"white\",\"gridwidth\":2},\"yaxis\":{\"backgroundcolor\":\"#E5ECF6\",\"gridcolor\":\"white\",\"linecolor\":\"white\",\"showbackground\":true,\"ticks\":\"\",\"zerolinecolor\":\"white\",\"gridwidth\":2},\"zaxis\":{\"backgroundcolor\":\"#E5ECF6\",\"gridcolor\":\"white\",\"linecolor\":\"white\",\"showbackground\":true,\"ticks\":\"\",\"zerolinecolor\":\"white\",\"gridwidth\":2}},\"shapedefaults\":{\"line\":{\"color\":\"#2a3f5f\"}},\"annotationdefaults\":{\"arrowcolor\":\"#2a3f5f\",\"arrowhead\":0,\"arrowwidth\":1},\"geo\":{\"bgcolor\":\"white\",\"landcolor\":\"#E5ECF6\",\"subunitcolor\":\"white\",\"showland\":true,\"showlakes\":true,\"lakecolor\":\"white\"},\"title\":{\"x\":0.05},\"mapbox\":{\"style\":\"light\"}}},\"xaxis\":{\"anchor\":\"y\",\"domain\":[0.0,1.0],\"title\":{\"text\":\"YearsWithCurrManager\"}},\"yaxis\":{\"anchor\":\"x\",\"domain\":[0.0,1.0],\"title\":{\"text\":\"count\"}},\"legend\":{\"title\":{\"text\":\"Attrition\"},\"tracegroupgap\":0},\"title\":{\"text\":\"Attrition by Years with Current Manager\"},\"barmode\":\"relative\"},                        {\"responsive\": true}                    ).then(function(){\n",
              "                            \n",
              "var gd = document.getElementById('26e8938d-1008-449e-a480-4d1b76a58f2d');\n",
              "var x = new MutationObserver(function (mutations, observer) {{\n",
              "        var display = window.getComputedStyle(gd).display;\n",
              "        if (!display || display === 'none') {{\n",
              "            console.log([gd, 'removed!']);\n",
              "            Plotly.purge(gd);\n",
              "            observer.disconnect();\n",
              "        }}\n",
              "}});\n",
              "\n",
              "// Listen for the removal of the full notebook cells\n",
              "var notebookContainer = gd.closest('#notebook-container');\n",
              "if (notebookContainer) {{\n",
              "    x.observe(notebookContainer, {childList: true});\n",
              "}}\n",
              "\n",
              "// Listen for the clearing of the current output cell\n",
              "var outputEl = gd.closest('.output');\n",
              "if (outputEl) {{\n",
              "    x.observe(outputEl, {childList: true});\n",
              "}}\n",
              "\n",
              "                        })                };                            </script>        </div>\n",
              "</body>\n",
              "</html>"
            ]
          },
          "metadata": {}
        }
      ]
    },
    {
      "cell_type": "markdown",
      "source": [
        "**Insight:** Employees who spent **0-1 years with current manager** have high attrition."
      ],
      "metadata": {
        "id": "0owMSF4q96sx"
      }
    },
    {
      "cell_type": "markdown",
      "source": [
        "### Satisfaction & Engagement"
      ],
      "metadata": {
        "id": "7HeKbh8BrXcw"
      }
    },
    {
      "cell_type": "markdown",
      "source": [
        "**PerformanceRating:** Performance score (mostly 3 or 4)"
      ],
      "metadata": {
        "id": "cH1o_y--1Wo-"
      }
    },
    {
      "cell_type": "code",
      "source": [
        "# Performance Rating Distribution\n",
        "fig3 = px.histogram(df, x='PerformanceRating', color='Attrition', barmode='group',\n",
        "                    color_discrete_map={'Yes':'green','No':'darkblue'})\n",
        "fig3.show()"
      ],
      "metadata": {
        "colab": {
          "base_uri": "https://localhost:8080/",
          "height": 542
        },
        "id": "VgIXriuHw1Sp",
        "outputId": "b8897d6c-6959-4acb-b6ae-082a31676780"
      },
      "execution_count": null,
      "outputs": [
        {
          "output_type": "display_data",
          "data": {
            "text/html": [
              "<html>\n",
              "<head><meta charset=\"utf-8\" /></head>\n",
              "<body>\n",
              "    <div>            <script src=\"https://cdnjs.cloudflare.com/ajax/libs/mathjax/2.7.5/MathJax.js?config=TeX-AMS-MML_SVG\"></script><script type=\"text/javascript\">if (window.MathJax && window.MathJax.Hub && window.MathJax.Hub.Config) {window.MathJax.Hub.Config({SVG: {font: \"STIX-Web\"}});}</script>                <script type=\"text/javascript\">window.PlotlyConfig = {MathJaxConfig: 'local'};</script>\n",
              "        <script charset=\"utf-8\" src=\"https://cdn.plot.ly/plotly-2.35.2.min.js\"></script>                <div id=\"8e4b6719-0352-4188-97fd-4e9dc2121449\" class=\"plotly-graph-div\" style=\"height:525px; width:100%;\"></div>            <script type=\"text/javascript\">                                    window.PLOTLYENV=window.PLOTLYENV || {};                                    if (document.getElementById(\"8e4b6719-0352-4188-97fd-4e9dc2121449\")) {                    Plotly.newPlot(                        \"8e4b6719-0352-4188-97fd-4e9dc2121449\",                        [{\"alignmentgroup\":\"True\",\"bingroup\":\"x\",\"hovertemplate\":\"Attrition=Yes\\u003cbr\\u003ePerformanceRating=%{x}\\u003cbr\\u003ecount=%{y}\\u003cextra\\u003e\\u003c\\u002fextra\\u003e\",\"legendgroup\":\"Yes\",\"marker\":{\"color\":\"green\",\"pattern\":{\"shape\":\"\"}},\"name\":\"Yes\",\"offsetgroup\":\"Yes\",\"orientation\":\"v\",\"showlegend\":true,\"x\":[3,3,3,4,3,4,3,3,3,3,3,3,3,3,3,4,3,3,4,3,3,3,3,3,3,4,4,4,4,3,3,4,3,3,3,3,3,3,4,3,3,3,3,3,4,3,3,3,3,3,3,3,3,3,3,3,3,3,4,4,3,3,3,3,3,3,3,3,3,3,3,3,3,3,3,3,3,3,3,3,3,3,3,3,3,3,3,3,3,4,3,3,3,3,3,3,3,3,3,4,3,3,3,3,3,4,3,3,3,3,3,4,3,4,4,3,4,3,3,3,3,3,3,3,3,3,3,3,3,3,4,4,3,4,4,3,3,3,3,3,3,3,3,3,3,3,3,3,3,4,3,3,4,3,3,3,3,3,3,3,3,3,3,3,3,3,3,4,3,3,3,3,3,4,3,3,3,3,3,4,3,3,3,3,3,3,3,3,3,3,3,3,3,3,4,3,3,3,4,3,3,3,3,3,3,4,3,3,3,3,3,3,3,3,3,4,3,3,3,4,4,3,4,4,3,3,3,3,3,3,3,3,3,3,3,3,3],\"xaxis\":\"x\",\"yaxis\":\"y\",\"type\":\"histogram\"},{\"alignmentgroup\":\"True\",\"bingroup\":\"x\",\"hovertemplate\":\"Attrition=No\\u003cbr\\u003ePerformanceRating=%{x}\\u003cbr\\u003ecount=%{y}\\u003cextra\\u003e\\u003c\\u002fextra\\u003e\",\"legendgroup\":\"No\",\"marker\":{\"color\":\"darkblue\",\"pattern\":{\"shape\":\"\"}},\"name\":\"No\",\"offsetgroup\":\"No\",\"orientation\":\"v\",\"showlegend\":true,\"x\":[4,3,3,3,4,4,4,3,3,3,3,3,3,3,3,3,3,3,3,3,3,3,3,3,3,3,3,3,3,3,3,3,3,3,4,4,4,4,3,4,3,3,3,4,3,4,3,4,3,3,3,3,3,3,3,3,3,4,3,3,3,4,3,3,3,4,3,3,3,3,3,3,3,4,3,4,4,3,3,3,3,4,3,3,3,3,3,3,4,3,3,3,4,3,3,3,3,3,3,4,3,4,3,3,3,3,3,3,3,3,4,4,3,3,3,3,4,3,3,3,3,3,4,3,3,3,4,3,3,3,3,4,3,3,4,3,3,3,3,3,3,3,4,4,3,3,3,3,3,3,4,3,4,3,3,3,3,3,3,3,3,3,3,3,4,3,3,3,3,3,3,3,3,3,3,3,3,3,4,3,3,3,3,3,3,4,3,3,3,3,3,3,3,3,3,3,3,4,3,3,3,3,3,3,3,3,3,3,3,3,4,3,3,3,3,3,3,3,4,3,3,3,3,4,3,3,3,3,4,3,3,3,3,4,4,3,3,4,3,3,3,3,3,4,3,3,3,3,3,3,3,3,3,3,3,3,3,3,3,3,3,3,3,3,3,3,3,3,3,3,3,3,3,3,3,4,3,3,3,3,3,3,3,3,4,3,3,3,3,3,3,3,3,3,3,3,3,3,3,3,4,3,3,3,4,3,3,3,3,4,4,3,3,3,3,3,3,3,4,3,3,3,3,3,3,3,3,3,3,3,3,4,3,3,3,4,3,3,3,3,3,3,3,3,3,3,4,3,3,4,3,3,3,4,3,4,3,3,3,3,3,3,3,3,3,3,3,3,3,4,3,3,3,3,3,4,3,3,3,3,3,4,3,3,3,4,3,3,3,3,3,3,3,3,3,3,3,3,3,3,3,4,4,3,3,3,3,4,3,3,3,3,3,3,3,3,3,3,3,3,4,3,3,4,4,3,3,3,3,3,4,3,3,3,3,3,4,4,3,3,4,3,3,3,3,3,3,3,3,3,4,3,3,3,4,3,3,3,3,3,3,4,3,3,3,3,3,3,4,3,3,3,3,3,3,3,3,4,3,3,4,3,3,3,3,3,3,3,3,3,3,3,4,4,3,3,3,4,3,3,3,3,4,3,3,3,3,3,4,3,3,3,3,4,3,4,4,3,3,3,3,3,4,3,3,3,3,3,3,3,4,3,3,4,4,3,4,3,4,3,3,3,3,3,3,3,3,3,3,3,3,3,4,3,3,3,3,3,3,3,4,3,3,3,3,3,3,3,3,3,4,3,3,3,3,3,4,3,3,3,4,3,3,3,3,3,3,3,3,3,3,3,3,3,3,3,3,3,3,4,3,3,3,3,3,3,3,3,3,3,3,3,3,3,3,3,3,3,3,3,3,4,3,3,3,3,4,3,3,3,3,3,3,3,3,3,3,3,3,4,3,3,3,3,3,3,3,3,3,3,3,4,3,3,3,3,4,3,3,3,3,3,3,3,3,3,3,4,3,3,3,4,3,3,3,3,3,3,3,4,3,3,3,3,3,3,3,3,3,3,3,3,3,4,3,3,3,3,4,4,3,3,3,4,3,3,3,3,4,3,3,3,3,3,4,3,3,3,3,4,3,3,3,3,3,3,4,3,3,3,3,4,3,4,3,3,3,4,3,3,3,3,3,3,3,3,3,3,3,3,3,3,3,3,3,3,3,3,3,3,4,4,3,3,3,4,3,3,3,3,3,3,3,3,3,3,3,3,3,3,3,4,3,3,3,3,3,3,3,4,3,3,3,3,3,3,3,3,3,3,3,3,3,3,3,4,3,3,3,3,3,3,4,3,4,4,3,3,3,3,3,3,3,3,3,3,4,3,3,3,3,3,3,3,3,3,3,3,3,3,4,3,3,3,3,3,3,3,3,3,3,4,3,3,3,3,3,3,3,3,3,3,3,3,3,3,3,3,3,3,3,3,3,3,3,3,4,3,3,3,3,3,3,4,3,3,3,3,3,4,3,3,3,4,4,3,3,3,3,3,3,3,4,3,3,3,3,4,3,3,3,4,3,3,3,4,3,4,3,3,3,3,3,3,3,3,3,4,3,4,3,3,3,3,3,3,3,3,3,3,4,3,3,3,3,3,3,3,3,3,3,3,3,3,3,3,3,3,3,3,3,4,3,3,3,3,3,3,3,3,3,3,3,3,4,3,3,3,3,3,3,4,3,3,3,3,3,3,3,4,4,4,3,3,3,3,3,3,4,3,3,3,3,4,3,3,3,3,4,3,3,4,3,3,3,3,3,3,3,3,3,3,4,3,3,3,3,3,3,3,3,3,3,3,3,3,4,3,3,3,4,3,3,3,3,3,3,3,3,3,3,3,3,3,3,4,3,3,4,3,4,3,3,3,3,3,3,3,3,3,3,3,4,3,3,3,3,3,3,3,3,3,3,3,4,4,3,3,3,3,3,4,4,3,3,3,4,4,4,3,3,3,4,3,3,3,3,3,3,4,3,3,3,3,3,4,3,3,3,3,3,4,3,3,4,3,3,3,3,3,3,4,3,3,3,3,3,3,3,3,3,3,3,3,3,4,3,3,3,3,3,3,3,3,4,4,3,3,3,3,4,3,3,3,4,3,4,3,3,3,3,3,3,4,3,3,3,3,3,3,3,3,4,3,3,3,3,3,4,3,3,3,3,3,3,3,3,3,3,3,4,4,3,3,3,3,3,3,4,3,4,4,4,3,3,3,3,3,3,3,3,3,3,3,3,3,3,3,3,3,4,3,3],\"xaxis\":\"x\",\"yaxis\":\"y\",\"type\":\"histogram\"}],                        {\"template\":{\"data\":{\"histogram2dcontour\":[{\"type\":\"histogram2dcontour\",\"colorbar\":{\"outlinewidth\":0,\"ticks\":\"\"},\"colorscale\":[[0.0,\"#0d0887\"],[0.1111111111111111,\"#46039f\"],[0.2222222222222222,\"#7201a8\"],[0.3333333333333333,\"#9c179e\"],[0.4444444444444444,\"#bd3786\"],[0.5555555555555556,\"#d8576b\"],[0.6666666666666666,\"#ed7953\"],[0.7777777777777778,\"#fb9f3a\"],[0.8888888888888888,\"#fdca26\"],[1.0,\"#f0f921\"]]}],\"choropleth\":[{\"type\":\"choropleth\",\"colorbar\":{\"outlinewidth\":0,\"ticks\":\"\"}}],\"histogram2d\":[{\"type\":\"histogram2d\",\"colorbar\":{\"outlinewidth\":0,\"ticks\":\"\"},\"colorscale\":[[0.0,\"#0d0887\"],[0.1111111111111111,\"#46039f\"],[0.2222222222222222,\"#7201a8\"],[0.3333333333333333,\"#9c179e\"],[0.4444444444444444,\"#bd3786\"],[0.5555555555555556,\"#d8576b\"],[0.6666666666666666,\"#ed7953\"],[0.7777777777777778,\"#fb9f3a\"],[0.8888888888888888,\"#fdca26\"],[1.0,\"#f0f921\"]]}],\"heatmap\":[{\"type\":\"heatmap\",\"colorbar\":{\"outlinewidth\":0,\"ticks\":\"\"},\"colorscale\":[[0.0,\"#0d0887\"],[0.1111111111111111,\"#46039f\"],[0.2222222222222222,\"#7201a8\"],[0.3333333333333333,\"#9c179e\"],[0.4444444444444444,\"#bd3786\"],[0.5555555555555556,\"#d8576b\"],[0.6666666666666666,\"#ed7953\"],[0.7777777777777778,\"#fb9f3a\"],[0.8888888888888888,\"#fdca26\"],[1.0,\"#f0f921\"]]}],\"heatmapgl\":[{\"type\":\"heatmapgl\",\"colorbar\":{\"outlinewidth\":0,\"ticks\":\"\"},\"colorscale\":[[0.0,\"#0d0887\"],[0.1111111111111111,\"#46039f\"],[0.2222222222222222,\"#7201a8\"],[0.3333333333333333,\"#9c179e\"],[0.4444444444444444,\"#bd3786\"],[0.5555555555555556,\"#d8576b\"],[0.6666666666666666,\"#ed7953\"],[0.7777777777777778,\"#fb9f3a\"],[0.8888888888888888,\"#fdca26\"],[1.0,\"#f0f921\"]]}],\"contourcarpet\":[{\"type\":\"contourcarpet\",\"colorbar\":{\"outlinewidth\":0,\"ticks\":\"\"}}],\"contour\":[{\"type\":\"contour\",\"colorbar\":{\"outlinewidth\":0,\"ticks\":\"\"},\"colorscale\":[[0.0,\"#0d0887\"],[0.1111111111111111,\"#46039f\"],[0.2222222222222222,\"#7201a8\"],[0.3333333333333333,\"#9c179e\"],[0.4444444444444444,\"#bd3786\"],[0.5555555555555556,\"#d8576b\"],[0.6666666666666666,\"#ed7953\"],[0.7777777777777778,\"#fb9f3a\"],[0.8888888888888888,\"#fdca26\"],[1.0,\"#f0f921\"]]}],\"surface\":[{\"type\":\"surface\",\"colorbar\":{\"outlinewidth\":0,\"ticks\":\"\"},\"colorscale\":[[0.0,\"#0d0887\"],[0.1111111111111111,\"#46039f\"],[0.2222222222222222,\"#7201a8\"],[0.3333333333333333,\"#9c179e\"],[0.4444444444444444,\"#bd3786\"],[0.5555555555555556,\"#d8576b\"],[0.6666666666666666,\"#ed7953\"],[0.7777777777777778,\"#fb9f3a\"],[0.8888888888888888,\"#fdca26\"],[1.0,\"#f0f921\"]]}],\"mesh3d\":[{\"type\":\"mesh3d\",\"colorbar\":{\"outlinewidth\":0,\"ticks\":\"\"}}],\"scatter\":[{\"fillpattern\":{\"fillmode\":\"overlay\",\"size\":10,\"solidity\":0.2},\"type\":\"scatter\"}],\"parcoords\":[{\"type\":\"parcoords\",\"line\":{\"colorbar\":{\"outlinewidth\":0,\"ticks\":\"\"}}}],\"scatterpolargl\":[{\"type\":\"scatterpolargl\",\"marker\":{\"colorbar\":{\"outlinewidth\":0,\"ticks\":\"\"}}}],\"bar\":[{\"error_x\":{\"color\":\"#2a3f5f\"},\"error_y\":{\"color\":\"#2a3f5f\"},\"marker\":{\"line\":{\"color\":\"#E5ECF6\",\"width\":0.5},\"pattern\":{\"fillmode\":\"overlay\",\"size\":10,\"solidity\":0.2}},\"type\":\"bar\"}],\"scattergeo\":[{\"type\":\"scattergeo\",\"marker\":{\"colorbar\":{\"outlinewidth\":0,\"ticks\":\"\"}}}],\"scatterpolar\":[{\"type\":\"scatterpolar\",\"marker\":{\"colorbar\":{\"outlinewidth\":0,\"ticks\":\"\"}}}],\"histogram\":[{\"marker\":{\"pattern\":{\"fillmode\":\"overlay\",\"size\":10,\"solidity\":0.2}},\"type\":\"histogram\"}],\"scattergl\":[{\"type\":\"scattergl\",\"marker\":{\"colorbar\":{\"outlinewidth\":0,\"ticks\":\"\"}}}],\"scatter3d\":[{\"type\":\"scatter3d\",\"line\":{\"colorbar\":{\"outlinewidth\":0,\"ticks\":\"\"}},\"marker\":{\"colorbar\":{\"outlinewidth\":0,\"ticks\":\"\"}}}],\"scattermapbox\":[{\"type\":\"scattermapbox\",\"marker\":{\"colorbar\":{\"outlinewidth\":0,\"ticks\":\"\"}}}],\"scatterternary\":[{\"type\":\"scatterternary\",\"marker\":{\"colorbar\":{\"outlinewidth\":0,\"ticks\":\"\"}}}],\"scattercarpet\":[{\"type\":\"scattercarpet\",\"marker\":{\"colorbar\":{\"outlinewidth\":0,\"ticks\":\"\"}}}],\"carpet\":[{\"aaxis\":{\"endlinecolor\":\"#2a3f5f\",\"gridcolor\":\"white\",\"linecolor\":\"white\",\"minorgridcolor\":\"white\",\"startlinecolor\":\"#2a3f5f\"},\"baxis\":{\"endlinecolor\":\"#2a3f5f\",\"gridcolor\":\"white\",\"linecolor\":\"white\",\"minorgridcolor\":\"white\",\"startlinecolor\":\"#2a3f5f\"},\"type\":\"carpet\"}],\"table\":[{\"cells\":{\"fill\":{\"color\":\"#EBF0F8\"},\"line\":{\"color\":\"white\"}},\"header\":{\"fill\":{\"color\":\"#C8D4E3\"},\"line\":{\"color\":\"white\"}},\"type\":\"table\"}],\"barpolar\":[{\"marker\":{\"line\":{\"color\":\"#E5ECF6\",\"width\":0.5},\"pattern\":{\"fillmode\":\"overlay\",\"size\":10,\"solidity\":0.2}},\"type\":\"barpolar\"}],\"pie\":[{\"automargin\":true,\"type\":\"pie\"}]},\"layout\":{\"autotypenumbers\":\"strict\",\"colorway\":[\"#636efa\",\"#EF553B\",\"#00cc96\",\"#ab63fa\",\"#FFA15A\",\"#19d3f3\",\"#FF6692\",\"#B6E880\",\"#FF97FF\",\"#FECB52\"],\"font\":{\"color\":\"#2a3f5f\"},\"hovermode\":\"closest\",\"hoverlabel\":{\"align\":\"left\"},\"paper_bgcolor\":\"white\",\"plot_bgcolor\":\"#E5ECF6\",\"polar\":{\"bgcolor\":\"#E5ECF6\",\"angularaxis\":{\"gridcolor\":\"white\",\"linecolor\":\"white\",\"ticks\":\"\"},\"radialaxis\":{\"gridcolor\":\"white\",\"linecolor\":\"white\",\"ticks\":\"\"}},\"ternary\":{\"bgcolor\":\"#E5ECF6\",\"aaxis\":{\"gridcolor\":\"white\",\"linecolor\":\"white\",\"ticks\":\"\"},\"baxis\":{\"gridcolor\":\"white\",\"linecolor\":\"white\",\"ticks\":\"\"},\"caxis\":{\"gridcolor\":\"white\",\"linecolor\":\"white\",\"ticks\":\"\"}},\"coloraxis\":{\"colorbar\":{\"outlinewidth\":0,\"ticks\":\"\"}},\"colorscale\":{\"sequential\":[[0.0,\"#0d0887\"],[0.1111111111111111,\"#46039f\"],[0.2222222222222222,\"#7201a8\"],[0.3333333333333333,\"#9c179e\"],[0.4444444444444444,\"#bd3786\"],[0.5555555555555556,\"#d8576b\"],[0.6666666666666666,\"#ed7953\"],[0.7777777777777778,\"#fb9f3a\"],[0.8888888888888888,\"#fdca26\"],[1.0,\"#f0f921\"]],\"sequentialminus\":[[0.0,\"#0d0887\"],[0.1111111111111111,\"#46039f\"],[0.2222222222222222,\"#7201a8\"],[0.3333333333333333,\"#9c179e\"],[0.4444444444444444,\"#bd3786\"],[0.5555555555555556,\"#d8576b\"],[0.6666666666666666,\"#ed7953\"],[0.7777777777777778,\"#fb9f3a\"],[0.8888888888888888,\"#fdca26\"],[1.0,\"#f0f921\"]],\"diverging\":[[0,\"#8e0152\"],[0.1,\"#c51b7d\"],[0.2,\"#de77ae\"],[0.3,\"#f1b6da\"],[0.4,\"#fde0ef\"],[0.5,\"#f7f7f7\"],[0.6,\"#e6f5d0\"],[0.7,\"#b8e186\"],[0.8,\"#7fbc41\"],[0.9,\"#4d9221\"],[1,\"#276419\"]]},\"xaxis\":{\"gridcolor\":\"white\",\"linecolor\":\"white\",\"ticks\":\"\",\"title\":{\"standoff\":15},\"zerolinecolor\":\"white\",\"automargin\":true,\"zerolinewidth\":2},\"yaxis\":{\"gridcolor\":\"white\",\"linecolor\":\"white\",\"ticks\":\"\",\"title\":{\"standoff\":15},\"zerolinecolor\":\"white\",\"automargin\":true,\"zerolinewidth\":2},\"scene\":{\"xaxis\":{\"backgroundcolor\":\"#E5ECF6\",\"gridcolor\":\"white\",\"linecolor\":\"white\",\"showbackground\":true,\"ticks\":\"\",\"zerolinecolor\":\"white\",\"gridwidth\":2},\"yaxis\":{\"backgroundcolor\":\"#E5ECF6\",\"gridcolor\":\"white\",\"linecolor\":\"white\",\"showbackground\":true,\"ticks\":\"\",\"zerolinecolor\":\"white\",\"gridwidth\":2},\"zaxis\":{\"backgroundcolor\":\"#E5ECF6\",\"gridcolor\":\"white\",\"linecolor\":\"white\",\"showbackground\":true,\"ticks\":\"\",\"zerolinecolor\":\"white\",\"gridwidth\":2}},\"shapedefaults\":{\"line\":{\"color\":\"#2a3f5f\"}},\"annotationdefaults\":{\"arrowcolor\":\"#2a3f5f\",\"arrowhead\":0,\"arrowwidth\":1},\"geo\":{\"bgcolor\":\"white\",\"landcolor\":\"#E5ECF6\",\"subunitcolor\":\"white\",\"showland\":true,\"showlakes\":true,\"lakecolor\":\"white\"},\"title\":{\"x\":0.05},\"mapbox\":{\"style\":\"light\"}}},\"xaxis\":{\"anchor\":\"y\",\"domain\":[0.0,1.0],\"title\":{\"text\":\"PerformanceRating\"}},\"yaxis\":{\"anchor\":\"x\",\"domain\":[0.0,1.0],\"title\":{\"text\":\"count\"}},\"legend\":{\"title\":{\"text\":\"Attrition\"},\"tracegroupgap\":0},\"margin\":{\"t\":60},\"barmode\":\"group\"},                        {\"responsive\": true}                    ).then(function(){\n",
              "                            \n",
              "var gd = document.getElementById('8e4b6719-0352-4188-97fd-4e9dc2121449');\n",
              "var x = new MutationObserver(function (mutations, observer) {{\n",
              "        var display = window.getComputedStyle(gd).display;\n",
              "        if (!display || display === 'none') {{\n",
              "            console.log([gd, 'removed!']);\n",
              "            Plotly.purge(gd);\n",
              "            observer.disconnect();\n",
              "        }}\n",
              "}});\n",
              "\n",
              "// Listen for the removal of the full notebook cells\n",
              "var notebookContainer = gd.closest('#notebook-container');\n",
              "if (notebookContainer) {{\n",
              "    x.observe(notebookContainer, {childList: true});\n",
              "}}\n",
              "\n",
              "// Listen for the clearing of the current output cell\n",
              "var outputEl = gd.closest('.output');\n",
              "if (outputEl) {{\n",
              "    x.observe(outputEl, {childList: true});\n",
              "}}\n",
              "\n",
              "                        })                };                            </script>        </div>\n",
              "</body>\n",
              "</html>"
            ]
          },
          "metadata": {}
        }
      ]
    },
    {
      "cell_type": "markdown",
      "source": [
        "**Insight:** Most performance ratings are high (3 or 4), suggesting limited rating variance. Lower ratings correlate with higher attrition"
      ],
      "metadata": {
        "id": "sigMvcQBw6Jz"
      }
    },
    {
      "cell_type": "markdown",
      "source": [
        "**JobSatisfaction:** Job satisfaction level (1–4)\n",
        "\n",
        "**WorkLifeBalance:** Work-life balance rating (1–4)\n",
        "\n",
        "**EnvironmentSatisfaction:** Satisfaction with workplace environment (1–4)\n",
        "\n",
        "**JobInvolvement:** Level of involvement in the job (1–4)\n",
        "\n",
        "**RelationshipSatisfaction:** Satisfaction with coworkers (1–4)\n"
      ],
      "metadata": {
        "id": "hyg_rfQR40FY"
      }
    },
    {
      "cell_type": "code",
      "source": [
        "from plotly.subplots import make_subplots\n",
        "import plotly.graph_objects as go\n",
        "\n",
        "# Create subplots (2 rows, 3 columns)\n",
        "fig = make_subplots(rows=2, cols=3,\n",
        "                    subplot_titles=(\"Job Satisfaction\",\n",
        "                                    \"Work-Life Balance\",\n",
        "                                    \"Environment Satisfaction\",\n",
        "                                    \"Job Involvement\",\n",
        "                                    \"Relationship Satisfaction\"))\n",
        "\n",
        "# Job Satisfaction\n",
        "job = px.histogram(df, x='JobSatisfaction', color='Attrition', barmode='group', color_discrete_map={'Yes':'green','No':'darkblue'})\n",
        "for trace in job['data']:\n",
        "    fig.add_trace(trace, row=1, col=1)\n",
        "\n",
        "# Work-Life Balance\n",
        "wlb = px.histogram(df, x='WorkLifeBalance', color='Attrition', barmode='group', color_discrete_map={'Yes':'green','No':'darkblue'})\n",
        "for trace in wlb['data']:\n",
        "    fig.add_trace(trace, row=1, col=2)\n",
        "\n",
        "# Environment Satisfaction\n",
        "es = px.histogram(df, x='EnvironmentSatisfaction', color='Attrition', barmode='group',\n",
        "                  color_discrete_map={'Yes':'green','No':'darkblue'})\n",
        "for trace in es['data']:\n",
        "    fig.add_trace(trace, row=1, col=3)\n",
        "\n",
        "# Job Involvement\n",
        "ji = px.histogram(df, x='JobInvolvement', color='Attrition', barmode='group', color_discrete_map={'Yes':'green','No':'darkblue'})\n",
        "for trace in ji['data']:\n",
        "    fig.add_trace(trace, row=2, col=1)\n",
        "\n",
        "# Relationship Satisfaction\n",
        "rs = px.histogram(df, x='RelationshipSatisfaction', color='Attrition', barmode='group',\n",
        "                  color_discrete_map={'Yes':'green','No':'darkblue'})\n",
        "for trace in rs['data']:\n",
        "    fig.add_trace(trace, row=2, col=2)\n",
        "\n",
        "# Layout\n",
        "fig.update_layout(title_text=\"Employee Satisfaction Distributions by Attrition\",\n",
        "                  height=800, width=1100,\n",
        "                  showlegend=False)\n",
        "\n",
        "fig.show()"
      ],
      "metadata": {
        "colab": {
          "base_uri": "https://localhost:8080/",
          "height": 817
        },
        "id": "h7Jr_PoVf14q",
        "outputId": "5cd7ab5f-ccf4-456b-fc1e-f6723e61ec41"
      },
      "execution_count": null,
      "outputs": [
        {
          "output_type": "display_data",
          "data": {
            "text/html": [
              "<html>\n",
              "<head><meta charset=\"utf-8\" /></head>\n",
              "<body>\n",
              "    <div>            <script src=\"https://cdnjs.cloudflare.com/ajax/libs/mathjax/2.7.5/MathJax.js?config=TeX-AMS-MML_SVG\"></script><script type=\"text/javascript\">if (window.MathJax && window.MathJax.Hub && window.MathJax.Hub.Config) {window.MathJax.Hub.Config({SVG: {font: \"STIX-Web\"}});}</script>                <script type=\"text/javascript\">window.PlotlyConfig = {MathJaxConfig: 'local'};</script>\n",
              "        <script charset=\"utf-8\" src=\"https://cdn.plot.ly/plotly-2.35.2.min.js\"></script>                <div id=\"65dce16f-a067-4931-a709-f05d6e4168a9\" class=\"plotly-graph-div\" style=\"height:800px; width:1100px;\"></div>            <script type=\"text/javascript\">                                    window.PLOTLYENV=window.PLOTLYENV || {};                                    if (document.getElementById(\"65dce16f-a067-4931-a709-f05d6e4168a9\")) {                    Plotly.newPlot(                        \"65dce16f-a067-4931-a709-f05d6e4168a9\",                        [{\"alignmentgroup\":\"True\",\"bingroup\":\"x\",\"hovertemplate\":\"Attrition=Yes\\u003cbr\\u003eJobSatisfaction=%{x}\\u003cbr\\u003ecount=%{y}\\u003cextra\\u003e\\u003c\\u002fextra\\u003e\",\"legendgroup\":\"Yes\",\"marker\":{\"color\":\"green\",\"pattern\":{\"shape\":\"\"}},\"name\":\"Yes\",\"offsetgroup\":\"Yes\",\"orientation\":\"v\",\"showlegend\":true,\"x\":[4,3,3,1,1,1,4,4,3,3,3,3,3,3,4,1,4,3,3,2,3,4,3,3,4,1,1,4,2,3,1,4,4,1,1,3,4,4,1,3,3,2,3,2,3,2,4,3,2,4,3,1,2,3,2,3,2,4,1,4,1,2,3,2,4,3,4,3,1,3,3,2,4,3,3,1,1,1,1,3,1,3,3,2,3,4,3,1,1,1,1,1,2,3,4,4,3,2,3,4,4,3,4,3,4,1,2,2,1,4,3,3,2,1,1,3,2,1,2,2,1,4,1,3,1,4,1,3,1,1,1,3,4,3,2,2,3,4,3,1,3,1,1,4,3,3,4,1,2,2,4,2,3,4,3,3,1,2,2,2,1,1,3,4,3,3,3,1,4,3,2,1,4,1,2,4,3,3,2,2,1,1,1,1,3,1,1,4,2,2,4,1,4,1,4,3,3,2,4,3,3,1,2,4,2,1,3,3,2,1,2,4,1,1,2,2,1,1,2,4,2,4,2,1,4,1,3,3,2,4,4,1,1,4,3,3,1],\"xaxis\":\"x\",\"yaxis\":\"y\",\"type\":\"histogram\"},{\"alignmentgroup\":\"True\",\"bingroup\":\"x\",\"hovertemplate\":\"Attrition=No\\u003cbr\\u003eJobSatisfaction=%{x}\\u003cbr\\u003ecount=%{y}\\u003cextra\\u003e\\u003c\\u002fextra\\u003e\",\"legendgroup\":\"No\",\"marker\":{\"color\":\"darkblue\",\"pattern\":{\"shape\":\"\"}},\"name\":\"No\",\"offsetgroup\":\"No\",\"orientation\":\"v\",\"showlegend\":true,\"x\":[2,3,2,4,1,3,3,3,2,3,3,4,1,2,4,4,4,3,2,4,3,2,4,1,4,4,3,3,4,1,1,4,1,3,4,3,2,4,4,1,1,4,4,1,1,4,3,4,4,3,1,3,3,2,1,1,3,2,2,2,4,4,1,1,3,2,4,3,4,4,2,4,1,4,4,2,4,2,1,3,3,3,3,3,2,1,3,4,4,2,4,4,1,4,3,2,4,1,4,4,4,3,2,3,2,4,1,3,4,3,3,2,3,3,4,4,3,3,4,1,4,1,1,2,2,2,3,2,4,3,3,2,4,3,4,2,4,4,3,2,3,4,4,3,2,2,1,1,1,4,1,4,4,2,3,1,2,3,2,3,2,3,2,4,4,1,2,3,3,4,1,4,3,4,2,4,4,1,3,3,2,4,4,1,2,2,4,3,3,4,4,4,3,4,4,3,4,4,3,2,3,4,1,4,4,3,4,1,1,3,3,4,1,4,3,1,3,4,2,4,1,2,2,4,1,4,4,1,4,4,3,4,2,1,2,2,3,3,4,4,1,4,4,4,1,2,2,4,2,2,4,2,2,3,1,4,4,2,3,2,3,4,1,1,4,2,1,4,3,2,2,3,4,4,4,3,4,4,3,3,2,3,1,4,4,4,3,2,4,4,4,2,2,4,2,3,4,3,3,2,3,1,3,3,4,4,4,3,3,4,1,3,4,2,4,2,2,4,3,4,3,4,3,2,2,3,1,2,1,2,2,3,1,3,1,4,3,4,3,1,3,1,3,1,1,3,4,4,3,4,1,3,4,4,3,4,4,3,1,4,3,4,1,4,3,3,3,3,4,2,2,3,3,4,4,2,4,3,3,3,4,1,2,4,3,4,1,3,3,3,4,4,3,1,2,1,4,3,2,3,4,2,2,2,3,4,4,4,3,3,2,4,4,1,3,1,3,3,3,4,3,3,4,3,1,4,4,3,3,4,4,2,2,4,3,1,2,4,4,2,4,4,3,2,3,4,4,1,4,1,1,3,4,1,1,3,2,1,3,3,3,4,3,4,3,1,2,4,4,1,2,4,1,4,3,1,1,4,3,3,4,1,4,4,3,4,1,4,1,1,1,4,3,2,1,4,2,3,3,3,4,2,3,3,4,2,3,3,4,3,2,1,4,1,4,3,2,4,4,3,2,1,1,1,4,4,4,4,1,3,4,3,4,4,4,4,1,1,3,4,1,1,4,2,2,4,4,4,2,4,4,4,4,2,1,4,2,4,1,4,2,4,4,3,3,2,3,1,2,3,4,2,3,3,4,1,2,2,1,1,3,4,2,1,4,2,4,3,4,3,3,4,4,3,3,4,3,4,4,4,2,3,2,1,4,3,3,3,3,1,4,3,3,1,4,1,3,3,3,4,4,4,3,4,4,2,3,4,4,3,1,4,4,3,4,4,2,2,3,2,3,3,2,1,3,4,3,3,4,1,4,1,1,1,3,3,4,3,2,3,4,3,4,4,1,2,4,4,3,2,3,4,2,3,2,1,3,2,2,4,4,2,4,2,3,2,4,4,3,3,4,4,3,3,3,3,1,3,2,4,3,4,2,1,4,1,1,4,1,3,4,3,3,4,1,3,3,1,2,1,1,2,1,3,3,3,4,4,4,1,4,2,3,1,4,2,4,2,1,4,1,3,4,4,4,1,1,4,4,3,2,2,3,4,4,4,3,2,3,4,3,4,2,2,1,2,4,2,3,1,2,3,2,4,2,4,3,3,1,2,4,2,2,3,4,3,1,4,1,1,3,3,2,3,3,2,3,4,4,1,3,2,1,1,4,2,1,4,4,2,4,4,4,2,3,3,3,3,4,1,4,2,4,3,4,2,3,3,3,3,4,4,1,1,3,4,4,1,1,4,1,4,2,1,2,1,1,4,1,4,3,1,3,3,4,2,3,3,4,1,2,4,1,2,1,3,2,3,3,2,1,1,3,4,3,3,3,2,1,3,2,3,3,3,3,2,3,3,1,1,2,2,3,4,4,1,2,2,2,3,3,4,3,2,4,1,2,4,4,1,3,4,1,4,2,3,2,4,3,3,1,3,1,2,1,1,4,4,4,4,2,2,3,1,3,3,4,3,3,1,4,3,3,1,2,4,1,3,3,4,4,2,1,1,1,3,4,1,1,1,1,1,4,3,3,3,3,3,3,4,3,2,4,4,4,4,3,4,3,1,3,2,2,1,3,2,2,3,3,1,3,3,4,2,4,2,4,1,2,2,3,3,1,4,3,4,3,4,4,2,4,4,2,4,4,4,4,4,3,3,3,4,3,3,2,3,3,2,1,1,2,3,4,2,4,2,4,4,3,2,3,1,4,3,4,3,1,4,2,4,2,1,3,2,4,2,1,2,1,3,3,4,4,3,4,3,2,4,1,2,1,4,3,2,1,1,4,2,4,3,2,3,3,4,3,2,3,2,1,4,1,1,4,4,3,3,3,2,4,4,4,4,3,3,4,4,3,3,1,3,2,3,2,1,4,4,2,3,3,4,1,1,2,4,4,1,3,3,4,1,2,2,1,4,4,3,4,3,3,4,3,2,4,2,1,1,2,4,4,4,4,1,3,1,2,4,3,1,1,4,1,1,4,4,4,3,3,3,2,2,4,1,3,3,1,3,4,3,2,2,2,3,3,3,2,3,3,1,4,2,3,3,3,4,2,4,2,4,3,4,4,3,4,4,1,4,4,2,3,3,2,3,4,2,1,4,4,4,3,3,3,3,4,2,1,4,1,3,4,1,2,2,3],\"xaxis\":\"x\",\"yaxis\":\"y\",\"type\":\"histogram\"},{\"alignmentgroup\":\"True\",\"bingroup\":\"x\",\"hovertemplate\":\"Attrition=Yes\\u003cbr\\u003eWorkLifeBalance=%{x}\\u003cbr\\u003ecount=%{y}\\u003cextra\\u003e\\u003c\\u002fextra\\u003e\",\"legendgroup\":\"Yes\",\"marker\":{\"color\":\"green\",\"pattern\":{\"shape\":\"\"}},\"name\":\"Yes\",\"offsetgroup\":\"Yes\",\"orientation\":\"v\",\"showlegend\":true,\"x\":[1,3,3,3,3,3,4,2,3,2,3,3,2,2,3,3,3,3,3,3,2,2,2,3,3,4,4,2,2,3,3,2,2,3,2,2,2,1,4,1,3,4,1,2,1,3,3,3,2,2,2,2,3,3,3,3,3,2,3,3,3,3,2,4,4,4,3,3,3,3,2,3,1,3,3,4,1,3,3,3,3,3,3,3,3,2,3,3,2,3,3,3,3,2,4,2,3,2,3,1,2,2,2,4,2,1,3,4,3,3,1,3,2,3,3,3,1,3,3,1,3,3,3,2,3,3,2,4,2,3,3,3,4,2,3,3,3,3,3,3,2,1,2,2,2,3,3,1,1,4,3,3,1,3,3,3,3,3,2,4,4,2,2,4,2,2,3,3,3,3,4,3,4,4,3,1,3,4,1,4,2,2,1,1,1,3,3,3,3,3,4,3,2,1,4,3,3,3,3,3,1,3,3,2,3,2,3,3,3,3,2,3,2,1,3,4,3,3,2,2,3,2,3,3,3,3,3,3,3,2,3,2,2,4,1,3,3],\"xaxis\":\"x2\",\"yaxis\":\"y2\",\"type\":\"histogram\"},{\"alignmentgroup\":\"True\",\"bingroup\":\"x\",\"hovertemplate\":\"Attrition=No\\u003cbr\\u003eWorkLifeBalance=%{x}\\u003cbr\\u003ecount=%{y}\\u003cextra\\u003e\\u003c\\u002fextra\\u003e\",\"legendgroup\":\"No\",\"marker\":{\"color\":\"darkblue\",\"pattern\":{\"shape\":\"\"}},\"name\":\"No\",\"offsetgroup\":\"No\",\"orientation\":\"v\",\"showlegend\":true,\"x\":[3,3,3,2,2,3,3,2,3,3,2,3,3,2,2,3,3,2,3,3,2,3,3,2,3,4,3,2,3,4,3,3,3,3,3,3,3,3,3,2,3,2,3,2,3,2,4,3,3,2,2,3,3,3,3,2,2,3,3,3,3,3,3,4,4,3,2,3,3,3,3,2,3,3,3,2,1,2,2,3,1,2,4,2,4,3,3,4,3,2,3,3,2,3,3,3,3,3,3,3,4,2,4,3,2,3,2,3,3,3,3,3,4,3,1,2,3,2,4,3,3,2,3,3,3,3,1,1,3,3,3,2,2,3,3,1,1,1,2,3,3,3,4,3,2,2,3,4,3,4,3,3,3,3,2,3,3,3,3,2,3,3,2,4,3,2,3,3,3,1,3,3,4,4,2,3,1,3,3,3,1,3,3,3,4,3,3,2,3,3,3,3,4,2,3,2,2,3,4,3,3,3,2,3,3,3,2,3,2,3,3,3,3,3,3,3,3,2,1,3,3,2,3,3,3,3,3,3,2,4,4,3,2,3,1,2,2,3,2,3,3,3,3,3,3,3,2,2,4,2,3,3,3,3,3,2,2,3,2,3,3,3,3,3,1,3,3,3,3,2,3,3,3,2,3,3,3,2,3,4,3,2,2,3,2,3,3,3,2,3,2,3,3,2,3,3,3,2,3,3,1,3,4,3,3,3,3,3,3,2,3,4,3,3,3,3,3,3,3,2,3,3,4,3,3,3,2,3,3,2,3,3,2,3,1,3,3,3,3,3,3,2,3,3,3,3,2,1,3,3,1,2,4,3,3,1,1,3,3,2,3,2,4,3,1,3,3,3,3,4,3,3,3,2,3,3,3,3,3,3,4,2,4,4,3,2,3,3,3,3,3,4,2,3,3,3,3,3,2,3,3,4,3,3,3,3,3,4,2,2,4,3,2,2,3,1,4,3,3,4,3,3,2,3,4,2,3,3,2,3,1,4,3,3,3,4,3,3,3,3,3,3,3,4,3,2,2,3,3,3,3,3,2,3,2,3,3,3,4,3,2,2,3,3,3,4,1,2,2,1,3,3,4,3,1,3,4,2,3,3,3,3,3,3,2,3,3,3,2,3,3,2,3,3,3,2,3,3,3,4,2,3,3,3,3,3,3,3,2,3,2,2,3,3,3,4,3,1,2,2,2,2,3,2,2,2,2,3,3,2,3,3,3,1,2,3,3,3,3,3,4,3,2,3,3,2,3,3,3,3,3,2,3,3,3,3,4,3,3,3,4,2,2,3,3,3,3,3,3,4,1,2,2,2,3,3,3,2,3,3,3,1,3,4,3,2,3,3,2,4,4,3,3,3,4,3,3,3,3,2,3,4,3,3,3,3,2,3,3,3,3,3,2,2,3,2,3,3,3,3,3,2,4,3,3,3,3,3,3,3,3,2,4,3,2,1,3,3,3,3,3,2,2,2,3,3,3,3,2,4,3,3,3,2,3,2,3,3,3,4,3,2,2,3,3,3,3,2,3,3,3,3,2,3,3,3,4,4,2,3,3,1,3,3,2,2,3,2,4,3,3,3,3,2,1,2,4,3,3,3,3,1,4,3,4,3,3,3,3,2,2,2,3,2,3,3,3,3,3,3,3,3,3,2,3,2,3,3,2,4,3,3,3,3,3,4,3,3,3,2,2,1,3,3,3,2,3,3,3,4,2,2,3,3,4,2,2,3,3,3,3,2,3,3,3,2,2,4,2,2,4,3,3,4,3,3,2,3,2,2,4,3,3,3,3,3,4,3,3,3,3,2,3,2,3,3,3,2,3,3,3,3,3,4,2,3,2,3,3,2,4,3,3,3,3,3,3,3,4,3,4,3,2,3,4,2,3,2,2,1,3,3,3,1,3,3,2,3,2,2,3,4,3,3,4,3,4,2,2,2,1,4,4,3,2,2,2,4,3,3,3,4,3,3,3,3,2,2,4,2,3,3,2,3,2,2,2,3,2,3,3,2,3,4,3,3,2,1,3,3,3,2,3,4,3,4,3,4,1,3,3,3,3,3,3,3,3,3,1,4,3,3,3,3,3,3,3,2,3,2,1,3,3,3,2,2,1,3,2,3,3,4,3,3,3,3,4,3,3,3,3,2,2,3,3,2,1,2,3,3,2,2,3,3,3,3,3,2,3,3,3,2,3,3,3,3,3,2,1,3,4,1,2,3,3,3,3,2,3,3,3,3,3,3,3,3,3,3,3,3,3,3,4,2,3,2,3,2,3,3,3,3,3,3,2,3,2,3,3,3,4,4,3,2,3,3,4,3,3,3,3,2,2,4,3,2,4,3,3,4,3,3,2,1,2,1,2,3,1,2,4,3,3,3,2,4,3,3,2,4,2,3,3,3,3,2,3,2,3,3,2,3,3,3,3,3,3,3,3,2,3,4,3,3,2,2,3,3,3,2,1,4,3,3,3,2,4,3,3,2,3,3,2,3,3,1,4,3,3,2,4,4,2,3,2,3,3,3,3,3,3,3,3,2,3,4,3,3,3,3,3,3,3,2,2,3,2,2,3,3,1,3,4,3,2,2,3,3,2,3,3,2,3,4,3,3,3,2,4,3,3,1,2,4,3,2,2,2,2,3,3,2,3,3,3,2,3,3,3,3,3,3,3,4,3,2,4,4,3,3,2,2,3,2,3,3,3,2,3,1,3,4,3,3,3,2,3,3,3,3,3,2,2,3,3,2,3,3,2,2,3,3,2,3,3,3,3,2,3,3,4,3,3,3,1,2,3,3,3,3,3,2,4],\"xaxis\":\"x2\",\"yaxis\":\"y2\",\"type\":\"histogram\"},{\"alignmentgroup\":\"True\",\"bingroup\":\"x\",\"hovertemplate\":\"Attrition=Yes\\u003cbr\\u003eEnvironmentSatisfaction=%{x}\\u003cbr\\u003ecount=%{y}\\u003cextra\\u003e\\u003c\\u002fextra\\u003e\",\"legendgroup\":\"Yes\",\"marker\":{\"color\":\"green\",\"pattern\":{\"shape\":\"\"}},\"name\":\"Yes\",\"offsetgroup\":\"Yes\",\"orientation\":\"v\",\"showlegend\":true,\"x\":[2,4,3,3,2,2,4,2,1,1,2,1,3,4,3,3,4,3,1,2,2,4,4,2,1,1,3,2,2,2,2,2,4,4,3,3,3,3,1,4,1,3,1,1,4,1,4,3,3,1,4,2,1,4,1,3,3,1,3,3,1,1,4,3,1,2,1,1,2,3,2,2,3,4,1,2,2,3,1,4,1,1,2,1,3,4,2,4,4,3,2,1,4,3,3,3,3,4,2,1,4,3,4,2,2,4,3,4,1,3,1,4,2,3,4,1,3,4,2,1,2,1,3,1,1,4,3,1,2,2,4,1,4,1,1,1,4,1,3,1,3,4,3,3,1,3,3,1,4,1,3,1,1,1,2,4,3,4,2,4,1,3,1,3,4,4,4,1,3,2,1,1,1,1,3,2,1,1,1,1,2,3,1,4,4,2,1,3,3,3,2,4,1,1,4,4,4,4,3,4,3,2,1,3,2,1,1,3,2,3,3,3,4,4,4,4,4,1,3,4,3,2,4,4,1,3,4,1,1,3,1,1,4,1,4,2,4],\"xaxis\":\"x3\",\"yaxis\":\"y3\",\"type\":\"histogram\"},{\"alignmentgroup\":\"True\",\"bingroup\":\"x\",\"hovertemplate\":\"Attrition=No\\u003cbr\\u003eEnvironmentSatisfaction=%{x}\\u003cbr\\u003ecount=%{y}\\u003cextra\\u003e\\u003c\\u002fextra\\u003e\",\"legendgroup\":\"No\",\"marker\":{\"color\":\"darkblue\",\"pattern\":{\"shape\":\"\"}},\"name\":\"No\",\"offsetgroup\":\"No\",\"orientation\":\"v\",\"showlegend\":true,\"x\":[3,4,1,4,3,4,4,3,1,4,1,2,2,1,4,1,4,1,1,3,3,3,1,2,3,4,4,4,4,2,3,3,4,4,3,2,2,1,4,2,3,3,1,2,3,4,1,1,4,2,1,3,4,2,2,2,1,3,3,2,2,3,3,4,1,2,4,2,1,2,1,4,3,4,3,3,3,3,3,2,1,1,2,4,2,4,1,3,3,1,4,2,1,4,2,3,3,3,2,1,3,1,3,1,3,3,3,2,3,3,3,2,4,1,3,3,4,1,4,4,2,4,3,2,2,3,2,2,2,4,2,2,3,3,3,4,3,3,3,3,1,2,1,3,3,4,3,3,3,3,2,3,3,4,3,4,4,4,3,4,4,3,4,4,1,2,2,3,4,4,3,4,4,3,4,2,4,4,3,4,2,4,4,4,4,3,2,1,3,3,1,2,3,3,3,2,4,4,1,3,3,3,3,1,3,2,3,4,3,1,3,3,4,4,1,4,1,3,2,4,4,3,1,2,2,3,4,4,4,3,4,1,2,1,3,1,3,2,2,2,1,4,4,4,3,3,4,2,3,3,3,4,4,4,2,2,3,2,4,1,4,3,1,1,3,4,3,3,3,3,3,4,4,1,4,3,3,2,4,3,3,4,3,4,2,2,4,2,4,3,3,4,3,3,4,2,1,4,3,3,1,3,4,3,1,4,1,4,4,1,3,3,4,3,4,3,4,2,2,3,4,3,4,3,1,2,4,4,2,3,1,2,1,3,2,4,3,2,2,4,2,3,2,2,3,4,1,4,1,3,1,3,4,4,3,1,3,2,3,1,2,3,3,1,1,4,3,4,3,3,4,4,2,2,2,1,4,2,2,3,2,4,4,4,1,3,3,1,1,1,4,2,1,2,1,4,4,3,2,4,2,1,4,1,2,2,1,1,1,4,4,3,2,3,4,4,1,3,3,4,1,3,1,3,4,2,3,3,2,2,3,3,2,1,3,1,4,4,2,2,4,4,4,4,4,4,2,3,3,4,4,3,2,1,4,4,4,1,3,1,4,3,3,4,2,2,3,3,4,4,4,4,4,1,4,2,3,3,2,1,4,1,4,1,2,2,4,3,4,1,3,1,4,3,3,2,3,4,3,3,3,3,3,4,4,3,3,1,3,2,2,1,3,2,3,3,2,3,4,1,4,1,1,3,2,2,2,1,4,3,3,4,2,4,1,2,1,3,4,4,3,3,1,2,2,3,4,1,4,3,4,4,3,1,1,4,4,1,2,1,1,3,4,3,2,2,3,3,3,2,4,1,4,4,2,4,3,1,3,4,3,4,4,3,2,3,3,3,4,3,3,3,4,1,3,1,4,2,4,4,3,1,3,4,4,4,3,4,4,3,2,3,3,2,4,2,1,3,4,4,1,2,4,1,3,3,2,2,4,4,4,2,4,4,2,2,2,3,3,4,3,2,4,3,1,4,3,1,4,3,3,4,1,3,2,3,1,1,4,3,4,1,1,4,4,4,3,1,2,2,3,3,4,1,4,3,3,4,3,1,3,1,4,4,4,4,2,2,3,3,2,3,4,2,3,2,2,4,4,1,3,3,3,4,4,3,4,2,3,1,4,1,4,2,3,4,2,3,2,4,4,4,3,2,3,3,4,3,4,4,2,3,4,3,1,2,3,4,1,3,1,4,1,1,4,3,3,3,3,1,3,4,1,3,4,4,3,2,4,2,4,3,4,4,3,4,4,3,4,3,3,3,2,4,3,4,2,3,4,4,3,2,3,1,1,4,4,3,4,2,1,4,3,3,4,4,3,4,3,3,3,3,2,3,4,2,1,4,3,4,4,4,4,4,1,2,2,4,3,3,1,2,4,3,2,3,3,1,4,1,4,1,3,3,1,3,1,3,2,4,4,2,1,4,1,4,2,1,3,1,3,1,1,4,4,4,2,3,1,2,4,2,3,4,4,3,4,1,3,4,4,4,4,1,1,3,2,3,2,4,4,2,3,3,4,1,3,1,3,3,4,3,4,3,2,4,2,3,4,1,4,3,2,3,1,3,4,4,4,1,2,3,3,4,1,2,4,3,3,3,1,3,4,3,4,3,1,3,2,1,3,2,2,2,1,4,1,3,4,1,4,2,4,4,4,3,4,2,2,2,2,2,3,1,4,3,3,3,2,4,2,2,3,4,3,1,3,3,1,4,4,2,3,1,3,1,2,4,3,2,4,4,1,4,3,4,1,3,4,4,2,3,4,1,4,4,1,4,4,2,3,4,4,3,1,3,4,2,4,1,2,3,2,3,2,3,1,4,3,4,4,3,3,4,4,1,2,3,2,2,3,4,2,3,3,3,4,4,4,2,3,4,1,1,3,4,3,4,4,4,3,4,3,2,2,2,3,4,3,4,1,2,4,4,1,1,2,3,4,3,4,3,3,2,3,2,2,1,3,1,2,3,1,3,2,2,2,3,2,4,1,3,2,3,1,2,3,4,1,4,4,4,3,2,4,3,4,4,1,2,4,1,4,4,4,2,2,2,2,3,4,4,4,2,2,1,2,1,4,2,3,3,3,3,4,1,3,2,2,3,1,2,3,3,4,1,4,4,2,2,2,2,3,3,1,1,4,3,1,3,4,1,3,4,4,1,4,1,4,3,4,2,4,3,3,2,4,4,2,3,4,4,1,2,4,1,1,4,4,3,4,4,2,2,3,1,2,1,2,3,3,1,1,2,3,4,1,4,3,1,1,4,4,3,4,3,1,2,4,3,3,3,3,4,4,2,2,4,3,4,2,4,2],\"xaxis\":\"x3\",\"yaxis\":\"y3\",\"type\":\"histogram\"},{\"alignmentgroup\":\"True\",\"bingroup\":\"x\",\"hovertemplate\":\"Attrition=Yes\\u003cbr\\u003eJobInvolvement=%{x}\\u003cbr\\u003ecount=%{y}\\u003cextra\\u003e\\u003c\\u002fextra\\u003e\",\"legendgroup\":\"Yes\",\"marker\":{\"color\":\"green\",\"pattern\":{\"shape\":\"\"}},\"name\":\"Yes\",\"offsetgroup\":\"Yes\",\"orientation\":\"v\",\"showlegend\":true,\"x\":[3,2,2,2,3,1,3,3,2,1,3,2,3,2,2,3,2,2,1,3,1,3,3,1,1,3,1,2,3,2,3,3,1,3,2,3,2,3,3,2,3,2,3,3,3,3,2,3,2,1,3,1,2,3,3,2,4,4,3,3,3,3,1,2,2,3,1,3,3,2,3,3,1,4,3,2,3,3,3,3,3,3,3,1,4,3,4,3,2,4,2,3,3,3,3,3,2,3,2,3,2,2,3,3,1,3,2,2,3,2,2,3,4,2,2,3,2,2,3,1,1,1,4,3,3,3,2,3,2,2,3,2,3,3,2,2,3,3,3,3,3,2,3,3,1,3,2,2,3,2,1,1,2,3,3,3,3,2,3,3,3,2,4,2,3,3,3,2,3,1,2,2,3,2,4,3,3,3,3,2,3,2,2,3,3,2,3,2,3,3,3,2,1,3,3,2,3,3,3,1,1,2,1,2,1,3,3,2,3,3,3,3,3,3,3,3,4,2,2,2,3,3,3,1,3,4,3,4,2,2,3,3,3,3,3,3,2],\"xaxis\":\"x4\",\"yaxis\":\"y4\",\"type\":\"histogram\"},{\"alignmentgroup\":\"True\",\"bingroup\":\"x\",\"hovertemplate\":\"Attrition=No\\u003cbr\\u003eJobInvolvement=%{x}\\u003cbr\\u003ecount=%{y}\\u003cextra\\u003e\\u003c\\u002fextra\\u003e\",\"legendgroup\":\"No\",\"marker\":{\"color\":\"darkblue\",\"pattern\":{\"shape\":\"\"}},\"name\":\"No\",\"offsetgroup\":\"No\",\"orientation\":\"v\",\"showlegend\":true,\"x\":[2,3,3,3,4,3,2,3,4,2,3,3,4,4,4,2,3,4,3,3,3,3,2,3,3,3,2,4,3,2,4,3,3,3,3,3,3,3,4,3,2,2,3,3,3,3,2,3,3,2,3,3,3,2,3,3,2,3,3,3,4,3,2,3,3,3,2,2,3,1,3,1,3,3,2,2,3,2,2,3,3,3,3,3,3,3,3,2,2,3,2,3,2,4,3,2,3,2,3,3,3,1,3,3,2,3,3,4,3,3,3,3,2,2,3,3,3,3,1,3,2,2,3,3,3,3,3,3,3,3,2,2,2,3,3,3,3,4,2,3,3,3,2,3,3,3,3,3,3,3,3,3,3,3,2,4,3,3,4,2,3,2,3,4,2,4,3,3,3,3,2,3,3,3,4,3,2,3,2,3,2,3,2,3,3,2,3,3,1,2,3,3,3,2,3,3,3,3,2,3,3,3,3,3,4,3,2,2,2,4,3,3,4,3,3,2,3,3,4,2,2,1,2,2,4,3,3,3,3,3,2,3,4,4,3,3,3,3,3,3,3,3,3,3,3,3,3,3,3,3,4,1,3,2,4,4,4,3,2,2,1,3,2,3,3,3,3,3,2,3,2,3,3,4,3,2,2,2,3,2,3,3,3,3,1,2,2,3,3,2,3,2,3,3,2,3,3,3,3,3,3,4,3,3,2,3,2,3,4,3,3,3,2,2,3,2,3,3,2,3,3,3,3,3,3,2,3,3,3,3,2,2,3,3,3,3,3,2,3,2,3,4,3,4,3,2,3,3,3,1,3,3,2,3,3,3,3,2,3,2,2,3,2,3,3,1,3,2,2,3,3,3,3,3,3,3,3,3,3,3,3,3,3,3,4,2,1,2,3,3,4,3,3,3,3,3,3,3,3,2,4,3,2,3,3,2,2,4,2,3,2,3,2,3,3,2,2,3,3,3,3,3,3,3,3,3,3,3,3,1,3,3,2,2,2,4,4,2,1,4,4,4,4,2,2,3,4,3,3,3,2,4,2,3,3,2,3,4,3,1,3,3,3,2,3,3,4,3,2,2,3,3,3,3,3,3,2,3,1,4,3,2,3,1,3,4,3,3,3,4,2,3,1,4,3,3,2,3,3,3,3,3,4,4,2,3,2,2,2,2,3,2,2,3,2,3,3,3,3,3,3,4,4,2,3,3,2,2,3,4,2,2,2,2,4,3,2,3,2,3,2,3,2,3,2,4,3,3,2,3,3,3,3,3,3,2,3,2,3,3,3,3,2,3,3,3,2,2,2,2,3,3,3,3,3,3,2,2,2,3,3,3,3,3,2,3,3,3,3,3,3,3,3,4,4,3,3,3,3,3,4,3,3,3,3,3,3,3,2,3,3,3,3,4,4,1,2,2,3,2,3,3,3,3,2,3,1,3,4,3,3,2,3,3,4,3,3,2,3,3,3,3,3,3,2,3,2,3,2,2,2,2,2,3,4,2,3,1,3,3,2,3,3,2,3,3,2,4,2,3,2,3,3,3,3,3,2,2,3,3,4,2,3,2,3,3,1,2,4,2,3,2,2,3,3,3,3,2,3,4,2,2,2,2,2,3,3,3,3,3,2,2,3,1,3,1,3,3,3,3,2,3,3,3,1,3,3,4,3,4,4,2,3,1,3,2,3,3,3,2,3,3,4,3,3,3,2,2,1,2,3,4,3,3,2,2,4,3,4,4,3,3,2,2,3,3,3,3,3,4,2,3,4,2,3,2,2,3,3,3,4,3,2,3,2,3,3,1,3,3,3,3,1,3,1,3,3,3,3,3,3,3,3,3,3,3,4,3,4,2,3,2,1,3,2,4,3,4,3,2,2,3,3,3,3,3,3,4,4,2,2,2,3,3,3,3,3,4,2,3,3,4,3,3,3,3,3,2,2,3,4,3,3,3,3,2,4,3,3,1,4,3,3,2,3,2,4,3,3,3,3,1,3,3,3,3,4,3,3,3,3,3,2,3,3,2,3,2,3,2,3,1,3,3,3,3,3,3,2,3,2,1,3,2,3,1,2,3,3,3,3,3,2,3,3,2,2,3,3,4,3,3,2,3,3,3,3,2,3,3,3,3,3,3,3,4,3,3,4,4,2,4,2,3,4,2,4,2,3,4,3,2,1,2,3,3,4,3,3,2,4,1,3,3,2,2,3,3,3,2,2,3,3,3,2,3,4,3,2,3,4,3,3,2,3,3,3,2,2,4,3,2,3,2,3,3,3,3,2,4,3,3,3,3,3,3,3,4,3,2,2,1,4,1,2,4,2,3,4,3,3,3,2,1,2,3,3,1,3,3,3,3,3,3,3,3,3,3,1,3,1,2,3,3,3,4,2,4,3,3,2,2,4,3,1,3,2,3,3,3,2,3,1,2,2,3,2,3,3,3,4,3,3,2,3,4,3,3,3,3,4,3,3,3,4,3,1,2,3,3,3,3,1,3,3,3,3,3,3,3,3,3,3,3,3,3,1,3,4,2,2,2,2,2,3,2,3,2,3,3,3,3,2,2,2,3,2,4,3,4,2,3,3,3,2,4,4,3,3,2,1,3,2,3,2,3,2,3,3,3,3,3,3,3,4,3,3,3,3,3,1,2,3,3,2,3,3,3,3,4,1,3,2,3,3,2,3,3,3,3,3,3,3,2,3,3,2,3,3,3,3,3,3,3,2,3,2,3,1,3,4,3,3,3,3,3,2,3,3,3,2,2,1,2,3,3,3,2,3,2,3,3,1,2,2,2,3,2,4,2,4,2,4],\"xaxis\":\"x4\",\"yaxis\":\"y4\",\"type\":\"histogram\"},{\"alignmentgroup\":\"True\",\"bingroup\":\"x\",\"hovertemplate\":\"Attrition=Yes\\u003cbr\\u003eRelationshipSatisfaction=%{x}\\u003cbr\\u003ecount=%{y}\\u003cextra\\u003e\\u003c\\u002fextra\\u003e\",\"legendgroup\":\"Yes\",\"marker\":{\"color\":\"green\",\"pattern\":{\"shape\":\"\"}},\"name\":\"Yes\",\"offsetgroup\":\"Yes\",\"orientation\":\"v\",\"showlegend\":true,\"x\":[1,2,2,2,3,2,3,1,3,3,4,4,3,1,4,4,2,4,4,1,2,4,4,3,4,1,1,3,4,1,2,4,3,3,3,4,3,3,1,4,2,2,3,4,4,4,2,3,1,4,1,4,3,2,3,1,4,2,3,3,3,2,4,2,3,4,1,1,3,3,2,4,2,4,4,3,3,2,4,4,1,1,1,4,4,3,4,4,3,3,4,3,4,4,1,3,1,1,3,3,4,4,1,1,3,4,3,2,2,1,3,1,4,1,3,2,4,1,1,1,4,4,3,2,2,2,1,3,1,4,1,2,2,3,2,1,4,4,4,1,3,1,2,4,2,3,2,1,1,2,4,1,3,4,1,1,1,3,3,1,3,4,3,3,3,4,4,1,1,2,3,1,1,2,1,3,4,4,1,3,3,3,3,2,1,4,4,2,1,3,3,3,4,2,1,1,3,1,2,3,3,2,2,3,3,3,1,4,2,3,3,4,3,2,3,4,3,4,3,2,3,3,1,2,4,4,4,1,1,1,3,2,1,2,4,4,2],\"xaxis\":\"x5\",\"yaxis\":\"y5\",\"type\":\"histogram\"},{\"alignmentgroup\":\"True\",\"bingroup\":\"x\",\"hovertemplate\":\"Attrition=No\\u003cbr\\u003eRelationshipSatisfaction=%{x}\\u003cbr\\u003ecount=%{y}\\u003cextra\\u003e\\u003c\\u002fextra\\u003e\",\"legendgroup\":\"No\",\"marker\":{\"color\":\"darkblue\",\"pattern\":{\"shape\":\"\"}},\"name\":\"No\",\"offsetgroup\":\"No\",\"orientation\":\"v\",\"showlegend\":true,\"x\":[4,3,4,3,1,2,2,2,3,4,4,3,3,4,2,3,3,4,3,4,4,4,4,4,4,4,1,4,1,4,1,3,4,4,4,3,1,3,4,3,3,3,3,4,3,4,3,2,4,4,4,2,3,3,3,4,4,4,2,2,2,4,2,2,1,4,3,1,4,4,3,1,3,2,1,4,4,2,3,1,1,1,2,3,3,4,3,4,4,1,3,3,3,3,3,3,1,4,3,1,4,3,1,3,3,3,3,4,4,3,4,4,3,4,4,2,2,3,4,4,4,2,4,4,1,1,4,3,4,1,3,2,1,4,1,4,3,2,4,2,1,3,3,1,4,3,3,1,3,1,3,3,3,4,4,3,4,2,4,3,3,1,4,4,4,1,4,2,2,1,3,1,4,3,1,1,4,3,3,4,4,3,4,4,4,4,3,3,4,1,3,4,1,2,4,4,3,3,4,1,3,1,1,1,3,1,3,2,1,4,4,1,3,4,4,3,4,2,3,4,4,2,2,2,4,2,3,3,4,2,1,1,2,3,1,1,4,3,1,4,3,2,2,4,4,4,3,3,4,3,4,4,2,1,3,2,1,3,3,3,4,3,4,1,2,2,4,1,4,2,4,1,4,3,4,1,1,3,2,2,4,4,1,1,3,3,3,1,3,2,3,1,4,3,4,1,2,1,3,3,2,1,2,2,2,2,1,3,3,3,2,3,4,4,4,3,2,4,3,3,2,3,4,1,4,2,3,3,2,4,3,2,3,1,2,1,4,2,1,3,3,4,2,3,4,3,4,4,2,3,4,3,4,3,4,2,3,3,3,3,2,3,4,3,3,3,3,3,3,4,1,3,4,4,1,4,4,3,3,1,3,4,2,2,3,3,3,1,1,4,4,4,4,2,4,2,3,3,2,3,2,4,4,3,3,4,4,4,3,3,4,2,3,4,2,1,2,4,3,1,4,4,4,3,4,4,3,3,1,2,3,3,3,4,3,1,3,1,4,4,2,1,3,2,1,4,3,4,4,4,3,3,2,4,3,2,4,1,4,3,4,4,3,3,4,4,3,3,4,1,4,4,1,4,2,3,1,2,1,4,3,2,1,1,1,3,2,2,2,4,3,2,3,4,2,2,3,2,4,4,3,1,3,3,4,2,3,4,2,4,4,3,3,3,2,2,1,3,3,3,4,3,1,4,4,3,2,4,3,3,3,4,4,1,3,4,3,4,2,2,1,2,4,4,4,2,2,3,1,2,3,2,1,4,4,3,3,3,4,2,3,1,1,2,3,2,1,2,4,2,4,3,1,4,3,2,3,2,2,3,3,3,4,3,1,2,2,2,2,3,1,2,2,4,3,4,4,1,4,3,1,2,2,3,3,4,2,2,2,3,4,3,3,3,2,1,4,2,2,3,2,1,2,2,1,4,2,3,3,1,3,4,2,2,4,3,1,1,4,2,1,4,1,2,3,4,2,2,2,2,3,1,1,3,3,1,4,4,2,4,3,4,3,3,4,3,4,3,4,4,2,1,2,4,3,3,1,3,3,1,1,1,4,2,4,4,1,3,4,4,1,3,3,1,2,3,4,2,4,2,1,4,2,3,2,3,4,1,3,3,2,1,2,1,1,4,4,3,4,3,3,1,4,1,3,1,2,4,3,1,2,3,4,3,2,2,2,1,3,2,4,1,4,1,1,4,2,4,2,3,3,3,2,2,3,2,4,3,4,4,4,2,4,3,4,1,4,3,3,4,4,4,4,4,4,2,2,3,2,4,3,3,4,4,1,1,3,1,2,4,1,1,1,4,4,1,2,4,3,4,2,2,4,4,3,3,4,3,2,2,3,2,2,1,3,2,1,4,4,3,4,2,1,4,1,1,2,2,2,1,4,4,3,3,1,3,2,4,1,4,3,4,4,2,3,3,2,3,1,3,1,4,2,3,3,1,1,3,1,2,4,4,1,3,4,4,2,2,3,3,1,4,3,3,3,2,1,2,4,1,3,2,3,1,2,4,3,4,4,1,3,2,1,2,1,3,4,4,4,2,4,4,2,2,1,3,4,4,3,4,2,4,2,3,1,1,1,4,3,1,4,3,2,2,2,4,3,3,2,1,4,2,1,4,3,1,4,3,4,4,4,4,2,3,3,4,2,2,3,4,4,2,1,1,4,2,1,4,4,1,4,2,3,3,4,4,4,1,4,1,4,1,4,3,2,3,1,3,3,3,3,3,2,3,1,3,3,2,3,1,3,1,4,2,3,3,1,2,2,3,1,4,1,3,2,1,4,3,3,4,3,3,4,3,2,2,3,1,4,2,3,3,4,3,3,1,4,2,2,2,4,2,2,4,2,3,4,4,3,2,3,4,4,3,3,4,1,1,4,3,2,3,3,2,3,2,2,4,2,3,4,2,1,2,1,4,1,3,4,3,2,3,3,3,4,3,3,4,4,3,1,4,2,4,3,4,2,3,2,2,4,3,1,1,2,3,2,4,3,3,2,3,2,3,3,2,4,4,4,4,4,4,4,4,2,2,4,1,1,4,2,3,4,4,4,1,3,2,2,4,3,3,2,4,3,2,1,3,2,3,3,3,2,3,3,4,3,3,4,4,3,4,3,4,2,1,3,4,1,2,2,1,4,1,2,3,3,2,2,1,3,1,4,3,4,2,3,1,3,3,3,3,2,3,1,3,4,3,1,1,3,4,2,1,3,3,2,1,1,3,1,2,2,3,4,3,3,2,1,1,3,4,1,3,4,3,3,1,3,4,4,2,4,1,2,1,2,4,3,1,2,4,1],\"xaxis\":\"x5\",\"yaxis\":\"y5\",\"type\":\"histogram\"}],                        {\"template\":{\"data\":{\"histogram2dcontour\":[{\"type\":\"histogram2dcontour\",\"colorbar\":{\"outlinewidth\":0,\"ticks\":\"\"},\"colorscale\":[[0.0,\"#0d0887\"],[0.1111111111111111,\"#46039f\"],[0.2222222222222222,\"#7201a8\"],[0.3333333333333333,\"#9c179e\"],[0.4444444444444444,\"#bd3786\"],[0.5555555555555556,\"#d8576b\"],[0.6666666666666666,\"#ed7953\"],[0.7777777777777778,\"#fb9f3a\"],[0.8888888888888888,\"#fdca26\"],[1.0,\"#f0f921\"]]}],\"choropleth\":[{\"type\":\"choropleth\",\"colorbar\":{\"outlinewidth\":0,\"ticks\":\"\"}}],\"histogram2d\":[{\"type\":\"histogram2d\",\"colorbar\":{\"outlinewidth\":0,\"ticks\":\"\"},\"colorscale\":[[0.0,\"#0d0887\"],[0.1111111111111111,\"#46039f\"],[0.2222222222222222,\"#7201a8\"],[0.3333333333333333,\"#9c179e\"],[0.4444444444444444,\"#bd3786\"],[0.5555555555555556,\"#d8576b\"],[0.6666666666666666,\"#ed7953\"],[0.7777777777777778,\"#fb9f3a\"],[0.8888888888888888,\"#fdca26\"],[1.0,\"#f0f921\"]]}],\"heatmap\":[{\"type\":\"heatmap\",\"colorbar\":{\"outlinewidth\":0,\"ticks\":\"\"},\"colorscale\":[[0.0,\"#0d0887\"],[0.1111111111111111,\"#46039f\"],[0.2222222222222222,\"#7201a8\"],[0.3333333333333333,\"#9c179e\"],[0.4444444444444444,\"#bd3786\"],[0.5555555555555556,\"#d8576b\"],[0.6666666666666666,\"#ed7953\"],[0.7777777777777778,\"#fb9f3a\"],[0.8888888888888888,\"#fdca26\"],[1.0,\"#f0f921\"]]}],\"heatmapgl\":[{\"type\":\"heatmapgl\",\"colorbar\":{\"outlinewidth\":0,\"ticks\":\"\"},\"colorscale\":[[0.0,\"#0d0887\"],[0.1111111111111111,\"#46039f\"],[0.2222222222222222,\"#7201a8\"],[0.3333333333333333,\"#9c179e\"],[0.4444444444444444,\"#bd3786\"],[0.5555555555555556,\"#d8576b\"],[0.6666666666666666,\"#ed7953\"],[0.7777777777777778,\"#fb9f3a\"],[0.8888888888888888,\"#fdca26\"],[1.0,\"#f0f921\"]]}],\"contourcarpet\":[{\"type\":\"contourcarpet\",\"colorbar\":{\"outlinewidth\":0,\"ticks\":\"\"}}],\"contour\":[{\"type\":\"contour\",\"colorbar\":{\"outlinewidth\":0,\"ticks\":\"\"},\"colorscale\":[[0.0,\"#0d0887\"],[0.1111111111111111,\"#46039f\"],[0.2222222222222222,\"#7201a8\"],[0.3333333333333333,\"#9c179e\"],[0.4444444444444444,\"#bd3786\"],[0.5555555555555556,\"#d8576b\"],[0.6666666666666666,\"#ed7953\"],[0.7777777777777778,\"#fb9f3a\"],[0.8888888888888888,\"#fdca26\"],[1.0,\"#f0f921\"]]}],\"surface\":[{\"type\":\"surface\",\"colorbar\":{\"outlinewidth\":0,\"ticks\":\"\"},\"colorscale\":[[0.0,\"#0d0887\"],[0.1111111111111111,\"#46039f\"],[0.2222222222222222,\"#7201a8\"],[0.3333333333333333,\"#9c179e\"],[0.4444444444444444,\"#bd3786\"],[0.5555555555555556,\"#d8576b\"],[0.6666666666666666,\"#ed7953\"],[0.7777777777777778,\"#fb9f3a\"],[0.8888888888888888,\"#fdca26\"],[1.0,\"#f0f921\"]]}],\"mesh3d\":[{\"type\":\"mesh3d\",\"colorbar\":{\"outlinewidth\":0,\"ticks\":\"\"}}],\"scatter\":[{\"fillpattern\":{\"fillmode\":\"overlay\",\"size\":10,\"solidity\":0.2},\"type\":\"scatter\"}],\"parcoords\":[{\"type\":\"parcoords\",\"line\":{\"colorbar\":{\"outlinewidth\":0,\"ticks\":\"\"}}}],\"scatterpolargl\":[{\"type\":\"scatterpolargl\",\"marker\":{\"colorbar\":{\"outlinewidth\":0,\"ticks\":\"\"}}}],\"bar\":[{\"error_x\":{\"color\":\"#2a3f5f\"},\"error_y\":{\"color\":\"#2a3f5f\"},\"marker\":{\"line\":{\"color\":\"#E5ECF6\",\"width\":0.5},\"pattern\":{\"fillmode\":\"overlay\",\"size\":10,\"solidity\":0.2}},\"type\":\"bar\"}],\"scattergeo\":[{\"type\":\"scattergeo\",\"marker\":{\"colorbar\":{\"outlinewidth\":0,\"ticks\":\"\"}}}],\"scatterpolar\":[{\"type\":\"scatterpolar\",\"marker\":{\"colorbar\":{\"outlinewidth\":0,\"ticks\":\"\"}}}],\"histogram\":[{\"marker\":{\"pattern\":{\"fillmode\":\"overlay\",\"size\":10,\"solidity\":0.2}},\"type\":\"histogram\"}],\"scattergl\":[{\"type\":\"scattergl\",\"marker\":{\"colorbar\":{\"outlinewidth\":0,\"ticks\":\"\"}}}],\"scatter3d\":[{\"type\":\"scatter3d\",\"line\":{\"colorbar\":{\"outlinewidth\":0,\"ticks\":\"\"}},\"marker\":{\"colorbar\":{\"outlinewidth\":0,\"ticks\":\"\"}}}],\"scattermapbox\":[{\"type\":\"scattermapbox\",\"marker\":{\"colorbar\":{\"outlinewidth\":0,\"ticks\":\"\"}}}],\"scatterternary\":[{\"type\":\"scatterternary\",\"marker\":{\"colorbar\":{\"outlinewidth\":0,\"ticks\":\"\"}}}],\"scattercarpet\":[{\"type\":\"scattercarpet\",\"marker\":{\"colorbar\":{\"outlinewidth\":0,\"ticks\":\"\"}}}],\"carpet\":[{\"aaxis\":{\"endlinecolor\":\"#2a3f5f\",\"gridcolor\":\"white\",\"linecolor\":\"white\",\"minorgridcolor\":\"white\",\"startlinecolor\":\"#2a3f5f\"},\"baxis\":{\"endlinecolor\":\"#2a3f5f\",\"gridcolor\":\"white\",\"linecolor\":\"white\",\"minorgridcolor\":\"white\",\"startlinecolor\":\"#2a3f5f\"},\"type\":\"carpet\"}],\"table\":[{\"cells\":{\"fill\":{\"color\":\"#EBF0F8\"},\"line\":{\"color\":\"white\"}},\"header\":{\"fill\":{\"color\":\"#C8D4E3\"},\"line\":{\"color\":\"white\"}},\"type\":\"table\"}],\"barpolar\":[{\"marker\":{\"line\":{\"color\":\"#E5ECF6\",\"width\":0.5},\"pattern\":{\"fillmode\":\"overlay\",\"size\":10,\"solidity\":0.2}},\"type\":\"barpolar\"}],\"pie\":[{\"automargin\":true,\"type\":\"pie\"}]},\"layout\":{\"autotypenumbers\":\"strict\",\"colorway\":[\"#636efa\",\"#EF553B\",\"#00cc96\",\"#ab63fa\",\"#FFA15A\",\"#19d3f3\",\"#FF6692\",\"#B6E880\",\"#FF97FF\",\"#FECB52\"],\"font\":{\"color\":\"#2a3f5f\"},\"hovermode\":\"closest\",\"hoverlabel\":{\"align\":\"left\"},\"paper_bgcolor\":\"white\",\"plot_bgcolor\":\"#E5ECF6\",\"polar\":{\"bgcolor\":\"#E5ECF6\",\"angularaxis\":{\"gridcolor\":\"white\",\"linecolor\":\"white\",\"ticks\":\"\"},\"radialaxis\":{\"gridcolor\":\"white\",\"linecolor\":\"white\",\"ticks\":\"\"}},\"ternary\":{\"bgcolor\":\"#E5ECF6\",\"aaxis\":{\"gridcolor\":\"white\",\"linecolor\":\"white\",\"ticks\":\"\"},\"baxis\":{\"gridcolor\":\"white\",\"linecolor\":\"white\",\"ticks\":\"\"},\"caxis\":{\"gridcolor\":\"white\",\"linecolor\":\"white\",\"ticks\":\"\"}},\"coloraxis\":{\"colorbar\":{\"outlinewidth\":0,\"ticks\":\"\"}},\"colorscale\":{\"sequential\":[[0.0,\"#0d0887\"],[0.1111111111111111,\"#46039f\"],[0.2222222222222222,\"#7201a8\"],[0.3333333333333333,\"#9c179e\"],[0.4444444444444444,\"#bd3786\"],[0.5555555555555556,\"#d8576b\"],[0.6666666666666666,\"#ed7953\"],[0.7777777777777778,\"#fb9f3a\"],[0.8888888888888888,\"#fdca26\"],[1.0,\"#f0f921\"]],\"sequentialminus\":[[0.0,\"#0d0887\"],[0.1111111111111111,\"#46039f\"],[0.2222222222222222,\"#7201a8\"],[0.3333333333333333,\"#9c179e\"],[0.4444444444444444,\"#bd3786\"],[0.5555555555555556,\"#d8576b\"],[0.6666666666666666,\"#ed7953\"],[0.7777777777777778,\"#fb9f3a\"],[0.8888888888888888,\"#fdca26\"],[1.0,\"#f0f921\"]],\"diverging\":[[0,\"#8e0152\"],[0.1,\"#c51b7d\"],[0.2,\"#de77ae\"],[0.3,\"#f1b6da\"],[0.4,\"#fde0ef\"],[0.5,\"#f7f7f7\"],[0.6,\"#e6f5d0\"],[0.7,\"#b8e186\"],[0.8,\"#7fbc41\"],[0.9,\"#4d9221\"],[1,\"#276419\"]]},\"xaxis\":{\"gridcolor\":\"white\",\"linecolor\":\"white\",\"ticks\":\"\",\"title\":{\"standoff\":15},\"zerolinecolor\":\"white\",\"automargin\":true,\"zerolinewidth\":2},\"yaxis\":{\"gridcolor\":\"white\",\"linecolor\":\"white\",\"ticks\":\"\",\"title\":{\"standoff\":15},\"zerolinecolor\":\"white\",\"automargin\":true,\"zerolinewidth\":2},\"scene\":{\"xaxis\":{\"backgroundcolor\":\"#E5ECF6\",\"gridcolor\":\"white\",\"linecolor\":\"white\",\"showbackground\":true,\"ticks\":\"\",\"zerolinecolor\":\"white\",\"gridwidth\":2},\"yaxis\":{\"backgroundcolor\":\"#E5ECF6\",\"gridcolor\":\"white\",\"linecolor\":\"white\",\"showbackground\":true,\"ticks\":\"\",\"zerolinecolor\":\"white\",\"gridwidth\":2},\"zaxis\":{\"backgroundcolor\":\"#E5ECF6\",\"gridcolor\":\"white\",\"linecolor\":\"white\",\"showbackground\":true,\"ticks\":\"\",\"zerolinecolor\":\"white\",\"gridwidth\":2}},\"shapedefaults\":{\"line\":{\"color\":\"#2a3f5f\"}},\"annotationdefaults\":{\"arrowcolor\":\"#2a3f5f\",\"arrowhead\":0,\"arrowwidth\":1},\"geo\":{\"bgcolor\":\"white\",\"landcolor\":\"#E5ECF6\",\"subunitcolor\":\"white\",\"showland\":true,\"showlakes\":true,\"lakecolor\":\"white\"},\"title\":{\"x\":0.05},\"mapbox\":{\"style\":\"light\"}}},\"xaxis\":{\"anchor\":\"y\",\"domain\":[0.0,0.2888888888888889]},\"yaxis\":{\"anchor\":\"x\",\"domain\":[0.625,1.0]},\"xaxis2\":{\"anchor\":\"y2\",\"domain\":[0.35555555555555557,0.6444444444444445]},\"yaxis2\":{\"anchor\":\"x2\",\"domain\":[0.625,1.0]},\"xaxis3\":{\"anchor\":\"y3\",\"domain\":[0.7111111111111111,1.0]},\"yaxis3\":{\"anchor\":\"x3\",\"domain\":[0.625,1.0]},\"xaxis4\":{\"anchor\":\"y4\",\"domain\":[0.0,0.2888888888888889]},\"yaxis4\":{\"anchor\":\"x4\",\"domain\":[0.0,0.375]},\"xaxis5\":{\"anchor\":\"y5\",\"domain\":[0.35555555555555557,0.6444444444444445]},\"yaxis5\":{\"anchor\":\"x5\",\"domain\":[0.0,0.375]},\"xaxis6\":{\"anchor\":\"y6\",\"domain\":[0.7111111111111111,1.0]},\"yaxis6\":{\"anchor\":\"x6\",\"domain\":[0.0,0.375]},\"annotations\":[{\"font\":{\"size\":16},\"showarrow\":false,\"text\":\"Job Satisfaction\",\"x\":0.14444444444444446,\"xanchor\":\"center\",\"xref\":\"paper\",\"y\":1.0,\"yanchor\":\"bottom\",\"yref\":\"paper\"},{\"font\":{\"size\":16},\"showarrow\":false,\"text\":\"Work-Life Balance\",\"x\":0.5,\"xanchor\":\"center\",\"xref\":\"paper\",\"y\":1.0,\"yanchor\":\"bottom\",\"yref\":\"paper\"},{\"font\":{\"size\":16},\"showarrow\":false,\"text\":\"Environment Satisfaction\",\"x\":0.8555555555555556,\"xanchor\":\"center\",\"xref\":\"paper\",\"y\":1.0,\"yanchor\":\"bottom\",\"yref\":\"paper\"},{\"font\":{\"size\":16},\"showarrow\":false,\"text\":\"Job Involvement\",\"x\":0.14444444444444446,\"xanchor\":\"center\",\"xref\":\"paper\",\"y\":0.375,\"yanchor\":\"bottom\",\"yref\":\"paper\"},{\"font\":{\"size\":16},\"showarrow\":false,\"text\":\"Relationship Satisfaction\",\"x\":0.5,\"xanchor\":\"center\",\"xref\":\"paper\",\"y\":0.375,\"yanchor\":\"bottom\",\"yref\":\"paper\"}],\"title\":{\"text\":\"Employee Satisfaction Distributions by Attrition\"},\"height\":800,\"width\":1100,\"showlegend\":false},                        {\"responsive\": true}                    ).then(function(){\n",
              "                            \n",
              "var gd = document.getElementById('65dce16f-a067-4931-a709-f05d6e4168a9');\n",
              "var x = new MutationObserver(function (mutations, observer) {{\n",
              "        var display = window.getComputedStyle(gd).display;\n",
              "        if (!display || display === 'none') {{\n",
              "            console.log([gd, 'removed!']);\n",
              "            Plotly.purge(gd);\n",
              "            observer.disconnect();\n",
              "        }}\n",
              "}});\n",
              "\n",
              "// Listen for the removal of the full notebook cells\n",
              "var notebookContainer = gd.closest('#notebook-container');\n",
              "if (notebookContainer) {{\n",
              "    x.observe(notebookContainer, {childList: true});\n",
              "}}\n",
              "\n",
              "// Listen for the clearing of the current output cell\n",
              "var outputEl = gd.closest('.output');\n",
              "if (outputEl) {{\n",
              "    x.observe(outputEl, {childList: true});\n",
              "}}\n",
              "\n",
              "                        })                };                            </script>        </div>\n",
              "</body>\n",
              "</html>"
            ]
          },
          "metadata": {}
        }
      ]
    },
    {
      "cell_type": "markdown",
      "source": [
        "### Income & Compensation"
      ],
      "metadata": {
        "id": "VU75FOKzuPY-"
      }
    },
    {
      "cell_type": "code",
      "source": [
        "# Monthly Income by Attrition\n",
        "fig3 = px.box(df, x=\"Attrition\", y=\"MonthlyIncome\", color=\"Attrition\", color_discrete_map={'Yes':'green','No':'darkblue'})\n",
        "fig3.show()"
      ],
      "metadata": {
        "id": "bWY8zzAFPFqF",
        "colab": {
          "base_uri": "https://localhost:8080/",
          "height": 542
        },
        "outputId": "80d11351-0cbc-4faf-9eb0-7b495d2c6283"
      },
      "execution_count": null,
      "outputs": [
        {
          "output_type": "display_data",
          "data": {
            "text/html": [
              "<html>\n",
              "<head><meta charset=\"utf-8\" /></head>\n",
              "<body>\n",
              "    <div>            <script src=\"https://cdnjs.cloudflare.com/ajax/libs/mathjax/2.7.5/MathJax.js?config=TeX-AMS-MML_SVG\"></script><script type=\"text/javascript\">if (window.MathJax && window.MathJax.Hub && window.MathJax.Hub.Config) {window.MathJax.Hub.Config({SVG: {font: \"STIX-Web\"}});}</script>                <script type=\"text/javascript\">window.PlotlyConfig = {MathJaxConfig: 'local'};</script>\n",
              "        <script charset=\"utf-8\" src=\"https://cdn.plot.ly/plotly-2.35.2.min.js\"></script>                <div id=\"15fb4dc7-8a89-419b-96d6-4fb97d1006a3\" class=\"plotly-graph-div\" style=\"height:525px; width:100%;\"></div>            <script type=\"text/javascript\">                                    window.PLOTLYENV=window.PLOTLYENV || {};                                    if (document.getElementById(\"15fb4dc7-8a89-419b-96d6-4fb97d1006a3\")) {                    Plotly.newPlot(                        \"15fb4dc7-8a89-419b-96d6-4fb97d1006a3\",                        [{\"alignmentgroup\":\"True\",\"hovertemplate\":\"Attrition=%{x}\\u003cbr\\u003eMonthlyIncome=%{y}\\u003cextra\\u003e\\u003c\\u002fextra\\u003e\",\"legendgroup\":\"Yes\",\"marker\":{\"color\":\"green\"},\"name\":\"Yes\",\"notched\":false,\"offsetgroup\":\"Yes\",\"orientation\":\"v\",\"showlegend\":true,\"x\":[\"Yes\",\"Yes\",\"Yes\",\"Yes\",\"Yes\",\"Yes\",\"Yes\",\"Yes\",\"Yes\",\"Yes\",\"Yes\",\"Yes\",\"Yes\",\"Yes\",\"Yes\",\"Yes\",\"Yes\",\"Yes\",\"Yes\",\"Yes\",\"Yes\",\"Yes\",\"Yes\",\"Yes\",\"Yes\",\"Yes\",\"Yes\",\"Yes\",\"Yes\",\"Yes\",\"Yes\",\"Yes\",\"Yes\",\"Yes\",\"Yes\",\"Yes\",\"Yes\",\"Yes\",\"Yes\",\"Yes\",\"Yes\",\"Yes\",\"Yes\",\"Yes\",\"Yes\",\"Yes\",\"Yes\",\"Yes\",\"Yes\",\"Yes\",\"Yes\",\"Yes\",\"Yes\",\"Yes\",\"Yes\",\"Yes\",\"Yes\",\"Yes\",\"Yes\",\"Yes\",\"Yes\",\"Yes\",\"Yes\",\"Yes\",\"Yes\",\"Yes\",\"Yes\",\"Yes\",\"Yes\",\"Yes\",\"Yes\",\"Yes\",\"Yes\",\"Yes\",\"Yes\",\"Yes\",\"Yes\",\"Yes\",\"Yes\",\"Yes\",\"Yes\",\"Yes\",\"Yes\",\"Yes\",\"Yes\",\"Yes\",\"Yes\",\"Yes\",\"Yes\",\"Yes\",\"Yes\",\"Yes\",\"Yes\",\"Yes\",\"Yes\",\"Yes\",\"Yes\",\"Yes\",\"Yes\",\"Yes\",\"Yes\",\"Yes\",\"Yes\",\"Yes\",\"Yes\",\"Yes\",\"Yes\",\"Yes\",\"Yes\",\"Yes\",\"Yes\",\"Yes\",\"Yes\",\"Yes\",\"Yes\",\"Yes\",\"Yes\",\"Yes\",\"Yes\",\"Yes\",\"Yes\",\"Yes\",\"Yes\",\"Yes\",\"Yes\",\"Yes\",\"Yes\",\"Yes\",\"Yes\",\"Yes\",\"Yes\",\"Yes\",\"Yes\",\"Yes\",\"Yes\",\"Yes\",\"Yes\",\"Yes\",\"Yes\",\"Yes\",\"Yes\",\"Yes\",\"Yes\",\"Yes\",\"Yes\",\"Yes\",\"Yes\",\"Yes\",\"Yes\",\"Yes\",\"Yes\",\"Yes\",\"Yes\",\"Yes\",\"Yes\",\"Yes\",\"Yes\",\"Yes\",\"Yes\",\"Yes\",\"Yes\",\"Yes\",\"Yes\",\"Yes\",\"Yes\",\"Yes\",\"Yes\",\"Yes\",\"Yes\",\"Yes\",\"Yes\",\"Yes\",\"Yes\",\"Yes\",\"Yes\",\"Yes\",\"Yes\",\"Yes\",\"Yes\",\"Yes\",\"Yes\",\"Yes\",\"Yes\",\"Yes\",\"Yes\",\"Yes\",\"Yes\",\"Yes\",\"Yes\",\"Yes\",\"Yes\",\"Yes\",\"Yes\",\"Yes\",\"Yes\",\"Yes\",\"Yes\",\"Yes\",\"Yes\",\"Yes\",\"Yes\",\"Yes\",\"Yes\",\"Yes\",\"Yes\",\"Yes\",\"Yes\",\"Yes\",\"Yes\",\"Yes\",\"Yes\",\"Yes\",\"Yes\",\"Yes\",\"Yes\",\"Yes\",\"Yes\",\"Yes\",\"Yes\",\"Yes\",\"Yes\",\"Yes\",\"Yes\",\"Yes\",\"Yes\",\"Yes\",\"Yes\",\"Yes\",\"Yes\",\"Yes\",\"Yes\",\"Yes\",\"Yes\",\"Yes\",\"Yes\",\"Yes\",\"Yes\"],\"x0\":\" \",\"xaxis\":\"x\",\"y\":[5993,2090,2028,3407,2960,3919,2086,2293,2683,2293,19545,5381,3441,3388,9619,2073,2926,5744,6074,4963,6172,10312,1675,4559,10650,4200,2325,1102,3140,5916,6673,7639,10400,2657,6696,2058,2389,2436,2707,3730,10048,3479,3485,11849,3161,2373,5828,1420,4941,3464,5238,2119,2174,2851,9355,6380,2716,5304,3102,2285,4031,3202,2351,2546,2564,13610,3408,9824,9950,3894,2741,1878,2340,4707,2886,2033,4233,3041,4286,1009,3348,4577,6796,2216,2759,2686,6397,19859,5326,1601,2319,5324,19246,4382,7654,5160,2366,2022,2800,2795,2380,2044,2693,4171,2778,2404,2413,2121,2973,10325,10609,2479,13194,2321,2404,2132,3743,2600,2422,4777,4969,19845,2743,4834,2042,2323,1416,2461,8722,10482,9582,4508,3691,2377,2313,2596,4728,12169,1904,8224,2610,7336,13758,2515,5346,2936,2853,2107,2210,1859,1118,18824,2625,7978,3339,4883,3904,9094,8446,2302,2362,10008,13695,2785,4614,6179,2394,4284,7553,1359,1261,4400,10096,3646,7446,3722,2742,2909,5765,4599,3172,2561,2362,2018,4084,9714,2074,10169,4855,2408,1569,10306,5440,2166,4581,3989,2655,1393,2275,1555,12936,6134,6735,2180,2760,8564,8161,2437,2679,2398,2342,5813,5346,4213,2148,8926,2956,2335,9907,2439,7314,1081,2472,2307,2587,1091,9854,2432,2863,2367,5617,10448,1790,4787,2339,6728,10854],\"y0\":\" \",\"yaxis\":\"y\",\"type\":\"box\"},{\"alignmentgroup\":\"True\",\"hovertemplate\":\"Attrition=%{x}\\u003cbr\\u003eMonthlyIncome=%{y}\\u003cextra\\u003e\\u003c\\u002fextra\\u003e\",\"legendgroup\":\"No\",\"marker\":{\"color\":\"darkblue\"},\"name\":\"No\",\"notched\":false,\"offsetgroup\":\"No\",\"orientation\":\"v\",\"showlegend\":true,\"x\":[\"No\",\"No\",\"No\",\"No\",\"No\",\"No\",\"No\",\"No\",\"No\",\"No\",\"No\",\"No\",\"No\",\"No\",\"No\",\"No\",\"No\",\"No\",\"No\",\"No\",\"No\",\"No\",\"No\",\"No\",\"No\",\"No\",\"No\",\"No\",\"No\",\"No\",\"No\",\"No\",\"No\",\"No\",\"No\",\"No\",\"No\",\"No\",\"No\",\"No\",\"No\",\"No\",\"No\",\"No\",\"No\",\"No\",\"No\",\"No\",\"No\",\"No\",\"No\",\"No\",\"No\",\"No\",\"No\",\"No\",\"No\",\"No\",\"No\",\"No\",\"No\",\"No\",\"No\",\"No\",\"No\",\"No\",\"No\",\"No\",\"No\",\"No\",\"No\",\"No\",\"No\",\"No\",\"No\",\"No\",\"No\",\"No\",\"No\",\"No\",\"No\",\"No\",\"No\",\"No\",\"No\",\"No\",\"No\",\"No\",\"No\",\"No\",\"No\",\"No\",\"No\",\"No\",\"No\",\"No\",\"No\",\"No\",\"No\",\"No\",\"No\",\"No\",\"No\",\"No\",\"No\",\"No\",\"No\",\"No\",\"No\",\"No\",\"No\",\"No\",\"No\",\"No\",\"No\",\"No\",\"No\",\"No\",\"No\",\"No\",\"No\",\"No\",\"No\",\"No\",\"No\",\"No\",\"No\",\"No\",\"No\",\"No\",\"No\",\"No\",\"No\",\"No\",\"No\",\"No\",\"No\",\"No\",\"No\",\"No\",\"No\",\"No\",\"No\",\"No\",\"No\",\"No\",\"No\",\"No\",\"No\",\"No\",\"No\",\"No\",\"No\",\"No\",\"No\",\"No\",\"No\",\"No\",\"No\",\"No\",\"No\",\"No\",\"No\",\"No\",\"No\",\"No\",\"No\",\"No\",\"No\",\"No\",\"No\",\"No\",\"No\",\"No\",\"No\",\"No\",\"No\",\"No\",\"No\",\"No\",\"No\",\"No\",\"No\",\"No\",\"No\",\"No\",\"No\",\"No\",\"No\",\"No\",\"No\",\"No\",\"No\",\"No\",\"No\",\"No\",\"No\",\"No\",\"No\",\"No\",\"No\",\"No\",\"No\",\"No\",\"No\",\"No\",\"No\",\"No\",\"No\",\"No\",\"No\",\"No\",\"No\",\"No\",\"No\",\"No\",\"No\",\"No\",\"No\",\"No\",\"No\",\"No\",\"No\",\"No\",\"No\",\"No\",\"No\",\"No\",\"No\",\"No\",\"No\",\"No\",\"No\",\"No\",\"No\",\"No\",\"No\",\"No\",\"No\",\"No\",\"No\",\"No\",\"No\",\"No\",\"No\",\"No\",\"No\",\"No\",\"No\",\"No\",\"No\",\"No\",\"No\",\"No\",\"No\",\"No\",\"No\",\"No\",\"No\",\"No\",\"No\",\"No\",\"No\",\"No\",\"No\",\"No\",\"No\",\"No\",\"No\",\"No\",\"No\",\"No\",\"No\",\"No\",\"No\",\"No\",\"No\",\"No\",\"No\",\"No\",\"No\",\"No\",\"No\",\"No\",\"No\",\"No\",\"No\",\"No\",\"No\",\"No\",\"No\",\"No\",\"No\",\"No\",\"No\",\"No\",\"No\",\"No\",\"No\",\"No\",\"No\",\"No\",\"No\",\"No\",\"No\",\"No\",\"No\",\"No\",\"No\",\"No\",\"No\",\"No\",\"No\",\"No\",\"No\",\"No\",\"No\",\"No\",\"No\",\"No\",\"No\",\"No\",\"No\",\"No\",\"No\",\"No\",\"No\",\"No\",\"No\",\"No\",\"No\",\"No\",\"No\",\"No\",\"No\",\"No\",\"No\",\"No\",\"No\",\"No\",\"No\",\"No\",\"No\",\"No\",\"No\",\"No\",\"No\",\"No\",\"No\",\"No\",\"No\",\"No\",\"No\",\"No\",\"No\",\"No\",\"No\",\"No\",\"No\",\"No\",\"No\",\"No\",\"No\",\"No\",\"No\",\"No\",\"No\",\"No\",\"No\",\"No\",\"No\",\"No\",\"No\",\"No\",\"No\",\"No\",\"No\",\"No\",\"No\",\"No\",\"No\",\"No\",\"No\",\"No\",\"No\",\"No\",\"No\",\"No\",\"No\",\"No\",\"No\",\"No\",\"No\",\"No\",\"No\",\"No\",\"No\",\"No\",\"No\",\"No\",\"No\",\"No\",\"No\",\"No\",\"No\",\"No\",\"No\",\"No\",\"No\",\"No\",\"No\",\"No\",\"No\",\"No\",\"No\",\"No\",\"No\",\"No\",\"No\",\"No\",\"No\",\"No\",\"No\",\"No\",\"No\",\"No\",\"No\",\"No\",\"No\",\"No\",\"No\",\"No\",\"No\",\"No\",\"No\",\"No\",\"No\",\"No\",\"No\",\"No\",\"No\",\"No\",\"No\",\"No\",\"No\",\"No\",\"No\",\"No\",\"No\",\"No\",\"No\",\"No\",\"No\",\"No\",\"No\",\"No\",\"No\",\"No\",\"No\",\"No\",\"No\",\"No\",\"No\",\"No\",\"No\",\"No\",\"No\",\"No\",\"No\",\"No\",\"No\",\"No\",\"No\",\"No\",\"No\",\"No\",\"No\",\"No\",\"No\",\"No\",\"No\",\"No\",\"No\",\"No\",\"No\",\"No\",\"No\",\"No\",\"No\",\"No\",\"No\",\"No\",\"No\",\"No\",\"No\",\"No\",\"No\",\"No\",\"No\",\"No\",\"No\",\"No\",\"No\",\"No\",\"No\",\"No\",\"No\",\"No\",\"No\",\"No\",\"No\",\"No\",\"No\",\"No\",\"No\",\"No\",\"No\",\"No\",\"No\",\"No\",\"No\",\"No\",\"No\",\"No\",\"No\",\"No\",\"No\",\"No\",\"No\",\"No\",\"No\",\"No\",\"No\",\"No\",\"No\",\"No\",\"No\",\"No\",\"No\",\"No\",\"No\",\"No\",\"No\",\"No\",\"No\",\"No\",\"No\",\"No\",\"No\",\"No\",\"No\",\"No\",\"No\",\"No\",\"No\",\"No\",\"No\",\"No\",\"No\",\"No\",\"No\",\"No\",\"No\",\"No\",\"No\",\"No\",\"No\",\"No\",\"No\",\"No\",\"No\",\"No\",\"No\",\"No\",\"No\",\"No\",\"No\",\"No\",\"No\",\"No\",\"No\",\"No\",\"No\",\"No\",\"No\",\"No\",\"No\",\"No\",\"No\",\"No\",\"No\",\"No\",\"No\",\"No\",\"No\",\"No\",\"No\",\"No\",\"No\",\"No\",\"No\",\"No\",\"No\",\"No\",\"No\",\"No\",\"No\",\"No\",\"No\",\"No\",\"No\",\"No\",\"No\",\"No\",\"No\",\"No\",\"No\",\"No\",\"No\",\"No\",\"No\",\"No\",\"No\",\"No\",\"No\",\"No\",\"No\",\"No\",\"No\",\"No\",\"No\",\"No\",\"No\",\"No\",\"No\",\"No\",\"No\",\"No\",\"No\",\"No\",\"No\",\"No\",\"No\",\"No\",\"No\",\"No\",\"No\",\"No\",\"No\",\"No\",\"No\",\"No\",\"No\",\"No\",\"No\",\"No\",\"No\",\"No\",\"No\",\"No\",\"No\",\"No\",\"No\",\"No\",\"No\",\"No\",\"No\",\"No\",\"No\",\"No\",\"No\",\"No\",\"No\",\"No\",\"No\",\"No\",\"No\",\"No\",\"No\",\"No\",\"No\",\"No\",\"No\",\"No\",\"No\",\"No\",\"No\",\"No\",\"No\",\"No\",\"No\",\"No\",\"No\",\"No\",\"No\",\"No\",\"No\",\"No\",\"No\",\"No\",\"No\",\"No\",\"No\",\"No\",\"No\",\"No\",\"No\",\"No\",\"No\",\"No\",\"No\",\"No\",\"No\",\"No\",\"No\",\"No\",\"No\",\"No\",\"No\",\"No\",\"No\",\"No\",\"No\",\"No\",\"No\",\"No\",\"No\",\"No\",\"No\",\"No\",\"No\",\"No\",\"No\",\"No\",\"No\",\"No\",\"No\",\"No\",\"No\",\"No\",\"No\",\"No\",\"No\",\"No\",\"No\",\"No\",\"No\",\"No\",\"No\",\"No\",\"No\",\"No\",\"No\",\"No\",\"No\",\"No\",\"No\",\"No\",\"No\",\"No\",\"No\",\"No\",\"No\",\"No\",\"No\",\"No\",\"No\",\"No\",\"No\",\"No\",\"No\",\"No\",\"No\",\"No\",\"No\",\"No\",\"No\",\"No\",\"No\",\"No\",\"No\",\"No\",\"No\",\"No\",\"No\",\"No\",\"No\",\"No\",\"No\",\"No\",\"No\",\"No\",\"No\",\"No\",\"No\",\"No\",\"No\",\"No\",\"No\",\"No\",\"No\",\"No\",\"No\",\"No\",\"No\",\"No\",\"No\",\"No\",\"No\",\"No\",\"No\",\"No\",\"No\",\"No\",\"No\",\"No\",\"No\",\"No\",\"No\",\"No\",\"No\",\"No\",\"No\",\"No\",\"No\",\"No\",\"No\",\"No\",\"No\",\"No\",\"No\",\"No\",\"No\",\"No\",\"No\",\"No\",\"No\",\"No\",\"No\",\"No\",\"No\",\"No\",\"No\",\"No\",\"No\",\"No\",\"No\",\"No\",\"No\",\"No\",\"No\",\"No\",\"No\",\"No\",\"No\",\"No\",\"No\",\"No\",\"No\",\"No\",\"No\",\"No\",\"No\",\"No\",\"No\",\"No\",\"No\",\"No\",\"No\",\"No\",\"No\",\"No\",\"No\",\"No\",\"No\",\"No\",\"No\",\"No\",\"No\",\"No\",\"No\",\"No\",\"No\",\"No\",\"No\",\"No\",\"No\",\"No\",\"No\",\"No\",\"No\",\"No\",\"No\",\"No\",\"No\",\"No\",\"No\",\"No\",\"No\",\"No\",\"No\",\"No\",\"No\",\"No\",\"No\",\"No\",\"No\",\"No\",\"No\",\"No\",\"No\",\"No\",\"No\",\"No\",\"No\",\"No\",\"No\",\"No\",\"No\",\"No\",\"No\",\"No\",\"No\",\"No\",\"No\",\"No\",\"No\",\"No\",\"No\",\"No\",\"No\",\"No\",\"No\",\"No\",\"No\",\"No\",\"No\",\"No\",\"No\",\"No\",\"No\",\"No\",\"No\",\"No\",\"No\",\"No\",\"No\",\"No\",\"No\",\"No\",\"No\",\"No\",\"No\",\"No\",\"No\",\"No\",\"No\",\"No\",\"No\",\"No\",\"No\",\"No\",\"No\",\"No\",\"No\",\"No\",\"No\",\"No\",\"No\",\"No\",\"No\",\"No\",\"No\",\"No\",\"No\",\"No\",\"No\",\"No\",\"No\",\"No\",\"No\",\"No\",\"No\",\"No\",\"No\",\"No\",\"No\",\"No\",\"No\",\"No\",\"No\",\"No\",\"No\",\"No\",\"No\",\"No\",\"No\",\"No\",\"No\",\"No\",\"No\",\"No\",\"No\",\"No\",\"No\",\"No\",\"No\",\"No\",\"No\",\"No\",\"No\",\"No\",\"No\",\"No\",\"No\",\"No\",\"No\",\"No\",\"No\",\"No\",\"No\",\"No\",\"No\",\"No\",\"No\",\"No\",\"No\",\"No\",\"No\",\"No\",\"No\",\"No\",\"No\",\"No\",\"No\",\"No\",\"No\",\"No\",\"No\",\"No\",\"No\",\"No\",\"No\",\"No\",\"No\",\"No\",\"No\",\"No\",\"No\",\"No\",\"No\",\"No\",\"No\",\"No\",\"No\",\"No\",\"No\",\"No\",\"No\",\"No\",\"No\",\"No\",\"No\",\"No\",\"No\",\"No\",\"No\",\"No\",\"No\",\"No\",\"No\",\"No\",\"No\",\"No\",\"No\",\"No\",\"No\",\"No\",\"No\",\"No\",\"No\",\"No\",\"No\",\"No\",\"No\",\"No\",\"No\",\"No\",\"No\",\"No\",\"No\",\"No\",\"No\",\"No\",\"No\",\"No\",\"No\",\"No\",\"No\",\"No\",\"No\",\"No\",\"No\",\"No\",\"No\",\"No\",\"No\",\"No\",\"No\",\"No\",\"No\",\"No\",\"No\",\"No\",\"No\",\"No\",\"No\",\"No\",\"No\",\"No\",\"No\",\"No\",\"No\",\"No\",\"No\",\"No\",\"No\",\"No\",\"No\",\"No\",\"No\",\"No\",\"No\",\"No\",\"No\",\"No\",\"No\",\"No\",\"No\",\"No\",\"No\",\"No\",\"No\",\"No\",\"No\",\"No\",\"No\",\"No\",\"No\",\"No\",\"No\",\"No\",\"No\",\"No\",\"No\",\"No\",\"No\",\"No\",\"No\",\"No\",\"No\",\"No\",\"No\",\"No\",\"No\",\"No\",\"No\",\"No\",\"No\",\"No\",\"No\",\"No\",\"No\",\"No\",\"No\",\"No\",\"No\",\"No\",\"No\",\"No\",\"No\",\"No\",\"No\",\"No\",\"No\",\"No\",\"No\",\"No\",\"No\",\"No\",\"No\",\"No\",\"No\",\"No\",\"No\",\"No\",\"No\",\"No\",\"No\",\"No\",\"No\",\"No\",\"No\",\"No\",\"No\",\"No\",\"No\",\"No\",\"No\",\"No\",\"No\",\"No\",\"No\",\"No\",\"No\",\"No\",\"No\",\"No\",\"No\",\"No\",\"No\",\"No\",\"No\",\"No\",\"No\",\"No\",\"No\",\"No\",\"No\",\"No\",\"No\",\"No\",\"No\"],\"x0\":\" \",\"xaxis\":\"x\",\"y\":[5130,2909,3468,3068,2670,2693,9526,5237,2426,4193,2911,2661,9980,3298,2935,15427,3944,4011,11994,1232,19094,6825,10248,18947,2496,6465,2206,2645,2014,3419,5376,1951,2341,8726,4011,4568,3022,5772,2269,5454,9884,4157,13458,9069,4014,5915,5993,6162,2406,18740,7637,10096,14756,6499,9724,2194,5473,2703,2501,6220,3038,4424,4312,13245,13664,5021,5126,2859,10239,5329,4325,7260,2322,2075,4152,13503,5441,5209,10673,5010,13549,4999,4221,13872,2042,2956,4809,5163,18844,18172,2889,2871,7484,17328,2774,4505,7428,11631,9738,2835,16959,2613,6146,19537,2368,2523,6567,4739,9208,8189,2942,4941,5902,8639,6347,3452,4317,2632,4668,3204,2720,17181,2238,1483,5605,7295,2306,2348,8998,4319,6132,3346,10855,2231,2323,2024,2713,9439,2566,19926,2451,9419,8686,3038,3058,2088,3072,5006,4257,2500,10453,2288,3929,2311,3690,4450,2756,19033,18722,9547,13734,19999,2279,2089,16792,3564,4425,5265,6553,6261,4298,6804,3815,2741,2328,2153,4876,9396,8474,9981,12490,13591,8865,5940,5914,2622,12185,10609,4345,2177,2793,7918,8789,3212,19232,2267,19517,16064,19068,3931,2232,4465,3072,3319,19202,13675,2911,5957,3920,6434,10938,2340,6545,6931,4898,2593,19436,2723,2794,5249,2176,16872,6644,5582,4000,13496,3210,19045,2070,6502,3230,13603,11996,5605,6397,19144,17584,4907,4554,5415,4741,2115,5745,3310,18665,4485,2789,2326,13525,8020,3688,5482,16015,1200,5661,6929,9613,5674,5484,12061,5660,4821,6410,5210,2695,11878,17068,2455,13964,2478,5228,4478,7547,5055,5775,8943,19272,4682,18300,5257,6349,4869,9985,3697,7457,3983,6118,6214,6347,11510,7143,8268,8095,2904,6032,2976,15992,4649,2696,2370,12504,5974,4736,5296,6781,6653,9699,6755,2213,2610,3452,5258,10496,2657,2201,6540,3816,5253,10965,4936,2543,16659,4260,2476,2244,7596,3034,5715,2576,4197,14336,3448,19406,6538,4306,2258,4522,4487,4449,2218,19197,13212,6577,8392,4558,7969,2654,16555,4556,6091,19566,4810,4523,1702,18041,2886,2097,11935,8412,14118,17046,2564,10266,5070,17861,4230,3780,2768,9071,10648,2983,7632,2093,9980,4051,16835,6230,4717,13237,3755,6582,7406,4805,4262,16184,11557,10932,6811,4306,4859,5337,7491,10527,16595,8834,5577,2400,9824,6447,19502,2725,6272,2127,18200,2096,3622,3681,5460,2187,9602,2836,4089,16627,2619,5679,15402,5985,2579,3447,19513,2773,7104,6322,2083,8381,2691,2659,9434,5561,6646,7725,10725,8847,2045,1281,2819,4851,4028,2720,8120,4647,4680,3221,8621,4553,5396,7625,7412,11159,4960,10475,14814,19141,5405,8793,19189,3875,11713,7861,3708,13770,5304,2642,6804,6142,2500,6389,11103,2342,6811,2297,2450,5093,5309,3057,5121,16856,6180,6632,3505,6274,7587,4258,4364,4335,3280,5485,4342,2782,5980,4381,2572,3833,4244,6500,18430,2694,3149,17639,11691,16752,5228,2700,2506,6062,2143,6162,5094,6877,2274,4434,6288,2553,17159,12808,10221,4779,3737,1706,16307,5933,3424,4037,2559,6201,4403,3761,10934,10761,5175,13826,6334,4936,4775,2818,2515,2342,4194,10685,2314,4256,3580,3162,6524,2899,5231,2356,11836,10903,2973,14275,5562,4537,7642,17924,5204,2277,2532,2559,4908,4765,6586,3294,2377,2318,2008,6244,2799,10552,2329,4014,7403,2259,6932,4678,13582,2332,9705,4294,4721,2519,5855,3617,6725,6949,4447,2157,4601,17099,14852,7264,5666,7823,7880,5067,5079,17444,3452,2270,17399,5488,19419,2811,3633,4163,13973,2684,10845,4377,4148,1051,10739,10388,11416,5472,2451,4240,10999,5003,12742,4227,3917,18303,2380,13726,6385,19973,6861,13320,6347,10880,2342,17650,4025,9725,11904,2177,7525,2220,1052,2821,19237,4107,8396,2007,19627,10686,2942,8858,16756,10798,4615,3955,9957,3376,8823,10322,4621,10976,3660,7119,2207,7756,6694,17665,4302,2979,16885,5593,10445,8740,2514,7655,17465,7351,10820,19626,2070,6782,7779,2791,3201,4968,13120,4033,3291,4272,5056,2844,2703,4766,5731,2539,5714,4323,13499,5155,2258,3597,4420,6578,4422,10274,5343,2376,2827,19943,3131,2552,4477,6474,3033,18606,2168,17048,2290,3600,4115,4327,17856,3196,19081,8966,4539,2741,3491,4541,2678,7379,6272,5220,2743,4998,10252,2781,6852,4950,3579,13191,10377,2235,10502,2011,3760,17779,6833,6812,5171,19740,18711,3692,2559,2517,6623,18265,16124,2585,18213,8380,2994,1223,2875,13577,18789,4538,19847,10512,4444,2154,19190,4490,3506,2372,10231,5410,3867,2838,4695,2080,2096,6209,18061,17123,2372,4627,7094,3423,6674,16880,11916,4534,9852,6151,17861,19187,19717,3544,8500,4661,4103,4249,14026,6893,6125,3669,2387,4639,7898,2534,13142,1611,5363,5071,13402,2029,6377,5429,2610,6687,4724,6120,10596,5467,2996,9998,4078,10920,6232,13247,4081,5769,3904,16799,2950,3629,9362,3229,3578,7988,17328,19701,14732,9278,4779,16422,2996,2099,5810,5647,3420,3500,2066,17169,4162,9204,3294,2127,3975,10793,10851,2109,9380,5486,13757,8463,3162,16598,6651,2345,3420,4373,4759,5301,3673,4768,1274,4900,10466,17007,2404,2033,10209,8620,2064,4035,3838,4591,1563,4898,4789,3180,6549,6388,11244,16032,16328,8376,16606,8606,2272,7083,14411,2308,4841,4285,9715,4320,2132,10124,5473,5207,16437,2296,4069,7441,2430,5878,2644,6439,2451,6392,6077,2450,9250,4087,2367,2972,19586,5484,2061,9924,4198,6815,4723,6142,8237,8853,19331,2073,5562,19613,3407,5063,4639,4876,2690,17567,2814,11245,3312,19049,2141,5769,4385,5332,4663,4724,3211,5377,4066,5208,4877,3117,19658,3069,10435,4148,5768,5042,5770,7756,3936,7945,5743,15202,3760,3517,2580,5869,8008,5206,5295,16413,13269,2783,5433,2013,13966,4374,6842,17426,17603,4735,4187,5505,5470,5476,2587,2440,15972,15379,7082,2728,5368,5347,3195,3306,7005,2570,3537,3986,10883,2028,9525,2929,7879,4930,7847,4401,9241,2974,4502,10748,2305,16704,3433,3477,6430,6516,3907,5562,6883,2862,4978,10368,3295,5238,6472,9610,19833,9756,4968,2145,8346,3445,6294,7140,2932,5147,4507,2468,2109,5294,2718,5811,2766,19038,3055,2289,4001,12965,3539,6029,3702,5468,13116,4189,19328,8321,4071,3143,2044,13464,7991,3377,5538,5762,2592,4127,2438,6870,10447,9667,6513,6799,16291,2705,10333,4448,6854,9637,3591,5405,4684,15787,1514,5154,6962,5675,2379,3812,4648,2936,2105,8578,2706,6384,3968,13225,3540,2804,19392,19665,4774,3902,2662,2856,5673,4197,9713,2062,4284,4788,5906,3886,16823,2933,6500,17174,5033,5507,4393,13348,6583,8103,3978,2544,5399,5487,6834,5736,2226,5747,5467,5380,5151,2133,17875,4771,19161,5087,5561,2144,3065,2810,9888,8628,2867,5373,6667,5003,2858,5204,4105,9679,2897,5968,7510,2991,19636,1129,13341,4332,11031,4440,4617,2647,6323,5677,2187,3748,3977,8633,2008,4440,3067,5321,5410,2782,11957,2660,3375,5098,4878,2837,2406,2269,4108,13206,10422,13744,4907,3482,2436,2380,19431,7644,5131,6306,18880,13570,6712,5406,8938,2439,8837,5343,6652,4850,2809,5689,2001,2977,4025,3785,12031,9936,2966,2571,9991,6142,5390,4404],\"y0\":\" \",\"yaxis\":\"y\",\"type\":\"box\"}],                        {\"template\":{\"data\":{\"histogram2dcontour\":[{\"type\":\"histogram2dcontour\",\"colorbar\":{\"outlinewidth\":0,\"ticks\":\"\"},\"colorscale\":[[0.0,\"#0d0887\"],[0.1111111111111111,\"#46039f\"],[0.2222222222222222,\"#7201a8\"],[0.3333333333333333,\"#9c179e\"],[0.4444444444444444,\"#bd3786\"],[0.5555555555555556,\"#d8576b\"],[0.6666666666666666,\"#ed7953\"],[0.7777777777777778,\"#fb9f3a\"],[0.8888888888888888,\"#fdca26\"],[1.0,\"#f0f921\"]]}],\"choropleth\":[{\"type\":\"choropleth\",\"colorbar\":{\"outlinewidth\":0,\"ticks\":\"\"}}],\"histogram2d\":[{\"type\":\"histogram2d\",\"colorbar\":{\"outlinewidth\":0,\"ticks\":\"\"},\"colorscale\":[[0.0,\"#0d0887\"],[0.1111111111111111,\"#46039f\"],[0.2222222222222222,\"#7201a8\"],[0.3333333333333333,\"#9c179e\"],[0.4444444444444444,\"#bd3786\"],[0.5555555555555556,\"#d8576b\"],[0.6666666666666666,\"#ed7953\"],[0.7777777777777778,\"#fb9f3a\"],[0.8888888888888888,\"#fdca26\"],[1.0,\"#f0f921\"]]}],\"heatmap\":[{\"type\":\"heatmap\",\"colorbar\":{\"outlinewidth\":0,\"ticks\":\"\"},\"colorscale\":[[0.0,\"#0d0887\"],[0.1111111111111111,\"#46039f\"],[0.2222222222222222,\"#7201a8\"],[0.3333333333333333,\"#9c179e\"],[0.4444444444444444,\"#bd3786\"],[0.5555555555555556,\"#d8576b\"],[0.6666666666666666,\"#ed7953\"],[0.7777777777777778,\"#fb9f3a\"],[0.8888888888888888,\"#fdca26\"],[1.0,\"#f0f921\"]]}],\"heatmapgl\":[{\"type\":\"heatmapgl\",\"colorbar\":{\"outlinewidth\":0,\"ticks\":\"\"},\"colorscale\":[[0.0,\"#0d0887\"],[0.1111111111111111,\"#46039f\"],[0.2222222222222222,\"#7201a8\"],[0.3333333333333333,\"#9c179e\"],[0.4444444444444444,\"#bd3786\"],[0.5555555555555556,\"#d8576b\"],[0.6666666666666666,\"#ed7953\"],[0.7777777777777778,\"#fb9f3a\"],[0.8888888888888888,\"#fdca26\"],[1.0,\"#f0f921\"]]}],\"contourcarpet\":[{\"type\":\"contourcarpet\",\"colorbar\":{\"outlinewidth\":0,\"ticks\":\"\"}}],\"contour\":[{\"type\":\"contour\",\"colorbar\":{\"outlinewidth\":0,\"ticks\":\"\"},\"colorscale\":[[0.0,\"#0d0887\"],[0.1111111111111111,\"#46039f\"],[0.2222222222222222,\"#7201a8\"],[0.3333333333333333,\"#9c179e\"],[0.4444444444444444,\"#bd3786\"],[0.5555555555555556,\"#d8576b\"],[0.6666666666666666,\"#ed7953\"],[0.7777777777777778,\"#fb9f3a\"],[0.8888888888888888,\"#fdca26\"],[1.0,\"#f0f921\"]]}],\"surface\":[{\"type\":\"surface\",\"colorbar\":{\"outlinewidth\":0,\"ticks\":\"\"},\"colorscale\":[[0.0,\"#0d0887\"],[0.1111111111111111,\"#46039f\"],[0.2222222222222222,\"#7201a8\"],[0.3333333333333333,\"#9c179e\"],[0.4444444444444444,\"#bd3786\"],[0.5555555555555556,\"#d8576b\"],[0.6666666666666666,\"#ed7953\"],[0.7777777777777778,\"#fb9f3a\"],[0.8888888888888888,\"#fdca26\"],[1.0,\"#f0f921\"]]}],\"mesh3d\":[{\"type\":\"mesh3d\",\"colorbar\":{\"outlinewidth\":0,\"ticks\":\"\"}}],\"scatter\":[{\"fillpattern\":{\"fillmode\":\"overlay\",\"size\":10,\"solidity\":0.2},\"type\":\"scatter\"}],\"parcoords\":[{\"type\":\"parcoords\",\"line\":{\"colorbar\":{\"outlinewidth\":0,\"ticks\":\"\"}}}],\"scatterpolargl\":[{\"type\":\"scatterpolargl\",\"marker\":{\"colorbar\":{\"outlinewidth\":0,\"ticks\":\"\"}}}],\"bar\":[{\"error_x\":{\"color\":\"#2a3f5f\"},\"error_y\":{\"color\":\"#2a3f5f\"},\"marker\":{\"line\":{\"color\":\"#E5ECF6\",\"width\":0.5},\"pattern\":{\"fillmode\":\"overlay\",\"size\":10,\"solidity\":0.2}},\"type\":\"bar\"}],\"scattergeo\":[{\"type\":\"scattergeo\",\"marker\":{\"colorbar\":{\"outlinewidth\":0,\"ticks\":\"\"}}}],\"scatterpolar\":[{\"type\":\"scatterpolar\",\"marker\":{\"colorbar\":{\"outlinewidth\":0,\"ticks\":\"\"}}}],\"histogram\":[{\"marker\":{\"pattern\":{\"fillmode\":\"overlay\",\"size\":10,\"solidity\":0.2}},\"type\":\"histogram\"}],\"scattergl\":[{\"type\":\"scattergl\",\"marker\":{\"colorbar\":{\"outlinewidth\":0,\"ticks\":\"\"}}}],\"scatter3d\":[{\"type\":\"scatter3d\",\"line\":{\"colorbar\":{\"outlinewidth\":0,\"ticks\":\"\"}},\"marker\":{\"colorbar\":{\"outlinewidth\":0,\"ticks\":\"\"}}}],\"scattermapbox\":[{\"type\":\"scattermapbox\",\"marker\":{\"colorbar\":{\"outlinewidth\":0,\"ticks\":\"\"}}}],\"scatterternary\":[{\"type\":\"scatterternary\",\"marker\":{\"colorbar\":{\"outlinewidth\":0,\"ticks\":\"\"}}}],\"scattercarpet\":[{\"type\":\"scattercarpet\",\"marker\":{\"colorbar\":{\"outlinewidth\":0,\"ticks\":\"\"}}}],\"carpet\":[{\"aaxis\":{\"endlinecolor\":\"#2a3f5f\",\"gridcolor\":\"white\",\"linecolor\":\"white\",\"minorgridcolor\":\"white\",\"startlinecolor\":\"#2a3f5f\"},\"baxis\":{\"endlinecolor\":\"#2a3f5f\",\"gridcolor\":\"white\",\"linecolor\":\"white\",\"minorgridcolor\":\"white\",\"startlinecolor\":\"#2a3f5f\"},\"type\":\"carpet\"}],\"table\":[{\"cells\":{\"fill\":{\"color\":\"#EBF0F8\"},\"line\":{\"color\":\"white\"}},\"header\":{\"fill\":{\"color\":\"#C8D4E3\"},\"line\":{\"color\":\"white\"}},\"type\":\"table\"}],\"barpolar\":[{\"marker\":{\"line\":{\"color\":\"#E5ECF6\",\"width\":0.5},\"pattern\":{\"fillmode\":\"overlay\",\"size\":10,\"solidity\":0.2}},\"type\":\"barpolar\"}],\"pie\":[{\"automargin\":true,\"type\":\"pie\"}]},\"layout\":{\"autotypenumbers\":\"strict\",\"colorway\":[\"#636efa\",\"#EF553B\",\"#00cc96\",\"#ab63fa\",\"#FFA15A\",\"#19d3f3\",\"#FF6692\",\"#B6E880\",\"#FF97FF\",\"#FECB52\"],\"font\":{\"color\":\"#2a3f5f\"},\"hovermode\":\"closest\",\"hoverlabel\":{\"align\":\"left\"},\"paper_bgcolor\":\"white\",\"plot_bgcolor\":\"#E5ECF6\",\"polar\":{\"bgcolor\":\"#E5ECF6\",\"angularaxis\":{\"gridcolor\":\"white\",\"linecolor\":\"white\",\"ticks\":\"\"},\"radialaxis\":{\"gridcolor\":\"white\",\"linecolor\":\"white\",\"ticks\":\"\"}},\"ternary\":{\"bgcolor\":\"#E5ECF6\",\"aaxis\":{\"gridcolor\":\"white\",\"linecolor\":\"white\",\"ticks\":\"\"},\"baxis\":{\"gridcolor\":\"white\",\"linecolor\":\"white\",\"ticks\":\"\"},\"caxis\":{\"gridcolor\":\"white\",\"linecolor\":\"white\",\"ticks\":\"\"}},\"coloraxis\":{\"colorbar\":{\"outlinewidth\":0,\"ticks\":\"\"}},\"colorscale\":{\"sequential\":[[0.0,\"#0d0887\"],[0.1111111111111111,\"#46039f\"],[0.2222222222222222,\"#7201a8\"],[0.3333333333333333,\"#9c179e\"],[0.4444444444444444,\"#bd3786\"],[0.5555555555555556,\"#d8576b\"],[0.6666666666666666,\"#ed7953\"],[0.7777777777777778,\"#fb9f3a\"],[0.8888888888888888,\"#fdca26\"],[1.0,\"#f0f921\"]],\"sequentialminus\":[[0.0,\"#0d0887\"],[0.1111111111111111,\"#46039f\"],[0.2222222222222222,\"#7201a8\"],[0.3333333333333333,\"#9c179e\"],[0.4444444444444444,\"#bd3786\"],[0.5555555555555556,\"#d8576b\"],[0.6666666666666666,\"#ed7953\"],[0.7777777777777778,\"#fb9f3a\"],[0.8888888888888888,\"#fdca26\"],[1.0,\"#f0f921\"]],\"diverging\":[[0,\"#8e0152\"],[0.1,\"#c51b7d\"],[0.2,\"#de77ae\"],[0.3,\"#f1b6da\"],[0.4,\"#fde0ef\"],[0.5,\"#f7f7f7\"],[0.6,\"#e6f5d0\"],[0.7,\"#b8e186\"],[0.8,\"#7fbc41\"],[0.9,\"#4d9221\"],[1,\"#276419\"]]},\"xaxis\":{\"gridcolor\":\"white\",\"linecolor\":\"white\",\"ticks\":\"\",\"title\":{\"standoff\":15},\"zerolinecolor\":\"white\",\"automargin\":true,\"zerolinewidth\":2},\"yaxis\":{\"gridcolor\":\"white\",\"linecolor\":\"white\",\"ticks\":\"\",\"title\":{\"standoff\":15},\"zerolinecolor\":\"white\",\"automargin\":true,\"zerolinewidth\":2},\"scene\":{\"xaxis\":{\"backgroundcolor\":\"#E5ECF6\",\"gridcolor\":\"white\",\"linecolor\":\"white\",\"showbackground\":true,\"ticks\":\"\",\"zerolinecolor\":\"white\",\"gridwidth\":2},\"yaxis\":{\"backgroundcolor\":\"#E5ECF6\",\"gridcolor\":\"white\",\"linecolor\":\"white\",\"showbackground\":true,\"ticks\":\"\",\"zerolinecolor\":\"white\",\"gridwidth\":2},\"zaxis\":{\"backgroundcolor\":\"#E5ECF6\",\"gridcolor\":\"white\",\"linecolor\":\"white\",\"showbackground\":true,\"ticks\":\"\",\"zerolinecolor\":\"white\",\"gridwidth\":2}},\"shapedefaults\":{\"line\":{\"color\":\"#2a3f5f\"}},\"annotationdefaults\":{\"arrowcolor\":\"#2a3f5f\",\"arrowhead\":0,\"arrowwidth\":1},\"geo\":{\"bgcolor\":\"white\",\"landcolor\":\"#E5ECF6\",\"subunitcolor\":\"white\",\"showland\":true,\"showlakes\":true,\"lakecolor\":\"white\"},\"title\":{\"x\":0.05},\"mapbox\":{\"style\":\"light\"}}},\"xaxis\":{\"anchor\":\"y\",\"domain\":[0.0,1.0],\"title\":{\"text\":\"Attrition\"},\"categoryorder\":\"array\",\"categoryarray\":[\"Yes\",\"No\"]},\"yaxis\":{\"anchor\":\"x\",\"domain\":[0.0,1.0],\"title\":{\"text\":\"MonthlyIncome\"}},\"legend\":{\"title\":{\"text\":\"Attrition\"},\"tracegroupgap\":0},\"margin\":{\"t\":60},\"boxmode\":\"overlay\"},                        {\"responsive\": true}                    ).then(function(){\n",
              "                            \n",
              "var gd = document.getElementById('15fb4dc7-8a89-419b-96d6-4fb97d1006a3');\n",
              "var x = new MutationObserver(function (mutations, observer) {{\n",
              "        var display = window.getComputedStyle(gd).display;\n",
              "        if (!display || display === 'none') {{\n",
              "            console.log([gd, 'removed!']);\n",
              "            Plotly.purge(gd);\n",
              "            observer.disconnect();\n",
              "        }}\n",
              "}});\n",
              "\n",
              "// Listen for the removal of the full notebook cells\n",
              "var notebookContainer = gd.closest('#notebook-container');\n",
              "if (notebookContainer) {{\n",
              "    x.observe(notebookContainer, {childList: true});\n",
              "}}\n",
              "\n",
              "// Listen for the clearing of the current output cell\n",
              "var outputEl = gd.closest('.output');\n",
              "if (outputEl) {{\n",
              "    x.observe(outputEl, {childList: true});\n",
              "}}\n",
              "\n",
              "                        })                };                            </script>        </div>\n",
              "</body>\n",
              "</html>"
            ]
          },
          "metadata": {}
        }
      ]
    },
    {
      "cell_type": "markdown",
      "source": [
        "**Insight:** Employees leaving the company tend to have slightly lower median income of 3202 compared with median income of 5204 for employees who continue working at company."
      ],
      "metadata": {
        "id": "2ax9TiWeyMGY"
      }
    },
    {
      "cell_type": "code",
      "source": [
        "# Filter only employees doing overtime\n",
        "df_ot = df[df['OverTime'] == 'Yes']\n",
        "\n",
        "# Group employees by Salary Hike and OverTime\n",
        "fig = px.histogram(df_ot, x=\"SalaryHikeGroup\", color=\"Attrition\", barmode=\"group\",text_auto=True,\n",
        "                   color_discrete_map={'Yes':'green','No':'darkblue'},\n",
        "                   title=\"Attrition by Salary Hike (Only Employees who did OverTime)\")\n",
        "\n",
        "fig.update_layout(xaxis_title=\"Salary Hike Group\",yaxis_title=\"Number of Employees\",bargap=0.2)\n",
        "\n",
        "fig.show()"
      ],
      "metadata": {
        "colab": {
          "base_uri": "https://localhost:8080/",
          "height": 542
        },
        "id": "PDnpsDVxACnA",
        "outputId": "5a766578-acb5-44c0-efd8-3a2497d9400d"
      },
      "execution_count": null,
      "outputs": [
        {
          "output_type": "display_data",
          "data": {
            "text/html": [
              "<html>\n",
              "<head><meta charset=\"utf-8\" /></head>\n",
              "<body>\n",
              "    <div>            <script src=\"https://cdnjs.cloudflare.com/ajax/libs/mathjax/2.7.5/MathJax.js?config=TeX-AMS-MML_SVG\"></script><script type=\"text/javascript\">if (window.MathJax && window.MathJax.Hub && window.MathJax.Hub.Config) {window.MathJax.Hub.Config({SVG: {font: \"STIX-Web\"}});}</script>                <script type=\"text/javascript\">window.PlotlyConfig = {MathJaxConfig: 'local'};</script>\n",
              "        <script charset=\"utf-8\" src=\"https://cdn.plot.ly/plotly-2.35.2.min.js\"></script>                <div id=\"03cdf7a8-2c16-485e-992a-ed7b4fb16bb0\" class=\"plotly-graph-div\" style=\"height:525px; width:100%;\"></div>            <script type=\"text/javascript\">                                    window.PLOTLYENV=window.PLOTLYENV || {};                                    if (document.getElementById(\"03cdf7a8-2c16-485e-992a-ed7b4fb16bb0\")) {                    Plotly.newPlot(                        \"03cdf7a8-2c16-485e-992a-ed7b4fb16bb0\",                        [{\"alignmentgroup\":\"True\",\"bingroup\":\"x\",\"hovertemplate\":\"Attrition=Yes\\u003cbr\\u003eSalaryHikeGroup=%{x}\\u003cbr\\u003ecount=%{y}\\u003cextra\\u003e\\u003c\\u002fextra\\u003e\",\"legendgroup\":\"Yes\",\"marker\":{\"color\":\"green\",\"pattern\":{\"shape\":\"\"}},\"name\":\"Yes\",\"offsetgroup\":\"Yes\",\"orientation\":\"v\",\"showlegend\":true,\"texttemplate\":\"%{value}\",\"x\":[null,\"Low (11-15%)\",\"Low (11-15%)\",\"High (21-25%)\",\"Moderate (16-20%)\",\"Low (11-15%)\",\"Low (11-15%)\",\"Low (11-15%)\",\"Moderate (16-20%)\",\"High (21-25%)\",\"Moderate (16-20%)\",null,\"High (21-25%)\",\"Moderate (16-20%)\",\"Moderate (16-20%)\",\"Moderate (16-20%)\",null,\"High (21-25%)\",\"Low (11-15%)\",\"Moderate (16-20%)\",null,\"Low (11-15%)\",\"Low (11-15%)\",\"Low (11-15%)\",\"Low (11-15%)\",\"High (21-25%)\",\"Low (11-15%)\",\"Low (11-15%)\",\"Low (11-15%)\",\"Moderate (16-20%)\",null,null,\"Low (11-15%)\",\"Low (11-15%)\",\"Low (11-15%)\",\"High (21-25%)\",\"Moderate (16-20%)\",\"Low (11-15%)\",\"Low (11-15%)\",null,\"Low (11-15%)\",\"Moderate (16-20%)\",\"Moderate (16-20%)\",null,null,\"Low (11-15%)\",\"Low (11-15%)\",\"Low (11-15%)\",\"Low (11-15%)\",\"Low (11-15%)\",\"Low (11-15%)\",\"High (21-25%)\",null,\"Low (11-15%)\",\"Low (11-15%)\",\"Moderate (16-20%)\",\"Moderate (16-20%)\",\"High (21-25%)\",\"Low (11-15%)\",\"Moderate (16-20%)\",\"Low (11-15%)\",\"High (21-25%)\",\"Moderate (16-20%)\",\"Low (11-15%)\",null,\"Moderate (16-20%)\",\"High (21-25%)\",\"Moderate (16-20%)\",null,\"High (21-25%)\",\"Low (11-15%)\",\"Low (11-15%)\",\"Low (11-15%)\",\"Low (11-15%)\",\"High (21-25%)\",\"Low (11-15%)\",\"Moderate (16-20%)\",\"Low (11-15%)\",\"Moderate (16-20%)\",\"Low (11-15%)\",null,null,null,\"High (21-25%)\",\"Low (11-15%)\",\"Moderate (16-20%)\",\"Low (11-15%)\",\"Low (11-15%)\",\"Moderate (16-20%)\",null,\"Low (11-15%)\",\"Moderate (16-20%)\",\"Moderate (16-20%)\",\"Low (11-15%)\",\"Low (11-15%)\",\"Low (11-15%)\",\"High (21-25%)\",\"Low (11-15%)\",\"High (21-25%)\",null,\"Low (11-15%)\",\"Moderate (16-20%)\",\"Low (11-15%)\",\"Low (11-15%)\",\"Low (11-15%)\",\"High (21-25%)\",null,null,\"High (21-25%)\",\"Low (11-15%)\",\"Moderate (16-20%)\",\"Moderate (16-20%)\",\"Moderate (16-20%)\",\"Low (11-15%)\",\"Moderate (16-20%)\",null,\"Low (11-15%)\",\"Low (11-15%)\",\"High (21-25%)\",\"High (21-25%)\",\"High (21-25%)\",null,\"Low (11-15%)\",null,\"Low (11-15%)\",\"Low (11-15%)\",\"Low (11-15%)\"],\"xaxis\":\"x\",\"yaxis\":\"y\",\"type\":\"histogram\"},{\"alignmentgroup\":\"True\",\"bingroup\":\"x\",\"hovertemplate\":\"Attrition=No\\u003cbr\\u003eSalaryHikeGroup=%{x}\\u003cbr\\u003ecount=%{y}\\u003cextra\\u003e\\u003c\\u002fextra\\u003e\",\"legendgroup\":\"No\",\"marker\":{\"color\":\"darkblue\",\"pattern\":{\"shape\":\"\"}},\"name\":\"No\",\"offsetgroup\":\"No\",\"orientation\":\"v\",\"showlegend\":true,\"texttemplate\":\"%{value}\",\"x\":[null,\"Moderate (16-20%)\",\"Low (11-15%)\",\"Low (11-15%)\",\"Low (11-15%)\",null,\"Low (11-15%)\",\"Low (11-15%)\",\"High (21-25%)\",\"High (21-25%)\",\"Low (11-15%)\",\"Moderate (16-20%)\",\"Low (11-15%)\",\"Low (11-15%)\",\"High (21-25%)\",\"Low (11-15%)\",\"Low (11-15%)\",\"Low (11-15%)\",\"High (21-25%)\",\"Low (11-15%)\",\"Low (11-15%)\",\"High (21-25%)\",\"Low (11-15%)\",\"Low (11-15%)\",\"Moderate (16-20%)\",\"Low (11-15%)\",\"Low (11-15%)\",\"Low (11-15%)\",\"Moderate (16-20%)\",\"Moderate (16-20%)\",\"Moderate (16-20%)\",\"Moderate (16-20%)\",\"Moderate (16-20%)\",\"Low (11-15%)\",\"Moderate (16-20%)\",null,\"Moderate (16-20%)\",\"High (21-25%)\",\"Low (11-15%)\",\"Low (11-15%)\",\"Moderate (16-20%)\",\"Low (11-15%)\",\"Moderate (16-20%)\",\"Moderate (16-20%)\",\"Low (11-15%)\",\"High (21-25%)\",\"Moderate (16-20%)\",\"Low (11-15%)\",null,\"Low (11-15%)\",\"Low (11-15%)\",\"Low (11-15%)\",\"Moderate (16-20%)\",\"High (21-25%)\",\"Moderate (16-20%)\",\"Moderate (16-20%)\",\"Low (11-15%)\",null,\"Low (11-15%)\",\"Low (11-15%)\",\"Low (11-15%)\",\"Moderate (16-20%)\",\"Low (11-15%)\",\"Low (11-15%)\",\"Low (11-15%)\",null,null,\"Low (11-15%)\",\"High (21-25%)\",\"Low (11-15%)\",\"Low (11-15%)\",\"Low (11-15%)\",\"Low (11-15%)\",null,\"Low (11-15%)\",\"Low (11-15%)\",\"Low (11-15%)\",\"Moderate (16-20%)\",\"Low (11-15%)\",\"Low (11-15%)\",\"Low (11-15%)\",\"Low (11-15%)\",null,\"Low (11-15%)\",\"Low (11-15%)\",\"Low (11-15%)\",\"High (21-25%)\",\"Moderate (16-20%)\",\"Low (11-15%)\",\"Low (11-15%)\",\"High (21-25%)\",\"Moderate (16-20%)\",\"Low (11-15%)\",\"Moderate (16-20%)\",null,\"Low (11-15%)\",null,\"Low (11-15%)\",\"Low (11-15%)\",\"Moderate (16-20%)\",\"Low (11-15%)\",\"Low (11-15%)\",\"Low (11-15%)\",null,\"Moderate (16-20%)\",null,\"High (21-25%)\",\"Low (11-15%)\",\"Low (11-15%)\",\"Moderate (16-20%)\",\"Low (11-15%)\",null,\"Low (11-15%)\",\"Low (11-15%)\",null,\"Low (11-15%)\",\"High (21-25%)\",\"Moderate (16-20%)\",\"Moderate (16-20%)\",\"Low (11-15%)\",\"Moderate (16-20%)\",\"Low (11-15%)\",\"High (21-25%)\",\"Low (11-15%)\",\"Moderate (16-20%)\",\"Moderate (16-20%)\",\"Low (11-15%)\",\"Moderate (16-20%)\",\"High (21-25%)\",\"Low (11-15%)\",null,\"Low (11-15%)\",\"Moderate (16-20%)\",\"Moderate (16-20%)\",null,\"Low (11-15%)\",\"High (21-25%)\",\"Low (11-15%)\",null,\"Low (11-15%)\",\"Low (11-15%)\",\"Moderate (16-20%)\",\"Low (11-15%)\",\"Low (11-15%)\",\"Moderate (16-20%)\",\"Moderate (16-20%)\",null,\"Low (11-15%)\",\"Low (11-15%)\",\"Low (11-15%)\",\"Low (11-15%)\",\"Moderate (16-20%)\",\"Low (11-15%)\",\"Low (11-15%)\",\"Moderate (16-20%)\",null,\"High (21-25%)\",\"Low (11-15%)\",\"Low (11-15%)\",null,\"Low (11-15%)\",\"Low (11-15%)\",null,\"Low (11-15%)\",\"Moderate (16-20%)\",\"Moderate (16-20%)\",\"Low (11-15%)\",\"Moderate (16-20%)\",\"Low (11-15%)\",\"High (21-25%)\",\"High (21-25%)\",\"Moderate (16-20%)\",null,\"Low (11-15%)\",\"Low (11-15%)\",null,\"Low (11-15%)\",\"Low (11-15%)\",\"Moderate (16-20%)\",\"Low (11-15%)\",\"Low (11-15%)\",\"High (21-25%)\",null,\"Low (11-15%)\",\"Moderate (16-20%)\",null,\"Low (11-15%)\",\"Moderate (16-20%)\",\"Low (11-15%)\",null,\"High (21-25%)\",\"Moderate (16-20%)\",\"Low (11-15%)\",null,null,\"Low (11-15%)\",\"Low (11-15%)\",\"Low (11-15%)\",\"Low (11-15%)\",\"Low (11-15%)\",null,\"Low (11-15%)\",null,\"High (21-25%)\",\"Moderate (16-20%)\",\"Low (11-15%)\",\"Low (11-15%)\",\"Moderate (16-20%)\",\"Moderate (16-20%)\",\"Moderate (16-20%)\",\"Moderate (16-20%)\",\"Moderate (16-20%)\",\"Moderate (16-20%)\",\"Low (11-15%)\",\"Low (11-15%)\",\"High (21-25%)\",\"Low (11-15%)\",\"Low (11-15%)\",\"High (21-25%)\",\"Moderate (16-20%)\",\"High (21-25%)\",\"Moderate (16-20%)\",\"Moderate (16-20%)\",\"Moderate (16-20%)\",\"Low (11-15%)\",\"Low (11-15%)\",\"Low (11-15%)\",\"Low (11-15%)\",\"Low (11-15%)\",\"Low (11-15%)\",\"Moderate (16-20%)\",\"Low (11-15%)\",null,\"Low (11-15%)\",\"Moderate (16-20%)\",\"Low (11-15%)\",\"Moderate (16-20%)\",\"Moderate (16-20%)\",\"High (21-25%)\",\"Moderate (16-20%)\",\"Moderate (16-20%)\",\"Low (11-15%)\",\"Moderate (16-20%)\",\"Moderate (16-20%)\",\"Low (11-15%)\",\"Low (11-15%)\",\"Low (11-15%)\",\"Low (11-15%)\",\"Moderate (16-20%)\",\"Low (11-15%)\",\"Moderate (16-20%)\",\"Moderate (16-20%)\",\"Low (11-15%)\",\"Low (11-15%)\",\"Low (11-15%)\",\"Moderate (16-20%)\",\"Low (11-15%)\",\"High (21-25%)\",\"Low (11-15%)\",\"Low (11-15%)\",\"Low (11-15%)\",\"High (21-25%)\",null,\"Low (11-15%)\",null,\"Low (11-15%)\",\"Low (11-15%)\",\"Low (11-15%)\",\"Moderate (16-20%)\",\"Low (11-15%)\",\"Low (11-15%)\",\"Low (11-15%)\",null,null,\"Moderate (16-20%)\",null,\"Moderate (16-20%)\",\"Moderate (16-20%)\",\"Moderate (16-20%)\",null,\"Low (11-15%)\",\"High (21-25%)\",\"High (21-25%)\",\"Low (11-15%)\",null,\"Moderate (16-20%)\",\"Low (11-15%)\",\"Low (11-15%)\",\"Moderate (16-20%)\"],\"xaxis\":\"x\",\"yaxis\":\"y\",\"type\":\"histogram\"}],                        {\"template\":{\"data\":{\"histogram2dcontour\":[{\"type\":\"histogram2dcontour\",\"colorbar\":{\"outlinewidth\":0,\"ticks\":\"\"},\"colorscale\":[[0.0,\"#0d0887\"],[0.1111111111111111,\"#46039f\"],[0.2222222222222222,\"#7201a8\"],[0.3333333333333333,\"#9c179e\"],[0.4444444444444444,\"#bd3786\"],[0.5555555555555556,\"#d8576b\"],[0.6666666666666666,\"#ed7953\"],[0.7777777777777778,\"#fb9f3a\"],[0.8888888888888888,\"#fdca26\"],[1.0,\"#f0f921\"]]}],\"choropleth\":[{\"type\":\"choropleth\",\"colorbar\":{\"outlinewidth\":0,\"ticks\":\"\"}}],\"histogram2d\":[{\"type\":\"histogram2d\",\"colorbar\":{\"outlinewidth\":0,\"ticks\":\"\"},\"colorscale\":[[0.0,\"#0d0887\"],[0.1111111111111111,\"#46039f\"],[0.2222222222222222,\"#7201a8\"],[0.3333333333333333,\"#9c179e\"],[0.4444444444444444,\"#bd3786\"],[0.5555555555555556,\"#d8576b\"],[0.6666666666666666,\"#ed7953\"],[0.7777777777777778,\"#fb9f3a\"],[0.8888888888888888,\"#fdca26\"],[1.0,\"#f0f921\"]]}],\"heatmap\":[{\"type\":\"heatmap\",\"colorbar\":{\"outlinewidth\":0,\"ticks\":\"\"},\"colorscale\":[[0.0,\"#0d0887\"],[0.1111111111111111,\"#46039f\"],[0.2222222222222222,\"#7201a8\"],[0.3333333333333333,\"#9c179e\"],[0.4444444444444444,\"#bd3786\"],[0.5555555555555556,\"#d8576b\"],[0.6666666666666666,\"#ed7953\"],[0.7777777777777778,\"#fb9f3a\"],[0.8888888888888888,\"#fdca26\"],[1.0,\"#f0f921\"]]}],\"heatmapgl\":[{\"type\":\"heatmapgl\",\"colorbar\":{\"outlinewidth\":0,\"ticks\":\"\"},\"colorscale\":[[0.0,\"#0d0887\"],[0.1111111111111111,\"#46039f\"],[0.2222222222222222,\"#7201a8\"],[0.3333333333333333,\"#9c179e\"],[0.4444444444444444,\"#bd3786\"],[0.5555555555555556,\"#d8576b\"],[0.6666666666666666,\"#ed7953\"],[0.7777777777777778,\"#fb9f3a\"],[0.8888888888888888,\"#fdca26\"],[1.0,\"#f0f921\"]]}],\"contourcarpet\":[{\"type\":\"contourcarpet\",\"colorbar\":{\"outlinewidth\":0,\"ticks\":\"\"}}],\"contour\":[{\"type\":\"contour\",\"colorbar\":{\"outlinewidth\":0,\"ticks\":\"\"},\"colorscale\":[[0.0,\"#0d0887\"],[0.1111111111111111,\"#46039f\"],[0.2222222222222222,\"#7201a8\"],[0.3333333333333333,\"#9c179e\"],[0.4444444444444444,\"#bd3786\"],[0.5555555555555556,\"#d8576b\"],[0.6666666666666666,\"#ed7953\"],[0.7777777777777778,\"#fb9f3a\"],[0.8888888888888888,\"#fdca26\"],[1.0,\"#f0f921\"]]}],\"surface\":[{\"type\":\"surface\",\"colorbar\":{\"outlinewidth\":0,\"ticks\":\"\"},\"colorscale\":[[0.0,\"#0d0887\"],[0.1111111111111111,\"#46039f\"],[0.2222222222222222,\"#7201a8\"],[0.3333333333333333,\"#9c179e\"],[0.4444444444444444,\"#bd3786\"],[0.5555555555555556,\"#d8576b\"],[0.6666666666666666,\"#ed7953\"],[0.7777777777777778,\"#fb9f3a\"],[0.8888888888888888,\"#fdca26\"],[1.0,\"#f0f921\"]]}],\"mesh3d\":[{\"type\":\"mesh3d\",\"colorbar\":{\"outlinewidth\":0,\"ticks\":\"\"}}],\"scatter\":[{\"fillpattern\":{\"fillmode\":\"overlay\",\"size\":10,\"solidity\":0.2},\"type\":\"scatter\"}],\"parcoords\":[{\"type\":\"parcoords\",\"line\":{\"colorbar\":{\"outlinewidth\":0,\"ticks\":\"\"}}}],\"scatterpolargl\":[{\"type\":\"scatterpolargl\",\"marker\":{\"colorbar\":{\"outlinewidth\":0,\"ticks\":\"\"}}}],\"bar\":[{\"error_x\":{\"color\":\"#2a3f5f\"},\"error_y\":{\"color\":\"#2a3f5f\"},\"marker\":{\"line\":{\"color\":\"#E5ECF6\",\"width\":0.5},\"pattern\":{\"fillmode\":\"overlay\",\"size\":10,\"solidity\":0.2}},\"type\":\"bar\"}],\"scattergeo\":[{\"type\":\"scattergeo\",\"marker\":{\"colorbar\":{\"outlinewidth\":0,\"ticks\":\"\"}}}],\"scatterpolar\":[{\"type\":\"scatterpolar\",\"marker\":{\"colorbar\":{\"outlinewidth\":0,\"ticks\":\"\"}}}],\"histogram\":[{\"marker\":{\"pattern\":{\"fillmode\":\"overlay\",\"size\":10,\"solidity\":0.2}},\"type\":\"histogram\"}],\"scattergl\":[{\"type\":\"scattergl\",\"marker\":{\"colorbar\":{\"outlinewidth\":0,\"ticks\":\"\"}}}],\"scatter3d\":[{\"type\":\"scatter3d\",\"line\":{\"colorbar\":{\"outlinewidth\":0,\"ticks\":\"\"}},\"marker\":{\"colorbar\":{\"outlinewidth\":0,\"ticks\":\"\"}}}],\"scattermapbox\":[{\"type\":\"scattermapbox\",\"marker\":{\"colorbar\":{\"outlinewidth\":0,\"ticks\":\"\"}}}],\"scatterternary\":[{\"type\":\"scatterternary\",\"marker\":{\"colorbar\":{\"outlinewidth\":0,\"ticks\":\"\"}}}],\"scattercarpet\":[{\"type\":\"scattercarpet\",\"marker\":{\"colorbar\":{\"outlinewidth\":0,\"ticks\":\"\"}}}],\"carpet\":[{\"aaxis\":{\"endlinecolor\":\"#2a3f5f\",\"gridcolor\":\"white\",\"linecolor\":\"white\",\"minorgridcolor\":\"white\",\"startlinecolor\":\"#2a3f5f\"},\"baxis\":{\"endlinecolor\":\"#2a3f5f\",\"gridcolor\":\"white\",\"linecolor\":\"white\",\"minorgridcolor\":\"white\",\"startlinecolor\":\"#2a3f5f\"},\"type\":\"carpet\"}],\"table\":[{\"cells\":{\"fill\":{\"color\":\"#EBF0F8\"},\"line\":{\"color\":\"white\"}},\"header\":{\"fill\":{\"color\":\"#C8D4E3\"},\"line\":{\"color\":\"white\"}},\"type\":\"table\"}],\"barpolar\":[{\"marker\":{\"line\":{\"color\":\"#E5ECF6\",\"width\":0.5},\"pattern\":{\"fillmode\":\"overlay\",\"size\":10,\"solidity\":0.2}},\"type\":\"barpolar\"}],\"pie\":[{\"automargin\":true,\"type\":\"pie\"}]},\"layout\":{\"autotypenumbers\":\"strict\",\"colorway\":[\"#636efa\",\"#EF553B\",\"#00cc96\",\"#ab63fa\",\"#FFA15A\",\"#19d3f3\",\"#FF6692\",\"#B6E880\",\"#FF97FF\",\"#FECB52\"],\"font\":{\"color\":\"#2a3f5f\"},\"hovermode\":\"closest\",\"hoverlabel\":{\"align\":\"left\"},\"paper_bgcolor\":\"white\",\"plot_bgcolor\":\"#E5ECF6\",\"polar\":{\"bgcolor\":\"#E5ECF6\",\"angularaxis\":{\"gridcolor\":\"white\",\"linecolor\":\"white\",\"ticks\":\"\"},\"radialaxis\":{\"gridcolor\":\"white\",\"linecolor\":\"white\",\"ticks\":\"\"}},\"ternary\":{\"bgcolor\":\"#E5ECF6\",\"aaxis\":{\"gridcolor\":\"white\",\"linecolor\":\"white\",\"ticks\":\"\"},\"baxis\":{\"gridcolor\":\"white\",\"linecolor\":\"white\",\"ticks\":\"\"},\"caxis\":{\"gridcolor\":\"white\",\"linecolor\":\"white\",\"ticks\":\"\"}},\"coloraxis\":{\"colorbar\":{\"outlinewidth\":0,\"ticks\":\"\"}},\"colorscale\":{\"sequential\":[[0.0,\"#0d0887\"],[0.1111111111111111,\"#46039f\"],[0.2222222222222222,\"#7201a8\"],[0.3333333333333333,\"#9c179e\"],[0.4444444444444444,\"#bd3786\"],[0.5555555555555556,\"#d8576b\"],[0.6666666666666666,\"#ed7953\"],[0.7777777777777778,\"#fb9f3a\"],[0.8888888888888888,\"#fdca26\"],[1.0,\"#f0f921\"]],\"sequentialminus\":[[0.0,\"#0d0887\"],[0.1111111111111111,\"#46039f\"],[0.2222222222222222,\"#7201a8\"],[0.3333333333333333,\"#9c179e\"],[0.4444444444444444,\"#bd3786\"],[0.5555555555555556,\"#d8576b\"],[0.6666666666666666,\"#ed7953\"],[0.7777777777777778,\"#fb9f3a\"],[0.8888888888888888,\"#fdca26\"],[1.0,\"#f0f921\"]],\"diverging\":[[0,\"#8e0152\"],[0.1,\"#c51b7d\"],[0.2,\"#de77ae\"],[0.3,\"#f1b6da\"],[0.4,\"#fde0ef\"],[0.5,\"#f7f7f7\"],[0.6,\"#e6f5d0\"],[0.7,\"#b8e186\"],[0.8,\"#7fbc41\"],[0.9,\"#4d9221\"],[1,\"#276419\"]]},\"xaxis\":{\"gridcolor\":\"white\",\"linecolor\":\"white\",\"ticks\":\"\",\"title\":{\"standoff\":15},\"zerolinecolor\":\"white\",\"automargin\":true,\"zerolinewidth\":2},\"yaxis\":{\"gridcolor\":\"white\",\"linecolor\":\"white\",\"ticks\":\"\",\"title\":{\"standoff\":15},\"zerolinecolor\":\"white\",\"automargin\":true,\"zerolinewidth\":2},\"scene\":{\"xaxis\":{\"backgroundcolor\":\"#E5ECF6\",\"gridcolor\":\"white\",\"linecolor\":\"white\",\"showbackground\":true,\"ticks\":\"\",\"zerolinecolor\":\"white\",\"gridwidth\":2},\"yaxis\":{\"backgroundcolor\":\"#E5ECF6\",\"gridcolor\":\"white\",\"linecolor\":\"white\",\"showbackground\":true,\"ticks\":\"\",\"zerolinecolor\":\"white\",\"gridwidth\":2},\"zaxis\":{\"backgroundcolor\":\"#E5ECF6\",\"gridcolor\":\"white\",\"linecolor\":\"white\",\"showbackground\":true,\"ticks\":\"\",\"zerolinecolor\":\"white\",\"gridwidth\":2}},\"shapedefaults\":{\"line\":{\"color\":\"#2a3f5f\"}},\"annotationdefaults\":{\"arrowcolor\":\"#2a3f5f\",\"arrowhead\":0,\"arrowwidth\":1},\"geo\":{\"bgcolor\":\"white\",\"landcolor\":\"#E5ECF6\",\"subunitcolor\":\"white\",\"showland\":true,\"showlakes\":true,\"lakecolor\":\"white\"},\"title\":{\"x\":0.05},\"mapbox\":{\"style\":\"light\"}}},\"xaxis\":{\"anchor\":\"y\",\"domain\":[0.0,1.0],\"title\":{\"text\":\"Salary Hike Group\"}},\"yaxis\":{\"anchor\":\"x\",\"domain\":[0.0,1.0],\"title\":{\"text\":\"Number of Employees\"}},\"legend\":{\"title\":{\"text\":\"Attrition\"},\"tracegroupgap\":0},\"title\":{\"text\":\"Attrition by Salary Hike (Only Employees who did OverTime)\"},\"barmode\":\"group\",\"bargap\":0.2},                        {\"responsive\": true}                    ).then(function(){\n",
              "                            \n",
              "var gd = document.getElementById('03cdf7a8-2c16-485e-992a-ed7b4fb16bb0');\n",
              "var x = new MutationObserver(function (mutations, observer) {{\n",
              "        var display = window.getComputedStyle(gd).display;\n",
              "        if (!display || display === 'none') {{\n",
              "            console.log([gd, 'removed!']);\n",
              "            Plotly.purge(gd);\n",
              "            observer.disconnect();\n",
              "        }}\n",
              "}});\n",
              "\n",
              "// Listen for the removal of the full notebook cells\n",
              "var notebookContainer = gd.closest('#notebook-container');\n",
              "if (notebookContainer) {{\n",
              "    x.observe(notebookContainer, {childList: true});\n",
              "}}\n",
              "\n",
              "// Listen for the clearing of the current output cell\n",
              "var outputEl = gd.closest('.output');\n",
              "if (outputEl) {{\n",
              "    x.observe(outputEl, {childList: true});\n",
              "}}\n",
              "\n",
              "                        })                };                            </script>        </div>\n",
              "</body>\n",
              "</html>"
            ]
          },
          "metadata": {}
        }
      ]
    },
    {
      "cell_type": "markdown",
      "source": [
        "**Insight:** Employees with low raises (11–15%) are leaving more than others."
      ],
      "metadata": {
        "id": "HQBi_3vcArxo"
      }
    },
    {
      "cell_type": "markdown",
      "source": [
        "### Correlation Analysis"
      ],
      "metadata": {
        "id": "sNfQTGKNuqjt"
      }
    },
    {
      "cell_type": "code",
      "source": [
        "# Create a heatmap of the correlations with the target column\n",
        "\n",
        "from sklearn.preprocessing import LabelEncoder\n",
        "\n",
        "# Encode 'Attrition' and 'OverTime' columns\n",
        "le = LabelEncoder()\n",
        "df['Attrition_encoded'] = le.fit_transform(df['Attrition'])\n",
        "df['OverTime_encoded'] = le.fit_transform(df['OverTime'])\n",
        "\n",
        "corr = df.corr(numeric_only=True)\n",
        "target_corr = corr['Attrition_encoded'].drop('Attrition_encoded')\n",
        "\n",
        "# Sort correlation values in descending order\n",
        "target_corr_sorted = target_corr.sort_values(ascending=False)\n",
        "\n",
        "sns.set(font_scale=0.8)\n",
        "sns.set_style(\"white\")\n",
        "sns.set_palette(\"PuBuGn_d\")\n",
        "sns.heatmap(target_corr_sorted.to_frame(), cmap=\"YlGnBu\", annot=True, fmt='.2f')\n",
        "plt.title('Correlation with Attrition')\n",
        "plt.show()"
      ],
      "metadata": {
        "id": "liwHDkAGN1lU",
        "colab": {
          "base_uri": "https://localhost:8080/",
          "height": 451
        },
        "outputId": "22b8409d-26c3-4f70-a44b-125c358bf49d"
      },
      "execution_count": null,
      "outputs": [
        {
          "output_type": "display_data",
          "data": {
            "text/plain": [
              "<Figure size 640x480 with 2 Axes>"
            ],
            "image/png": "[encoded data removed]"
          },
          "metadata": {}
        }
      ]
    },
    {
      "cell_type": "markdown",
      "source": [
        "**Insight:**  Overtime, DistanceFromHome, and NumCompaniesWorked are strongly correlated with Attrition."
      ],
      "metadata": {
        "id": "OjGJZmFRFsN1"
      }
    },
    {
      "cell_type": "markdown",
      "source": [
        "## Summary Report"
      ],
      "metadata": {
        "id": "PnAyHQW3uVqh"
      }
    },
    {
      "cell_type": "markdown",
      "source": [
        "**Answers to Key Questions:**\n",
        "\n",
        "1. What is the overall attrition rate in the company?\n",
        "\n",
        "  Attrition rate is **16.12%** (237 employees left).\n",
        "\n",
        "2. Which job roles and departments have the highest attrition?\n",
        "\n",
        "   Job roles like '**Laboratory Technician**', '**Sales Executive**', '**Research Scientist**' and '**Sales Representative**' have high attrition. **Research & Development (R&D)** dept. and **Sales** dept. have high attrition. Roles with more stress, client interaction, or repetitive work are more prone to attrition.\n",
        "\n",
        "3. Is there a correlation between overtime and attrition?\n",
        "\n",
        "  Overtime is one of the strongest drivers of attrition. Employees doing overtime have a much higher attrition rate compared to those with no overtime. Overtime is a strong factor in employee turnover — likely due to burnout or work-life imbalance.\n",
        "\n",
        "4. Does job satisfaction or work-life balance influence attrition?\n",
        "\n",
        "  Yes. Employees with low job satisfaction and poor work-life balance report higher attrition, even when salaries are competitive.\n",
        "\n",
        "5. How do income, education, and experience affect attrition?\n",
        "\n",
        "  Employees with less monthly income are leaving the company compared to employees who continue working at company. Attrition is higher among Bachelor and College level employees. Employees with 0–9 years of experience or short tenure at company are more likely to leave.\n"
      ],
      "metadata": {
        "id": "_UDddfLGduw0"
      }
    },
    {
      "cell_type": "markdown",
      "source": [
        "**Summary Insight & Recommendation:**\n",
        "\n",
        " Attrition is mostly among young, single, early-career employees without recent promotions, often in Sales/R&D roles, working overtime, with less salary and lower satisfaction rating. Training, career growth, and incentive programs may reduce attrition. Improving work-life balance, job satisfaction, and compensation can significantly reduce turnover."
      ],
      "metadata": {
        "id": "5X7nSg3XxTqg"
      }
    },
    {
      "cell_type": "markdown",
      "source": [
        "Priscilla Philby Oommen  -- DA02"
      ],
      "metadata": {
        "id": "fIh-IAio-R_8"
      }
    }
  ]
}